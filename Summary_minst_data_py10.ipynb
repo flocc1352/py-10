{
  "nbformat": 4,
  "nbformat_minor": 0,
  "metadata": {
    "colab": {
      "name": "Summary_minst_data_py10.ipynb",
      "version": "0.3.2",
      "provenance": [],
      "collapsed_sections": [],
      "include_colab_link": true
    },
    "kernelspec": {
      "name": "python3",
      "display_name": "Python 3"
    }
  },
  "cells": [
    {
      "cell_type": "markdown",
      "metadata": {
        "id": "view-in-github",
        "colab_type": "text"
      },
      "source": [
        "<a href=\"https://colab.research.google.com/github/flocc1352/py-10/blob/master/Summary_minst_data_py10.ipynb\" target=\"_parent\"><img src=\"https://colab.research.google.com/assets/colab-badge.svg\" alt=\"Open In Colab\"/></a>"
      ]
    },
    {
      "metadata": {
        "id": "lqnBISOFFSrE",
        "colab_type": "text"
      },
      "cell_type": "markdown",
      "source": [
        "### Please run in Google colab"
      ]
    },
    {
      "metadata": {
        "id": "AqzPzj2XoupD",
        "colab_type": "toc"
      },
      "cell_type": "markdown",
      "source": [
        ">>>[Please run in Google colab](#scrollTo=lqnBISOFFSrE)\n",
        "\n",
        ">>[Tips about reshape()](#scrollTo=BY7GkE4AqeCQ)\n",
        "\n",
        ">>>[reshape(-1,1) & reshape(1,-1)](#scrollTo=cSQNAPYHqoXI)\n",
        "\n",
        ">>>>[열벡터 (column vector)로 변환](#scrollTo=jrBbiVoor14k)\n",
        "\n",
        ">>>[행벡터와 열벡터](#scrollTo=ohGedoxis96c)\n",
        "\n",
        ">>>[2차원 배열 만들기](#scrollTo=ZfGNl4Kstjmr)\n",
        "\n",
        ">>>[reshape of a list](#scrollTo=HPksuy_tpfp8)\n",
        "\n",
        ">>>[2차원 배열(2-d array)](#scrollTo=xrAsEwcLTcdo)\n",
        "\n",
        ">>[응용: 손글씨 데이터 처리](#scrollTo=VogQ62Cvuqek)\n",
        "\n",
        ">>>[Upload data of 100 hand-wriiten digits (digits100.csv)](#scrollTo=mit7a1JN6Ul8)\n",
        "\n",
        ">>>[행벡터(1X784)를 이미지 배열 (28X28)로 재구성](#scrollTo=HVmKVrN-CCBN)\n",
        "\n",
        ">>>[모든 숫자 보기](#scrollTo=dOel4Jb_ECE0)\n",
        "\n",
        ">>[[wk12] Homework](#scrollTo=FwUZkIJlqM9K)\n",
        "\n",
        ">>>>[github 업로드 파일명: Summary_mnist_data_pynn.ipynb](#scrollTo=FwUZkIJlqM9K)\n",
        "\n",
        ">>>>[================== 마감: 2018.11.25(일). 24:00](#scrollTo=FwUZkIJlqM9K)\n",
        "\n"
      ]
    },
    {
      "metadata": {
        "id": "BY7GkE4AqeCQ",
        "colab_type": "text"
      },
      "cell_type": "markdown",
      "source": [
        "## Tips about reshape()\n",
        "\n",
        "> reshape() 함수는 numpy의 ndarray의 구조를 변경한다."
      ]
    },
    {
      "metadata": {
        "id": "cSQNAPYHqoXI",
        "colab_type": "text"
      },
      "cell_type": "markdown",
      "source": [
        "### reshape(-1,1) & reshape(1,-1)"
      ]
    },
    {
      "metadata": {
        "id": "WEDCW1oFqaw6",
        "colab_type": "code",
        "colab": {}
      },
      "cell_type": "code",
      "source": [
        "import numpy as np\n",
        "ar = np.arange(1,11)\n",
        "ar"
      ],
      "execution_count": 0,
      "outputs": []
    },
    {
      "metadata": {
        "id": "A4tXzZN12lpE",
        "colab_type": "code",
        "colab": {}
      },
      "cell_type": "code",
      "source": [
        "ar.shape  # numpy의 기본 벡터로 정의된 ar은 열벡터와 유사함."
      ],
      "execution_count": 0,
      "outputs": []
    },
    {
      "metadata": {
        "id": "jrBbiVoor14k",
        "colab_type": "text"
      },
      "cell_type": "markdown",
      "source": [
        "#### 열벡터 (column vector)로 변환"
      ]
    },
    {
      "metadata": {
        "id": "ALEDJNeIqbua",
        "colab_type": "code",
        "colab": {}
      },
      "cell_type": "code",
      "source": [
        "ar.reshape(-1,1)"
      ],
      "execution_count": 0,
      "outputs": []
    },
    {
      "metadata": {
        "id": "hKmZCz2Lxldd",
        "colab_type": "code",
        "colab": {}
      },
      "cell_type": "code",
      "source": [
        "ar.shape"
      ],
      "execution_count": 0,
      "outputs": []
    },
    {
      "metadata": {
        "id": "2tCt0NS62tod",
        "colab_type": "code",
        "colab": {}
      },
      "cell_type": "code",
      "source": [
        "ar1=ar.reshape(-1,1)  # 열벡터, column vector\n",
        "ar1.shape"
      ],
      "execution_count": 0,
      "outputs": []
    },
    {
      "metadata": {
        "id": "ohGedoxis96c",
        "colab_type": "text"
      },
      "cell_type": "markdown",
      "source": [
        "### 행벡터와 열벡터"
      ]
    },
    {
      "metadata": {
        "id": "3tHu9XzhsmcF",
        "colab_type": "text"
      },
      "cell_type": "markdown",
      "source": [
        "![행벡터와 열벡터](https://t1.daumcdn.net/cfile/tistory/2263234756624EC625)"
      ]
    },
    {
      "metadata": {
        "id": "ZfGNl4Kstjmr",
        "colab_type": "text"
      },
      "cell_type": "markdown",
      "source": [
        "### 2차원 배열 만들기"
      ]
    },
    {
      "metadata": {
        "id": "ez9haRJS18Pk",
        "colab_type": "code",
        "colab": {}
      },
      "cell_type": "code",
      "source": [
        "ar.reshape(-1,5,2)  # 5행2열 (5 X 2) 행렬"
      ],
      "execution_count": 0,
      "outputs": []
    },
    {
      "metadata": {
        "id": "H1YNqaa12Kel",
        "colab_type": "code",
        "colab": {}
      },
      "cell_type": "code",
      "source": [
        "\n",
        "ar.reshape(-1,2,5)  # 2행5열 (2 X 5) 행렬"
      ],
      "execution_count": 0,
      "outputs": []
    },
    {
      "metadata": {
        "id": "IDL6FddMEqJ0",
        "colab_type": "code",
        "colab": {}
      },
      "cell_type": "code",
      "source": [
        "ar.reshape((2,5))"
      ],
      "execution_count": 0,
      "outputs": []
    },
    {
      "metadata": {
        "id": "HPksuy_tpfp8",
        "colab_type": "text"
      },
      "cell_type": "markdown",
      "source": [
        "### reshape of a list"
      ]
    },
    {
      "metadata": {
        "id": "4iLyPjA4pjzs",
        "colab_type": "code",
        "colab": {}
      },
      "cell_type": "code",
      "source": [
        "alist = list(ar)\n",
        "alist"
      ],
      "execution_count": 0,
      "outputs": []
    },
    {
      "metadata": {
        "id": "RPI9NxHbpvr8",
        "colab_type": "code",
        "colab": {}
      },
      "cell_type": "code",
      "source": [
        "ar.reshape(-1,2,5)"
      ],
      "execution_count": 0,
      "outputs": []
    },
    {
      "metadata": {
        "id": "JiYsB_Ewp2Zj",
        "colab_type": "code",
        "colab": {}
      },
      "cell_type": "code",
      "source": [
        "alist.reshape(-1,2,5)"
      ],
      "execution_count": 0,
      "outputs": []
    },
    {
      "metadata": {
        "id": "DN18xgjrvC8W",
        "colab_type": "text"
      },
      "cell_type": "markdown",
      "source": [
        ">  list는 reshape()를 지원하지 않는다."
      ]
    },
    {
      "metadata": {
        "id": "jwyvCD44jric",
        "colab_type": "text"
      },
      "cell_type": "markdown",
      "source": [
        "\n",
        "\n",
        "---\n",
        "\n"
      ]
    },
    {
      "metadata": {
        "id": "xrAsEwcLTcdo",
        "colab_type": "text"
      },
      "cell_type": "markdown",
      "source": [
        "### 2차원 배열(2-d array)"
      ]
    },
    {
      "metadata": {
        "id": "gI9X6eFNTga4",
        "colab_type": "code",
        "colab": {}
      },
      "cell_type": "code",
      "source": [
        "br = np.arange(1,101)\n",
        "br.shape"
      ],
      "execution_count": 0,
      "outputs": []
    },
    {
      "metadata": {
        "id": "DVs9l6VAToY3",
        "colab_type": "code",
        "colab": {}
      },
      "cell_type": "code",
      "source": [
        "br2 = br.reshape(-1,5)\n",
        "br2.shape"
      ],
      "execution_count": 0,
      "outputs": []
    },
    {
      "metadata": {
        "id": "AWZF2J_QTzYg",
        "colab_type": "code",
        "colab": {}
      },
      "cell_type": "code",
      "source": [
        "br2"
      ],
      "execution_count": 0,
      "outputs": []
    },
    {
      "metadata": {
        "id": "pXLUC19U2TZ8",
        "colab_type": "code",
        "colab": {}
      },
      "cell_type": "code",
      "source": [
        "br.reshape(-1,20)"
      ],
      "execution_count": 0,
      "outputs": []
    },
    {
      "metadata": {
        "id": "VogQ62Cvuqek",
        "colab_type": "text"
      },
      "cell_type": "markdown",
      "source": [
        "## 응용: 손글씨 데이터 처리"
      ]
    },
    {
      "metadata": {
        "id": "mit7a1JN6Ul8",
        "colab_type": "text"
      },
      "cell_type": "markdown",
      "source": [
        "### Upload data of 100 hand-wriiten digits (digits100.csv)\n",
        "\n",
        "> colab의 왼쪽 가변탭의 \"파일\" 메뉴를 이용해서 파일 업로드를 할 수 있다."
      ]
    },
    {
      "metadata": {
        "id": "oErUTDEOul1d",
        "colab_type": "code",
        "colab": {}
      },
      "cell_type": "code",
      "source": [
        "# from google.colab import files\n",
        "\n",
        "# uploaded = files.upload()\n",
        "\n",
        "# for fn in uploaded.keys():\n",
        "#   print('User uploaded file \"{name}\" with length {length} bytes'.format(\n",
        "#       name=fn, length=len(uploaded[fn])))"
      ],
      "execution_count": 0,
      "outputs": []
    },
    {
      "metadata": {
        "id": "E4eNMvh06fV8",
        "colab_type": "code",
        "colab": {}
      },
      "cell_type": "code",
      "source": [
        "import pandas as pd\n",
        "df=pd.read_csv('digits100.csv', sep=',') #, index_col=False) #,header=None)\n",
        "df.shape"
      ],
      "execution_count": 0,
      "outputs": []
    },
    {
      "metadata": {
        "id": "ZOoM35Ks75Qk",
        "colab_type": "code",
        "colab": {}
      },
      "cell_type": "code",
      "source": [
        "digits = df.values # Convert dataframe to ndarray"
      ],
      "execution_count": 0,
      "outputs": []
    },
    {
      "metadata": {
        "id": "Q5FJVAOv_dh2",
        "colab_type": "code",
        "colab": {}
      },
      "cell_type": "code",
      "source": [
        "digits[15].shape,digits.shape"
      ],
      "execution_count": 0,
      "outputs": []
    },
    {
      "metadata": {
        "id": "HVmKVrN-CCBN",
        "colab_type": "text"
      },
      "cell_type": "markdown",
      "source": [
        "### 행벡터(1X784)를 이미지 배열 (28X28)로 재구성"
      ]
    },
    {
      "metadata": {
        "id": "i4Cd9SfBAnaT",
        "colab_type": "code",
        "colab": {}
      },
      "cell_type": "code",
      "source": [
        "digits[15].reshape(28,28)"
      ],
      "execution_count": 0,
      "outputs": []
    },
    {
      "metadata": {
        "id": "GOKjD6xLoExh",
        "colab_type": "text"
      },
      "cell_type": "markdown",
      "source": [
        "[mnist data sample](https://cdn-images-1.medium.com/max/1000/1*6UcQdP-1yFoUotb-QnDWsg.gif)"
      ]
    },
    {
      "metadata": {
        "id": "CrNmce2SC_zE",
        "colab_type": "code",
        "colab": {}
      },
      "cell_type": "code",
      "source": [
        "# 맷플롯립 설정\n",
        "%matplotlib inline\n",
        "import matplotlib\n",
        "import matplotlib.pyplot as plt"
      ],
      "execution_count": 0,
      "outputs": []
    },
    {
      "metadata": {
        "id": "NKD---s58stM",
        "colab_type": "code",
        "colab": {}
      },
      "cell_type": "code",
      "source": [
        "# 맷플롯립의 imshow()로 숫자 이미지 보기\n",
        "some_digit = digits[77]\n",
        "some_digit_image = some_digit.reshape(28,28)\n",
        "plt.imshow(some_digit_image, cmap=matplotlib.cm.binary, interpolation=\"nearest\")\n",
        "plt.axis(\"off\")\n",
        "plt.show()"
      ],
      "execution_count": 0,
      "outputs": []
    },
    {
      "metadata": {
        "id": "dOel4Jb_ECE0",
        "colab_type": "text"
      },
      "cell_type": "markdown",
      "source": [
        "### 모든 숫자 보기"
      ]
    },
    {
      "metadata": {
        "id": "pfsd9h8t_U-d",
        "colab_type": "code",
        "colab": {}
      },
      "cell_type": "code",
      "source": [
        "# 숫자 그림을 위한 추가 함수\n",
        "def plot_digits(instances, images_per_row=10, **options):\n",
        "    size = 28\n",
        "    images_per_row = min(len(instances), images_per_row)\n",
        "    images = [instance.reshape(size,size) for instance in instances]\n",
        "    n_rows = (len(instances) - 1) // images_per_row + 1\n",
        "    row_images = []\n",
        "    n_empty = n_rows * images_per_row - len(instances)\n",
        "    images.append(np.zeros((size, size * n_empty)))\n",
        "    for row in range(n_rows):\n",
        "        rimages = images[row * images_per_row : (row + 1) * images_per_row]\n",
        "        row_images.append(np.concatenate(rimages, axis=1))\n",
        "    image = np.concatenate(row_images, axis=0)\n",
        "    plt.imshow(image, cmap = matplotlib.cm.binary, **options)\n",
        "    plt.axis(\"off\")"
      ],
      "execution_count": 0,
      "outputs": []
    },
    {
      "metadata": {
        "id": "Ww1wqyJFEK38",
        "colab_type": "code",
        "colab": {}
      },
      "cell_type": "code",
      "source": [
        "plt.figure(figsize=(10,10))\n",
        "plot_digits(digits, images_per_row=10)\n",
        "plt.show()"
      ],
      "execution_count": 0,
      "outputs": []
    },
    {
      "metadata": {
        "id": "rTCgpxdSoaNq",
        "colab_type": "text"
      },
      "cell_type": "markdown",
      "source": [
        "\n",
        "\n",
        "---\n",
        "\n"
      ]
    },
    {
      "metadata": {
        "id": "V49cQs9hoPob",
        "colab_type": "text"
      },
      "cell_type": "markdown",
      "source": [
        "[mnist 데이터에 대한 분석 예](https://www.pyimagesearch.com/wp-content/uploads/2016/06/lenet_animation.gif)"
      ]
    },
    {
      "metadata": {
        "id": "PwUtuiwQqLWB",
        "colab_type": "text"
      },
      "cell_type": "markdown",
      "source": [
        "\n",
        "\n",
        "---\n",
        "\n"
      ]
    },
    {
      "metadata": {
        "id": "FwUZkIJlqM9K",
        "colab_type": "text"
      },
      "cell_type": "markdown",
      "source": [
        "##  [wk12] Homework\n",
        "\n",
        "> 1. Google colab에서 제공하는 sample_data/mnist_train_small.csv 를 로드한다. (np.loadtxt() 이용)\n",
        "\n",
        "> 2. 데이터의 구조를 파악한다. => 20000X785 중 data[:,0] 이 target(label, 즉 숫자 값)\n",
        "\n",
        "> 3. 0번 열을 제외한 나머지가 20000 개의 숫자 이미지데이터를 구성(ndata)\n",
        "\n",
        "> 4. 행벡터(1X784)를 이미지 배열 (28X28)로 재구성\n",
        "\n",
        "> 5. 처음부터 50 개의 숫자 이미지를5X10 (5행 10열) 로 출력\n",
        "\n",
        "> 6. mnist_test.csv 에 대하여 위의 [1-5] 단계를 적용해서 처음부터 50 개의 숫자 이미지를 출력\n",
        "\n",
        "#### github 업로드 파일명: Summary_mnist_data_pynn.ipynb\n",
        "\n",
        "#### ================== 마감: 2018.11.25(일). 24:00"
      ]
    },
    {
      "metadata": {
        "id": "qU47Gc_CEWa0",
        "colab_type": "code",
        "colab": {}
      },
      "cell_type": "code",
      "source": [
        "# 맷플롯립 설정\n",
        "import numpy as np\n",
        "%matplotlib inline\n",
        "import matplotlib\n",
        "import matplotlib.pyplot as plt"
      ],
      "execution_count": 0,
      "outputs": []
    },
    {
      "metadata": {
        "id": "81zo-8fydAgI",
        "colab_type": "code",
        "colab": {}
      },
      "cell_type": "code",
      "source": [
        "# sample_data/mnist_train_small.csv 로드\n",
        "data = np.loadtxt('sample_data/mnist_train_small.csv', delimiter=',', dtype=np.float32)"
      ],
      "execution_count": 0,
      "outputs": []
    },
    {
      "metadata": {
        "id": "mIO5SeMvdHW8",
        "colab_type": "code",
        "colab": {
          "base_uri": "https://localhost:8080/",
          "height": 143
        },
        "outputId": "e8be914c-815f-4ef5-c110-eaad23c4aa09"
      },
      "cell_type": "code",
      "source": [
        "# 데이터 구조를 파악\n",
        "data.shape, data"
      ],
      "execution_count": 3,
      "outputs": [
        {
          "output_type": "execute_result",
          "data": {
            "text/plain": [
              "((20000, 785), array([[6., 0., 0., ..., 0., 0., 0.],\n",
              "        [5., 0., 0., ..., 0., 0., 0.],\n",
              "        [7., 0., 0., ..., 0., 0., 0.],\n",
              "        ...,\n",
              "        [2., 0., 0., ..., 0., 0., 0.],\n",
              "        [9., 0., 0., ..., 0., 0., 0.],\n",
              "        [5., 0., 0., ..., 0., 0., 0.]], dtype=float32))"
            ]
          },
          "metadata": {
            "tags": []
          },
          "execution_count": 3
        }
      ]
    },
    {
      "metadata": {
        "id": "9vQeJTdMdMEm",
        "colab_type": "code",
        "colab": {
          "base_uri": "https://localhost:8080/",
          "height": 35
        },
        "outputId": "aa01b12c-9840-40ab-a971-d4d18448b106"
      },
      "cell_type": "code",
      "source": [
        "# 20000개의 숫자 이미지데이터구성\n",
        "ndata=data[:,0]\n",
        "ndata.shape."
      ],
      "execution_count": 4,
      "outputs": [
        {
          "output_type": "execute_result",
          "data": {
            "text/plain": [
              "(20000,)"
            ]
          },
          "metadata": {
            "tags": []
          },
          "execution_count": 4
        }
      ]
    },
    {
      "metadata": {
        "id": "8AxRjjvVdRWn",
        "colab_type": "code",
        "colab": {
          "base_uri": "https://localhost:8080/",
          "height": 1547
        },
        "outputId": "a4b52cc2-2deb-4411-9059-3f6e70142093"
      },
      "cell_type": "code",
      "source": [
        "# 1X784를 28X28로 재구성\n",
        "rdata = data[0,1:]\n",
        "rdata.shape, rdata.reshape(28,28)"
      ],
      "execution_count": 5,
      "outputs": [
        {
          "output_type": "execute_result",
          "data": {
            "text/plain": [
              "((784,),\n",
              " array([[  0.,   0.,   0.,   0.,   0.,   0.,   0.,   0.,   0.,   0.,   0.,\n",
              "           0.,   0.,   0.,   0.,   0.,   0.,   0.,   0.,   0.,   0.,   0.,\n",
              "           0.,   0.,   0.,   0.,   0.,   0.],\n",
              "        [  0.,   0.,   0.,   0.,   0.,   0.,   0.,   0.,   0.,   0.,   0.,\n",
              "           0.,   0.,   0.,   0.,   0.,   0.,   0.,   0.,   0.,   0.,   0.,\n",
              "           0.,   0.,   0.,   0.,   0.,   0.],\n",
              "        [  0.,   0.,   0.,   0.,   0.,   0.,   0.,   0.,   0.,   0.,   0.,\n",
              "           0.,   0.,   0.,   0.,   0.,   0.,   0.,   0.,   0.,   0.,   0.,\n",
              "           0.,   0.,   0.,   0.,   0.,   0.],\n",
              "        [  0.,   0.,   0.,   0.,   0.,   0.,   0.,   0.,   0.,   0.,   0.,\n",
              "           0.,   0.,   0.,   0.,   0.,   0.,   0.,   0.,   0.,   0.,   0.,\n",
              "           0.,   0.,   0.,   0.,   0.,   0.],\n",
              "        [  0.,   0.,   0.,   0.,   0.,   0.,   0.,   0.,   0.,   0.,  24.,\n",
              "          67.,  67.,  18.,   0.,   0.,   0.,   0.,   0.,   0.,   0.,   0.,\n",
              "           0.,   0.,   0.,   0.,   0.,   0.],\n",
              "        [  0.,   0.,   0.,   0.,   0.,   0.,   0.,   0.,   0.,   0., 131.,\n",
              "         252., 252.,  66.,   0.,   0.,   0.,   0.,   0.,   0.,   0.,   0.,\n",
              "           0.,   0.,   0.,   0.,   0.,   0.],\n",
              "        [  0.,   0.,   0.,   0.,   0.,   0.,   0.,   0.,   0., 159., 250.,\n",
              "         232.,  30.,  32.,   0.,   0.,   0.,   0.,   0.,   0.,   0.,   0.,\n",
              "           0.,   0.,   0.,   0.,   0.,   0.],\n",
              "        [  0.,   0.,   0.,   0.,   0.,   0.,   0.,   0.,  15., 222., 252.,\n",
              "         108.,   0.,   0.,   0.,   0.,   0.,   0.,   0.,   0.,   0.,   0.,\n",
              "           0.,   0.,   0.,   0.,   0.,   0.],\n",
              "        [  0.,   0.,   0.,   0.,   0.,   0.,   0.,   0., 147., 252., 183.,\n",
              "           5.,   0.,   0.,   0.,   0.,   0.,   0.,   0.,  20.,  89.,  89.,\n",
              "          73.,   0.,   0.,   0.,   0.,   0.],\n",
              "        [  0.,   0.,   0.,   0.,   0.,   0.,   0.,  48., 247., 252., 159.,\n",
              "           0.,   0.,   0.,   0.,   0.,   0.,   0.,  79., 236., 252., 252.,\n",
              "         249., 198.,  16.,   0.,   0.,   0.],\n",
              "        [  0.,   0.,   0.,   0.,   0.,   0.,  41., 193., 252., 199.,  22.,\n",
              "           0.,   0.,   0.,   0.,   0.,  12., 135., 248., 252., 252., 252.,\n",
              "         252., 252., 100.,   0.,   0.,   0.],\n",
              "        [  0.,   0.,   0.,   0.,   0.,   0., 100., 252., 252.,  88.,   0.,\n",
              "           0.,   0.,   0.,   0.,  11., 171., 252., 252., 235., 175., 178.,\n",
              "         252., 252., 224.,   0.,   0.,   0.],\n",
              "        [  0.,   0.,   0.,   0.,   0.,  15., 209., 252., 233.,  12.,   0.,\n",
              "           0.,   0.,   0.,  49., 177., 252., 252.,  89.,  26.,   0.,   2.,\n",
              "         166., 252., 252.,   0.,   0.,   0.],\n",
              "        [  0.,   0.,   0.,   0.,   0.,  96., 253., 253.,  59.,   0.,   0.,\n",
              "           0.,   0.,  11., 177., 255., 253.,  92.,   0.,   0.,   0.,   0.,\n",
              "         155., 253., 128.,   0.,   0.,   0.],\n",
              "        [  0.,   0.,   0.,   0.,   0., 143., 252., 252.,  10.,   0.,   0.,\n",
              "           0.,  12., 171., 252., 216., 110.,  13.,   0.,   0.,   0.,   3.,\n",
              "         180., 232.,  24.,   0.,   0.,   0.],\n",
              "        [  0.,   0.,   0.,   0.,   0., 143., 252., 170.,   2.,   0.,   0.,\n",
              "           0., 135., 252., 209.,  19.,   0.,   0.,   0.,   0.,   0.,  12.,\n",
              "         252., 132.,   0.,   0.,   0.,   0.],\n",
              "        [  0.,   0.,   0.,   0.,   0., 249., 252.,  96.,   0.,   0.,   0.,\n",
              "          21., 248., 246.,  34.,   0.,   0.,   0.,   0.,   5.,  61., 234.,\n",
              "         152.,   3.,   0.,   0.,   0.,   0.],\n",
              "        [  0.,   0.,   0.,   0.,   0., 253., 252.,  44.,   0.,   0.,   0.,\n",
              "         145., 252., 104.,   0.,   0.,   0.,  46., 114., 184., 252., 149.,\n",
              "          34.,   0.,   0.,   0.,   0.,   0.],\n",
              "        [  0.,   0.,   0.,   0.,   0., 253., 252.,  82.,   0.,   0.,  31.,\n",
              "         239., 252.,  66.,  39.,  89., 165., 243., 252., 233., 126.,   5.,\n",
              "           0.,   0.,   0.,   0.,   0.,   0.],\n",
              "        [  0.,   0.,   0.,   0.,   0., 249., 252., 244., 126.,  98., 143.,\n",
              "         252., 252., 237., 240., 253., 252., 243., 174.,  17.,   0.,   0.,\n",
              "           0.,   0.,   0.,   0.,   0.,   0.],\n",
              "        [  0.,   0.,   0.,   0.,   0., 119., 239., 252., 252., 252., 252.,\n",
              "         252., 252., 252., 252., 228., 179.,  17.,   0.,   0.,   0.,   0.,\n",
              "           0.,   0.,   0.,   0.,   0.,   0.],\n",
              "        [  0.,   0.,   0.,   0.,   0.,   0.,  46.,  66.,  66.,  66.,  66.,\n",
              "          66.,  66.,  66.,  66.,  29.,   0.,   0.,   0.,   0.,   0.,   0.,\n",
              "           0.,   0.,   0.,   0.,   0.,   0.],\n",
              "        [  0.,   0.,   0.,   0.,   0.,   0.,   0.,   0.,   0.,   0.,   0.,\n",
              "           0.,   0.,   0.,   0.,   0.,   0.,   0.,   0.,   0.,   0.,   0.,\n",
              "           0.,   0.,   0.,   0.,   0.,   0.],\n",
              "        [  0.,   0.,   0.,   0.,   0.,   0.,   0.,   0.,   0.,   0.,   0.,\n",
              "           0.,   0.,   0.,   0.,   0.,   0.,   0.,   0.,   0.,   0.,   0.,\n",
              "           0.,   0.,   0.,   0.,   0.,   0.],\n",
              "        [  0.,   0.,   0.,   0.,   0.,   0.,   0.,   0.,   0.,   0.,   0.,\n",
              "           0.,   0.,   0.,   0.,   0.,   0.,   0.,   0.,   0.,   0.,   0.,\n",
              "           0.,   0.,   0.,   0.,   0.,   0.],\n",
              "        [  0.,   0.,   0.,   0.,   0.,   0.,   0.,   0.,   0.,   0.,   0.,\n",
              "           0.,   0.,   0.,   0.,   0.,   0.,   0.,   0.,   0.,   0.,   0.,\n",
              "           0.,   0.,   0.,   0.,   0.,   0.],\n",
              "        [  0.,   0.,   0.,   0.,   0.,   0.,   0.,   0.,   0.,   0.,   0.,\n",
              "           0.,   0.,   0.,   0.,   0.,   0.,   0.,   0.,   0.,   0.,   0.,\n",
              "           0.,   0.,   0.,   0.,   0.,   0.],\n",
              "        [  0.,   0.,   0.,   0.,   0.,   0.,   0.,   0.,   0.,   0.,   0.,\n",
              "           0.,   0.,   0.,   0.,   0.,   0.,   0.,   0.,   0.,   0.,   0.,\n",
              "           0.,   0.,   0.,   0.,   0.,   0.]], dtype=float32))"
            ]
          },
          "metadata": {
            "tags": []
          },
          "execution_count": 5
        }
      ]
    },
    {
      "metadata": {
        "id": "w-JEFWY_dYnt",
        "colab_type": "code",
        "colab": {}
      },
      "cell_type": "code",
      "source": [
        "# images_per_row: 한 줄에 표시할 개수\n",
        "def plot_data(instances, images_per_row=10, **options):\n",
        "    size = 28\n",
        "    images_per_row = min(len(instances), images_per_row)\n",
        "    images = [instance.reshape(size,size) for instance in instances]\n",
        "    n_rows = (len(instances) - 1) // images_per_row + 1\n",
        "    row_images = []\n",
        "    n_empty = n_rows * images_per_row - len(instances)\n",
        "    images.append(np.zeros((size, size * n_empty)))\n",
        "    for row in range(n_rows):\n",
        "        rimages = images[row * images_per_row : (row + 1) * images_per_row]\n",
        "        row_images.append(np.concatenate(rimages, axis=1))\n",
        "    image = np.concatenate(row_images, axis=0)\n",
        "    plt.imshow(image, cmap = matplotlib.cm.binary, **options)\n",
        "    plt.axis(\"off\")"
      ],
      "execution_count": 0,
      "outputs": []
    },
    {
      "metadata": {
        "id": "EDVv2IBldcuq",
        "colab_type": "code",
        "colab": {
          "base_uri": "https://localhost:8080/",
          "height": 191
        },
        "outputId": "80c56b85-5b9e-418b-8c0b-b10f32bea5ea"
      },
      "cell_type": "code",
      "source": [
        "plt.figure(figsize=(5,10))\n",
        "plot_data(data[0:50, :784], images_per_row=10)\n",
        "plt.show()"
      ],
      "execution_count": 7,
      "outputs": [
        {
          "output_type": "display_data",
          "data": {
            "image/png": "[encoded data removed]",
            "text/plain": [
              "<matplotlib.figure.Figure at 0x7fbec9397198>"
            ]
          },
          "metadata": {
            "tags": []
          }
        }
      ]
    },
    {
      "metadata": {
        "id": "2X04xPiwdguf",
        "colab_type": "text"
      },
      "cell_type": "markdown",
      "source": [
        "### mnist_test.csv 이용"
      ]
    },
    {
      "metadata": {
        "id": "-2ldBnw5dhMY",
        "colab_type": "code",
        "colab": {}
      },
      "cell_type": "code",
      "source": [
        "# mnist_test.csv 로드\n",
        "\n",
        "data1 = np.loadtxt('sample_data/mnist_test.csv', delimiter=',', dtype=np.float32)"
      ],
      "execution_count": 0,
      "outputs": []
    },
    {
      "metadata": {
        "id": "k-NFciA4dm5S",
        "colab_type": "code",
        "colab": {
          "base_uri": "https://localhost:8080/",
          "height": 143
        },
        "outputId": "10d9b09f-b93d-4091-8577-d9a8fb082661"
      },
      "cell_type": "code",
      "source": [
        "# 데이터 구조 파악\n",
        "\n",
        "data1.shape, data1"
      ],
      "execution_count": 9,
      "outputs": [
        {
          "output_type": "execute_result",
          "data": {
            "text/plain": [
              "((10000, 785), array([[7., 0., 0., ..., 0., 0., 0.],\n",
              "        [2., 0., 0., ..., 0., 0., 0.],\n",
              "        [1., 0., 0., ..., 0., 0., 0.],\n",
              "        ...,\n",
              "        [4., 0., 0., ..., 0., 0., 0.],\n",
              "        [5., 0., 0., ..., 0., 0., 0.],\n",
              "        [6., 0., 0., ..., 0., 0., 0.]], dtype=float32))"
            ]
          },
          "metadata": {
            "tags": []
          },
          "execution_count": 9
        }
      ]
    },
    {
      "metadata": {
        "id": "5DqSV2c-dqoA",
        "colab_type": "code",
        "colab": {
          "base_uri": "https://localhost:8080/",
          "height": 35
        },
        "outputId": "b8a7bb65-2bde-4f8b-f230-f8d6087f7a20"
      },
      "cell_type": "code",
      "source": [
        "# 10000개의 숫자 이미지데이터구성\n",
        "ndata1=data1[:,0]\n",
        "ndata1.shape"
      ],
      "execution_count": 10,
      "outputs": [
        {
          "output_type": "execute_result",
          "data": {
            "text/plain": [
              "(10000,)"
            ]
          },
          "metadata": {
            "tags": []
          },
          "execution_count": 10
        }
      ]
    },
    {
      "metadata": {
        "id": "RTIbEfbMduBC",
        "colab_type": "code",
        "colab": {
          "base_uri": "https://localhost:8080/",
          "height": 1547
        },
        "outputId": "5312ca87-e672-40f6-d8e4-41155b7326e4"
      },
      "cell_type": "code",
      "source": [
        "# 1X784를 28X28 재구성\n",
        "rdata1 = data1[0,1:]\n",
        "rdata1.shape, rdata1.reshape(28,28)"
      ],
      "execution_count": 11,
      "outputs": [
        {
          "output_type": "execute_result",
          "data": {
            "text/plain": [
              "((784,),\n",
              " array([[  0.,   0.,   0.,   0.,   0.,   0.,   0.,   0.,   0.,   0.,   0.,\n",
              "           0.,   0.,   0.,   0.,   0.,   0.,   0.,   0.,   0.,   0.,   0.,\n",
              "           0.,   0.,   0.,   0.,   0.,   0.],\n",
              "        [  0.,   0.,   0.,   0.,   0.,   0.,   0.,   0.,   0.,   0.,   0.,\n",
              "           0.,   0.,   0.,   0.,   0.,   0.,   0.,   0.,   0.,   0.,   0.,\n",
              "           0.,   0.,   0.,   0.,   0.,   0.],\n",
              "        [  0.,   0.,   0.,   0.,   0.,   0.,   0.,   0.,   0.,   0.,   0.,\n",
              "           0.,   0.,   0.,   0.,   0.,   0.,   0.,   0.,   0.,   0.,   0.,\n",
              "           0.,   0.,   0.,   0.,   0.,   0.],\n",
              "        [  0.,   0.,   0.,   0.,   0.,   0.,   0.,   0.,   0.,   0.,   0.,\n",
              "           0.,   0.,   0.,   0.,   0.,   0.,   0.,   0.,   0.,   0.,   0.,\n",
              "           0.,   0.,   0.,   0.,   0.,   0.],\n",
              "        [  0.,   0.,   0.,   0.,   0.,   0.,   0.,   0.,   0.,   0.,   0.,\n",
              "           0.,   0.,   0.,   0.,   0.,   0.,   0.,   0.,   0.,   0.,   0.,\n",
              "           0.,   0.,   0.,   0.,   0.,   0.],\n",
              "        [  0.,   0.,   0.,   0.,   0.,   0.,   0.,   0.,   0.,   0.,   0.,\n",
              "           0.,   0.,   0.,   0.,   0.,   0.,   0.,   0.,   0.,   0.,   0.,\n",
              "           0.,   0.,   0.,   0.,   0.,   0.],\n",
              "        [  0.,   0.,   0.,   0.,   0.,   0.,   0.,   0.,   0.,   0.,   0.,\n",
              "           0.,   0.,   0.,   0.,   0.,   0.,   0.,   0.,   0.,   0.,   0.,\n",
              "           0.,   0.,   0.,   0.,   0.,   0.],\n",
              "        [  0.,   0.,   0.,   0.,   0.,   0.,  84., 185., 159., 151.,  60.,\n",
              "          36.,   0.,   0.,   0.,   0.,   0.,   0.,   0.,   0.,   0.,   0.,\n",
              "           0.,   0.,   0.,   0.,   0.,   0.],\n",
              "        [  0.,   0.,   0.,   0.,   0.,   0., 222., 254., 254., 254., 254.,\n",
              "         241., 198., 198., 198., 198., 198., 198., 198., 198., 170.,  52.,\n",
              "           0.,   0.,   0.,   0.,   0.,   0.],\n",
              "        [  0.,   0.,   0.,   0.,   0.,   0.,  67., 114.,  72., 114., 163.,\n",
              "         227., 254., 225., 254., 254., 254., 250., 229., 254., 254., 140.,\n",
              "           0.,   0.,   0.,   0.,   0.,   0.],\n",
              "        [  0.,   0.,   0.,   0.,   0.,   0.,   0.,   0.,   0.,   0.,   0.,\n",
              "          17.,  66.,  14.,  67.,  67.,  67.,  59.,  21., 236., 254., 106.,\n",
              "           0.,   0.,   0.,   0.,   0.,   0.],\n",
              "        [  0.,   0.,   0.,   0.,   0.,   0.,   0.,   0.,   0.,   0.,   0.,\n",
              "           0.,   0.,   0.,   0.,   0.,   0.,   0.,  83., 253., 209.,  18.,\n",
              "           0.,   0.,   0.,   0.,   0.,   0.],\n",
              "        [  0.,   0.,   0.,   0.,   0.,   0.,   0.,   0.,   0.,   0.,   0.,\n",
              "           0.,   0.,   0.,   0.,   0.,   0.,  22., 233., 255.,  83.,   0.,\n",
              "           0.,   0.,   0.,   0.,   0.,   0.],\n",
              "        [  0.,   0.,   0.,   0.,   0.,   0.,   0.,   0.,   0.,   0.,   0.,\n",
              "           0.,   0.,   0.,   0.,   0.,   0., 129., 254., 238.,  44.,   0.,\n",
              "           0.,   0.,   0.,   0.,   0.,   0.],\n",
              "        [  0.,   0.,   0.,   0.,   0.,   0.,   0.,   0.,   0.,   0.,   0.,\n",
              "           0.,   0.,   0.,   0.,   0.,  59., 249., 254.,  62.,   0.,   0.,\n",
              "           0.,   0.,   0.,   0.,   0.,   0.],\n",
              "        [  0.,   0.,   0.,   0.,   0.,   0.,   0.,   0.,   0.,   0.,   0.,\n",
              "           0.,   0.,   0.,   0.,   0., 133., 254., 187.,   5.,   0.,   0.,\n",
              "           0.,   0.,   0.,   0.,   0.,   0.],\n",
              "        [  0.,   0.,   0.,   0.,   0.,   0.,   0.,   0.,   0.,   0.,   0.,\n",
              "           0.,   0.,   0.,   0.,   9., 205., 248.,  58.,   0.,   0.,   0.,\n",
              "           0.,   0.,   0.,   0.,   0.,   0.],\n",
              "        [  0.,   0.,   0.,   0.,   0.,   0.,   0.,   0.,   0.,   0.,   0.,\n",
              "           0.,   0.,   0.,   0., 126., 254., 182.,   0.,   0.,   0.,   0.,\n",
              "           0.,   0.,   0.,   0.,   0.,   0.],\n",
              "        [  0.,   0.,   0.,   0.,   0.,   0.,   0.,   0.,   0.,   0.,   0.,\n",
              "           0.,   0.,   0.,  75., 251., 240.,  57.,   0.,   0.,   0.,   0.,\n",
              "           0.,   0.,   0.,   0.,   0.,   0.],\n",
              "        [  0.,   0.,   0.,   0.,   0.,   0.,   0.,   0.,   0.,   0.,   0.,\n",
              "           0.,   0.,  19., 221., 254., 166.,   0.,   0.,   0.,   0.,   0.,\n",
              "           0.,   0.,   0.,   0.,   0.,   0.],\n",
              "        [  0.,   0.,   0.,   0.,   0.,   0.,   0.,   0.,   0.,   0.,   0.,\n",
              "           0.,   3., 203., 254., 219.,  35.,   0.,   0.,   0.,   0.,   0.,\n",
              "           0.,   0.,   0.,   0.,   0.,   0.],\n",
              "        [  0.,   0.,   0.,   0.,   0.,   0.,   0.,   0.,   0.,   0.,   0.,\n",
              "           0.,  38., 254., 254.,  77.,   0.,   0.,   0.,   0.,   0.,   0.,\n",
              "           0.,   0.,   0.,   0.,   0.,   0.],\n",
              "        [  0.,   0.,   0.,   0.,   0.,   0.,   0.,   0.,   0.,   0.,   0.,\n",
              "          31., 224., 254., 115.,   1.,   0.,   0.,   0.,   0.,   0.,   0.,\n",
              "           0.,   0.,   0.,   0.,   0.,   0.],\n",
              "        [  0.,   0.,   0.,   0.,   0.,   0.,   0.,   0.,   0.,   0.,   0.,\n",
              "         133., 254., 254.,  52.,   0.,   0.,   0.,   0.,   0.,   0.,   0.,\n",
              "           0.,   0.,   0.,   0.,   0.,   0.],\n",
              "        [  0.,   0.,   0.,   0.,   0.,   0.,   0.,   0.,   0.,   0.,  61.,\n",
              "         242., 254., 254.,  52.,   0.,   0.,   0.,   0.,   0.,   0.,   0.,\n",
              "           0.,   0.,   0.,   0.,   0.,   0.],\n",
              "        [  0.,   0.,   0.,   0.,   0.,   0.,   0.,   0.,   0.,   0., 121.,\n",
              "         254., 254., 219.,  40.,   0.,   0.,   0.,   0.,   0.,   0.,   0.,\n",
              "           0.,   0.,   0.,   0.,   0.,   0.],\n",
              "        [  0.,   0.,   0.,   0.,   0.,   0.,   0.,   0.,   0.,   0., 121.,\n",
              "         254., 207.,  18.,   0.,   0.,   0.,   0.,   0.,   0.,   0.,   0.,\n",
              "           0.,   0.,   0.,   0.,   0.,   0.],\n",
              "        [  0.,   0.,   0.,   0.,   0.,   0.,   0.,   0.,   0.,   0.,   0.,\n",
              "           0.,   0.,   0.,   0.,   0.,   0.,   0.,   0.,   0.,   0.,   0.,\n",
              "           0.,   0.,   0.,   0.,   0.,   0.]], dtype=float32))"
            ]
          },
          "metadata": {
            "tags": []
          },
          "execution_count": 11
        }
      ]
    },
    {
      "metadata": {
        "id": "2v_I4nV_dxfc",
        "colab_type": "code",
        "colab": {}
      },
      "cell_type": "code",
      "source": [
        "# images_per_row: 한 줄에 표시할 개수\n",
        "\n",
        "def plot_data1(instances, images_per_row=10, **options): \n",
        "    size = 28\n",
        "    images_per_row = min(len(instances), images_per_row)\n",
        "    images = [instance.reshape(size,size) for instance in instances]\n",
        "    n_rows = (len(instances) - 1) // images_per_row + 1\n",
        "    row_images = []\n",
        "    n_empty = n_rows * images_per_row - len(instances)\n",
        "    images.append(np.zeros((size, size * n_empty)))\n",
        "    for row in range(n_rows):\n",
        "        rimages = images[row * images_per_row : (row + 1) * images_per_row]\n",
        "        row_images.append(np.concatenate(rimages, axis=1))\n",
        "    image = np.concatenate(row_images, axis=0)\n",
        "    plt.imshow(image, cmap = matplotlib.cm.binary, **options)\n",
        "    plt.axis(\"off\")"
      ],
      "execution_count": 0,
      "outputs": []
    },
    {
      "metadata": {
        "id": "MuS_msHMdz-u",
        "colab_type": "code",
        "colab": {
          "base_uri": "https://localhost:8080/",
          "height": 191
        },
        "outputId": "04cf1bc8-8068-4e42-ef44-5c04cba2caca"
      },
      "cell_type": "code",
      "source": [
        "plt.figure(figsize=(5,10))\n",
        "plot_data1(data1[0:50, :784], images_per_row=10)\n",
        "plt.show( )"
      ],
      "execution_count": 13,
      "outputs": [
        {
          "output_type": "display_data",
          "data": {
            "image/png": "[encoded data removed]",
            "text/plain": [
              "<matplotlib.figure.Figure at 0x7fbeb4ab7e80>"
            ]
          },
          "metadata": {
            "tags": []
          }
        }
      ]
    },
    {
      "metadata": {
        "id": "-V-z8R-8e2dA",
        "colab_type": "code",
        "colab": {}
      },
      "cell_type": "code",
      "source": [
        ""
      ],
      "execution_count": 0,
      "outputs": []
    }
  ]
}