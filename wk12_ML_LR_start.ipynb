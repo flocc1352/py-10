{
  "nbformat": 4,
  "nbformat_minor": 0,
  "metadata": {
    "colab": {
      "name": "wk12_ML_LR_start.ipynb",
      "version": "0.3.2",
      "provenance": [],
      "collapsed_sections": [],
      "toc_visible": true,
      "include_colab_link": true
    },
    "kernelspec": {
      "display_name": "Python 3",
      "language": "python",
      "name": "python3"
    }
  },
  "cells": [
    {
      "cell_type": "markdown",
      "metadata": {
        "id": "view-in-github",
        "colab_type": "text"
      },
      "source": [
        "<a href=\"https://colab.research.google.com/github/flocc1352/py-10/blob/master/wk12_ML_LR_start.ipynb\" target=\"_parent\"><img src=\"https://colab.research.google.com/assets/colab-badge.svg\" alt=\"Open In Colab\"/></a>"
      ]
    },
    {
      "metadata": {
        "colab_type": "text",
        "id": "pbJOVKrdH9av"
      },
      "cell_type": "markdown",
      "source": [
        "## 파이썬과 기계학습\n",
        "\n",
        "> [Gooood blog](https://tensorflow.blog/)\n",
        "\n",
        "> [python-machine-learning-book-2nd-edition](https://github.com/rasbt/python-machine-learning-book-2nd-edition)"
      ]
    },
    {
      "metadata": {
        "colab_type": "toc",
        "id": "4LOSuBR4jmB1"
      },
      "cell_type": "markdown",
      "source": [
        ">>[파이썬과 기계학습](#scrollTo=pbJOVKrdH9av)\n",
        "\n",
        ">>[wk13: 선형회기 연습](#scrollTo=E3-FW7EijXTH)\n",
        "\n",
        ">>>[Price of RAM (Linear regression)](#scrollTo=S3f7UXkHH9dE)\n",
        "\n",
        ">>>[도전하기](#scrollTo=JCap6GRoH9dN)\n",
        "\n",
        ">>>[수능 점수 예측 (다변수 선형회기, Multivariate Linear regression)](#scrollTo=CfixdLUvH9dP)\n",
        "\n",
        ">>>>[[1] 25명 전체 데이터를 훈련 데이터로 지정한다.](#scrollTo=GAl1Yid1H9dS)\n",
        "\n",
        ">>[[wk11] Homework](#scrollTo=jpsinXMnH9dn)\n",
        "\n",
        ">>>>>[================== 마감: 2018.11.18(일). 24:00](#scrollTo=jpsinXMnH9dn)\n",
        "\n",
        ">>>>[lr_model vs. lr_model_20](#scrollTo=KuDm7wBbRgVQ)\n",
        "\n",
        ">>>>[테스트 데이터에 대한 예측 성능 평가](#scrollTo=xbZobZjvSCEt)\n",
        "\n",
        ">>[pandas의 데이터프레임을 이용한 수능 성적 회기 분석](#scrollTo=ciTzquUZc4jx)\n",
        "\n",
        ">>>[수능 데이터로 데이터프레임 구성 - pandas](#scrollTo=4boVk_xeTq7r)\n",
        "\n",
        ">>>>[다변수 선형회기 분석](#scrollTo=fzwJSRmjdN8-)\n",
        "\n",
        ">>[[wk13] Study](#scrollTo=WLjYsq74H9dr)\n",
        "\n"
      ]
    },
    {
      "metadata": {
        "colab_type": "text",
        "id": "E3-FW7EijXTH"
      },
      "cell_type": "markdown",
      "source": [
        "## wk13: 선형회기 연습\n",
        "\n",
        "> Linear regression of one variable and multivariate linear regression"
      ]
    },
    {
      "metadata": {
        "colab_type": "text",
        "id": "S3f7UXkHH9dE"
      },
      "cell_type": "markdown",
      "source": [
        "### 2. Price of RAM (Linear regression)\n",
        "\n",
        "> [ram_price.csv](https://github.com/Redwoods/Py/blob/master/py-basic/tips/ram_price.csv)"
      ]
    },
    {
      "metadata": {
        "colab_type": "text",
        "id": "TqV3hLA_H9dE"
      },
      "cell_type": "markdown",
      "source": [
        "아래는 로그 스케일로 그린 연도별 RAM 가격이다.\n",
        "\n",
        "선형 회기를 이용해서 RAM 가격 예측 모델을 만들어보자."
      ]
    },
    {
      "metadata": {
        "colab_type": "code",
        "id": "cZ6JoUfMH9dE",
        "colab": {}
      },
      "cell_type": "code",
      "source": [
        "import pandas as pd\n",
        "import numpy as np\n",
        "import matplotlib.pyplot as plt\n",
        "%matplotlib inline"
      ],
      "execution_count": 0,
      "outputs": []
    },
    {
      "metadata": {
        "colab_type": "code",
        "id": "x6_RCzSJH9dF",
        "outputId": "c9667dda-40ea-494f-f224-ecd4e71ec8fc",
        "colab": {
          "base_uri": "https://localhost:8080/",
          "height": 447
        }
      },
      "cell_type": "code",
      "source": [
        "ram_prices = pd.read_csv(\"ram_price.csv\")\n",
        "\n",
        "plt.figure(figsize=(9,6))\n",
        "plt.yticks(fontname = \"Arial\") # 한글 폰트가 지수에 음수를 표시하지 못하므로 ytick의 폰트를 바꾸어 줍니다.\n",
        "plt.semilogy(ram_prices.date, ram_prices.price)\n",
        "plt.xlabel(\"Year\")\n",
        "plt.ylabel(\"Price ($/Mbyte)\")"
      ],
      "execution_count": 0,
      "outputs": [
        {
          "output_type": "execute_result",
          "data": {
            "text/plain": [
              "Text(0,0.5,'Price ($/Mbyte)')"
            ]
          },
          "metadata": {
            "tags": []
          },
          "execution_count": 2
        },
        {
          "output_type": "display_data",
          "data": {
            "image/png": "[encoded data removed]",
            "text/plain": [
              "<Figure size 648x432 with 1 Axes>"
            ]
          },
          "metadata": {
            "tags": [],
            "needs_background": "light"
          }
        }
      ]
    },
    {
      "metadata": {
        "colab_type": "code",
        "id": "SpNt1SE5H9dH",
        "outputId": "70e20ee1-80dc-42ed-8c20-950c01781b73",
        "colab": {
          "base_uri": "https://localhost:8080/",
          "height": 223
        }
      },
      "cell_type": "code",
      "source": [
        "ram_prices.head(),ram_prices.tail()"
      ],
      "execution_count": 0,
      "outputs": [
        {
          "output_type": "execute_result",
          "data": {
            "text/plain": [
              "(   Unnamed: 0    date        price\n",
              " 0           0  1957.0  411041792.0\n",
              " 1           1  1959.0   67947725.0\n",
              " 2           2  1960.0    5242880.0\n",
              " 3           3  1965.0    2642412.0\n",
              " 4           4  1970.0     734003.0,      Unnamed: 0     date   price\n",
              " 328         328  2015.58  0.0045\n",
              " 329         329  2015.67  0.0043\n",
              " 330         330  2015.75  0.0042\n",
              " 331         331  2015.83  0.0038\n",
              " 332         332  2015.92  0.0037)"
            ]
          },
          "metadata": {
            "tags": []
          },
          "execution_count": 3
        }
      ]
    },
    {
      "metadata": {
        "colab_type": "text",
        "id": "rwmFG-n2H9dI"
      },
      "cell_type": "markdown",
      "source": [
        "* y축(가격)은 로그 스케일로 로그 스케일로 그리면 약간의 굴곡을 제외하고는 선형적으로 나타나서 예측이 쉬워진다.\n",
        "* 2000년 전까지의 데이터로 2000년 후의 데이터를 예측해보자. \n",
        "* 선형회귀(LinearRegression)를 수행한다. \n",
        "* 모델을 훈련시키고 예측을 수행한 후 로그 스케일로 되돌리기 위해 지수 함수를 사용한다."
      ]
    },
    {
      "metadata": {
        "colab_type": "code",
        "id": "Z7-ZMZX3H9dI",
        "colab": {}
      },
      "cell_type": "code",
      "source": [
        "# 머심러닝 방법 선택과 훈련/테스트 데이터 구성\n",
        "# LinearRegression\n",
        "from sklearn.linear_model import LinearRegression\n",
        "# 2000년 이전을 훈련 데이터로, 2000년 이후를 테스트 데이터로 만듭니다\n",
        "data_train = ram_prices[ram_prices.date < 2000]\n",
        "data_test = ram_prices[ram_prices.date >= 2000]"
      ],
      "execution_count": 0,
      "outputs": []
    },
    {
      "metadata": {
        "colab_type": "code",
        "id": "2jguHBmEb3vX",
        "outputId": "f7a389c6-f708-4ae8-b447-87253feea086",
        "colab": {}
      },
      "cell_type": "code",
      "source": [
        "data_train.shape,data_test.shape"
      ],
      "execution_count": 0,
      "outputs": [
        {
          "output_type": "execute_result",
          "data": {
            "text/plain": [
              "((202, 3), (131, 3))"
            ]
          },
          "metadata": {
            "tags": []
          },
          "execution_count": 5
        }
      ]
    },
    {
      "metadata": {
        "colab_type": "code",
        "id": "KV2qdfZuH9dJ",
        "colab": {}
      },
      "cell_type": "code",
      "source": [
        "# 데이터 전처리\n",
        "# 가격 예측을 위해 날짜 특성만을 이용합니다\n",
        "X_train = data_train.date[:, np.newaxis] # 열벡터로 변환\n",
        "# 데이터와 타깃 사이의 관계를 간단하게 만들기 위해 로그 스케일로 바꿉니다\n",
        "y_train = np.log(data_train.price)"
      ],
      "execution_count": 0,
      "outputs": []
    },
    {
      "metadata": {
        "colab_type": "code",
        "id": "kbrBw1nob3vh",
        "outputId": "7301f30f-8952-412e-db8e-dbda928d3321",
        "colab": {}
      },
      "cell_type": "code",
      "source": [
        "X_train.shape,y_train.shape"
      ],
      "execution_count": 0,
      "outputs": [
        {
          "output_type": "execute_result",
          "data": {
            "text/plain": [
              "((202, 1), (202,))"
            ]
          },
          "metadata": {
            "tags": []
          },
          "execution_count": 7
        }
      ]
    },
    {
      "metadata": {
        "colab_type": "code",
        "id": "t40NeievH9dK",
        "colab": {}
      },
      "cell_type": "code",
      "source": [
        "# 선형 회기 모델 만들기\n",
        "linear_reg = LinearRegression().fit(X_train, y_train)"
      ],
      "execution_count": 0,
      "outputs": []
    },
    {
      "metadata": {
        "colab_type": "text",
        "id": "JCap6GRoH9dN"
      },
      "cell_type": "markdown",
      "source": [
        "### 도전하기 \n",
        "\n",
        "> RAM 가격 변동에 대한 선형 회기 모델의 정확도를 구하시오."
      ]
    },
    {
      "metadata": {
        "colab_type": "code",
        "id": "2C4xFyJIH9dN",
        "outputId": "e705495c-bf18-4349-a62f-a521bb7e180f",
        "colab": {
          "base_uri": "https://localhost:8080/",
          "height": 36
        }
      },
      "cell_type": "code",
      "source": [
        "# RAM 가격 변동에 대한 선형 회기 모델의 정확도\n",
        "X_test = data_test.date[:, np.newaxis]  # test input\n",
        "y_test = np.log(data_test.price)  # test output, 로그 스케일\n",
        "\n",
        "print(\"테스트 세트의 정확도: {:.2f}\".format(linear_reg.score(X_test, y_test)))"
      ],
      "execution_count": 0,
      "outputs": [
        {
          "output_type": "stream",
          "text": [
            "테스트 세트의 정확도: 0.83\n"
          ],
          "name": "stdout"
        }
      ]
    },
    {
      "metadata": {
        "colab_type": "text",
        "id": "yD33olHSH9dP"
      },
      "cell_type": "markdown",
      "source": [
        "* 선형 모델은 직선으로 데이터를 근사하여 결과를 예측한다 \n",
        "* 모델이 가진 데이터 범위 밖에서도 외삽(extreapolation)을 이용해서 예측한다. "
      ]
    },
    {
      "metadata": {
        "colab_type": "text",
        "id": "CfixdLUvH9dP"
      },
      "cell_type": "markdown",
      "source": [
        "### 3. 수능 점수 예측 (다변수 선형회기, Multivariate Linear regression)\n",
        "\n",
        "> [data-01-test-score.csv](https://github.com/Redwoods/Py/blob/master/py-basic/tips/data-01-test-score.csv)"
      ]
    },
    {
      "metadata": {
        "colab_type": "text",
        "id": "rhs4VwBRH9dQ"
      },
      "cell_type": "markdown",
      "source": [
        "수험생 25명의 수능 세 개 영역의 점수를 이용해서 수능 점수를 예측하는 다변수 선형회기 모델을 만든다."
      ]
    },
    {
      "metadata": {
        "colab_type": "code",
        "id": "FAFshfuQH9dQ",
        "outputId": "5b5c55dd-55b7-483d-cd3c-84575ef11814",
        "colab": {
          "base_uri": "https://localhost:8080/",
          "height": 484
        }
      },
      "cell_type": "code",
      "source": [
        "# data\n",
        "data = np.loadtxt('./data-01-test-score.csv', delimiter=',', dtype=np.float32)\n",
        "data"
      ],
      "execution_count": 0,
      "outputs": [
        {
          "output_type": "execute_result",
          "data": {
            "text/plain": [
              "array([[ 73.,  80.,  75., 152.],\n",
              "       [ 93.,  88.,  93., 185.],\n",
              "       [ 89.,  91.,  90., 180.],\n",
              "       [ 96.,  98., 100., 196.],\n",
              "       [ 73.,  66.,  70., 142.],\n",
              "       [ 53.,  46.,  55., 101.],\n",
              "       [ 69.,  74.,  77., 149.],\n",
              "       [ 47.,  56.,  60., 115.],\n",
              "       [ 87.,  79.,  90., 175.],\n",
              "       [ 79.,  70.,  88., 164.],\n",
              "       [ 69.,  70.,  73., 141.],\n",
              "       [ 70.,  65.,  74., 141.],\n",
              "       [ 93.,  95.,  91., 184.],\n",
              "       [ 79.,  80.,  73., 152.],\n",
              "       [ 70.,  73.,  78., 148.],\n",
              "       [ 93.,  89.,  96., 192.],\n",
              "       [ 78.,  75.,  68., 147.],\n",
              "       [ 81.,  90.,  93., 183.],\n",
              "       [ 88.,  92.,  86., 177.],\n",
              "       [ 78.,  83.,  77., 159.],\n",
              "       [ 82.,  86.,  90., 177.],\n",
              "       [ 86.,  82.,  89., 175.],\n",
              "       [ 78.,  83.,  85., 175.],\n",
              "       [ 76.,  83.,  71., 149.],\n",
              "       [ 96.,  93.,  95., 192.]], dtype=float32)"
            ]
          },
          "metadata": {
            "tags": []
          },
          "execution_count": 12
        }
      ]
    },
    {
      "metadata": {
        "colab_type": "code",
        "id": "Djmguwe9Ove-",
        "outputId": "74f81e59-8a5c-4262-a9c1-366703bce49c",
        "colab": {}
      },
      "cell_type": "code",
      "source": [
        "data.shape"
      ],
      "execution_count": 0,
      "outputs": [
        {
          "output_type": "execute_result",
          "data": {
            "text/plain": [
              "(25, 4)"
            ]
          },
          "metadata": {
            "tags": []
          },
          "execution_count": 13
        }
      ]
    },
    {
      "metadata": {
        "colab_type": "text",
        "id": "GAl1Yid1H9dS"
      },
      "cell_type": "markdown",
      "source": [
        "#### [1] 25명 전체 데이터를 훈련 데이터로 지정한다."
      ]
    },
    {
      "metadata": {
        "colab_type": "code",
        "id": "GquBBZB9H9dT",
        "colab": {}
      },
      "cell_type": "code",
      "source": [
        "# LinearRegression\n",
        "from sklearn.linear_model import LinearRegression\n",
        "\n",
        "# 25명 전체 데이터를 훈련 데이터로 지정한다.\n",
        "data_X = data[:, 0:-1]\n",
        "data_y = data[:,[-1]]"
      ],
      "execution_count": 0,
      "outputs": []
    },
    {
      "metadata": {
        "colab_type": "code",
        "id": "ASsWVzKyH9dU",
        "outputId": "9e85b9a9-4c60-4e9e-d187-e5ede9e681b4",
        "colab": {
          "base_uri": "https://localhost:8080/",
          "height": 36
        }
      },
      "cell_type": "code",
      "source": [
        "data_X.shape, data_y.shape"
      ],
      "execution_count": 0,
      "outputs": [
        {
          "output_type": "execute_result",
          "data": {
            "text/plain": [
              "((25, 3), (25, 1))"
            ]
          },
          "metadata": {
            "tags": []
          },
          "execution_count": 15
        }
      ]
    },
    {
      "metadata": {
        "colab_type": "code",
        "id": "jLr9y1AOH9dX",
        "outputId": "fbda2d8f-89da-4dbc-9d46-4a8231535002",
        "colab": {
          "base_uri": "https://localhost:8080/",
          "height": 932
        }
      },
      "cell_type": "code",
      "source": [
        "data_X,data_y  # 영역별 점수와 수능점수"
      ],
      "execution_count": 0,
      "outputs": [
        {
          "output_type": "execute_result",
          "data": {
            "text/plain": [
              "(array([[ 73.,  80.,  75.],\n",
              "        [ 93.,  88.,  93.],\n",
              "        [ 89.,  91.,  90.],\n",
              "        [ 96.,  98., 100.],\n",
              "        [ 73.,  66.,  70.],\n",
              "        [ 53.,  46.,  55.],\n",
              "        [ 69.,  74.,  77.],\n",
              "        [ 47.,  56.,  60.],\n",
              "        [ 87.,  79.,  90.],\n",
              "        [ 79.,  70.,  88.],\n",
              "        [ 69.,  70.,  73.],\n",
              "        [ 70.,  65.,  74.],\n",
              "        [ 93.,  95.,  91.],\n",
              "        [ 79.,  80.,  73.],\n",
              "        [ 70.,  73.,  78.],\n",
              "        [ 93.,  89.,  96.],\n",
              "        [ 78.,  75.,  68.],\n",
              "        [ 81.,  90.,  93.],\n",
              "        [ 88.,  92.,  86.],\n",
              "        [ 78.,  83.,  77.],\n",
              "        [ 82.,  86.,  90.],\n",
              "        [ 86.,  82.,  89.],\n",
              "        [ 78.,  83.,  85.],\n",
              "        [ 76.,  83.,  71.],\n",
              "        [ 96.,  93.,  95.]], dtype=float32), array([[152.],\n",
              "        [185.],\n",
              "        [180.],\n",
              "        [196.],\n",
              "        [142.],\n",
              "        [101.],\n",
              "        [149.],\n",
              "        [115.],\n",
              "        [175.],\n",
              "        [164.],\n",
              "        [141.],\n",
              "        [141.],\n",
              "        [184.],\n",
              "        [152.],\n",
              "        [148.],\n",
              "        [192.],\n",
              "        [147.],\n",
              "        [183.],\n",
              "        [177.],\n",
              "        [159.],\n",
              "        [177.],\n",
              "        [175.],\n",
              "        [175.],\n",
              "        [149.],\n",
              "        [192.]], dtype=float32))"
            ]
          },
          "metadata": {
            "tags": []
          },
          "execution_count": 16
        }
      ]
    },
    {
      "metadata": {
        "colab_type": "code",
        "id": "ynHGNcPcH9da",
        "colab": {}
      },
      "cell_type": "code",
      "source": [
        "# 수능 점수 예측을 위한 트레인 데이터 만들기\n",
        "X_train = data_X\n",
        "y_train = data_y\n",
        "# 선형 회기 모델 만들기\n",
        "lr_model = LinearRegression().fit(X_train, y_train)"
      ],
      "execution_count": 0,
      "outputs": []
    },
    {
      "metadata": {
        "colab_type": "code",
        "id": "26xsVkmyH9dd",
        "outputId": "cf25aa00-ea62-42fd-8571-7059a9f65dcc",
        "colab": {
          "base_uri": "https://localhost:8080/",
          "height": 36
        }
      },
      "cell_type": "code",
      "source": [
        "lr_model"
      ],
      "execution_count": 0,
      "outputs": [
        {
          "output_type": "execute_result",
          "data": {
            "text/plain": [
              "LinearRegression(copy_X=True, fit_intercept=True, n_jobs=None,\n",
              "         normalize=False)"
            ]
          },
          "metadata": {
            "tags": []
          },
          "execution_count": 18
        }
      ]
    },
    {
      "metadata": {
        "colab_type": "code",
        "id": "eZX6CvzIH9dg",
        "outputId": "293f36e6-58be-4b3c-e9c2-e8febe4bb1b5",
        "colab": {
          "base_uri": "https://localhost:8080/",
          "height": 55
        }
      },
      "cell_type": "code",
      "source": [
        "# model : coef_, intercept_\n",
        "lr_model.coef_,lr_model.intercept_"
      ],
      "execution_count": 0,
      "outputs": [
        {
          "output_type": "execute_result",
          "data": {
            "text/plain": [
              "(array([[0.35593837, 0.54251873, 1.1674445 ]], dtype=float32),\n",
              " array([-4.336151], dtype=float32))"
            ]
          },
          "metadata": {
            "tags": []
          },
          "execution_count": 19
        }
      ]
    },
    {
      "metadata": {
        "colab_type": "code",
        "id": "4LaRwyzBb3ws",
        "outputId": "ef2b4d12-2215-4b65-94f9-4882000470e5",
        "colab": {}
      },
      "cell_type": "code",
      "source": [
        "lr_model.coef_.shape,lr_model.intercept_.shape"
      ],
      "execution_count": 0,
      "outputs": [
        {
          "output_type": "execute_result",
          "data": {
            "text/plain": [
              "((1, 3), (1,))"
            ]
          },
          "metadata": {
            "tags": []
          },
          "execution_count": 20
        }
      ]
    },
    {
      "metadata": {
        "colab_type": "code",
        "id": "CFhJbBgBH9dh",
        "outputId": "f1626ddf-b5a9-4044-867f-97791e41d463",
        "colab": {}
      },
      "cell_type": "code",
      "source": [
        "# 새로운 3개 영역 점수로 수능 점수 예측 비교\n",
        "test = np.array([100, 98, 81])\n",
        "test.shape"
      ],
      "execution_count": 0,
      "outputs": [
        {
          "output_type": "execute_result",
          "data": {
            "text/plain": [
              "(3,)"
            ]
          },
          "metadata": {
            "tags": []
          },
          "execution_count": 23
        }
      ]
    },
    {
      "metadata": {
        "colab_type": "code",
        "id": "JMr3g7lDH9dj",
        "outputId": "1c1ca2ff-3259-453c-bc8d-bfafd14082d1",
        "colab": {
          "base_uri": "https://localhost:8080/",
          "height": 36
        }
      },
      "cell_type": "code",
      "source": [
        "lr_model.predict(test.reshape(1,-1))"
      ],
      "execution_count": 0,
      "outputs": [
        {
          "output_type": "execute_result",
          "data": {
            "text/plain": [
              "array([[178.98752427]])"
            ]
          },
          "metadata": {
            "tags": []
          },
          "execution_count": 24
        }
      ]
    },
    {
      "metadata": {
        "colab_type": "code",
        "id": "poZRzsG8H9dl",
        "outputId": "67743c5b-5325-4335-a234-1d7568534bb6",
        "colab": {
          "base_uri": "https://localhost:8080/",
          "height": 36
        }
      },
      "cell_type": "code",
      "source": [
        "# 수능 점수에 대한 선형 회기 모델의 정확도\n",
        "print(\"트레인 세트의 정확도: {:.2f}\".format(lr_model.score(X_train, y_train)))"
      ],
      "execution_count": 0,
      "outputs": [
        {
          "output_type": "stream",
          "text": [
            "트레인 세트의 정확도: 0.99\n"
          ],
          "name": "stdout"
        }
      ]
    },
    {
      "metadata": {
        "colab_type": "text",
        "id": "SHSKUvQNH9dm"
      },
      "cell_type": "markdown",
      "source": [
        "> overfitting!!  --- 과대접합"
      ]
    },
    {
      "metadata": {
        "colab_type": "text",
        "id": "KF0JtyAMH9dm"
      },
      "cell_type": "markdown",
      "source": [
        "***"
      ]
    },
    {
      "metadata": {
        "colab_type": "text",
        "id": "jpsinXMnH9dn"
      },
      "cell_type": "markdown",
      "source": [
        "## [wk11] Homework\n",
        "\n",
        "> 25명 중 20명의 데이터를 훈련 데이터, 나머지 5명을 데스트 데이터로 지정한다.\n",
        "\n",
        "> 모델의 정확도를 계산한다.\n",
        "\n",
        "##### ================== 마감: 2018.11.18(일). 24:00"
      ]
    },
    {
      "metadata": {
        "colab_type": "text",
        "id": "BDbIeNMTH9dn"
      },
      "cell_type": "markdown",
      "source": [
        "> [1] 데이터 구성"
      ]
    },
    {
      "metadata": {
        "colab_type": "code",
        "id": "O11sn8nkH9dn",
        "colab": {}
      },
      "cell_type": "code",
      "source": [
        "# 데이터 구성\n",
        "# LinearRegression\n",
        "# from sklearn.linear_model import LinearRegression\n",
        "# 25명 중 20명의 데이터를 훈련 데이터, 나머지 5명을 데스트 데이터로 지정한다.\n",
        "X_train = data[0:-5, 0:-1]\n",
        "y_train = data[0:-5,[-1]]\n",
        "X_test = data[-5:, 0:-1]\n",
        "y_test = data[-5:,[-1]]"
      ],
      "execution_count": 0,
      "outputs": []
    },
    {
      "metadata": {
        "id": "5THjWM76D9H_",
        "colab_type": "code",
        "colab": {}
      },
      "cell_type": "code",
      "source": [
        "# x_train = data[:20, 0:3]   # 트레이닝 데이터로 20개 저장(과목3개)\n",
        "# x_test = data[20:,0:3]     # 테스트 데이터로 5개 저장(과목3개)\n",
        "\n",
        "# y_train = data[:20,[-1]]   # 트레이닝 데이터로 20개 저장(수능점수)\n",
        "# y_test = data[20:,[-1]]    # 테스트 데이터로 5개 저장(수능점수)"
      ],
      "execution_count": 0,
      "outputs": []
    },
    {
      "metadata": {
        "colab_type": "code",
        "id": "XAKmssGsH9do",
        "outputId": "fdb847ff-7584-4e80-b730-1a788a6822d8",
        "colab": {
          "base_uri": "https://localhost:8080/",
          "height": 36
        }
      },
      "cell_type": "code",
      "source": [
        "X_train.shape, y_train.shape, X_test.shape, y_test.shape, "
      ],
      "execution_count": 0,
      "outputs": [
        {
          "output_type": "execute_result",
          "data": {
            "text/plain": [
              "((20, 3), (20, 1), (5, 3), (5, 1))"
            ]
          },
          "metadata": {
            "tags": []
          },
          "execution_count": 27
        }
      ]
    },
    {
      "metadata": {
        "colab_type": "text",
        "id": "uZFNr8fEH9dp"
      },
      "cell_type": "markdown",
      "source": [
        "> [2] 선형 회기 모델"
      ]
    },
    {
      "metadata": {
        "colab_type": "code",
        "id": "NlXM-ev2H9dp",
        "outputId": "c801150b-de53-49d6-a4d8-a12fdb385bc8",
        "colab": {
          "base_uri": "https://localhost:8080/",
          "height": 36
        }
      },
      "cell_type": "code",
      "source": [
        "# 20명의 트레인 데이터 이용\n",
        "# 선형 회기 모델 만들기\n",
        "lr_model_20 = LinearRegression().fit(X_train, y_train)\n",
        "\n",
        "lr_model_20\n"
      ],
      "execution_count": 0,
      "outputs": [
        {
          "output_type": "execute_result",
          "data": {
            "text/plain": [
              "LinearRegression(copy_X=True, fit_intercept=True, n_jobs=None,\n",
              "         normalize=False)"
            ]
          },
          "metadata": {
            "tags": []
          },
          "execution_count": 28
        }
      ]
    },
    {
      "metadata": {
        "colab_type": "code",
        "id": "E_Y7uvLzQKLy",
        "outputId": "858854c7-4353-4236-91f2-232ed03b17e4",
        "colab": {
          "base_uri": "https://localhost:8080/",
          "height": 55
        }
      },
      "cell_type": "code",
      "source": [
        "# 선형회기 결과 -> 3개 특성(영역별 점수) 계수 및 y-절편(bias)\n",
        "lr_model_20.coef_,lr_model_20.intercept_"
      ],
      "execution_count": 0,
      "outputs": [
        {
          "output_type": "execute_result",
          "data": {
            "text/plain": [
              "(array([[0.43559396, 0.5249361 , 1.084297  ]], dtype=float32),\n",
              " array([-2.8510437], dtype=float32))"
            ]
          },
          "metadata": {
            "tags": []
          },
          "execution_count": 31
        }
      ]
    },
    {
      "metadata": {
        "colab_type": "text",
        "id": "xPJA8srXH9dp"
      },
      "cell_type": "markdown",
      "source": [
        "> [3] 예측과 정확도 평가"
      ]
    },
    {
      "metadata": {
        "colab_type": "code",
        "id": "PYJxalx7H9dq",
        "outputId": "d87ad3d4-4eb7-4077-f752-f54da4af42b8",
        "colab": {}
      },
      "cell_type": "code",
      "source": [
        "# 테스트 데이터에 대한 예측과 정확도 평가\n",
        "# 가상적인 3개 영역 점수로 수능 점수 예측\n",
        "test = np.array([100, 98, 81]) # 가상 점수 입력\n",
        "\n",
        "lr_model_20.predict(test)  # Error, why?\n"
      ],
      "execution_count": 0,
      "outputs": [
        {
          "output_type": "error",
          "ename": "ValueError",
          "evalue": "Expected 2D array, got 1D array instead:\narray=[100  98  81].\nReshape your data either using array.reshape(-1, 1) if your data has a single feature or array.reshape(1, -1) if it contains a single sample.",
          "traceback": [
            "\u001b[1;31m---------------------------------------------------------------------------\u001b[0m",
            "\u001b[1;31mValueError\u001b[0m                                Traceback (most recent call last)",
            "\u001b[1;32m<ipython-input-32-e5016609fe4d>\u001b[0m in \u001b[0;36m<module>\u001b[1;34m()\u001b[0m\n\u001b[0;32m      3\u001b[0m \u001b[0mtest\u001b[0m \u001b[1;33m=\u001b[0m \u001b[0mnp\u001b[0m\u001b[1;33m.\u001b[0m\u001b[0marray\u001b[0m\u001b[1;33m(\u001b[0m\u001b[1;33m[\u001b[0m\u001b[1;36m100\u001b[0m\u001b[1;33m,\u001b[0m \u001b[1;36m98\u001b[0m\u001b[1;33m,\u001b[0m \u001b[1;36m81\u001b[0m\u001b[1;33m]\u001b[0m\u001b[1;33m)\u001b[0m \u001b[1;31m# 가상 점수 입력\u001b[0m\u001b[1;33m\u001b[0m\u001b[0m\n\u001b[0;32m      4\u001b[0m \u001b[1;33m\u001b[0m\u001b[0m\n\u001b[1;32m----> 5\u001b[1;33m \u001b[0mlr_model_20\u001b[0m\u001b[1;33m.\u001b[0m\u001b[0mpredict\u001b[0m\u001b[1;33m(\u001b[0m\u001b[0mtest\u001b[0m\u001b[1;33m)\u001b[0m  \u001b[1;31m# Error, why?\u001b[0m\u001b[1;33m\u001b[0m\u001b[0m\n\u001b[0m",
            "\u001b[1;32mC:\\Anaconda3\\lib\\site-packages\\sklearn\\linear_model\\base.py\u001b[0m in \u001b[0;36mpredict\u001b[1;34m(self, X)\u001b[0m\n\u001b[0;32m    211\u001b[0m             \u001b[0mReturns\u001b[0m \u001b[0mpredicted\u001b[0m \u001b[0mvalues\u001b[0m\u001b[1;33m.\u001b[0m\u001b[1;33m\u001b[0m\u001b[0m\n\u001b[0;32m    212\u001b[0m         \"\"\"\n\u001b[1;32m--> 213\u001b[1;33m         \u001b[1;32mreturn\u001b[0m \u001b[0mself\u001b[0m\u001b[1;33m.\u001b[0m\u001b[0m_decision_function\u001b[0m\u001b[1;33m(\u001b[0m\u001b[0mX\u001b[0m\u001b[1;33m)\u001b[0m\u001b[1;33m\u001b[0m\u001b[0m\n\u001b[0m\u001b[0;32m    214\u001b[0m \u001b[1;33m\u001b[0m\u001b[0m\n\u001b[0;32m    215\u001b[0m     \u001b[0m_preprocess_data\u001b[0m \u001b[1;33m=\u001b[0m \u001b[0mstaticmethod\u001b[0m\u001b[1;33m(\u001b[0m\u001b[0m_preprocess_data\u001b[0m\u001b[1;33m)\u001b[0m\u001b[1;33m\u001b[0m\u001b[0m\n",
            "\u001b[1;32mC:\\Anaconda3\\lib\\site-packages\\sklearn\\linear_model\\base.py\u001b[0m in \u001b[0;36m_decision_function\u001b[1;34m(self, X)\u001b[0m\n\u001b[0;32m    194\u001b[0m         \u001b[0mcheck_is_fitted\u001b[0m\u001b[1;33m(\u001b[0m\u001b[0mself\u001b[0m\u001b[1;33m,\u001b[0m \u001b[1;34m\"coef_\"\u001b[0m\u001b[1;33m)\u001b[0m\u001b[1;33m\u001b[0m\u001b[0m\n\u001b[0;32m    195\u001b[0m \u001b[1;33m\u001b[0m\u001b[0m\n\u001b[1;32m--> 196\u001b[1;33m         \u001b[0mX\u001b[0m \u001b[1;33m=\u001b[0m \u001b[0mcheck_array\u001b[0m\u001b[1;33m(\u001b[0m\u001b[0mX\u001b[0m\u001b[1;33m,\u001b[0m \u001b[0maccept_sparse\u001b[0m\u001b[1;33m=\u001b[0m\u001b[1;33m[\u001b[0m\u001b[1;34m'csr'\u001b[0m\u001b[1;33m,\u001b[0m \u001b[1;34m'csc'\u001b[0m\u001b[1;33m,\u001b[0m \u001b[1;34m'coo'\u001b[0m\u001b[1;33m]\u001b[0m\u001b[1;33m)\u001b[0m\u001b[1;33m\u001b[0m\u001b[0m\n\u001b[0m\u001b[0;32m    197\u001b[0m         return safe_sparse_dot(X, self.coef_.T,\n\u001b[0;32m    198\u001b[0m                                dense_output=True) + self.intercept_\n",
            "\u001b[1;32mC:\\Anaconda3\\lib\\site-packages\\sklearn\\utils\\validation.py\u001b[0m in \u001b[0;36mcheck_array\u001b[1;34m(array, accept_sparse, accept_large_sparse, dtype, order, copy, force_all_finite, ensure_2d, allow_nd, ensure_min_samples, ensure_min_features, warn_on_dtype, estimator)\u001b[0m\n\u001b[0;32m    545\u001b[0m                     \u001b[1;34m\"Reshape your data either using array.reshape(-1, 1) if \"\u001b[0m\u001b[1;33m\u001b[0m\u001b[0m\n\u001b[0;32m    546\u001b[0m                     \u001b[1;34m\"your data has a single feature or array.reshape(1, -1) \"\u001b[0m\u001b[1;33m\u001b[0m\u001b[0m\n\u001b[1;32m--> 547\u001b[1;33m                     \"if it contains a single sample.\".format(array))\n\u001b[0m\u001b[0;32m    548\u001b[0m \u001b[1;33m\u001b[0m\u001b[0m\n\u001b[0;32m    549\u001b[0m         \u001b[1;31m# in the future np.flexible dtypes will be handled like object dtypes\u001b[0m\u001b[1;33m\u001b[0m\u001b[1;33m\u001b[0m\u001b[0m\n",
            "\u001b[1;31mValueError\u001b[0m: Expected 2D array, got 1D array instead:\narray=[100  98  81].\nReshape your data either using array.reshape(-1, 1) if your data has a single feature or array.reshape(1, -1) if it contains a single sample."
          ]
        }
      ]
    },
    {
      "metadata": {
        "colab_type": "code",
        "id": "M-01nqY9RGKj",
        "outputId": "de791745-26b7-42b4-d94b-b7306f9e5fed",
        "colab": {
          "base_uri": "https://localhost:8080/",
          "height": 36
        }
      },
      "cell_type": "code",
      "source": [
        "lr_model_20.predict(test.reshape(1,-1))"
      ],
      "execution_count": 0,
      "outputs": [
        {
          "output_type": "execute_result",
          "data": {
            "text/plain": [
              "array([[179.98014069]])"
            ]
          },
          "metadata": {
            "tags": []
          },
          "execution_count": 33
        }
      ]
    },
    {
      "metadata": {
        "colab_type": "text",
        "id": "KuDm7wBbRgVQ"
      },
      "cell_type": "markdown",
      "source": [
        "#### lr_model vs. lr_model_20\n",
        "\n",
        "> 전체 데이터를 이용한 모델과 80%의 트레인 데이터를 이용한 모델의 비교"
      ]
    },
    {
      "metadata": {
        "colab_type": "code",
        "id": "y6IDuYceRsYG",
        "outputId": "efded79c-0e07-42a2-b3e7-d12f742ae0a0",
        "colab": {
          "base_uri": "https://localhost:8080/",
          "height": 36
        }
      },
      "cell_type": "code",
      "source": [
        "# lr_model과 lr_model_20의 예측 비교\n",
        "lr_model.predict(test.reshape(1,-1)),lr_model_20.predict(test.reshape(1,-1))"
      ],
      "execution_count": 0,
      "outputs": [
        {
          "output_type": "execute_result",
          "data": {
            "text/plain": [
              "(array([[178.98752427]]), array([[179.98014069]]))"
            ]
          },
          "metadata": {
            "tags": []
          },
          "execution_count": 34
        }
      ]
    },
    {
      "metadata": {
        "colab_type": "text",
        "id": "xbZobZjvSCEt"
      },
      "cell_type": "markdown",
      "source": [
        "#### 테스트 데이터에 대한 예측 성능 평가"
      ]
    },
    {
      "metadata": {
        "colab_type": "code",
        "id": "gnJwv-SwSA0p",
        "outputId": "3f7fea61-c6a2-409d-ac5f-3f90bf01b6e0",
        "colab": {
          "base_uri": "https://localhost:8080/",
          "height": 185
        }
      },
      "cell_type": "code",
      "source": [
        "lr_model_20.predict(X_test), y_test"
      ],
      "execution_count": 0,
      "outputs": [
        {
          "output_type": "execute_result",
          "data": {
            "text/plain": [
              "(array([[175.59888],\n",
              "        [174.15723],\n",
              "        [166.86021],\n",
              "        [150.80887],\n",
              "        [190.79324]], dtype=float32), array([[177.],\n",
              "        [175.],\n",
              "        [175.],\n",
              "        [149.],\n",
              "        [192.]], dtype=float32))"
            ]
          },
          "metadata": {
            "tags": []
          },
          "execution_count": 35
        }
      ]
    },
    {
      "metadata": {
        "colab_type": "code",
        "id": "Kz6YqZrdSVeO",
        "outputId": "c85aef7f-f0ba-4c9a-c227-8a95026b174a",
        "colab": {
          "base_uri": "https://localhost:8080/",
          "height": 55
        }
      },
      "cell_type": "code",
      "source": [
        "# 수능 점수에 대한 선형 회기 모델의 정확도\n",
        "\n",
        "print(\"트레인 세트의 정확도: {:.2f}\".format(lr_model_20.score(X_train, y_train)))\n",
        "print(\"테스트 세트의 정확도: {:.2f}\".format(lr_model_20.score(X_test, y_test)))\n"
      ],
      "execution_count": 0,
      "outputs": [
        {
          "output_type": "stream",
          "text": [
            "트레인 세트의 정확도: 0.99\n",
            "테스트 세트의 정확도: 0.92\n"
          ],
          "name": "stdout"
        }
      ]
    },
    {
      "metadata": {
        "id": "Nc5S2j5BD9JK",
        "colab_type": "text"
      },
      "cell_type": "markdown",
      "source": [
        "***"
      ]
    },
    {
      "metadata": {
        "colab_type": "text",
        "id": "ciTzquUZc4jx"
      },
      "cell_type": "markdown",
      "source": [
        "## pandas의 데이터프레임을 이용한 수능 성적 회기 분석"
      ]
    },
    {
      "metadata": {
        "colab_type": "text",
        "id": "4boVk_xeTq7r"
      },
      "cell_type": "markdown",
      "source": [
        "### 수능 데이터로 데이터프레임 구성 - pandas"
      ]
    },
    {
      "metadata": {
        "colab_type": "code",
        "id": "Y3eZ4ziYT0XO",
        "outputId": "b72b9f8b-8b1c-405f-f890-bb79177c0e49",
        "colab": {
          "base_uri": "https://localhost:8080/",
          "height": 815
        }
      },
      "cell_type": "code",
      "source": [
        "# Make dataframe\n",
        "import pandas as pd\n",
        "\n",
        "df = pd.DataFrame(data, columns=['S1','S2','S3','Final'])\n",
        "df"
      ],
      "execution_count": 0,
      "outputs": [
        {
          "output_type": "execute_result",
          "data": {
            "text/html": [
              "<div>\n",
              "<style scoped>\n",
              "    .dataframe tbody tr th:only-of-type {\n",
              "        vertical-align: middle;\n",
              "    }\n",
              "\n",
              "    .dataframe tbody tr th {\n",
              "        vertical-align: top;\n",
              "    }\n",
              "\n",
              "    .dataframe thead th {\n",
              "        text-align: right;\n",
              "    }\n",
              "</style>\n",
              "<table border=\"1\" class=\"dataframe\">\n",
              "  <thead>\n",
              "    <tr style=\"text-align: right;\">\n",
              "      <th></th>\n",
              "      <th>S1</th>\n",
              "      <th>S2</th>\n",
              "      <th>S3</th>\n",
              "      <th>Final</th>\n",
              "    </tr>\n",
              "  </thead>\n",
              "  <tbody>\n",
              "    <tr>\n",
              "      <th>0</th>\n",
              "      <td>73.0</td>\n",
              "      <td>80.0</td>\n",
              "      <td>75.0</td>\n",
              "      <td>152.0</td>\n",
              "    </tr>\n",
              "    <tr>\n",
              "      <th>1</th>\n",
              "      <td>93.0</td>\n",
              "      <td>88.0</td>\n",
              "      <td>93.0</td>\n",
              "      <td>185.0</td>\n",
              "    </tr>\n",
              "    <tr>\n",
              "      <th>2</th>\n",
              "      <td>89.0</td>\n",
              "      <td>91.0</td>\n",
              "      <td>90.0</td>\n",
              "      <td>180.0</td>\n",
              "    </tr>\n",
              "    <tr>\n",
              "      <th>3</th>\n",
              "      <td>96.0</td>\n",
              "      <td>98.0</td>\n",
              "      <td>100.0</td>\n",
              "      <td>196.0</td>\n",
              "    </tr>\n",
              "    <tr>\n",
              "      <th>4</th>\n",
              "      <td>73.0</td>\n",
              "      <td>66.0</td>\n",
              "      <td>70.0</td>\n",
              "      <td>142.0</td>\n",
              "    </tr>\n",
              "    <tr>\n",
              "      <th>5</th>\n",
              "      <td>53.0</td>\n",
              "      <td>46.0</td>\n",
              "      <td>55.0</td>\n",
              "      <td>101.0</td>\n",
              "    </tr>\n",
              "    <tr>\n",
              "      <th>6</th>\n",
              "      <td>69.0</td>\n",
              "      <td>74.0</td>\n",
              "      <td>77.0</td>\n",
              "      <td>149.0</td>\n",
              "    </tr>\n",
              "    <tr>\n",
              "      <th>7</th>\n",
              "      <td>47.0</td>\n",
              "      <td>56.0</td>\n",
              "      <td>60.0</td>\n",
              "      <td>115.0</td>\n",
              "    </tr>\n",
              "    <tr>\n",
              "      <th>8</th>\n",
              "      <td>87.0</td>\n",
              "      <td>79.0</td>\n",
              "      <td>90.0</td>\n",
              "      <td>175.0</td>\n",
              "    </tr>\n",
              "    <tr>\n",
              "      <th>9</th>\n",
              "      <td>79.0</td>\n",
              "      <td>70.0</td>\n",
              "      <td>88.0</td>\n",
              "      <td>164.0</td>\n",
              "    </tr>\n",
              "    <tr>\n",
              "      <th>10</th>\n",
              "      <td>69.0</td>\n",
              "      <td>70.0</td>\n",
              "      <td>73.0</td>\n",
              "      <td>141.0</td>\n",
              "    </tr>\n",
              "    <tr>\n",
              "      <th>11</th>\n",
              "      <td>70.0</td>\n",
              "      <td>65.0</td>\n",
              "      <td>74.0</td>\n",
              "      <td>141.0</td>\n",
              "    </tr>\n",
              "    <tr>\n",
              "      <th>12</th>\n",
              "      <td>93.0</td>\n",
              "      <td>95.0</td>\n",
              "      <td>91.0</td>\n",
              "      <td>184.0</td>\n",
              "    </tr>\n",
              "    <tr>\n",
              "      <th>13</th>\n",
              "      <td>79.0</td>\n",
              "      <td>80.0</td>\n",
              "      <td>73.0</td>\n",
              "      <td>152.0</td>\n",
              "    </tr>\n",
              "    <tr>\n",
              "      <th>14</th>\n",
              "      <td>70.0</td>\n",
              "      <td>73.0</td>\n",
              "      <td>78.0</td>\n",
              "      <td>148.0</td>\n",
              "    </tr>\n",
              "    <tr>\n",
              "      <th>15</th>\n",
              "      <td>93.0</td>\n",
              "      <td>89.0</td>\n",
              "      <td>96.0</td>\n",
              "      <td>192.0</td>\n",
              "    </tr>\n",
              "    <tr>\n",
              "      <th>16</th>\n",
              "      <td>78.0</td>\n",
              "      <td>75.0</td>\n",
              "      <td>68.0</td>\n",
              "      <td>147.0</td>\n",
              "    </tr>\n",
              "    <tr>\n",
              "      <th>17</th>\n",
              "      <td>81.0</td>\n",
              "      <td>90.0</td>\n",
              "      <td>93.0</td>\n",
              "      <td>183.0</td>\n",
              "    </tr>\n",
              "    <tr>\n",
              "      <th>18</th>\n",
              "      <td>88.0</td>\n",
              "      <td>92.0</td>\n",
              "      <td>86.0</td>\n",
              "      <td>177.0</td>\n",
              "    </tr>\n",
              "    <tr>\n",
              "      <th>19</th>\n",
              "      <td>78.0</td>\n",
              "      <td>83.0</td>\n",
              "      <td>77.0</td>\n",
              "      <td>159.0</td>\n",
              "    </tr>\n",
              "    <tr>\n",
              "      <th>20</th>\n",
              "      <td>82.0</td>\n",
              "      <td>86.0</td>\n",
              "      <td>90.0</td>\n",
              "      <td>177.0</td>\n",
              "    </tr>\n",
              "    <tr>\n",
              "      <th>21</th>\n",
              "      <td>86.0</td>\n",
              "      <td>82.0</td>\n",
              "      <td>89.0</td>\n",
              "      <td>175.0</td>\n",
              "    </tr>\n",
              "    <tr>\n",
              "      <th>22</th>\n",
              "      <td>78.0</td>\n",
              "      <td>83.0</td>\n",
              "      <td>85.0</td>\n",
              "      <td>175.0</td>\n",
              "    </tr>\n",
              "    <tr>\n",
              "      <th>23</th>\n",
              "      <td>76.0</td>\n",
              "      <td>83.0</td>\n",
              "      <td>71.0</td>\n",
              "      <td>149.0</td>\n",
              "    </tr>\n",
              "    <tr>\n",
              "      <th>24</th>\n",
              "      <td>96.0</td>\n",
              "      <td>93.0</td>\n",
              "      <td>95.0</td>\n",
              "      <td>192.0</td>\n",
              "    </tr>\n",
              "  </tbody>\n",
              "</table>\n",
              "</div>"
            ],
            "text/plain": [
              "      S1    S2     S3  Final\n",
              "0   73.0  80.0   75.0  152.0\n",
              "1   93.0  88.0   93.0  185.0\n",
              "2   89.0  91.0   90.0  180.0\n",
              "3   96.0  98.0  100.0  196.0\n",
              "4   73.0  66.0   70.0  142.0\n",
              "5   53.0  46.0   55.0  101.0\n",
              "6   69.0  74.0   77.0  149.0\n",
              "7   47.0  56.0   60.0  115.0\n",
              "8   87.0  79.0   90.0  175.0\n",
              "9   79.0  70.0   88.0  164.0\n",
              "10  69.0  70.0   73.0  141.0\n",
              "11  70.0  65.0   74.0  141.0\n",
              "12  93.0  95.0   91.0  184.0\n",
              "13  79.0  80.0   73.0  152.0\n",
              "14  70.0  73.0   78.0  148.0\n",
              "15  93.0  89.0   96.0  192.0\n",
              "16  78.0  75.0   68.0  147.0\n",
              "17  81.0  90.0   93.0  183.0\n",
              "18  88.0  92.0   86.0  177.0\n",
              "19  78.0  83.0   77.0  159.0\n",
              "20  82.0  86.0   90.0  177.0\n",
              "21  86.0  82.0   89.0  175.0\n",
              "22  78.0  83.0   85.0  175.0\n",
              "23  76.0  83.0   71.0  149.0\n",
              "24  96.0  93.0   95.0  192.0"
            ]
          },
          "metadata": {
            "tags": []
          },
          "execution_count": 37
        }
      ]
    },
    {
      "metadata": {
        "colab_type": "code",
        "id": "Xl6uVB7QUx2Z",
        "outputId": "8d270009-53c0-46e3-a9aa-b25d218ba8dc",
        "colab": {
          "base_uri": "https://localhost:8080/",
          "height": 36
        }
      },
      "cell_type": "code",
      "source": [
        "# 데이터프레임 길이 정보\n",
        "df.shape,len(df),df.size"
      ],
      "execution_count": 0,
      "outputs": [
        {
          "output_type": "execute_result",
          "data": {
            "text/plain": [
              "((25, 4), 25, 100)"
            ]
          },
          "metadata": {
            "tags": []
          },
          "execution_count": 38
        }
      ]
    },
    {
      "metadata": {
        "colab_type": "code",
        "id": "hBnNVfkVb3yF",
        "colab": {}
      },
      "cell_type": "code",
      "source": [
        "### 데이터프레임을 이용한 그래프 그리기"
      ],
      "execution_count": 0,
      "outputs": []
    },
    {
      "metadata": {
        "colab_type": "code",
        "id": "u8BFHBGxU7Zo",
        "outputId": "2a0b14b1-906e-4ac5-f3fd-d2429be1e9f2",
        "colab": {
          "base_uri": "https://localhost:8080/",
          "height": 355
        }
      },
      "cell_type": "code",
      "source": [
        "# Bar graph of S1\n",
        "df['S1'].plot.bar(figsize=(10,5), title=\"S1\")"
      ],
      "execution_count": 0,
      "outputs": [
        {
          "output_type": "execute_result",
          "data": {
            "text/plain": [
              "<matplotlib.axes._subplots.AxesSubplot at 0x1df53f6ea20>"
            ]
          },
          "metadata": {
            "tags": []
          },
          "execution_count": 48
        },
        {
          "output_type": "display_data",
          "data": {
            "image/png": "[encoded data removed]",
            "text/plain": [
              "<Figure size 720x360 with 1 Axes>"
            ]
          },
          "metadata": {
            "tags": [],
            "needs_background": "light"
          }
        }
      ]
    },
    {
      "metadata": {
        "colab_type": "code",
        "id": "Pf1huIseXIZs",
        "outputId": "ec440190-717c-4111-f909-600086e31e1d",
        "colab": {
          "base_uri": "https://localhost:8080/",
          "height": 36
        }
      },
      "cell_type": "code",
      "source": [
        "df.columns"
      ],
      "execution_count": 0,
      "outputs": [
        {
          "output_type": "execute_result",
          "data": {
            "text/plain": [
              "Index(['S1', 'S2', 'S3', 'Final'], dtype='object')"
            ]
          },
          "metadata": {
            "tags": []
          },
          "execution_count": 49
        }
      ]
    },
    {
      "metadata": {
        "colab_type": "code",
        "id": "13923lrBW6xD",
        "outputId": "4e56a225-e115-4578-aa96-1496d1404368",
        "colab": {
          "base_uri": "https://localhost:8080/",
          "height": 441
        }
      },
      "cell_type": "code",
      "source": [
        "# Multiple plots\n",
        "series_labels = df.columns # ['S1', 'S2', 'S3', 'Final']\n",
        "\n",
        "# 2x2의 그래프를 그리는 준비\n",
        "fig, axs = plt.subplots(2, 2, figsize=(10, 6)) #, sharex=True, sharey=False)\n",
        "\n",
        "# 세 개 영역 점수와 수능 점수 그래프\n",
        "for axi, idx in zip(axs.ravel(), list(range(4))):\n",
        "    \n",
        "    # 예측결과 그래프와 테스트 데이터 점을 그림\n",
        "    df[series_labels[idx]].plot.bar(ax=axi)\n",
        "    axi.set(ylabel='', xlabel='student-id',\n",
        "           title=series_labels[idx])\n",
        "\n",
        "plt.tight_layout()"
      ],
      "execution_count": 0,
      "outputs": [
        {
          "output_type": "display_data",
          "data": {
            "image/png": "[encoded data removed]",
            "text/plain": [
              "<Figure size 720x432 with 4 Axes>"
            ]
          },
          "metadata": {
            "tags": [],
            "needs_background": "light"
          }
        }
      ]
    },
    {
      "metadata": {
        "colab_type": "code",
        "id": "2FvsdX6mZ-qx",
        "outputId": "3cc2a603-1975-46a3-8375-fc680ccc46f3",
        "colab": {
          "base_uri": "https://localhost:8080/",
          "height": 441
        }
      },
      "cell_type": "code",
      "source": [
        "# sharex, sharey 설정\n",
        "fig, axs = plt.subplots(2, 2, figsize=(10, 6), sharex=False, sharey=False)  # True or False\n",
        "\n",
        "# 세 개 영역 점수와 수능 점수 그래프\n",
        "for axi, idx in zip(axs.ravel(), list(range(4))):\n",
        "    \n",
        "    # 예측결과 그래프와 테스트 데이터 점을 그림\n",
        "    df[series_labels[idx]].plot.bar(ax=axi)\n",
        "    axi.set(ylabel='', xlabel='student-id',\n",
        "           title=series_labels[idx])\n",
        "\n",
        "plt.tight_layout()"
      ],
      "execution_count": 0,
      "outputs": [
        {
          "output_type": "display_data",
          "data": {
            "image/png": "[encoded data removed]",
            "text/plain": [
              "<Figure size 720x432 with 4 Axes>"
            ]
          },
          "metadata": {
            "tags": [],
            "needs_background": "light"
          }
        }
      ]
    },
    {
      "metadata": {
        "colab_type": "code",
        "id": "JI_VIMCysjby",
        "outputId": "f038747f-d8ea-4d68-9dd4-068b92c3ed29",
        "colab": {
          "base_uri": "https://localhost:8080/",
          "height": 302
        }
      },
      "cell_type": "code",
      "source": [
        "# 영역평균 그래프\n",
        "df[['S1', 'S2', 'S3']].mean().plot.bar(title='Mean of three sections')"
      ],
      "execution_count": 0,
      "outputs": [
        {
          "output_type": "execute_result",
          "data": {
            "text/plain": [
              "<matplotlib.axes._subplots.AxesSubplot at 0x1df5254a9e8>"
            ]
          },
          "metadata": {
            "tags": []
          },
          "execution_count": 52
        },
        {
          "output_type": "display_data",
          "data": {
            "image/png": "[encoded data removed]",
            "text/plain": [
              "<Figure size 432x288 with 1 Axes>"
            ]
          },
          "metadata": {
            "tags": [],
            "needs_background": "light"
          }
        }
      ]
    },
    {
      "metadata": {
        "colab_type": "text",
        "id": "fzwJSRmjdN8-"
      },
      "cell_type": "markdown",
      "source": [
        "#### 다변수 선형회기 분석"
      ]
    },
    {
      "metadata": {
        "colab_type": "code",
        "id": "kJPZ1A6bdn7J",
        "outputId": "f608480e-2aee-424e-eb2f-ab9c0a9997d5",
        "colab": {
          "base_uri": "https://localhost:8080/",
          "height": 969
        }
      },
      "cell_type": "code",
      "source": [
        "# 입력 데이터 배열과 출력 벡터 분리\n",
        "df[['S1','S2','S3']],df['Final']"
      ],
      "execution_count": 0,
      "outputs": [
        {
          "output_type": "execute_result",
          "data": {
            "text/plain": [
              "(      S1    S2     S3\n",
              " 0   73.0  80.0   75.0\n",
              " 1   93.0  88.0   93.0\n",
              " 2   89.0  91.0   90.0\n",
              " 3   96.0  98.0  100.0\n",
              " 4   73.0  66.0   70.0\n",
              " 5   53.0  46.0   55.0\n",
              " 6   69.0  74.0   77.0\n",
              " 7   47.0  56.0   60.0\n",
              " 8   87.0  79.0   90.0\n",
              " 9   79.0  70.0   88.0\n",
              " 10  69.0  70.0   73.0\n",
              " 11  70.0  65.0   74.0\n",
              " 12  93.0  95.0   91.0\n",
              " 13  79.0  80.0   73.0\n",
              " 14  70.0  73.0   78.0\n",
              " 15  93.0  89.0   96.0\n",
              " 16  78.0  75.0   68.0\n",
              " 17  81.0  90.0   93.0\n",
              " 18  88.0  92.0   86.0\n",
              " 19  78.0  83.0   77.0\n",
              " 20  82.0  86.0   90.0\n",
              " 21  86.0  82.0   89.0\n",
              " 22  78.0  83.0   85.0\n",
              " 23  76.0  83.0   71.0\n",
              " 24  96.0  93.0   95.0, 0     152.0\n",
              " 1     185.0\n",
              " 2     180.0\n",
              " 3     196.0\n",
              " 4     142.0\n",
              " 5     101.0\n",
              " 6     149.0\n",
              " 7     115.0\n",
              " 8     175.0\n",
              " 9     164.0\n",
              " 10    141.0\n",
              " 11    141.0\n",
              " 12    184.0\n",
              " 13    152.0\n",
              " 14    148.0\n",
              " 15    192.0\n",
              " 16    147.0\n",
              " 17    183.0\n",
              " 18    177.0\n",
              " 19    159.0\n",
              " 20    177.0\n",
              " 21    175.0\n",
              " 22    175.0\n",
              " 23    149.0\n",
              " 24    192.0\n",
              " Name: Final, dtype: float32)"
            ]
          },
          "metadata": {
            "tags": []
          },
          "execution_count": 54
        }
      ]
    },
    {
      "metadata": {
        "colab_type": "code",
        "id": "I_TzZ0-BdMjJ",
        "colab": {}
      },
      "cell_type": "code",
      "source": [
        "# 트레인/테스트 데이터 분리\n",
        "from sklearn.model_selection import train_test_split\n",
        "\n",
        "X_train, X_test, y_train, y_test = train_test_split(df[['S1','S2','S3']], df['Final'], \n",
        "                                                    test_size=0.2, random_state=0)"
      ],
      "execution_count": 0,
      "outputs": []
    },
    {
      "metadata": {
        "colab_type": "code",
        "id": "LjcuMdmeehpZ",
        "outputId": "cf1421e4-2d6b-4204-ed7f-aa7d4cde6670",
        "colab": {
          "base_uri": "https://localhost:8080/",
          "height": 36
        }
      },
      "cell_type": "code",
      "source": [
        "X_train.shape, X_test.shape, y_train.shape, y_test.shape"
      ],
      "execution_count": 0,
      "outputs": [
        {
          "output_type": "execute_result",
          "data": {
            "text/plain": [
              "((20, 3), (5, 3), (20,), (5,))"
            ]
          },
          "metadata": {
            "tags": []
          },
          "execution_count": 56
        }
      ]
    },
    {
      "metadata": {
        "colab_type": "code",
        "id": "ORciIQsvg5Nj",
        "outputId": "eb6ed7cb-e386-4adb-a86a-7de55f7d2ad7",
        "colab": {
          "base_uri": "https://localhost:8080/",
          "height": 36
        }
      },
      "cell_type": "code",
      "source": [
        "# 선형회기 모델\n",
        "# LinearRegression\n",
        "from sklearn.linear_model import LinearRegression\n",
        "\n",
        "# 선형 회기 모델 만들기: 테스트 데이터 이용\n",
        "model = LinearRegression().fit(X_train, y_train)\n",
        "model"
      ],
      "execution_count": 0,
      "outputs": [
        {
          "output_type": "execute_result",
          "data": {
            "text/plain": [
              "LinearRegression(copy_X=True, fit_intercept=True, n_jobs=None,\n",
              "         normalize=False)"
            ]
          },
          "metadata": {
            "tags": []
          },
          "execution_count": 57
        }
      ]
    },
    {
      "metadata": {
        "colab_type": "code",
        "id": "wTiYvw6ohNTa",
        "outputId": "c3129666-1ae0-484a-ba2f-80030bf9744f",
        "colab": {
          "base_uri": "https://localhost:8080/",
          "height": 36
        }
      },
      "cell_type": "code",
      "source": [
        "# 선형회기 모델 확인\n",
        "# 선형회기 결과 -> 3개 특성(영역별 점수) 계수 및 y-절편(bias)\n",
        "\n",
        "model.coef_,model.intercept_\n"
      ],
      "execution_count": 0,
      "outputs": [
        {
          "output_type": "execute_result",
          "data": {
            "text/plain": [
              "(array([0.32701063, 0.47623622, 1.2409754 ], dtype=float32), -2.6910706)"
            ]
          },
          "metadata": {
            "tags": []
          },
          "execution_count": 58
        }
      ]
    },
    {
      "metadata": {
        "colab_type": "code",
        "id": "vCEtv4GJiPmk",
        "outputId": "6d023600-86d9-42d9-f314-e23c77264991",
        "colab": {
          "base_uri": "https://localhost:8080/",
          "height": 148
        }
      },
      "cell_type": "code",
      "source": [
        "model.predict(X_test),y_test"
      ],
      "execution_count": 0,
      "outputs": [
        {
          "output_type": "execute_result",
          "data": {
            "text/plain": [
              "(array([104.80101, 181.43816, 157.89847, 142.9198 , 142.98721],\n",
              "       dtype=float32), 5     101.0\n",
              " 2     180.0\n",
              " 19    159.0\n",
              " 16    147.0\n",
              " 11    141.0\n",
              " Name: Final, dtype: float32)"
            ]
          },
          "metadata": {
            "tags": []
          },
          "execution_count": 59
        }
      ]
    },
    {
      "metadata": {
        "colab_type": "code",
        "id": "LUN-yeCkhsOA",
        "outputId": "cb5d1ac2-8a1b-4121-d2df-891e87975e52",
        "colab": {
          "base_uri": "https://localhost:8080/",
          "height": 55
        }
      },
      "cell_type": "code",
      "source": [
        "# 수능 점수에 대한 선형 회기 모델의 정확도\n",
        "\n",
        "print(\"트레인 세트의 정확도: {:.2f}\".format(model.score(X_train, y_train)))\n",
        "print(\"테스트 세트의 정확도: {:.2f}\".format(model.score(X_test, y_test)))\n"
      ],
      "execution_count": 0,
      "outputs": [
        {
          "output_type": "stream",
          "text": [
            "트레인 세트의 정확도: 0.99\n",
            "테스트 세트의 정확도: 0.99\n"
          ],
          "name": "stdout"
        }
      ]
    },
    {
      "metadata": {
        "id": "Uvd9ZvdZD9Kz",
        "colab_type": "text"
      },
      "cell_type": "markdown",
      "source": [
        "***"
      ]
    },
    {
      "metadata": {
        "id": "mT7nS2snD9K1",
        "colab_type": "text"
      },
      "cell_type": "markdown",
      "source": [
        "### 분류와 회기 모델의 정확도는 어떻게 평가?"
      ]
    },
    {
      "metadata": {
        "id": "XqtIhIl3D9K2",
        "colab_type": "text"
      },
      "cell_type": "markdown",
      "source": [
        "1. 분류: \n",
        "    > 테스트 데이터의 원래 label(y)과 예측 label($\\hat y$)과의 비교\n",
        "    \n",
        "2. 회기:\n",
        "    > $R^{2}$\n",
        "    \n",
        "    > $R^{2} = 1 - \\frac {\\sum_{i}(y_{i} - \\hat y_{i})^2} {\\sum_{i}(y_{i} - \\bar y)^2}$"
      ]
    },
    {
      "metadata": {
        "colab_type": "text",
        "id": "WLjYsq74H9dr"
      },
      "cell_type": "markdown",
      "source": [
        "## [wk13] Study again!\n",
        "\n",
        "> 다음 Youtube 강의 3편를 들으면서 linear regression을 공부하시오.\n",
        "\n",
        "> 특히, 세번째 동영상 linear regression III를 이번 연습과 연관해서 공부하시오.\n"
      ]
    },
    {
      "metadata": {
        "colab_type": "code",
        "id": "udxQCBV2H9dr",
        "colab": {}
      },
      "cell_type": "code",
      "source": [
        "from IPython.lib.display import YouTubeVideo\n",
        "YouTubeVideo('uk7UfDgVKrU')  # linear regression I"
      ],
      "execution_count": 0,
      "outputs": []
    },
    {
      "metadata": {
        "colab_type": "code",
        "id": "yR6dHVsEH9ds",
        "colab": {}
      },
      "cell_type": "code",
      "source": [
        "YouTubeVideo('q0pQ_AdphDo')  # linear regression II"
      ],
      "execution_count": 0,
      "outputs": []
    },
    {
      "metadata": {
        "colab_type": "code",
        "id": "uFszrcTtH9dv",
        "colab": {}
      },
      "cell_type": "code",
      "source": [
        "YouTubeVideo('Aw-E-jw3WaE')  # linear regression III"
      ],
      "execution_count": 0,
      "outputs": []
    },
    {
      "metadata": {
        "colab_type": "text",
        "id": "y03BHvzMH9dx"
      },
      "cell_type": "markdown",
      "source": [
        "***"
      ]
    }
  ]
}