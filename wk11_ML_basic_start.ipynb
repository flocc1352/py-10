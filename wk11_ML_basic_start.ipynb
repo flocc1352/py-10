{
  "nbformat": 4,
  "nbformat_minor": 0,
  "metadata": {
    "colab": {
      "name": "wk11_ML_basic_start.ipynb",
      "version": "0.3.2",
      "provenance": [],
      "collapsed_sections": [
        "tHuXfVcIH05F",
        "MRGYpFQhH05y",
        "vEqYYH2OH059",
        "XgAgPxQsH06J",
        "xZCkytlUH06J",
        "kosxwxaWH06N",
        "-xlVL8cUH06U",
        "IvtRUH88H06e",
        "sGFJ4TSfH06s",
        "TNwrxF7AH06w",
        "Mjpi7MiTH060"
      ],
      "include_colab_link": true
    },
    "kernelspec": {
      "display_name": "Python 3",
      "language": "python",
      "name": "python3"
    }
  },
  "cells": [
    {
      "cell_type": "markdown",
      "metadata": {
        "id": "view-in-github",
        "colab_type": "text"
      },
      "source": [
        "<a href=\"https://colab.research.google.com/github/flocc1352/py-10/blob/master/wk11_ML_basic_start.ipynb\" target=\"_parent\"><img src=\"https://colab.research.google.com/assets/colab-badge.svg\" alt=\"Open In Colab\"/></a>"
      ]
    },
    {
      "metadata": {
        "id": "Sc1TTZMUH04W",
        "colab_type": "text"
      },
      "cell_type": "markdown",
      "source": [
        "# Chapter 12-05\n",
        "## 파이썬과 기계학습\n",
        "\n",
        "> [Gooood blog](https://tensorflow.blog/)\n",
        "\n",
        "> [python-machine-learning-book-2nd-edition](https://github.com/rasbt/python-machine-learning-book-2nd-edition)"
      ]
    },
    {
      "metadata": {
        "id": "dZRxTpYkH04Y",
        "colab_type": "text"
      },
      "cell_type": "markdown",
      "source": [
        "### 기계학습에 의한 수치 예측"
      ]
    },
    {
      "metadata": {
        "id": "0irdV78EH04Z",
        "colab_type": "code",
        "colab": {}
      },
      "cell_type": "code",
      "source": [
        "# 데이터 작성\n",
        "# 예측에 이용하는 데이터 만들기\n",
        "import numpy as np"
      ],
      "execution_count": 0,
      "outputs": []
    },
    {
      "metadata": {
        "id": "Hqc7ZCDvH04c",
        "colab_type": "code",
        "colab": {}
      },
      "cell_type": "code",
      "source": [
        "# 난수 seed(초깃값)를 설정\n",
        "np.random.seed(9)\n",
        "# 0에서 1까지 100개의 수치를 생성, 난수를 혼합하기 전의 x\n",
        "x_orig = np.linspace(0, 1, 100)"
      ],
      "execution_count": 0,
      "outputs": []
    },
    {
      "metadata": {
        "id": "IiQ_00G4H04e",
        "colab_type": "code",
        "colab": {}
      },
      "cell_type": "code",
      "source": [
        "def f(x):\n",
        "    # x에 대응하는 sin값을 돌려주는 함수\n",
        "    return np.sin(2 * np.pi * x)"
      ],
      "execution_count": 0,
      "outputs": []
    },
    {
      "metadata": {
        "id": "S4ybdrFDH04f",
        "colab_type": "code",
        "colab": {}
      },
      "cell_type": "code",
      "source": [
        "# 0에서 1까지 100개가 흩어져 있는 샘플 데이터 x를 생성\n",
        "x = np.random.uniform(0, 1, size=100)[:, np.newaxis]  # 100X1 column vector\n",
        "# x에 대응하는 sin값에 난수를 더하여 샘플 데이터(y)를 생성\n",
        "y = f(x)+np.random.normal(scale=0.3, size=100)[:, np.newaxis] # 100X1 column vector"
      ],
      "execution_count": 0,
      "outputs": []
    },
    {
      "metadata": {
        "id": "1UUSo-71H04h",
        "colab_type": "text"
      },
      "cell_type": "markdown",
      "source": [
        "[HELP: np.newaxis]{https://stackoverflow.com/questions/29241056/how-does-numpy-newaxis-work-and-when-to-use-it)"
      ]
    },
    {
      "metadata": {
        "id": "KJW0a_J5H04h",
        "colab_type": "code",
        "outputId": "9e75f9fd-aeb8-4159-b11d-8cefc6e71bf2",
        "colab": {
          "base_uri": "https://localhost:8080/",
          "height": 35
        }
      },
      "cell_type": "code",
      "source": [
        "x.shape,y.shape"
      ],
      "execution_count": 0,
      "outputs": [
        {
          "output_type": "execute_result",
          "data": {
            "text/plain": [
              "((100, 1), (100, 1))"
            ]
          },
          "metadata": {
            "tags": []
          },
          "execution_count": 5
        }
      ]
    },
    {
      "metadata": {
        "id": "P0R-i7BgH04m",
        "colab_type": "code",
        "outputId": "bf30f852-377a-4c21-cd1a-876e6e59b55b",
        "colab": {
          "base_uri": "https://localhost:8080/",
          "height": 179
        }
      },
      "cell_type": "code",
      "source": [
        "x[:5],y[:5]"
      ],
      "execution_count": 0,
      "outputs": [
        {
          "output_type": "execute_result",
          "data": {
            "text/plain": [
              "(array([[0.01037415],\n",
              "        [0.50187459],\n",
              "        [0.49577329],\n",
              "        [0.13382953],\n",
              "        [0.14211109]]), array([[-0.07460893],\n",
              "        [-0.09500992],\n",
              "        [ 0.03720392],\n",
              "        [ 0.9996937 ],\n",
              "        [ 0.82779979]]))"
            ]
          },
          "metadata": {
            "tags": []
          },
          "execution_count": 6
        }
      ]
    },
    {
      "metadata": {
        "id": "Hrk3bJtNH04o",
        "colab_type": "code",
        "colab": {}
      },
      "cell_type": "code",
      "source": [
        "# 그래프 그리기\n",
        "import matplotlib.pyplot as plt\n",
        "%matplotlib inline\n",
        "\n",
        "# from sklearn.cross_validation import train_test_split\n",
        "from sklearn.model_selection import train_test_split"
      ],
      "execution_count": 0,
      "outputs": []
    },
    {
      "metadata": {
        "id": "ND1x-CcWH04p",
        "colab_type": "code",
        "outputId": "c7f055fc-9dc2-4f6a-b872-66083df1ffb4",
        "colab": {
          "base_uri": "https://localhost:8080/",
          "height": 35
        }
      },
      "cell_type": "code",
      "source": [
        "# 학습용 데이터와 테스트용 데이터를 분리\n",
        "x_train, x_test, y_train, y_test = train_test_split(x, y, test_size=0.5) #0.5로 바꾸면 점이 50개가 됨/ 0.8은 20개\n",
        "x_train.shape, x_test.shape, y_train.shape, y_test.shape"
      ],
      "execution_count": 0,
      "outputs": [
        {
          "output_type": "execute_result",
          "data": {
            "text/plain": [
              "((50, 1), (50, 1), (50, 1), (50, 1))"
            ]
          },
          "metadata": {
            "tags": []
          },
          "execution_count": 43
        }
      ]
    },
    {
      "metadata": {
        "id": "ucfB2KaoH04s",
        "colab_type": "code",
        "outputId": "f4f81d98-cd49-4ea1-e565-e82fb3887b0c",
        "colab": {
          "base_uri": "https://localhost:8080/",
          "height": 283
        }
      },
      "cell_type": "code",
      "source": [
        "# 원래 sin값과 샘플 데이터를 plot\n",
        "plt.plot(x_orig, f(x_orig), ls=':')\n",
        "plt.scatter(x_train, y_train)\n",
        "plt.xlim((0, 1))"
      ],
      "execution_count": 0,
      "outputs": [
        {
          "output_type": "execute_result",
          "data": {
            "text/plain": [
              "(0, 1)"
            ]
          },
          "metadata": {
            "tags": []
          },
          "execution_count": 44
        },
        {
          "output_type": "display_data",
          "data": {
            "image/png": "[encoded data removed]",
            "text/plain": [
              "<matplotlib.figure.Figure at 0x7fc8c0419198>"
            ]
          },
          "metadata": {
            "tags": []
          }
        }
      ]
    },
    {
      "metadata": {
        "id": "JfMIjwMhH04v",
        "colab_type": "code",
        "colab": {}
      },
      "cell_type": "code",
      "source": [
        "# 모델의 그래프 표시\n",
        "# 최소 자승법의 다항식 근사를 사용하여 데이터를 학습\n",
        "from sklearn.linear_model import LinearRegression\n",
        "from sklearn.preprocessing import PolynomialFeatures\n",
        "from sklearn.pipeline import make_pipeline"
      ],
      "execution_count": 0,
      "outputs": []
    },
    {
      "metadata": {
        "id": "FvnZ7g4gH04y",
        "colab_type": "text"
      },
      "cell_type": "markdown",
      "source": [
        "### LinearRegression\n",
        "\n",
        "> [LinearRegression](https://datascienceschool.net/view-notebook/58269d7f52bd49879965cdc4721da42d/)"
      ]
    },
    {
      "metadata": {
        "id": "j0ghSauDH04y",
        "colab_type": "text"
      },
      "cell_type": "markdown",
      "source": [
        "### PolynomialFeatures\n",
        "\n",
        "> [PolynomialFeatures](https://datascienceschool.net/view-notebook/f43be7d6515b48c0beb909826993c856/)"
      ]
    },
    {
      "metadata": {
        "id": "PhLKiaZIH04z",
        "colab_type": "code",
        "outputId": "327e1623-0754-4eea-fd1f-76167b89b763",
        "colab": {
          "base_uri": "https://localhost:8080/",
          "height": 585
        }
      },
      "cell_type": "code",
      "source": [
        "# 2x2의 그래프를 그리는 준비\n",
        "fig, axs = plt.subplots(3, 2, figsize=(10, 8))\n",
        "\n",
        "# 차수 0, 1, 3, 9에 대하여 학습한 결과를 표시\n",
        "for ax, deg in zip(axs.ravel(), [0, 1, 2, 3, 4, 9]):\n",
        "    # 파이프라인을 만듦\n",
        "    e = make_pipeline(PolynomialFeatures(deg), LinearRegression())\n",
        "    # 학습 set으로 학습\n",
        "    e.fit(x_train, y_train) #input,output\n",
        "    # 원래의 x로 예측\n",
        "    px = e.predict(x_orig[:, np.newaxis])\n",
        "    # 예측결과 그래프와 테스트 데이터 점을 그림\n",
        "    ax.scatter(x_train, y_train)\n",
        "    ax.plot(x_orig, px)\n",
        "    ax.set(xlim=(0, 1), ylim=(-2, 2),\n",
        "           ylabel='y', xlabel='x',\n",
        "           title='degree={}'.format(deg))\n",
        "\n",
        "plt.tight_layout()"
      ],
      "execution_count": 0,
      "outputs": [
        {
          "output_type": "display_data",
          "data": {
            "image/png": "[encoded data removed]",
            "text/plain": [
              "<matplotlib.figure.Figure at 0x7fc8b9d3e978>"
            ]
          },
          "metadata": {
            "tags": []
          }
        }
      ]
    },
    {
      "metadata": {
        "id": "NRbvhFpaH041",
        "colab_type": "code",
        "colab": {}
      },
      "cell_type": "code",
      "source": [
        "# 예측치와의 오차를 그래프화 한다\n",
        "# 테스트 데이터를 사용하여 오버피팅의 모습을 그래프로 표시한다\n",
        "from sklearn.metrics import mean_squared_error"
      ],
      "execution_count": 0,
      "outputs": []
    },
    {
      "metadata": {
        "id": "vcqXKp3kH043",
        "colab_type": "code",
        "outputId": "3d81fd28-88fa-4376-9a2c-c10a869819fb",
        "colab": {
          "base_uri": "https://localhost:8080/",
          "height": 287
        }
      },
      "cell_type": "code",
      "source": [
        "# 실 데이터와의 오차를 보존하는 array\n",
        "train_error = np.empty(10)\n",
        "test_error = np.empty(10)\n",
        "# 차수 0에서 9에 대하여 조사\n",
        "for deg in range(10):\n",
        "    # 모델을 작성\n",
        "    e = make_pipeline(PolynomialFeatures(deg), LinearRegression())\n",
        "    e.fit(x_train, y_train)\n",
        "    # 테스트 데이터를 사용하여 예측값과 실제값의 오차를 조사\n",
        "    train_error[deg] = mean_squared_error(y_train, e.predict(x_train))\n",
        "    test_error[deg] = mean_squared_error(y_test, e.predict(x_test))\n",
        "\n",
        "# 그래프를 그림\n",
        "plt.plot(np.arange(10), train_error, ls=':', label='train')\n",
        "plt.plot(np.arange(10), test_error, ls='-', label='test')\n",
        "plt.ylim((0, 1))\n",
        "plt.legend(loc='upper left')"
      ],
      "execution_count": 0,
      "outputs": [
        {
          "output_type": "execute_result",
          "data": {
            "text/plain": [
              "<matplotlib.legend.Legend at 0x7fc8bbc11c18>"
            ]
          },
          "metadata": {
            "tags": []
          },
          "execution_count": 48
        },
        {
          "output_type": "display_data",
          "data": {
            "image/png": "[encoded data removed]",
            "text/plain": [
              "<matplotlib.figure.Figure at 0x7fc8c11e3f28>"
            ]
          },
          "metadata": {
            "tags": []
          }
        }
      ]
    },
    {
      "metadata": {
        "id": "r5fYpSSbH046",
        "colab_type": "text"
      },
      "cell_type": "markdown",
      "source": [
        "### 도전하기\n",
        "\n",
        "> 각 차수에서의 트레인데이터 오차와 데스트데이터 오차 사이의 차를 그래프로 그리시오."
      ]
    },
    {
      "metadata": {
        "id": "_AHivBiLH047",
        "colab_type": "code",
        "outputId": "87b7afbd-245c-4e36-cfe5-9b4aacaeff45",
        "colab": {
          "base_uri": "https://localhost:8080/",
          "height": 287
        }
      },
      "cell_type": "code",
      "source": [
        "# challenge\n",
        "plt.plot(np.arange(10), train_error - test_error, ls=':', label='train_error - test_error')\n",
        "plt.plot(np.arange(10), np.zeros(10), ls='-') \n",
        "plt.ylim((-1, 1))"
      ],
      "execution_count": 0,
      "outputs": [
        {
          "output_type": "execute_result",
          "data": {
            "text/plain": [
              "(-1, 1)"
            ]
          },
          "metadata": {
            "tags": []
          },
          "execution_count": 53
        },
        {
          "output_type": "display_data",
          "data": {
            "image/png": "[encoded data removed]",
            "text/plain": [
              "<matplotlib.figure.Figure at 0x7fc8b9e0f320>"
            ]
          },
          "metadata": {
            "tags": []
          }
        }
      ]
    },
    {
      "metadata": {
        "id": "-CJYfGodH04-",
        "colab_type": "text"
      },
      "cell_type": "markdown",
      "source": [
        "> 다항함수 차수가 2 ~ 6 에서 오차가 작게됨을 확인한다.\n",
        "\n",
        "> 차수 7,8 에서는 과대접합(Overfitting)이 발생함."
      ]
    },
    {
      "metadata": {
        "id": "UcaAd0EhH04_",
        "colab_type": "code",
        "outputId": "7e95e0af-5a4e-41fc-8699-636446097f05",
        "colab": {
          "base_uri": "https://localhost:8080/",
          "height": 53
        }
      },
      "cell_type": "code",
      "source": [
        "# check\n",
        "np.arange(10),np.zeros(10)"
      ],
      "execution_count": 0,
      "outputs": [
        {
          "output_type": "execute_result",
          "data": {
            "text/plain": [
              "(array([0, 1, 2, 3, 4, 5, 6, 7, 8, 9]),\n",
              " array([0., 0., 0., 0., 0., 0., 0., 0., 0., 0.]))"
            ]
          },
          "metadata": {
            "tags": []
          },
          "execution_count": 54
        }
      ]
    },
    {
      "metadata": {
        "id": "H2neBTtYH05C",
        "colab_type": "text"
      },
      "cell_type": "markdown",
      "source": [
        "***"
      ]
    },
    {
      "metadata": {
        "id": "n3heMeZhH05D",
        "colab_type": "text"
      },
      "cell_type": "markdown",
      "source": [
        "## 머신러닝 (Machine learning)\n",
        "\n",
        "> [tensorflow.blog/파이썬-머신러닝/1-소개](https://tensorflow.blog/%ED%8C%8C%EC%9D%B4%EC%8D%AC-%EB%A8%B8%EC%8B%A0%EB%9F%AC%EB%8B%9D/1-%EC%86%8C%EA%B0%9C/#1.1.1)\n",
        "\n",
        "> [wikipedia](https://ko.wikipedia.org/wiki/%EA%B8%B0%EA%B3%84_%ED%95%99%EC%8A%B5)"
      ]
    },
    {
      "metadata": {
        "id": "IBO4RJFmH05D",
        "colab_type": "text"
      },
      "cell_type": "markdown",
      "source": [
        "* 지도 학습 (Supervised learning) : 데이터에 레이블이 지정됨. \n",
        "\n",
        "    * 지도학습은 입력과 출력 샘플 데이터가 있고, 주어진 입력으로부터 출력을 예측하고자 할 때 사용한다.\n",
        "    * 준비된 입력/출력 샘플 데이터, 즉 훈련 데이터로부터 머신러닝 모델을 만든다.\n",
        "    * 목표는 이전에 본적 없는 새로운 데이터에 대해 정확한 출력을 예측하는 것이다.\n",
        "\n",
        "> 지도 학습에는 분류(classification)와 회귀(regression)가 있다.\n",
        "    - 분류: 미리 정의된, 가능성 있는 여러 클래스 레이블 중 하나를 예측하는 것.   \n",
        "    - 회귀: 연속적인 숫자(실수)를 예측하는 것. 출력 값에 연속성이 있다.\n",
        "    \n",
        "> 지도 학습의 예\n",
        "    - 편지 봉투에 손으로 쓴 우편번호 숫자 판별\n",
        "    - 의료 영상 이미지에 기반한 종양 판단\n",
        "    - 의심되는 신용카드 거래 감지\n",
        "    \n",
        "* 비지도학습 (Unsupervised learning) : 데이터에 레이블이 없음.\n",
        "\n",
        "    * 입력은 주어지지만 출력은 제공되지 않습니다.\n",
        "    * 주어진 입력 데이터에서 숨어 있는 구조와 질서를 찾는 방법\n",
        "    \n",
        "> 비지도 학습의 예\n",
        "    - 블로그 글의 주제 구분\n",
        "    - 고객들을 취향이 비슷한 그룹으로 묶기\n",
        "    - 비정상적인 웹사이트 접근 탐지\n",
        "    \n",
        "* 강화학습 (Reinforcement learning) : 보상을 이용해서 스스로 학습을 유도.\n",
        "\n",
        "    * 어떤 환경 안에서 정의된 에이전트가 현재의 상태를 인식하여, 선택 가능한 행동들 중 보상을 최대화하는 행동 혹은 행동 순서를 선택하는 방법.\n",
        "    * 기본적으로 강화 학습의 문제는 마르코프 결정 과정(MDP)으로 표현된다.\n",
        "    \n",
        "> 강화 학습의 예\n",
        "    - AlphaGo (LEE, MASTER, ZERO)\n",
        "    - 게임"
      ]
    },
    {
      "metadata": {
        "id": "wRZDrcAuH05E",
        "colab_type": "text"
      },
      "cell_type": "markdown",
      "source": [
        "***"
      ]
    },
    {
      "metadata": {
        "id": "KJBpZdkRH05E",
        "colab_type": "text"
      },
      "cell_type": "markdown",
      "source": [
        "[Goooood Intro (Python Machine Learning 2nd ed.)](https://github.com/rasbt/python-machine-learning-book-2nd-edition/blob/master/code/ch01/ch01.ipynb)"
      ]
    },
    {
      "metadata": {
        "id": "tHuXfVcIH05F",
        "colab_type": "text"
      },
      "cell_type": "markdown",
      "source": [
        "### 머신러닝 사례\n",
        "\n",
        "> [파이썬-머신러닝/1-7-첫-번째-애플리케이션-붓꽃의-품종-분류/](https://tensorflow.blog/%ED%8C%8C%EC%9D%B4%EC%8D%AC-%EB%A8%B8%EC%8B%A0%EB%9F%AC%EB%8B%9D/1-7-%EC%B2%AB-%EB%B2%88%EC%A7%B8-%EC%95%A0%ED%94%8C%EB%A6%AC%EC%BC%80%EC%9D%B4%EC%85%98-%EB%B6%93%EA%BD%83%EC%9D%98-%ED%92%88%EC%A2%85-%EB%B6%84%EB%A5%98/)"
      ]
    },
    {
      "metadata": {
        "id": "m_zfzKJRH05G",
        "colab_type": "text"
      },
      "cell_type": "markdown",
      "source": [
        "### 1. 붓꽃 (iris) 의 품종 분류\n",
        "* 간단한 머신러닝 애플리케이션을 훑어가면서 첫 번째 모델을 만들어보겠습니다. \n",
        "* 그러면서 핵심 개념과 용어를 소개하겠습니다.\n",
        "\n",
        "\n",
        "* 한 아마추어 식물학자가 들에서 발견한 붓꽃의 품종을 알고 싶다고 가정\n",
        "* 이 식물학자는 붓꽃의 꽃잎<sup>petal</sup>과 꽃받침<sup>sepal</sup>의 폭과 길이를 센티미터 단위로 측정(그림 1-2).\n",
        "* 이 측정값을 이용해서 앞에서 채집한 붓꽃이 어떤 품종인지 구분하려고 함.\n",
        "  - 이 아마추어 식물학자가 야생에서 채집한 붓꽃은 이 세 종류뿐이라고 가정\n",
        "\n",
        "\n",
        "* 우리의 목표는 어떤 품종인지 구분해놓은 측정 데이터를 이용해 새로 채집한 붓꽃의 품종을 예측하는 머신러닝 모델을 만드는 것입니다.\n",
        "\n",
        "\n",
        "![](https://tensorflowkorea.files.wordpress.com/2017/06/1-2.png?w=400&h=400)\n"
      ]
    },
    {
      "metadata": {
        "id": "QrxYkYUzH05H",
        "colab_type": "text"
      },
      "cell_type": "markdown",
      "source": [
        "그림 1-2 붓꽃의 부위"
      ]
    },
    {
      "metadata": {
        "id": "EBenFk-cH05I",
        "colab_type": "text"
      },
      "cell_type": "markdown",
      "source": [
        "* 붓꽃의 품종을 정확하게 분류한 레이블 데이터를 가지고 있으므로 이 문제는 지도 학습\n",
        "* 이 경우에는 몇 가지 선택사항(붓꽃의 품종) 중 하나를 선택하는 문제\n",
        "* 그러므로 이 예는 분류<sup>Classification</sup> 문제에 해당합니다. 출력될 수 있는 값(붓꽃의 종류)들을 클래스<sup>class</sup>라고 합니다\n",
        "* 데이터셋에 있는 붓꽃 데이터는 모두 세 클래스 중 하나에 속합니다. 따라서 이 예는 세 개의 클래스를 분류하는 문제입니다.\n",
        "* 데이터 포인트 하나(붓꽃 하나)에 대한 기대 출력은 꽃의 품종이 됩니다. 이런 특정 데이터 포인트에 대한 출력, 즉 품종을 레이블<sup>label</sup>이라고 합니다."
      ]
    },
    {
      "metadata": {
        "id": "AwD0KYkqH05I",
        "colab_type": "text"
      },
      "cell_type": "markdown",
      "source": [
        "### 1.1 데이터 준비\n",
        "데이터셋은 머신러닝과 통계 분야에서 오래전부터 사용해온 붓꽃<sup>iris</sup> 데이터셋\n",
        "* 이 데이터는 scikit-learn의 datasets 모듈에 포함\n",
        "* load_iris 함수를 사용해서 데이터를 적재\n"
      ]
    },
    {
      "metadata": {
        "id": "8F4aqjxZH05I",
        "colab_type": "code",
        "colab": {}
      },
      "cell_type": "code",
      "source": [
        "from sklearn.datasets import load_iris\n",
        "\n",
        "iris_dataset = load_iris()"
      ],
      "execution_count": 0,
      "outputs": []
    },
    {
      "metadata": {
        "id": "uMi0uOOlH05L",
        "colab_type": "text"
      },
      "cell_type": "markdown",
      "source": [
        "iris_dataset은 파이썬의 딕셔너리<sup>Dictionary</sup>와 유사한 Bunch 클래스의 객체입니다. 즉 키와 값으로 구성되어 있습니다.\n",
        "\n",
        ">  단어 그대로 해석하면 사전이라는 뜻이다. 즉, people이라는 단어에 \"사람\", baseball이라는 단어에 \"야구\"라는 뜻이 부합되듯이 딕셔너리는 Key와 Value라는 것을 한 쌍으로 갖는 자료형이다. 예컨대 Key가 \"baseball\"이라면 Value는 \"야구\"가 될 것이다."
      ]
    },
    {
      "metadata": {
        "id": "to_1rBEbH05L",
        "colab_type": "code",
        "outputId": "30795021-51ab-4529-8f49-a1538b9e1fa3",
        "colab": {}
      },
      "cell_type": "code",
      "source": [
        "print(\"iris_dataset의 키: \\n{}\".format(iris_dataset.keys()))"
      ],
      "execution_count": 0,
      "outputs": [
        {
          "output_type": "stream",
          "text": [
            "iris_dataset의 키: \n",
            "dict_keys(['data', 'target', 'target_names', 'DESCR', 'feature_names', 'filename'])\n"
          ],
          "name": "stdout"
        }
      ]
    },
    {
      "metadata": {
        "id": "fXdA_PkVH05O",
        "colab_type": "text"
      },
      "cell_type": "markdown",
      "source": [
        "DESCR 키에는 데이터셋에 대한 간략한 설명이 들어 있습니다. 앞부분만 조금 살펴보겠습니다."
      ]
    },
    {
      "metadata": {
        "id": "Z1zFRlVRH05O",
        "colab_type": "code",
        "outputId": "5676a7a0-d905-4b66-fe54-ff2a321fed7b",
        "colab": {}
      },
      "cell_type": "code",
      "source": [
        "print(iris_dataset['DESCR'][:193] + \"\\n...\")"
      ],
      "execution_count": 0,
      "outputs": [
        {
          "output_type": "stream",
          "text": [
            ".. _iris_dataset:\n",
            "\n",
            "Iris plants dataset\n",
            "--------------------\n",
            "\n",
            "**Data Set Characteristics:**\n",
            "\n",
            "    :Number of Instances: 150 (50 in each of three classes)\n",
            "    :Number of Attributes: 4 numeric, pre\n",
            "...\n"
          ],
          "name": "stdout"
        }
      ]
    },
    {
      "metadata": {
        "id": "Q8sVZOkrH05Q",
        "colab_type": "text"
      },
      "cell_type": "markdown",
      "source": [
        "target_names의 값은 우리가 예측하려는 붓꽃 품종의 이름을 문자열 배열로 가지고 있습니다."
      ]
    },
    {
      "metadata": {
        "id": "JXuOown2H05S",
        "colab_type": "code",
        "outputId": "7a178ffc-ed87-4414-e468-213d32e6fbba",
        "colab": {}
      },
      "cell_type": "code",
      "source": [
        "print(\"타깃의 이름: {}\".format(iris_dataset['target_names']))"
      ],
      "execution_count": 0,
      "outputs": [
        {
          "output_type": "stream",
          "text": [
            "타깃의 이름: ['setosa' 'versicolor' 'virginica']\n"
          ],
          "name": "stdout"
        }
      ]
    },
    {
      "metadata": {
        "id": "6VJNpGj_H05T",
        "colab_type": "text"
      },
      "cell_type": "markdown",
      "source": [
        "feature_names의 값은 각 특성(feature)을 설명하는 문자열 리스트입니다."
      ]
    },
    {
      "metadata": {
        "id": "GH-_7CVvH05V",
        "colab_type": "code",
        "outputId": "e957a18b-950e-47a1-e0a7-6df9c4a240e7",
        "colab": {}
      },
      "cell_type": "code",
      "source": [
        "print(\"특성의 이름: \\n{}\".format(iris_dataset['feature_names']))"
      ],
      "execution_count": 0,
      "outputs": [
        {
          "output_type": "stream",
          "text": [
            "특성의 이름: \n",
            "['sepal length (cm)', 'sepal width (cm)', 'petal length (cm)', 'petal width (cm)']\n"
          ],
          "name": "stdout"
        }
      ]
    },
    {
      "metadata": {
        "id": "4RKWpFccH05X",
        "colab_type": "text"
      },
      "cell_type": "markdown",
      "source": [
        "> 실제 데이터는 target과 data 필드에 들어 있습니다. data는 꽃잎의 길이와 폭, 꽃받침의 길이와 폭을 수치 값으로 가지고 있는 NumPy 배열입니다."
      ]
    },
    {
      "metadata": {
        "id": "weE0FIWzH05Y",
        "colab_type": "code",
        "outputId": "70b78e29-d7c6-4746-8265-8f20a54b3645",
        "colab": {}
      },
      "cell_type": "code",
      "source": [
        "print(\"data의 타입: {}\".format(type(iris_dataset['data'])))"
      ],
      "execution_count": 0,
      "outputs": [
        {
          "output_type": "stream",
          "text": [
            "data의 타입: <class 'numpy.ndarray'>\n"
          ],
          "name": "stdout"
        }
      ]
    },
    {
      "metadata": {
        "id": "mfHnC_rDH05a",
        "colab_type": "text"
      },
      "cell_type": "markdown",
      "source": [
        "data 배열의 행은 개개의 꽃이 되며 열은 각 꽃에서 구한 네 개의 측정치입니다."
      ]
    },
    {
      "metadata": {
        "id": "33LLe_HQH05a",
        "colab_type": "code",
        "outputId": "6d622223-c228-45cf-ef0e-25f68f4f7791",
        "colab": {}
      },
      "cell_type": "code",
      "source": [
        "print(\"data의 크기: {}\".format(iris_dataset['data'].shape))"
      ],
      "execution_count": 0,
      "outputs": [
        {
          "output_type": "stream",
          "text": [
            "data의 크기: (150, 4)\n"
          ],
          "name": "stdout"
        }
      ]
    },
    {
      "metadata": {
        "id": "pWbOP79bH05d",
        "colab_type": "text"
      },
      "cell_type": "markdown",
      "source": [
        "* 이 배열은 150개의 붓꽃 데이터를 가지고 있습니다. \n",
        "* 머신러닝에서 각 아이템은 **샘플**이라 하고 속성은 **특성**이라고 부릅니다. \n",
        "* data 배열의 크기는 샘플의 수에 특성의 수를 곱한 값이 됩니다\n",
        "\n",
        "다음은 맨 처음 다섯 샘플의 특성값입니다."
      ]
    },
    {
      "metadata": {
        "id": "d4FmkbmWH05e",
        "colab_type": "code",
        "outputId": "ee3bc22e-e6e4-4e47-e318-9f8417674c9c",
        "colab": {}
      },
      "cell_type": "code",
      "source": [
        "print(\"data의 처음 다섯 행:\\n{}\".format(iris_dataset['data'][:5]))\n",
        "# 'sepal length (cm)', 'sepal width (cm)', 'petal length (cm)', 'petal width (cm)'"
      ],
      "execution_count": 0,
      "outputs": [
        {
          "output_type": "stream",
          "text": [
            "data의 처음 다섯 행:\n",
            "[[5.1 3.5 1.4 0.2]\n",
            " [4.9 3.  1.4 0.2]\n",
            " [4.7 3.2 1.3 0.2]\n",
            " [4.6 3.1 1.5 0.2]\n",
            " [5.  3.6 1.4 0.2]]\n"
          ],
          "name": "stdout"
        }
      ]
    },
    {
      "metadata": {
        "id": "GVFf5es4H05f",
        "colab_type": "code",
        "outputId": "3b7a8611-46a6-4cdc-cf04-d13c7ce01a97",
        "colab": {}
      },
      "cell_type": "code",
      "source": [
        "print(\"target의 타입: {}\".format(type(iris_dataset['target'])))"
      ],
      "execution_count": 0,
      "outputs": [
        {
          "output_type": "stream",
          "text": [
            "target의 타입: <class 'numpy.ndarray'>\n"
          ],
          "name": "stdout"
        }
      ]
    },
    {
      "metadata": {
        "id": "cZgtVePyH05i",
        "colab_type": "code",
        "outputId": "c4e5d75a-c16b-400c-8035-73e5c53284b0",
        "colab": {}
      },
      "cell_type": "code",
      "source": [
        "print(\"target의 크기: {}\".format(iris_dataset['target'].shape))"
      ],
      "execution_count": 0,
      "outputs": [
        {
          "output_type": "stream",
          "text": [
            "target의 크기: (150,)\n"
          ],
          "name": "stdout"
        }
      ]
    },
    {
      "metadata": {
        "id": "kv0GTA6YH05k",
        "colab_type": "code",
        "outputId": "cbd4ab7f-2b29-47fc-9f60-b85bba7fea99",
        "colab": {}
      },
      "cell_type": "code",
      "source": [
        "# 처음 다섯 data의 class\n",
        "iris_dataset['target'][:5]"
      ],
      "execution_count": 0,
      "outputs": [
        {
          "output_type": "execute_result",
          "data": {
            "text/plain": [
              "array([0, 0, 0, 0, 0])"
            ]
          },
          "metadata": {
            "tags": []
          },
          "execution_count": 28
        }
      ]
    },
    {
      "metadata": {
        "id": "a71xoknNH05m",
        "colab_type": "text"
      },
      "cell_type": "markdown",
      "source": [
        "붓꽃의 종류는 0에서 2까지의 정수로 기록되어 있습니다."
      ]
    },
    {
      "metadata": {
        "id": "AylDZL2lH05n",
        "colab_type": "code",
        "outputId": "a8187d70-5300-49d0-a955-f98c62359450",
        "colab": {}
      },
      "cell_type": "code",
      "source": [
        "print(\"타깃:\\n{}\".format(iris_dataset['target']))"
      ],
      "execution_count": 0,
      "outputs": [
        {
          "output_type": "stream",
          "text": [
            "타깃:\n",
            "[0 0 0 0 0 0 0 0 0 0 0 0 0 0 0 0 0 0 0 0 0 0 0 0 0 0 0 0 0 0 0 0 0 0 0 0 0\n",
            " 0 0 0 0 0 0 0 0 0 0 0 0 0 1 1 1 1 1 1 1 1 1 1 1 1 1 1 1 1 1 1 1 1 1 1 1 1\n",
            " 1 1 1 1 1 1 1 1 1 1 1 1 1 1 1 1 1 1 1 1 1 1 1 1 1 1 2 2 2 2 2 2 2 2 2 2 2\n",
            " 2 2 2 2 2 2 2 2 2 2 2 2 2 2 2 2 2 2 2 2 2 2 2 2 2 2 2 2 2 2 2 2 2 2 2 2 2\n",
            " 2 2]\n"
          ],
          "name": "stdout"
        }
      ]
    },
    {
      "metadata": {
        "id": "z677gy61H05p",
        "colab_type": "code",
        "outputId": "7313a697-6802-4813-a616-67ca9cd7f1e2",
        "colab": {}
      },
      "cell_type": "code",
      "source": [
        "np.unique(iris_dataset['target'])"
      ],
      "execution_count": 0,
      "outputs": [
        {
          "output_type": "execute_result",
          "data": {
            "text/plain": [
              "array([0, 1, 2])"
            ]
          },
          "metadata": {
            "tags": []
          },
          "execution_count": 30
        }
      ]
    },
    {
      "metadata": {
        "id": "QYQZ28xNH05v",
        "colab_type": "text"
      },
      "cell_type": "markdown",
      "source": [
        "> 숫자의 의미는 iris[‘target_names’] 배열에서 확인할 수 있습니다. 0은 setosa, 1은 versicolor, 2는 virginica입니다."
      ]
    },
    {
      "metadata": {
        "id": "sfsmZ5P4H05w",
        "colab_type": "code",
        "outputId": "6433df42-4ebb-4356-b232-08ace7d0657f",
        "colab": {}
      },
      "cell_type": "code",
      "source": [
        " iris_dataset['target_names']"
      ],
      "execution_count": 0,
      "outputs": [
        {
          "output_type": "execute_result",
          "data": {
            "text/plain": [
              "array(['setosa', 'versicolor', 'virginica'], dtype='<U10')"
            ]
          },
          "metadata": {
            "tags": []
          },
          "execution_count": 31
        }
      ]
    },
    {
      "metadata": {
        "id": "MRGYpFQhH05y",
        "colab_type": "text"
      },
      "cell_type": "markdown",
      "source": [
        "### 1.2 훈련 데이터와 테스트 데이터\n",
        "\n",
        "* 이 데이터로 머신러닝 모델을 만들고 새로운 데이터의 품종을 예측\n",
        "* 하지만 만든 모델을 새 데이터에 적용하기 전에 이 모델이 진짜 잘 작동하는지 알아야 합니다. 즉 우리가 만든 모델의 예측을 신뢰할 수 있는지 알아야 합니다.\n",
        "\n",
        "\n",
        "* 불행히도 모델을 만들 때 쓴 데이터는 평가 목적으로 사용할 수 없습니다. \n",
        "* 모델이 훈련 데이터를 그냥 전부 기억할 수 있으니 훈련 데이터에 속한 어떤 데이터라도 정확히 맞출 수 있기 때문이다.\n",
        "* 이렇게 데이터를 기억한다는 것은 모델을 잘 일반화하지 않았다는 뜻입니다(다른 말로는 새로운 데이터에 대해서는 잘 작동하지 않는다는 것입니다).\n",
        "\n",
        "\n",
        "* 모델의 성능을 측정하려면 레이블을 알고 있는 (이전에 본 적 없는) 새 데이터를 모델에 적용해봐야 합니다.\n",
        "* 이를 위해 우리가 가지고 있는 레이블된 데이터(150개의 붓꽃 데이터)를 두 그룹으로 나눕니다.\n",
        "* <b>그중 하나는 머신러닝 모델을 만들 때 사용하며, 훈련 데이터 혹은 훈련 세트<sup>training set</sup>라고 합니다. 나머지는 모델이 얼마나 잘 작동하는지 측정하는 데 사용하며, 이를 테스트 데이터, 테스트 세트<sup>test set</sup> 혹은 홀드아웃 세트<sup>hold-out set</sup>라고 부릅니다.</b>\n",
        "\n",
        "\n",
        "* **scikit-learn은 데이터셋을 섞어서 나눠주는 train_test_split 함수를 제공**\n",
        "* 이 함수는 전체 행 중 75% 를 레이블 데이터와 함께 훈련 세트로 뽑습니다. 나머지 25%는 레이블 데이터와 함께 테스트 세트가 됩니다\n",
        "\n",
        "\n",
        "* **scikit-learn에서 데이터는 대문자 X로 표시하고 레이블은 소문자 y로 표기합니다**\n",
        "* 이는 수학에서 함수의 입력을 x, 출력을 y로 나타내는 표준 공식 f(x)=y에서 유래된 것입니다\n",
        "* 수학의 표기 방식을 따르되 데이터는 2차원 배열(행렬)이므로 대문자 X를, 타깃은 1차원 배열(벡터)이므로 소문자 y를 사용합니다.\n",
        "\n",
        "train_test_split의 반환값을 저장하는 데 이 명명 규칙을 사용하겠습니다."
      ]
    },
    {
      "metadata": {
        "id": "nvEzZPj-H05z",
        "colab_type": "code",
        "colab": {}
      },
      "cell_type": "code",
      "source": [
        "from sklearn.model_selection import train_test_split\n",
        "\n",
        "X_train, X_test, y_train, y_test = train_test_split(iris_dataset['data'], iris_dataset['target'], random_state=0)"
      ],
      "execution_count": 0,
      "outputs": []
    },
    {
      "metadata": {
        "id": "BBSHUMANH053",
        "colab_type": "text"
      },
      "cell_type": "markdown",
      "source": [
        "* train_test_split 함수로 데이터를 나누기 전에 유사 난수 생성기를 사용해 데이터셋을 무작위로 섞어야 합니다.\n",
        "* 만약 섞지 않은 상태로 데이터셋 뒤쪽의 25%를 테스트 세트로 이용한다면 그 데이터의 레이블은 모두 2가 됩니다.\n",
        "* 세 클래스 중 하나만 포함한 테스트 세트를 사용하면 모델이 얼마나 잘 일반화되었는지 알 수 없습니다.\n",
        "\n",
        "\n",
        "* 이 함수를 여러 번 실행해도 결과가 똑같이 나오도록 유사 난수 생성기에 넣을 난수 초깃값을 random_state 매개변수로 전달합니다\n",
        "* 이렇게 하면 이 코드는 항상 같은 결과를 출력(이 책에서 난수를 사용할 때는 항상 이렇게 random_state를 고정)\n",
        "\n",
        "\n",
        "* train_test_split 함수의 반환값은 X_train, X_test, y_train, y_test이며 모두 NumPy 배열입니다. X_train은 전체 데이터셋의 75%를, X_test는 나머지 25%를 담고 있습니다."
      ]
    },
    {
      "metadata": {
        "id": "ecRj_SFhH054",
        "colab_type": "code",
        "outputId": "968bfc44-7c3f-4254-ea1e-e86200d3a569",
        "colab": {}
      },
      "cell_type": "code",
      "source": [
        "print(\"X_train 크기: {}\".format(X_train.shape))\n",
        "print(\"y_train 크기: {}\".format(y_train.shape))\n",
        "150*.75"
      ],
      "execution_count": 0,
      "outputs": [
        {
          "output_type": "stream",
          "text": [
            "X_train 크기: (112, 4)\n",
            "y_train 크기: (112,)\n"
          ],
          "name": "stdout"
        },
        {
          "output_type": "execute_result",
          "data": {
            "text/plain": [
              "112.5"
            ]
          },
          "metadata": {
            "tags": []
          },
          "execution_count": 33
        }
      ]
    },
    {
      "metadata": {
        "id": "ZwpJwRjEH056",
        "colab_type": "code",
        "outputId": "a0db8c32-6e7e-49d1-e29c-57cbe67817f6",
        "colab": {}
      },
      "cell_type": "code",
      "source": [
        "y_train[:10]"
      ],
      "execution_count": 0,
      "outputs": [
        {
          "output_type": "execute_result",
          "data": {
            "text/plain": [
              "array([1, 1, 2, 0, 2, 0, 0, 1, 2, 2])"
            ]
          },
          "metadata": {
            "tags": []
          },
          "execution_count": 34
        }
      ]
    },
    {
      "metadata": {
        "id": "gVHm695jH058",
        "colab_type": "code",
        "outputId": "a31c8a5a-511c-4507-81bf-9c04ead05bda",
        "colab": {}
      },
      "cell_type": "code",
      "source": [
        "print(\"X_test 크기: {}\".format(X_test.shape))\n",
        "print(\"y_test 크기: {}\".format(y_test.shape))"
      ],
      "execution_count": 0,
      "outputs": [
        {
          "output_type": "stream",
          "text": [
            "X_test 크기: (38, 4)\n",
            "y_test 크기: (38,)\n"
          ],
          "name": "stdout"
        }
      ]
    },
    {
      "metadata": {
        "id": "vEqYYH2OH059",
        "colab_type": "text"
      },
      "cell_type": "markdown",
      "source": [
        "### 1.3 가장 먼저 할 일: 데이터 구조 살펴보기\n",
        "* 머신러닝 모델을 만들기 전에 머신러닝이 없이도 풀 수 있는 문제는 아닌지, 혹은 필요한 정보가 누락되지는 않았는지 데이터를 조사해보는 것\n",
        "* 또한 데이터를 탐색하면서 비정상적인 값이나 특이한 값들을 찾을 수도 있습니다\n",
        "> 예를 들어 붓꽃 데이터 중 일부는 센티미터가 아니고 인치로 되어 있을 수도 있습니다. 실제로 데이터에 일관성이 없거나 이상한 값이 들어가 있는 경우가 종종 있습니다.\n",
        "\n",
        "* 시각화는 데이터를 조사하는 아주 좋은 방법입니다. 산점도<sup>scatter plot</sup>가 그중 하나입니다.\n",
        "> 산점도는 데이터에서 한 특성을 x 축에 놓고 다른 하나는 y 축에 놓아 각 데이터 포인트를 하나의 점으로 나타내는 그래프\n",
        "\n",
        "* 컴퓨터 화면은 2차원이라 한 번에 2개(혹은 3개 2 )의 특성만 그릴 수 있다.\n",
        "* 3개 이상의 특성을 표현하기 위해 모든 특성을 짝지어 만드는 산점도 행렬<sup>scatter matrix</sup>을 사용\n"
      ]
    },
    {
      "metadata": {
        "id": "kkGylBAeH05-",
        "colab_type": "code",
        "colab": {}
      },
      "cell_type": "code",
      "source": [
        "from IPython.display import display  \n",
        "\n",
        "import numpy as np\n",
        "import matplotlib.pyplot as plt  \n",
        "import pandas as pd\n",
        "# import mglearn"
      ],
      "execution_count": 0,
      "outputs": []
    },
    {
      "metadata": {
        "id": "gDNSO5tVH06A",
        "colab_type": "code",
        "outputId": "a2a17e33-13fe-404a-d033-9401b70391c3",
        "colab": {}
      },
      "cell_type": "code",
      "source": [
        "# X_train 데이터를 사용해서 데이터프레임을 만듭니다.\n",
        "# 열의 이름은 iris_dataset.feature_names에 있는 문자열을 사용합니다.\n",
        "iris_dataframe = pd.DataFrame(X_train, columns=iris_dataset.feature_names)\n",
        "\n",
        "iris_dataframe[:10]"
      ],
      "execution_count": 0,
      "outputs": [
        {
          "output_type": "execute_result",
          "data": {
            "text/html": [
              "<div>\n",
              "<style scoped>\n",
              "    .dataframe tbody tr th:only-of-type {\n",
              "        vertical-align: middle;\n",
              "    }\n",
              "\n",
              "    .dataframe tbody tr th {\n",
              "        vertical-align: top;\n",
              "    }\n",
              "\n",
              "    .dataframe thead th {\n",
              "        text-align: right;\n",
              "    }\n",
              "</style>\n",
              "<table border=\"1\" class=\"dataframe\">\n",
              "  <thead>\n",
              "    <tr style=\"text-align: right;\">\n",
              "      <th></th>\n",
              "      <th>sepal length (cm)</th>\n",
              "      <th>sepal width (cm)</th>\n",
              "      <th>petal length (cm)</th>\n",
              "      <th>petal width (cm)</th>\n",
              "    </tr>\n",
              "  </thead>\n",
              "  <tbody>\n",
              "    <tr>\n",
              "      <th>0</th>\n",
              "      <td>5.9</td>\n",
              "      <td>3.0</td>\n",
              "      <td>4.2</td>\n",
              "      <td>1.5</td>\n",
              "    </tr>\n",
              "    <tr>\n",
              "      <th>1</th>\n",
              "      <td>5.8</td>\n",
              "      <td>2.6</td>\n",
              "      <td>4.0</td>\n",
              "      <td>1.2</td>\n",
              "    </tr>\n",
              "    <tr>\n",
              "      <th>2</th>\n",
              "      <td>6.8</td>\n",
              "      <td>3.0</td>\n",
              "      <td>5.5</td>\n",
              "      <td>2.1</td>\n",
              "    </tr>\n",
              "    <tr>\n",
              "      <th>3</th>\n",
              "      <td>4.7</td>\n",
              "      <td>3.2</td>\n",
              "      <td>1.3</td>\n",
              "      <td>0.2</td>\n",
              "    </tr>\n",
              "    <tr>\n",
              "      <th>4</th>\n",
              "      <td>6.9</td>\n",
              "      <td>3.1</td>\n",
              "      <td>5.1</td>\n",
              "      <td>2.3</td>\n",
              "    </tr>\n",
              "    <tr>\n",
              "      <th>5</th>\n",
              "      <td>5.0</td>\n",
              "      <td>3.5</td>\n",
              "      <td>1.6</td>\n",
              "      <td>0.6</td>\n",
              "    </tr>\n",
              "    <tr>\n",
              "      <th>6</th>\n",
              "      <td>5.4</td>\n",
              "      <td>3.7</td>\n",
              "      <td>1.5</td>\n",
              "      <td>0.2</td>\n",
              "    </tr>\n",
              "    <tr>\n",
              "      <th>7</th>\n",
              "      <td>5.0</td>\n",
              "      <td>2.0</td>\n",
              "      <td>3.5</td>\n",
              "      <td>1.0</td>\n",
              "    </tr>\n",
              "    <tr>\n",
              "      <th>8</th>\n",
              "      <td>6.5</td>\n",
              "      <td>3.0</td>\n",
              "      <td>5.5</td>\n",
              "      <td>1.8</td>\n",
              "    </tr>\n",
              "    <tr>\n",
              "      <th>9</th>\n",
              "      <td>6.7</td>\n",
              "      <td>3.3</td>\n",
              "      <td>5.7</td>\n",
              "      <td>2.5</td>\n",
              "    </tr>\n",
              "  </tbody>\n",
              "</table>\n",
              "</div>"
            ],
            "text/plain": [
              "   sepal length (cm)  sepal width (cm)  petal length (cm)  petal width (cm)\n",
              "0                5.9               3.0                4.2               1.5\n",
              "1                5.8               2.6                4.0               1.2\n",
              "2                6.8               3.0                5.5               2.1\n",
              "3                4.7               3.2                1.3               0.2\n",
              "4                6.9               3.1                5.1               2.3\n",
              "5                5.0               3.5                1.6               0.6\n",
              "6                5.4               3.7                1.5               0.2\n",
              "7                5.0               2.0                3.5               1.0\n",
              "8                6.5               3.0                5.5               1.8\n",
              "9                6.7               3.3                5.7               2.5"
            ]
          },
          "metadata": {
            "tags": []
          },
          "execution_count": 37
        }
      ]
    },
    {
      "metadata": {
        "id": "iRF_YHFNH06F",
        "colab_type": "code",
        "outputId": "67d033e8-afec-4fc6-e76d-a5e6adfce898",
        "colab": {}
      },
      "cell_type": "code",
      "source": [
        "# 데이터프레임을 사용해 y_train에 따라 색으로 구분된 산점도 행렬을 만듭니다.\n",
        "pd.plotting.scatter_matrix(iris_dataframe, c=y_train, figsize=(13, 13), marker='o',\n",
        "hist_kwds={'bins': 20}, s=50, alpha=.8) "
      ],
      "execution_count": 0,
      "outputs": [
        {
          "output_type": "execute_result",
          "data": {
            "text/plain": [
              "array([[<matplotlib.axes._subplots.AxesSubplot object at 0x00000205DE596208>,\n",
              "        <matplotlib.axes._subplots.AxesSubplot object at 0x00000205DE5C2F60>,\n",
              "        <matplotlib.axes._subplots.AxesSubplot object at 0x00000205DE5F4630>,\n",
              "        <matplotlib.axes._subplots.AxesSubplot object at 0x00000205DE61ACC0>],\n",
              "       [<matplotlib.axes._subplots.AxesSubplot object at 0x00000205DE64C358>,\n",
              "        <matplotlib.axes._subplots.AxesSubplot object at 0x00000205DE64C390>,\n",
              "        <matplotlib.axes._subplots.AxesSubplot object at 0x00000205DE69EEF0>,\n",
              "        <matplotlib.axes._subplots.AxesSubplot object at 0x00000205DE6CE5C0>],\n",
              "       [<matplotlib.axes._subplots.AxesSubplot object at 0x00000205DE6F6C50>,\n",
              "        <matplotlib.axes._subplots.AxesSubplot object at 0x00000205DE729320>,\n",
              "        <matplotlib.axes._subplots.AxesSubplot object at 0x00000205DE7519B0>,\n",
              "        <matplotlib.axes._subplots.AxesSubplot object at 0x00000205DE782080>],\n",
              "       [<matplotlib.axes._subplots.AxesSubplot object at 0x00000205DE7AA710>,\n",
              "        <matplotlib.axes._subplots.AxesSubplot object at 0x00000205DE7D4DA0>,\n",
              "        <matplotlib.axes._subplots.AxesSubplot object at 0x00000205DE805470>,\n",
              "        <matplotlib.axes._subplots.AxesSubplot object at 0x00000205DE82FB00>]],\n",
              "      dtype=object)"
            ]
          },
          "metadata": {
            "tags": []
          },
          "execution_count": 38
        },
        {
          "output_type": "display_data",
          "data": {
            "image/png": "[encoded data removed]",
            "text/plain": [
              "<Figure size 936x936 with 16 Axes>"
            ]
          },
          "metadata": {
            "tags": [],
            "needs_background": "light"
          }
        }
      ]
    },
    {
      "metadata": {
        "id": "sM3Pn6j_H06H",
        "colab_type": "text"
      },
      "cell_type": "markdown",
      "source": [
        "그림 1-3 클래스 레이블을 색으로 구분한 iris 데이터셋의 산점도(scatter plot) 행렬"
      ]
    },
    {
      "metadata": {
        "id": "yp_tPWDMH06H",
        "colab_type": "code",
        "outputId": "171af7fd-d22c-4d12-ebef-58067709d19e",
        "colab": {}
      },
      "cell_type": "code",
      "source": [
        "# y_train 값(0,1,2)으로 품종을 색으로 구분\n",
        "y_train"
      ],
      "execution_count": 0,
      "outputs": [
        {
          "output_type": "execute_result",
          "data": {
            "text/plain": [
              "array([1, 1, 2, 0, 2, 0, 0, 1, 2, 2, 2, 2, 1, 2, 1, 1, 2, 2, 2, 2, 1, 2,\n",
              "       1, 0, 2, 1, 1, 1, 1, 2, 0, 0, 2, 1, 0, 0, 1, 0, 2, 1, 0, 1, 2, 1,\n",
              "       0, 2, 2, 2, 2, 0, 0, 2, 2, 0, 2, 0, 2, 2, 0, 0, 2, 0, 0, 0, 1, 2,\n",
              "       2, 0, 0, 0, 1, 1, 0, 0, 1, 0, 2, 1, 2, 1, 0, 2, 0, 2, 0, 0, 2, 0,\n",
              "       2, 1, 1, 1, 2, 2, 1, 1, 0, 1, 2, 2, 0, 1, 1, 1, 1, 0, 0, 0, 2, 1,\n",
              "       2, 0])"
            ]
          },
          "metadata": {
            "tags": []
          },
          "execution_count": 40
        }
      ]
    },
    {
      "metadata": {
        "id": "otKUH2CEH06J",
        "colab_type": "text"
      },
      "cell_type": "markdown",
      "source": [
        "***"
      ]
    },
    {
      "metadata": {
        "id": "XgAgPxQsH06J",
        "colab_type": "text"
      },
      "cell_type": "markdown",
      "source": [
        "### 머신 러닝 \n",
        "\n",
        "* 적용 단계\n",
        "    1. 머신 러닝 방법 선택 (선택 사항 점검)\n",
        "    2. 트레인 데이터를 이용해서 fit()로 모델 만들기\n",
        "    3. 모델.predict()를 테스트 데이터에 적용하여 예측\n",
        "    4. score()를 이용 또는 예측 오차를 계산하여 모델 평가 및 개선"
      ]
    },
    {
      "metadata": {
        "id": "xZCkytlUH06J",
        "colab_type": "text"
      },
      "cell_type": "markdown",
      "source": [
        "### 1.4 첫 번째 머신러닝 모델: k-최근접 이웃 알고리즘\n",
        "이제 실제 머신러닝 모델을 만들어보겠습니다\n",
        "* 비교적 이해하기 쉬운 k-최근접 이웃<sup>k-Nearest Neighbors, k-NN</sup> 분류기를 사용\n",
        "  1. 이 모델은 단순히 훈련 데이터를 저장하여 만들어집니다\n",
        "  2. 새로운 데이터 포인트에 대한 예측이 필요하면 알고리즘은 새 데이터 포인트에서 가장 가까운 훈련 데이터 포인트를 찾습니다.\n",
        "  3. 그런 다음 찾은 훈련 데이터의 레이블을 새 데이터 포인트의 레이블로 지정합니다.\n",
        "\n",
        "\n",
        "* **k-최근접 이웃 알고리즘에서 k는 가장 가까운 이웃 ‘하나’가 아니라 훈련 데이터에서 새로운 데이터 포인트에 가장 가까운 ‘k개’의 이웃을 찾는다는 뜻**\n",
        "* 그런 다음 이 이웃들의 클래스 중 빈도가 가장 높은 클래스를 예측값으로 사용\n",
        "\n",
        "\n",
        "\n",
        "* k-최근접 이웃 분류 알고리즘은 neighbors 모듈 아래 KNeighborsClassifier 클래스에 구현되어 있습니다.\n",
        "* 모델을 사용하려면 클래스로부터 객체를 만들어야 합니다. 이때 모델에 필요한 매개변수를 넣습니다. \n",
        "* KNeighborsClassifier에서 가장 중요한 매개변수는 이웃의 개수입니다. 우리는 1로 지정하겠습니다."
      ]
    },
    {
      "metadata": {
        "id": "urUbb2H6H06J",
        "colab_type": "code",
        "colab": {}
      },
      "cell_type": "code",
      "source": [
        "# k-Nearest Neighbors, k-NN 분류기\n",
        "from sklearn.neighbors import KNeighborsClassifier\n",
        "\n",
        "knn = KNeighborsClassifier(n_neighbors=1)"
      ],
      "execution_count": 0,
      "outputs": []
    },
    {
      "metadata": {
        "id": "qV-YZCNNH06L",
        "colab_type": "text"
      },
      "cell_type": "markdown",
      "source": [
        "* knn 객체는 훈련 데이터로 모델을 만들고 새로운 데이터 포인트에 대해 예측하는 알고리즘을 캡슐화한 것입니다. \n",
        "* 또한 알고리즘이 훈련 데이터로부터 추출한 정보를 담고 있습니다. KNeighborsClassifier의 경우는 훈련 데이터 자체를 저장하고 있습니다.\n",
        "\n",
        "\n",
        "* 훈련 데이터셋으로부터 모델을 만들려면 knn 객체의 fit 메서드를 사용합니다. \n",
        "* 이 메서드는 훈련 데이터인 NumPy 배열 X_train과 훈련 데이터의 레이블을 담고 있는 NumPy 배열 y_train을 매개변수로 받습니다."
      ]
    },
    {
      "metadata": {
        "id": "_AneVBj4H06L",
        "colab_type": "code",
        "outputId": "6bd71b37-02ad-4b46-a045-71741bc6f6d0",
        "colab": {}
      },
      "cell_type": "code",
      "source": [
        "# Make model by fitting\n",
        "knn.fit(X_train, y_train)"
      ],
      "execution_count": 0,
      "outputs": [
        {
          "output_type": "execute_result",
          "data": {
            "text/plain": [
              "KNeighborsClassifier(algorithm='auto', leaf_size=30, metric='minkowski',\n",
              "           metric_params=None, n_jobs=None, n_neighbors=1, p=2,\n",
              "           weights='uniform')"
            ]
          },
          "metadata": {
            "tags": []
          },
          "execution_count": 42
        }
      ]
    },
    {
      "metadata": {
        "id": "0sIEwUW1H06N",
        "colab_type": "text"
      },
      "cell_type": "markdown",
      "source": [
        "* fit 메서드는 knn 모델 객체 자체를 반환합니다\n",
        "* 여기에는 모델을 생성할 때 사용한 매개변수를 볼 수 있습니다. \n",
        "* 거의 모든 매개변수가 기본값이고 n_neighbors=1은 우리가 지정한 값이다."
      ]
    },
    {
      "metadata": {
        "id": "kosxwxaWH06N",
        "colab_type": "text"
      },
      "cell_type": "markdown",
      "source": [
        "### 1.5 예측하기\n",
        "이제 이 모델을 사용해서 정확한 레이블을 모르는 새 데이터에 대해 예측을 만들 수 있습니다.\n",
        "\n",
        "* 야생에서 꽃받침의 길이가 5cm, 폭이 2.9cm이고 꽃잎의 길이가 1cm, 폭이 0.2cm인 붓꽃을 보았다고 가정\n",
        "* 그럼 이 붓꽃의 품종은 무엇일까요? \n",
        "\n",
        "먼저 이 측정값을 NumPy 배열, 즉 샘플의 수(1)에 특성의 수(4)를 곱한 크기의 NumPy 배열로 만들어보겠습니다."
      ]
    },
    {
      "metadata": {
        "id": "7q3PR8MZH06O",
        "colab_type": "code",
        "outputId": "0dad1ebd-3592-455a-90a8-80a999bf5a68",
        "colab": {}
      },
      "cell_type": "code",
      "source": [
        "X_new = np.array([[5, 2.9, 1, 0.2]])\n",
        "print(\"X_new.shape: {}\".format(X_new.shape))"
      ],
      "execution_count": 0,
      "outputs": [
        {
          "output_type": "stream",
          "text": [
            "X_new.shape: (1, 4)\n"
          ],
          "name": "stdout"
        }
      ]
    },
    {
      "metadata": {
        "id": "dIRBs08wH06Q",
        "colab_type": "text"
      },
      "cell_type": "markdown",
      "source": [
        "> 붓꽃 하나의 측정값은 2차원 NumPy 배열에 행으로 들어갑니다"
      ]
    },
    {
      "metadata": {
        "id": "RrWeR42DH06R",
        "colab_type": "code",
        "outputId": "ce17a2c7-142a-4e55-de8f-8d755ed66cce",
        "colab": {}
      },
      "cell_type": "code",
      "source": [
        "prediction = knn.predict(X_new)\n",
        "print(\"예측: {}\".format(prediction))\n",
        "print(\"예측한 타깃의 이름: {}\".format(iris_dataset['target_names'][prediction]))"
      ],
      "execution_count": 0,
      "outputs": [
        {
          "output_type": "stream",
          "text": [
            "예측: [0]\n",
            "예측한 타깃의 이름: ['setosa']\n"
          ],
          "name": "stdout"
        }
      ]
    },
    {
      "metadata": {
        "id": "joPAw3p_H06T",
        "colab_type": "text"
      },
      "cell_type": "markdown",
      "source": [
        "* 우리가 만든 모델이 새로운 붓꽃을 setosa 품종을 의미하는 클래스 0으로 예측했습니다.\n",
        "* 그런데 어떻게 이 모델의 결과를 신뢰할 수 있을까요?"
      ]
    },
    {
      "metadata": {
        "id": "-xlVL8cUH06U",
        "colab_type": "text"
      },
      "cell_type": "markdown",
      "source": [
        "### 1.6 모델 평가하기\n",
        "* 앞서 만든 테스트 세트를 사용할 때가 왔습니다. \n",
        "* 이 데이터는 모델을 만들 때 사용하지 않았고 테스트 세트에 있는 각 붓꽃의 품종을 정확히 알고 있습니다.\n",
        "* 따라서 테스트 데이터에 있는 붓꽃의 품종을 예측하고 실제 레이블(품종)과 비교할 수 있습니다. \n",
        "* 얼마나 많은 붓꽃 품종이 정확히 맞았는지 정확도를 계산하여 모델의 성능을 평가합니다."
      ]
    },
    {
      "metadata": {
        "id": "jKs458UHH06U",
        "colab_type": "code",
        "outputId": "539078c1-f3d4-4dbc-bd74-e526c7e25e43",
        "colab": {}
      },
      "cell_type": "code",
      "source": [
        "X_test.shape"
      ],
      "execution_count": 0,
      "outputs": [
        {
          "output_type": "execute_result",
          "data": {
            "text/plain": [
              "(38, 4)"
            ]
          },
          "metadata": {
            "tags": []
          },
          "execution_count": 45
        }
      ]
    },
    {
      "metadata": {
        "id": "LwSVjerIH06V",
        "colab_type": "code",
        "outputId": "45817e19-9a1e-49be-b985-d74d0a39062a",
        "colab": {}
      },
      "cell_type": "code",
      "source": [
        "X_test[:5]"
      ],
      "execution_count": 0,
      "outputs": [
        {
          "output_type": "execute_result",
          "data": {
            "text/plain": [
              "array([[5.8, 2.8, 5.1, 2.4],\n",
              "       [6. , 2.2, 4. , 1. ],\n",
              "       [5.5, 4.2, 1.4, 0.2],\n",
              "       [7.3, 2.9, 6.3, 1.8],\n",
              "       [5. , 3.4, 1.5, 0.2]])"
            ]
          },
          "metadata": {
            "tags": []
          },
          "execution_count": 46
        }
      ]
    },
    {
      "metadata": {
        "id": "U_LxeIbmH06Z",
        "colab_type": "code",
        "outputId": "e3877a81-8cc6-4cd3-9035-a3c2d3d7ad8d",
        "colab": {}
      },
      "cell_type": "code",
      "source": [
        "# 테스트 세트에 대한 예측\n",
        "y_pred = knn.predict(X_test)\n",
        "print(\"테스트 세트에 대한 예측값:\\n {}\".format(y_pred))"
      ],
      "execution_count": 0,
      "outputs": [
        {
          "output_type": "stream",
          "text": [
            "테스트 세트에 대한 예측값:\n",
            " [2 1 0 2 0 2 0 1 1 1 2 1 1 1 1 0 1 1 0 0 2 1 0 0 2 0 0 1 1 0 2 1 0 2 2 1 0\n",
            " 2]\n"
          ],
          "name": "stdout"
        }
      ]
    },
    {
      "metadata": {
        "id": "Swy_RjkSH06Z",
        "colab_type": "code",
        "outputId": "a1a5db77-303e-44c2-e9d5-ac225ab5b0b2",
        "colab": {}
      },
      "cell_type": "code",
      "source": [
        "# 정확도\n",
        "print(\"테스트 세트의 정확도: {:.2f}\".format(np.mean(y_pred == y_test)))"
      ],
      "execution_count": 0,
      "outputs": [
        {
          "output_type": "stream",
          "text": [
            "테스트 세트의 정확도: 0.97\n"
          ],
          "name": "stdout"
        }
      ]
    },
    {
      "metadata": {
        "id": "HohLtQP3H06b",
        "colab_type": "code",
        "outputId": "187494a4-f8f2-4389-c99e-f1803e7800ba",
        "colab": {}
      },
      "cell_type": "code",
      "source": [
        "# 또 knn 객체의 score 메서드로도 테스트 세트의 정확도를 계산할 수 있습니다.\n",
        "print(\"테스트 세트의 정확도: {:.2f}\".format(knn.score(X_test, y_test)))"
      ],
      "execution_count": 0,
      "outputs": [
        {
          "output_type": "stream",
          "text": [
            "테스트 세트의 정확도: 0.97\n"
          ],
          "name": "stdout"
        }
      ]
    },
    {
      "metadata": {
        "id": "m_Qq3VjLH06d",
        "colab_type": "text"
      },
      "cell_type": "markdown",
      "source": [
        "* 이 모델의 테스트 세트에 대한 정확도는 약 0.97입니다. \n",
        "* 이 말은 테스트 세트에 포함된 붓꽃 중 97%의 품종을 정확히 맞혔다는 뜻입니다.\n",
        "* 이 결과 이 모델은 새로운 붓꽃에 대한 정확도가 97%일 것이라 기대할 수 있습니다. \n",
        "* 정확도가 높으므로 아마추어 식물학자는 이 애플리케이션을 충분히 신뢰하고 사용할만합니다. "
      ]
    },
    {
      "metadata": {
        "id": "TEnnrsv6H06e",
        "colab_type": "text"
      },
      "cell_type": "markdown",
      "source": [
        "***"
      ]
    },
    {
      "metadata": {
        "id": "IvtRUH88H06e",
        "colab_type": "text"
      },
      "cell_type": "markdown",
      "source": [
        "### 2. Price of RAM (Linear regression)\n",
        "\n",
        "> [ram_price.csv](https://github.com/Redwoods/Py/blob/master/py-basic/tips/ram_price.csv)"
      ]
    },
    {
      "metadata": {
        "id": "sIvqQ_huH06g",
        "colab_type": "text"
      },
      "cell_type": "markdown",
      "source": [
        "아래는 로그 스케일로 그린 연도별 RAM 가격이다.\n",
        "\n",
        "선형 회기를 이용해서 RAM 가격 예측 모델을 만들어보자."
      ]
    },
    {
      "metadata": {
        "id": "EJNkA7UeH06g",
        "colab_type": "code",
        "colab": {}
      },
      "cell_type": "code",
      "source": [
        "import pandas as pd\n",
        "import numpy as np\n",
        "import matplotlib.pyplot as plt\n",
        "%matplotlib inline"
      ],
      "execution_count": 0,
      "outputs": []
    },
    {
      "metadata": {
        "id": "l6MvBxzAH06i",
        "colab_type": "code",
        "outputId": "e15028bd-6753-4417-f876-408888bf87b4",
        "colab": {}
      },
      "cell_type": "code",
      "source": [
        "ram_prices = pd.read_csv(\"ram_price.csv\")\n",
        "\n",
        "plt.figure(figsize=(9,6))\n",
        "plt.yticks(fontname = \"Arial\") # 한글 폰트가 지수에 음수를 표시하지 못하므로 ytick의 폰트를 바꾸어 줍니다.\n",
        "plt.semilogy(ram_prices.date, ram_prices.price)\n",
        "plt.xlabel(\"Year\")\n",
        "plt.ylabel(\"Price ($/Mbyte)\")"
      ],
      "execution_count": 0,
      "outputs": [
        {
          "output_type": "execute_result",
          "data": {
            "text/plain": [
              "Text(0,0.5,'Price ($/Mbyte)')"
            ]
          },
          "metadata": {
            "tags": []
          },
          "execution_count": 53
        },
        {
          "output_type": "display_data",
          "data": {
            "image/png": "[encoded data removed]",
            "text/plain": [
              "<Figure size 648x432 with 1 Axes>"
            ]
          },
          "metadata": {
            "tags": [],
            "needs_background": "light"
          }
        }
      ]
    },
    {
      "metadata": {
        "id": "JsEtKHxuH06l",
        "colab_type": "code",
        "outputId": "6f6068a7-1a1d-4431-bdc1-1806b0b6d3cb",
        "colab": {}
      },
      "cell_type": "code",
      "source": [
        "ram_prices.head(),ram_prices.tail()"
      ],
      "execution_count": 0,
      "outputs": [
        {
          "output_type": "execute_result",
          "data": {
            "text/plain": [
              "(   Unnamed: 0    date        price\n",
              " 0           0  1957.0  411041792.0\n",
              " 1           1  1959.0   67947725.0\n",
              " 2           2  1960.0    5242880.0\n",
              " 3           3  1965.0    2642412.0\n",
              " 4           4  1970.0     734003.0,      Unnamed: 0     date   price\n",
              " 328         328  2015.58  0.0045\n",
              " 329         329  2015.67  0.0043\n",
              " 330         330  2015.75  0.0042\n",
              " 331         331  2015.83  0.0038\n",
              " 332         332  2015.92  0.0037)"
            ]
          },
          "metadata": {
            "tags": []
          },
          "execution_count": 54
        }
      ]
    },
    {
      "metadata": {
        "id": "38uKYZ8RH06m",
        "colab_type": "text"
      },
      "cell_type": "markdown",
      "source": [
        "* y축(가격)은 로그 스케일로 로그 스케일로 그리면 약간의 굴곡을 제외하고는 선형적으로 나타나서 예측이 쉬워진다.\n",
        "* 2000년 전까지의 데이터로 2000년 후의 데이터를 예측해보자. \n",
        "* 선형회귀(LinearRegression)를 수행한다. \n",
        "* 모델을 훈련시키고 예측을 수행한 후 로그 스케일로 되돌리기 위해 지수 함수를 사용한다."
      ]
    },
    {
      "metadata": {
        "id": "vDwvkIz_H06n",
        "colab_type": "code",
        "colab": {}
      },
      "cell_type": "code",
      "source": [
        "# 머심러닝 방법 선택과 훈련/테스트 데이터 구성\n",
        "# LinearRegression\n",
        "from sklearn.linear_model import LinearRegression\n",
        "# 2000년 이전을 훈련 데이터로, 2000년 이후를 테스트 데이터로 만듭니다\n",
        "data_train = ram_prices[ram_prices.date < 2000]\n",
        "data_test = ram_prices[ram_prices.date >= 2000]"
      ],
      "execution_count": 0,
      "outputs": []
    },
    {
      "metadata": {
        "id": "GFM4Tlp0H06p",
        "colab_type": "code",
        "colab": {}
      },
      "cell_type": "code",
      "source": [
        "# 데이터 전처리\n",
        "# 가격 예측을 위해 날짜 특성만을 이용합니다\n",
        "X_train = data_train.date[:, np.newaxis]\n",
        "# 데이터와 타깃 사이의 관계를 간단하게 만들기 위해 로그 스케일로 바꿉니다\n",
        "y_train = np.log(data_train.price)"
      ],
      "execution_count": 0,
      "outputs": []
    },
    {
      "metadata": {
        "id": "a5Wc7OJHH06r",
        "colab_type": "code",
        "outputId": "f9a23b32-2de3-4cde-db55-1708a19f1e06",
        "colab": {}
      },
      "cell_type": "code",
      "source": [
        "# 선형 회기 모델 만들기\n",
        "linear_reg = LinearRegression().fit(X_train, y_train)\n",
        "\n",
        "# 예측은 전체 기간에 대해서 수행합니다\n",
        "X_all = ram_prices.date[:, np.newaxis]\n",
        "\n",
        "pred_lr = linear_reg.predict(X_all)\n",
        "\n",
        "# 예측한 값의 로그 스케일을 원래 값으로 되돌립니다\n",
        "price_lr = np.exp(pred_lr)\n",
        "\n",
        "# 예측 그래프\n",
        "plt.figure(figsize=(9,6))\n",
        "plt.yticks(fontname = \"Arial\") # 한글 폰트가 지수에 음수를 표시하지 못하므로 ytick의 폰트를 바꾸어 줍니다.\n",
        "plt.semilogy(data_train.date, data_train.price, label=\"train data\")\n",
        "plt.semilogy(data_test.date, data_test.price, label=\"test data\")\n",
        "plt.semilogy(ram_prices.date, price_lr, label=\"prediction\")\n",
        "plt.legend()"
      ],
      "execution_count": 0,
      "outputs": [
        {
          "output_type": "execute_result",
          "data": {
            "text/plain": [
              "<matplotlib.legend.Legend at 0x205e02055f8>"
            ]
          },
          "metadata": {
            "tags": []
          },
          "execution_count": 59
        },
        {
          "output_type": "display_data",
          "data": {
            "image/png": "[encoded data removed]",
            "text/plain": [
              "<Figure size 648x432 with 1 Axes>"
            ]
          },
          "metadata": {
            "tags": [],
            "needs_background": "light"
          }
        }
      ]
    },
    {
      "metadata": {
        "id": "sGFJ4TSfH06s",
        "colab_type": "text"
      },
      "cell_type": "markdown",
      "source": [
        "### 도전하기 \n",
        "\n",
        "> RAM 가격 변동에 대한 선형 회기 모델의 정확도를 구하시오."
      ]
    },
    {
      "metadata": {
        "id": "v8XmxNCRH06t",
        "colab_type": "code",
        "outputId": "10d5fb4e-ed99-4f91-82f4-54a196d6cf1b",
        "colab": {}
      },
      "cell_type": "code",
      "source": [
        "# RAM 가격 변동에 대한 선형 회기 모델의 정확도\n",
        "\n",
        "\n",
        "\n"
      ],
      "execution_count": 0,
      "outputs": [
        {
          "output_type": "stream",
          "text": [
            "테스트 세트의 정확도: 0.83\n"
          ],
          "name": "stdout"
        }
      ]
    },
    {
      "metadata": {
        "id": "rcFNutlmH06w",
        "colab_type": "text"
      },
      "cell_type": "markdown",
      "source": [
        "* 선형 모델은 직선으로 데이터를 근사하여 결과를 예측한다 \n",
        "* 모델이 가진 데이터 범위 밖에서도 외삽(extreapolation)을 이용해서 예측한다. "
      ]
    },
    {
      "metadata": {
        "id": "TNwrxF7AH06w",
        "colab_type": "text"
      },
      "cell_type": "markdown",
      "source": [
        "### 3. 수능 점수 예측 (다변수 선형회기, Multivariate Linear regression)\n",
        "\n",
        "> [data-01-test-score.csv](https://github.com/Redwoods/Py/blob/master/py-basic/tips/data-01-test-score.csv)"
      ]
    },
    {
      "metadata": {
        "id": "lj34RcZFH06x",
        "colab_type": "text"
      },
      "cell_type": "markdown",
      "source": [
        "수험생 25명의 수능 세 개 영역의 점수를 이용해서 수능 점수를 예측하는 다변수 선형회기 모델을 만든다."
      ]
    },
    {
      "metadata": {
        "id": "E5V43E_YH06x",
        "colab_type": "code",
        "outputId": "a62af004-a64d-4ce1-b878-313462d44546",
        "colab": {}
      },
      "cell_type": "code",
      "source": [
        "# data\n",
        "data = np.loadtxt('./data-01-test-score.csv', delimiter=',', dtype=np.float32)\n",
        "data"
      ],
      "execution_count": 0,
      "outputs": [
        {
          "output_type": "execute_result",
          "data": {
            "text/plain": [
              "array([[ 73.,  80.,  75., 152.],\n",
              "       [ 93.,  88.,  93., 185.],\n",
              "       [ 89.,  91.,  90., 180.],\n",
              "       [ 96.,  98., 100., 196.],\n",
              "       [ 73.,  66.,  70., 142.],\n",
              "       [ 53.,  46.,  55., 101.],\n",
              "       [ 69.,  74.,  77., 149.],\n",
              "       [ 47.,  56.,  60., 115.],\n",
              "       [ 87.,  79.,  90., 175.],\n",
              "       [ 79.,  70.,  88., 164.],\n",
              "       [ 69.,  70.,  73., 141.],\n",
              "       [ 70.,  65.,  74., 141.],\n",
              "       [ 93.,  95.,  91., 184.],\n",
              "       [ 79.,  80.,  73., 152.],\n",
              "       [ 70.,  73.,  78., 148.],\n",
              "       [ 93.,  89.,  96., 192.],\n",
              "       [ 78.,  75.,  68., 147.],\n",
              "       [ 81.,  90.,  93., 183.],\n",
              "       [ 88.,  92.,  86., 177.],\n",
              "       [ 78.,  83.,  77., 159.],\n",
              "       [ 82.,  86.,  90., 177.],\n",
              "       [ 86.,  82.,  89., 175.],\n",
              "       [ 78.,  83.,  85., 175.],\n",
              "       [ 76.,  83.,  71., 149.],\n",
              "       [ 96.,  93.,  95., 192.]], dtype=float32)"
            ]
          },
          "metadata": {
            "tags": []
          },
          "execution_count": 63
        }
      ]
    },
    {
      "metadata": {
        "id": "Mjpi7MiTH060",
        "colab_type": "text"
      },
      "cell_type": "markdown",
      "source": [
        "#### [1] 25명 전체 데이터를 훈련 데이터로 지정한다."
      ]
    },
    {
      "metadata": {
        "id": "c9JtxR5nH060",
        "colab_type": "code",
        "colab": {}
      },
      "cell_type": "code",
      "source": [
        "# LinearRegression\n",
        "from sklearn.linear_model import LinearRegression\n",
        "\n",
        "# 25명 전체 데이터를 훈련 데이터로 지정한다.\n",
        "data_X = data[:, 0:-1]\n",
        "data_y = data[:,[-1]]"
      ],
      "execution_count": 0,
      "outputs": []
    },
    {
      "metadata": {
        "id": "7YWT_UbSH061",
        "colab_type": "code",
        "outputId": "49dba781-a89c-4114-bbf9-2e3f807605e5",
        "colab": {}
      },
      "cell_type": "code",
      "source": [
        "data_X.shape, data_y.shape"
      ],
      "execution_count": 0,
      "outputs": [
        {
          "output_type": "execute_result",
          "data": {
            "text/plain": [
              "((25, 3), (25, 1))"
            ]
          },
          "metadata": {
            "tags": []
          },
          "execution_count": 65
        }
      ]
    },
    {
      "metadata": {
        "id": "0J0o7JmRH063",
        "colab_type": "code",
        "outputId": "ebc21a03-1914-4a9d-b9b0-0c7cf13b1a34",
        "colab": {}
      },
      "cell_type": "code",
      "source": [
        "data_X,data_y  # 영역별 점수와 수능점수"
      ],
      "execution_count": 0,
      "outputs": [
        {
          "output_type": "execute_result",
          "data": {
            "text/plain": [
              "(array([[ 73.,  80.,  75.],\n",
              "        [ 93.,  88.,  93.],\n",
              "        [ 89.,  91.,  90.],\n",
              "        [ 96.,  98., 100.],\n",
              "        [ 73.,  66.,  70.],\n",
              "        [ 53.,  46.,  55.],\n",
              "        [ 69.,  74.,  77.],\n",
              "        [ 47.,  56.,  60.],\n",
              "        [ 87.,  79.,  90.],\n",
              "        [ 79.,  70.,  88.],\n",
              "        [ 69.,  70.,  73.],\n",
              "        [ 70.,  65.,  74.],\n",
              "        [ 93.,  95.,  91.],\n",
              "        [ 79.,  80.,  73.],\n",
              "        [ 70.,  73.,  78.],\n",
              "        [ 93.,  89.,  96.],\n",
              "        [ 78.,  75.,  68.],\n",
              "        [ 81.,  90.,  93.],\n",
              "        [ 88.,  92.,  86.],\n",
              "        [ 78.,  83.,  77.],\n",
              "        [ 82.,  86.,  90.],\n",
              "        [ 86.,  82.,  89.],\n",
              "        [ 78.,  83.,  85.],\n",
              "        [ 76.,  83.,  71.],\n",
              "        [ 96.,  93.,  95.]], dtype=float32), array([[152.],\n",
              "        [185.],\n",
              "        [180.],\n",
              "        [196.],\n",
              "        [142.],\n",
              "        [101.],\n",
              "        [149.],\n",
              "        [115.],\n",
              "        [175.],\n",
              "        [164.],\n",
              "        [141.],\n",
              "        [141.],\n",
              "        [184.],\n",
              "        [152.],\n",
              "        [148.],\n",
              "        [192.],\n",
              "        [147.],\n",
              "        [183.],\n",
              "        [177.],\n",
              "        [159.],\n",
              "        [177.],\n",
              "        [175.],\n",
              "        [175.],\n",
              "        [149.],\n",
              "        [192.]], dtype=float32))"
            ]
          },
          "metadata": {
            "tags": []
          },
          "execution_count": 67
        }
      ]
    },
    {
      "metadata": {
        "id": "44z9yD2hH068",
        "colab_type": "code",
        "colab": {}
      },
      "cell_type": "code",
      "source": [
        "# 수능 점수 예측을 위한 트레인 데이터 만들기\n",
        "X_train = data_X\n",
        "y_train = data_y\n",
        "# 선형 회기 모델 만들기\n",
        "lr_model = LinearRegression().fit(X_train, y_train)"
      ],
      "execution_count": 0,
      "outputs": []
    },
    {
      "metadata": {
        "id": "eXZcrOepH06-",
        "colab_type": "code",
        "outputId": "79b8a40b-3fdd-4b0c-87ec-ec92e09d5377",
        "colab": {}
      },
      "cell_type": "code",
      "source": [
        "lr_model"
      ],
      "execution_count": 0,
      "outputs": [
        {
          "output_type": "execute_result",
          "data": {
            "text/plain": [
              "LinearRegression(copy_X=True, fit_intercept=True, n_jobs=None,\n",
              "         normalize=False)"
            ]
          },
          "metadata": {
            "tags": []
          },
          "execution_count": 69
        }
      ]
    },
    {
      "metadata": {
        "id": "NRY5YhBCH06-",
        "colab_type": "code",
        "outputId": "984eb0c6-d032-4fcd-ae35-0a35a21e75d7",
        "colab": {}
      },
      "cell_type": "code",
      "source": [
        "lr_model.coef_,lr_model.intercept_"
      ],
      "execution_count": 0,
      "outputs": [
        {
          "output_type": "execute_result",
          "data": {
            "text/plain": [
              "(array([[0.35593837, 0.54251873, 1.1674445 ]], dtype=float32),\n",
              " array([-4.336151], dtype=float32))"
            ]
          },
          "metadata": {
            "tags": []
          },
          "execution_count": 71
        }
      ]
    },
    {
      "metadata": {
        "id": "W3a7bLgdH07A",
        "colab_type": "code",
        "colab": {}
      },
      "cell_type": "code",
      "source": [
        "# 3개 영역 점수로 수능 점수 예측 비교\n",
        "test = np.array([100, 98, 81])"
      ],
      "execution_count": 0,
      "outputs": []
    },
    {
      "metadata": {
        "id": "--GNjE1KH07B",
        "colab_type": "code",
        "outputId": "b14c1b07-5a67-4ede-9975-c07d40476f91",
        "colab": {}
      },
      "cell_type": "code",
      "source": [
        "lr_model.predict(test.reshape(1,-1))"
      ],
      "execution_count": 0,
      "outputs": [
        {
          "output_type": "execute_result",
          "data": {
            "text/plain": [
              "array([[178.98752427]])"
            ]
          },
          "metadata": {
            "tags": []
          },
          "execution_count": 73
        }
      ]
    },
    {
      "metadata": {
        "id": "h_yP3HNxH07D",
        "colab_type": "code",
        "outputId": "ac3cd710-452b-43e7-a5be-133966b6caff",
        "colab": {}
      },
      "cell_type": "code",
      "source": [
        "# 수능 점수에 대한 선형 회기 모델의 정확도\n",
        "print(\"트레인 세트의 정확도: {:.2f}\".format(lr_model.score(X_train, y_train)))"
      ],
      "execution_count": 0,
      "outputs": [
        {
          "output_type": "stream",
          "text": [
            "트레인 세트의 정확도: 0.99\n"
          ],
          "name": "stdout"
        }
      ]
    },
    {
      "metadata": {
        "id": "Qafi69oEH07F",
        "colab_type": "text"
      },
      "cell_type": "markdown",
      "source": [
        "> overfitting!!"
      ]
    },
    {
      "metadata": {
        "id": "NFiPkeQ8H07F",
        "colab_type": "text"
      },
      "cell_type": "markdown",
      "source": [
        "***"
      ]
    },
    {
      "metadata": {
        "id": "JppgQFeAH07F",
        "colab_type": "text"
      },
      "cell_type": "markdown",
      "source": [
        "## [wk11] Homework\n",
        "\n",
        "> 25명 중 20명의 데이터를 훈련 데이터, 나머지 5명을 데스트 데이터로 지정한다.\n",
        "\n",
        "> 모델의 정확도를 계산한다.\n",
        "\n",
        "##### ================== 마감: 2018.11.18(일). 24:00"
      ]
    },
    {
      "metadata": {
        "id": "xewMHN_bH07F",
        "colab_type": "text"
      },
      "cell_type": "markdown",
      "source": [
        "> [1] 데이터 구성"
      ]
    },
    {
      "metadata": {
        "id": "UbXVkPebH07G",
        "colab_type": "code",
        "colab": {}
      },
      "cell_type": "code",
      "source": [
        "# 데이터 구성\n",
        "\n",
        "import numpy as np\n",
        "\n",
        "np.random.seed(9)\n",
        "data = np.linspace(0, 100, 25, dtype=np.int)\n",
        "\n",
        "def f(X):\n",
        "  return np.sin(2*np.pi*X)"
      ],
      "execution_count": 0,
      "outputs": []
    },
    {
      "metadata": {
        "id": "VYPpipBrKK4y",
        "colab_type": "code",
        "colab": {}
      },
      "cell_type": "code",
      "source": [
        "# 데이터 구성\n",
        "X = np.random.uniform(0, 1, size=25)[:, np.newaxis]\n",
        "y = f(X)+np.random.normal(scale=0.3, size=25)[:, np.newaxis]"
      ],
      "execution_count": 0,
      "outputs": []
    },
    {
      "metadata": {
        "id": "Tdf0q-nlH07H",
        "colab_type": "code",
        "colab": {}
      },
      "cell_type": "code",
      "source": [
        "from sklearn.model_selection import train_test_split\n",
        "X_test, X_train, y_test, y_train = train_test_split(X, y, test_size=0.8) "
      ],
      "execution_count": 0,
      "outputs": []
    },
    {
      "metadata": {
        "id": "aA6buUY3KX5M",
        "colab_type": "code",
        "colab": {
          "base_uri": "https://localhost:8080/",
          "height": 35
        },
        "outputId": "d19650fb-0456-4ec7-8fe0-f8b5d08e2245"
      },
      "cell_type": "code",
      "source": [
        "X_train.shape, y_train.shape, X_test.shape, y_test.shape"
      ],
      "execution_count": 5,
      "outputs": [
        {
          "output_type": "execute_result",
          "data": {
            "text/plain": [
              "((20, 1), (20, 1), (5, 1), (5, 1))"
            ]
          },
          "metadata": {
            "tags": []
          },
          "execution_count": 5
        }
      ]
    },
    {
      "metadata": {
        "id": "88lz8EDMKapl",
        "colab_type": "code",
        "colab": {}
      },
      "cell_type": "code",
      "source": [
        "data1 = data.reshape(5, 5)"
      ],
      "execution_count": 0,
      "outputs": []
    },
    {
      "metadata": {
        "id": "1a1LVepfKdRp",
        "colab_type": "code",
        "colab": {
          "base_uri": "https://localhost:8080/",
          "height": 107
        },
        "outputId": "7f7b6da8-e932-4382-c3dc-fb5624f78819"
      },
      "cell_type": "code",
      "source": [
        "data1"
      ],
      "execution_count": 7,
      "outputs": [
        {
          "output_type": "execute_result",
          "data": {
            "text/plain": [
              "array([[  0,   4,   8,  12,  16],\n",
              "       [ 20,  25,  29,  33,  37],\n",
              "       [ 41,  45,  50,  54,  58],\n",
              "       [ 62,  66,  70,  75,  79],\n",
              "       [ 83,  87,  91,  95, 100]])"
            ]
          },
          "metadata": {
            "tags": []
          },
          "execution_count": 7
        }
      ]
    },
    {
      "metadata": {
        "id": "Ldz4WI1EH07H",
        "colab_type": "text"
      },
      "cell_type": "markdown",
      "source": [
        "> [2] 선형 회기 모델"
      ]
    },
    {
      "metadata": {
        "id": "73M5VMf5H07H",
        "colab_type": "code",
        "colab": {
          "base_uri": "https://localhost:8080/",
          "height": 53
        },
        "outputId": "4422ab7c-fb7b-4eab-cf7a-e2ee407d207e"
      },
      "cell_type": "code",
      "source": [
        "# 20명의 트레인 데이터 이용\n",
        "# 선형회기모델 만들기\n",
        "# Linear 이용\n",
        "\n",
        "from sklearn.linear_model import LinearRegression\n",
        "data_X = data1[:, 0:-1]\n",
        "data_y = data1[:,[-1]]\n",
        "# 수능점수 예측\n",
        "X_train = data_X\n",
        "y_train = data_y\n",
        "# 선형회기 모델\n",
        "lr_model = LinearRegression().fit(X_train, y_train)\n",
        "lr_model\n",
        "lr_model.coef_,lr_model.intercept_"
      ],
      "execution_count": 12,
      "outputs": [
        {
          "output_type": "execute_result",
          "data": {
            "text/plain": [
              "(array([[0.25301205, 0.25301205, 0.25301205, 0.25301205]]),\n",
              " array([9.92771084]))"
            ]
          },
          "metadata": {
            "tags": []
          },
          "execution_count": 12
        }
      ]
    },
    {
      "metadata": {
        "id": "mp6GB_KRH07J",
        "colab_type": "text"
      },
      "cell_type": "markdown",
      "source": [
        "> [3] 예측과 정확도 평가"
      ]
    },
    {
      "metadata": {
        "id": "owJ2snrFKjCJ",
        "colab_type": "code",
        "colab": {
          "base_uri": "https://localhost:8080/",
          "height": 53
        },
        "outputId": "07904136-0591-40df-e14b-fbd057ae1e43"
      },
      "cell_type": "code",
      "source": [
        "lr_model.coef_,lr_model.intercept_"
      ],
      "execution_count": 9,
      "outputs": [
        {
          "output_type": "execute_result",
          "data": {
            "text/plain": [
              "(array([[0.25301205, 0.25301205, 0.25301205, 0.25301205]]),\n",
              " array([9.92771084]))"
            ]
          },
          "metadata": {
            "tags": []
          },
          "execution_count": 9
        }
      ]
    },
    {
      "metadata": {
        "id": "9i5njWt6H07J",
        "colab_type": "code",
        "colab": {
          "base_uri": "https://localhost:8080/",
          "height": 35
        },
        "outputId": "5d06d7be-54b0-40cb-a238-439106fb4f15"
      },
      "cell_type": "code",
      "source": [
        "# 테스트 데이터에 대한 예측과 정확도 평가\n",
        "\n",
        "lr_model.coef_,lr_model.intercept_\n",
        "test1 = np.array([11, 97, 81, 50])\n",
        "lr_model.predict(test1.reshape(1, -1))\n",
        "# 선형회기모델 정확도\n",
        "\n",
        "print(\"트레인세트의 정확도: {:.2f}\".format(lr_model.score(X_train, y_train)))"
      ],
      "execution_count": 11,
      "outputs": [
        {
          "output_type": "stream",
          "text": [
            "트레인세트의 정확도: 1.00\n"
          ],
          "name": "stdout"
        }
      ]
    },
    {
      "metadata": {
        "id": "SfL6VgTVH07J",
        "colab_type": "text"
      },
      "cell_type": "markdown",
      "source": [
        "## [wk11] Study\n",
        "\n",
        "> 다음 Youtube 강의 3편를 들으면서 linear regression을 공부하시오.\n",
        "\n",
        "> 특히, 세번째 동영상 linear regression III를 이번 과제와 연관해서 공부하시오.\n"
      ]
    },
    {
      "metadata": {
        "id": "MebW0zhaH07J",
        "colab_type": "code",
        "outputId": "663c8853-bc96-47c5-cd81-4c83abd121c2",
        "colab": {}
      },
      "cell_type": "code",
      "source": [
        "from IPython.lib.display import YouTubeVideo\n",
        "YouTubeVideo('uk7UfDgVKrU')  # linear regression I"
      ],
      "execution_count": 0,
      "outputs": [
        {
          "output_type": "execute_result",
          "data": {
            "image/jpeg": "[encoded data removed]",
            "text/html": [
              "\n",
              "        <iframe\n",
              "            width=\"400\"\n",
              "            height=\"300\"\n",
              "            src=\"https://www.youtube.com/embed/uk7UfDgVKrU\"\n",
              "            frameborder=\"0\"\n",
              "            allowfullscreen\n",
              "        ></iframe>\n",
              "        "
            ],
            "text/plain": [
              "<IPython.lib.display.YouTubeVideo at 0x205e03d5978>"
            ]
          },
          "metadata": {
            "tags": []
          },
          "execution_count": 85
        }
      ]
    },
    {
      "metadata": {
        "id": "lmmQCfHOH07K",
        "colab_type": "code",
        "outputId": "e04300b2-f495-42df-e0c9-de5bdeec8b46",
        "colab": {}
      },
      "cell_type": "code",
      "source": [
        "YouTubeVideo('q0pQ_AdphDo')  # linear regression II"
      ],
      "execution_count": 0,
      "outputs": [
        {
          "output_type": "execute_result",
          "data": {
            "image/jpeg": "[encoded data removed]",
            "text/html": [
              "\n",
              "        <iframe\n",
              "            width=\"400\"\n",
              "            height=\"300\"\n",
              "            src=\"https://www.youtube.com/embed/q0pQ_AdphDo\"\n",
              "            frameborder=\"0\"\n",
              "            allowfullscreen\n",
              "        ></iframe>\n",
              "        "
            ],
            "text/plain": [
              "<IPython.lib.display.YouTubeVideo at 0x205e03d5fd0>"
            ]
          },
          "metadata": {
            "tags": []
          },
          "execution_count": 86
        }
      ]
    },
    {
      "metadata": {
        "id": "xAcjjWlnH07M",
        "colab_type": "code",
        "outputId": "55a23d68-94d1-43f9-fc6d-f1ed66baa8ce",
        "colab": {}
      },
      "cell_type": "code",
      "source": [
        "YouTubeVideo('Aw-E-jw3WaE')  # linear regression III"
      ],
      "execution_count": 0,
      "outputs": [
        {
          "output_type": "execute_result",
          "data": {
            "image/jpeg": "[encoded data removed]",
            "text/html": [
              "\n",
              "        <iframe\n",
              "            width=\"400\"\n",
              "            height=\"300\"\n",
              "            src=\"https://www.youtube.com/embed/Aw-E-jw3WaE\"\n",
              "            frameborder=\"0\"\n",
              "            allowfullscreen\n",
              "        ></iframe>\n",
              "        "
            ],
            "text/plain": [
              "<IPython.lib.display.YouTubeVideo at 0x205e03d5b00>"
            ]
          },
          "metadata": {
            "tags": []
          },
          "execution_count": 87
        }
      ]
    },
    {
      "metadata": {
        "id": "mCDYh1t1H07M",
        "colab_type": "text"
      },
      "cell_type": "markdown",
      "source": [
        "***"
      ]
    }
  ]
}