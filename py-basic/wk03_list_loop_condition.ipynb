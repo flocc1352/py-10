{
  "nbformat": 4,
  "nbformat_minor": 0,
  "metadata": {
    "colab": {
      "name": "wk03_list_loop_condition",
      "version": "0.3.2",
      "provenance": [],
      "collapsed_sections": [
        "6ozunBWPsGSI",
        "IIAINpl6sGSJ",
        "oN4Emg6esGSL",
        "nZ6sytB4sGSM"
      ],
      "include_colab_link": true
    },
    "kernelspec": {
      "display_name": "Python 3",
      "language": "python",
      "name": "python3"
    }
  },
  "cells": [
    {
      "cell_type": "markdown",
      "metadata": {
        "id": "view-in-github",
        "colab_type": "text"
      },
      "source": [
        "[View in Colaboratory](https://colab.research.google.com/github/flocc1352/py-10/blob/master/py-basic/wk03_list_loop_condition.ipynb)"
      ]
    },
    {
      "metadata": {
        "id": "tArxfed8sVHt",
        "colab_type": "toc"
      },
      "cell_type": "markdown",
      "source": [
        ">>[리스트 사용 (Ch.2-4)](#scrollTo=9uVTDCgRsGPP)\n",
        "\n",
        ">>>[리스트 정의](#scrollTo=ru6EEnAUsGPV)\n",
        "\n",
        ">>>[인덱스(index)를 사용하여 리스트의 요소를 추출](#scrollTo=weI6J2rYsGPn)\n",
        "\n",
        ">>>[max & argmax of list](#scrollTo=Dz2iKMNvsGP0)\n",
        "\n",
        ">>>[리스트(List)의 연결](#scrollTo=vvAi9ThssGP3)\n",
        "\n",
        ">>>>[연도별로 온도 변화 그래프 그리기](#scrollTo=4jdJVzj8sGP9)\n",
        "\n",
        ">>>[리스트(List) 요소의 변경 삭제](#scrollTo=mmaQEbgFsGQC)\n",
        "\n",
        ">>>[슬라이스를 이용하여 여러 요소를 추출](#scrollTo=2Fc-l__AsGQK)\n",
        "\n",
        ">>>[리스트의 리스트 － 2 차원 배열](#scrollTo=XPlXfCOCsGQY)\n",
        "\n",
        ">>>[리스트의 합계 최대값, 최소값](#scrollTo=caG_CXXYsGQg)\n",
        "\n",
        ">>>[리스트의 항목 수를 측정](#scrollTo=WFGJQB7ZsGQp)\n",
        "\n",
        ">>[for문에서 루프를 사용 (Ch.2-5)](#scrollTo=J29gZuBPsGQv)\n",
        "\n",
        ">>>[range() 함수](#scrollTo=oV5ldFZAsGQ4)\n",
        "\n",
        ">>>[도전코딩-3.](#scrollTo=CTAMvCBGsGRD)\n",
        "\n",
        ">>[if문에서 조건 분기 (Ch.2-6)](#scrollTo=ApwgH1LxsGRF)\n",
        "\n",
        ">>>[수치를 비교](#scrollTo=4DmVVBDMsGRH)\n",
        "\n",
        ">>>[문자열을 비교](#scrollTo=KBdpVV6QsGRU)\n",
        "\n",
        ">>>[문자열을 검색](#scrollTo=GQcNaq5-sGRX)\n",
        "\n",
        ">>>[리스트를 비교](#scrollTo=Ok4vX977sGRY)\n",
        "\n",
        ">>>[리스트의 요소를 검색](#scrollTo=t29ifernsGRa)\n",
        "\n",
        ">>>[else문을 사용](#scrollTo=ooZ90pD1sGRf)\n",
        "\n",
        ">>>[elif문의 사용](#scrollTo=2zivsJWbsGRj)\n",
        "\n",
        ">>[함수를 사용 (Ch.2-7)](#scrollTo=McAvlPsssGRq)\n",
        "\n",
        ">>>[함수란](#scrollTo=SVZ-xg4asGRq)\n",
        "\n",
        ">>>[도전코딩 4.](#scrollTo=3poMHJA9sGRv)\n",
        "\n",
        ">>>[함수를 호출](#scrollTo=out4ALeKsGRy)\n",
        "\n",
        ">>>[함수의 인수](#scrollTo=pJzh4pmmsGR0)\n",
        "\n",
        ">>>[함수의 정의](#scrollTo=c4zevMkMsGR3)\n",
        "\n",
        ">>>[인수 (매개변수)를 정의](#scrollTo=N78u01_1sGR6)\n",
        "\n",
        ">>>[함수의 반환값](#scrollTo=BYAxZuXHsGR_)\n",
        "\n",
        ">>>[지역 변수](#scrollTo=t3WNsIHjsGSC)\n",
        "\n",
        ">>>[반복 사용하는 코드를 함수로 정리](#scrollTo=SR_PE-kosGSD)\n",
        "\n",
        ">>[모듈 사용 (Ch.2-8)](#scrollTo=0Yqai7gcsGSI)\n",
        "\n",
        ">>>[모듈 import (가져 오기)](#scrollTo=6ozunBWPsGSI)\n",
        "\n",
        ">>>[import ~ as ~](#scrollTo=IIAINpl6sGSJ)\n",
        "\n",
        ">>>[from을 사용한 import](#scrollTo=oN4Emg6esGSL)\n",
        "\n",
        ">>>[도전코딩 5. 모듈사용](#scrollTo=nZ6sytB4sGSM)\n",
        "\n"
      ]
    },
    {
      "metadata": {
        "id": "9uVTDCgRsGPP",
        "colab_type": "text"
      },
      "cell_type": "markdown",
      "source": [
        "## 리스트 사용 (Ch.2-4)"
      ]
    },
    {
      "metadata": {
        "id": "ru6EEnAUsGPV",
        "colab_type": "text"
      },
      "cell_type": "markdown",
      "source": [
        "### 리스트 정의"
      ]
    },
    {
      "metadata": {
        "id": "oBl1i8ScJWys",
        "colab_type": "code",
        "colab": {}
      },
      "cell_type": "code",
      "source": [
        "year = range(1950,2010,10)"
      ],
      "execution_count": 0,
      "outputs": []
    },
    {
      "metadata": {
        "id": "yzXPk-hZsGPX",
        "colab_type": "code",
        "colab": {
          "base_uri": "https://localhost:8080/",
          "height": 35
        },
        "outputId": "372dfeac-390c-4b52-8023-b1faf796de10"
      },
      "cell_type": "code",
      "source": [
        "# 도쿄의 낮 평균 기온 (1950년부터 2000년까지)\n",
        "# 변수 리스트를 할당\n",
        "tokyo_temps2 = [15.1, 15.4, 15.2, 15.4, 17.0, 16.9]\n",
        "tokyo_temps2"
      ],
      "execution_count": 37,
      "outputs": [
        {
          "output_type": "execute_result",
          "data": {
            "text/plain": [
              "[15.1, 15.4, 15.2, 15.4, 17.0, 16.9]"
            ]
          },
          "metadata": {
            "tags": []
          },
          "execution_count": 37
        }
      ]
    },
    {
      "metadata": {
        "id": "OaRPObicsGPf",
        "colab_type": "code",
        "colab": {}
      },
      "cell_type": "code",
      "source": [
        "# 그래프의 표시 준비\n",
        "%matplotlib inline\n",
        "import matplotlib.pyplot as plt"
      ],
      "execution_count": 0,
      "outputs": []
    },
    {
      "metadata": {
        "id": "pj3AhL8SsGPj",
        "colab_type": "code",
        "colab": {
          "base_uri": "https://localhost:8080/",
          "height": 283
        },
        "outputId": "f250845a-f65f-42c8-8d4b-18c179cd2ee3"
      },
      "cell_type": "code",
      "source": [
        "# 그래프의 표시\n",
        "plt.plot(year, tokyo_temps2, 'g*-', ms=15)"
      ],
      "execution_count": 42,
      "outputs": [
        {
          "output_type": "execute_result",
          "data": {
            "text/plain": [
              "[<matplotlib.lines.Line2D at 0x7ffa3833acf8>]"
            ]
          },
          "metadata": {
            "tags": []
          },
          "execution_count": 42
        },
        {
          "output_type": "display_data",
          "data": {
            "image/png": "[encoded data removed]",
            "text/plain": [
              "<matplotlib.figure.Figure at 0x7ffa383b50f0>"
            ]
          },
          "metadata": {
            "tags": []
          }
        }
      ]
    },
    {
      "metadata": {
        "id": "CJk9-W-QtneY",
        "colab_type": "text"
      },
      "cell_type": "markdown",
      "source": [
        "#### 연도별 평균온도 그래프"
      ]
    },
    {
      "metadata": {
        "id": "8QV50B-Utltw",
        "colab_type": "code",
        "colab": {}
      },
      "cell_type": "code",
      "source": [
        "year = range(1950,2010,10)"
      ],
      "execution_count": 0,
      "outputs": []
    },
    {
      "metadata": {
        "id": "dZGkR5-uuDMZ",
        "colab_type": "code",
        "colab": {
          "base_uri": "https://localhost:8080/",
          "height": 283
        },
        "outputId": "ab1f25a2-99b9-42ef-a337-28773561f824"
      },
      "cell_type": "code",
      "source": [
        "plt.plot(year, tokyo_temps, 'r^-', ms=15)"
      ],
      "execution_count": 26,
      "outputs": [
        {
          "output_type": "execute_result",
          "data": {
            "text/plain": [
              "[<matplotlib.lines.Line2D at 0x7ffa385fde80>]"
            ]
          },
          "metadata": {
            "tags": []
          },
          "execution_count": 26
        },
        {
          "output_type": "display_data",
          "data": {
            "image/png": "[encoded data removed]",
            "text/plain": [
              "<matplotlib.figure.Figure at 0x7ffa3867f320>"
            ]
          },
          "metadata": {
            "tags": []
          }
        }
      ]
    },
    {
      "metadata": {
        "id": "weI6J2rYsGPn",
        "colab_type": "text"
      },
      "cell_type": "markdown",
      "source": [
        "### 인덱스(index)를 사용하여 리스트의 요소를 추출"
      ]
    },
    {
      "metadata": {
        "id": "n4n9wYtSsGPo",
        "colab_type": "code",
        "colab": {
          "base_uri": "https://localhost:8080/",
          "height": 35
        },
        "outputId": "004b0241-1744-43bd-b25e-1431f97863f7"
      },
      "cell_type": "code",
      "source": [
        "tokyo_temps[0]   # 1950년의 평균 기온"
      ],
      "execution_count": 7,
      "outputs": [
        {
          "output_type": "execute_result",
          "data": {
            "text/plain": [
              "15.1"
            ]
          },
          "metadata": {
            "tags": []
          },
          "execution_count": 7
        }
      ]
    },
    {
      "metadata": {
        "id": "vKssXB1usGPt",
        "colab_type": "code",
        "colab": {
          "base_uri": "https://localhost:8080/",
          "height": 35
        },
        "outputId": "58b7ea34-98f5-40a7-e7b2-47b367d6903b"
      },
      "cell_type": "code",
      "source": [
        "# 2000년까지 50년 평균 기온이 몇도 올랐는지 계산\n",
        "# 리스트 요소의 뺄셈\n",
        "tokyo_temps[5]-tokyo_temps[0], round(tokyo_temps[5]-tokyo_temps[0],1)"
      ],
      "execution_count": 8,
      "outputs": [
        {
          "output_type": "execute_result",
          "data": {
            "text/plain": [
              "(1.799999999999999, 1.8)"
            ]
          },
          "metadata": {
            "tags": []
          },
          "execution_count": 8
        }
      ]
    },
    {
      "metadata": {
        "id": "9WD80kGtsGPx",
        "colab_type": "text"
      },
      "cell_type": "markdown",
      "source": [
        "계산 결과가 1.8이 되지 않는 것이 이상한 사람은 다음을 참고[기사](http://web.archive.org/web/20160506221107/http://pc.nikkeibp.co.jp/pc21/special/gosa/eg4.shtml)\n",
        "\n",
        "또한 (파이썬에서 클래를 사용)에도 쉽게 설명하고 있다"
      ]
    },
    {
      "metadata": {
        "id": "FZAKARHjsGPy",
        "colab_type": "code",
        "colab": {
          "base_uri": "https://localhost:8080/",
          "height": 35
        },
        "outputId": "c9557135-f566-48f7-d51b-c92880b3645b"
      },
      "cell_type": "code",
      "source": [
        "# 인덱스에 -1을 주고 같은 온도 차이를 계산\n",
        "# 리스트의 마지막 요소를 지정\n",
        "round(tokyo_temps[-1]-tokyo_temps[0],1)"
      ],
      "execution_count": 9,
      "outputs": [
        {
          "output_type": "execute_result",
          "data": {
            "text/plain": [
              "1.8"
            ]
          },
          "metadata": {
            "tags": []
          },
          "execution_count": 9
        }
      ]
    },
    {
      "metadata": {
        "id": "Dz2iKMNvsGP0",
        "colab_type": "text"
      },
      "cell_type": "markdown",
      "source": [
        "### max & argmax of list"
      ]
    },
    {
      "metadata": {
        "id": "mDDGpnEBsGP1",
        "colab_type": "code",
        "colab": {
          "base_uri": "https://localhost:8080/",
          "height": 35
        },
        "outputId": "f7d21e35-acab-4088-c7f1-a1df1cc2e0c6"
      },
      "cell_type": "code",
      "source": [
        "import numpy as np\n",
        "max(tokyo_temps),np.argmax(tokyo_temps)"
      ],
      "execution_count": 10,
      "outputs": [
        {
          "output_type": "execute_result",
          "data": {
            "text/plain": [
              "(17.0, 4)"
            ]
          },
          "metadata": {
            "tags": []
          },
          "execution_count": 10
        }
      ]
    },
    {
      "metadata": {
        "id": "vvAi9ThssGP3",
        "colab_type": "text"
      },
      "cell_type": "markdown",
      "source": [
        "### 리스트(List)의 연결"
      ]
    },
    {
      "metadata": {
        "id": "WXjt_g4dsGP5",
        "colab_type": "code",
        "colab": {}
      },
      "cell_type": "code",
      "source": [
        "# 리스트에 1900년부터 1940년의 평균 기온 추가\n",
        "# 리스트의 덧셈\n",
        "e_tokyo_temps = [13.6, 13.5, 14.2, 14.8, 14.8]\n",
        "tokyo_temps2 = e_tokyo_temps+tokyo_temps"
      ],
      "execution_count": 0,
      "outputs": []
    },
    {
      "metadata": {
        "id": "g106EejGsGP6",
        "colab_type": "code",
        "colab": {
          "base_uri": "https://localhost:8080/",
          "height": 283
        },
        "outputId": "52e7b60b-5070-4c67-a6fb-d0170c41ce01"
      },
      "cell_type": "code",
      "source": [
        "# 그래프의 표시\n",
        "plt.plot(tokyo_temps2,'r*-',ms=12)"
      ],
      "execution_count": 12,
      "outputs": [
        {
          "output_type": "execute_result",
          "data": {
            "text/plain": [
              "[<matplotlib.lines.Line2D at 0x7ffa38a01f60>]"
            ]
          },
          "metadata": {
            "tags": []
          },
          "execution_count": 12
        },
        {
          "output_type": "display_data",
          "data": {
            "image/png": "[encoded data removed]",
            "text/plain": [
              "<matplotlib.figure.Figure at 0x7ffa38a52c18>"
            ]
          },
          "metadata": {
            "tags": []
          }
        }
      ]
    },
    {
      "metadata": {
        "id": "4jdJVzj8sGP9",
        "colab_type": "text"
      },
      "cell_type": "markdown",
      "source": [
        "#### 연도별로 온도 변화 그래프 그리기"
      ]
    },
    {
      "metadata": {
        "id": "bkmPN8-VsGP-",
        "colab_type": "code",
        "colab": {
          "base_uri": "https://localhost:8080/",
          "height": 35
        },
        "outputId": "13980e12-e88d-45db-b00f-279b7022e159"
      },
      "cell_type": "code",
      "source": [
        "year = range(1900,2010,10)\n",
        "year"
      ],
      "execution_count": 13,
      "outputs": [
        {
          "output_type": "execute_result",
          "data": {
            "text/plain": [
              "range(1900, 2010, 10)"
            ]
          },
          "metadata": {
            "tags": []
          },
          "execution_count": 13
        }
      ]
    },
    {
      "metadata": {
        "id": "pVPRAN4rsGQA",
        "colab_type": "code",
        "colab": {
          "base_uri": "https://localhost:8080/",
          "height": 283
        },
        "outputId": "c36402ad-5522-4c80-a2f0-ff5b422ce92c"
      },
      "cell_type": "code",
      "source": [
        "plt.plot(year,tokyo_temps2,'b*-',ms=12)"
      ],
      "execution_count": 20,
      "outputs": [
        {
          "output_type": "execute_result",
          "data": {
            "text/plain": [
              "[<matplotlib.lines.Line2D at 0x7ffa386c5240>]"
            ]
          },
          "metadata": {
            "tags": []
          },
          "execution_count": 20
        },
        {
          "output_type": "display_data",
          "data": {
            "image/png": "[encoded data removed]",
            "text/plain": [
              "<matplotlib.figure.Figure at 0x7ffa3887e1d0>"
            ]
          },
          "metadata": {
            "tags": []
          }
        }
      ]
    },
    {
      "metadata": {
        "id": "mmaQEbgFsGQC",
        "colab_type": "text"
      },
      "cell_type": "markdown",
      "source": [
        "### 리스트(List) 요소의 변경 삭제"
      ]
    },
    {
      "metadata": {
        "id": "A3L5CbM3sGQC",
        "colab_type": "code",
        "colab": {
          "base_uri": "https://localhost:8080/",
          "height": 35
        },
        "outputId": "e1a1bbe9-9bbf-4f57-8793-cbc51c07d73f"
      },
      "cell_type": "code",
      "source": [
        "# 문자열의 리스트를 정의하고 내용보기\n",
        "# 리스트 \"mcz\" 만들기\n",
        "mcz = [\"AB\", \"CD\", \"EF\", \"GH\", \"IJ\", \"KL\", \"py10\"]\n",
        "mcz"
      ],
      "execution_count": 47,
      "outputs": [
        {
          "output_type": "execute_result",
          "data": {
            "text/plain": [
              "['AB', 'CD', 'EF', 'GH', 'IJ', 'KL', 'py10']"
            ]
          },
          "metadata": {
            "tags": []
          },
          "execution_count": 47
        }
      ]
    },
    {
      "metadata": {
        "id": "yLCIZOBlsGQG",
        "colab_type": "code",
        "colab": {
          "base_uri": "https://localhost:8080/",
          "height": 35
        },
        "outputId": "2307e655-209b-4c39-e148-b659a256cbea"
      },
      "cell_type": "code",
      "source": [
        "# 여섯 번째[5] 요소를 다시 작성\n",
        "mcz[5] = 'ZY'\n",
        "mcz                 # 변경 후 리스트 확인"
      ],
      "execution_count": 45,
      "outputs": [
        {
          "output_type": "execute_result",
          "data": {
            "text/plain": [
              "['AB', 'CD', 'EF', 'GH', 'IJ', 'ZY']"
            ]
          },
          "metadata": {
            "tags": []
          },
          "execution_count": 45
        }
      ]
    },
    {
      "metadata": {
        "id": "xGKeo6ukw5FI",
        "colab_type": "code",
        "colab": {
          "base_uri": "https://localhost:8080/",
          "height": 35
        },
        "outputId": "319a24b6-7f47-4597-a894-7865f056e028"
      },
      "cell_type": "code",
      "source": [
        "mcz[6]='py00'\n",
        "mcz"
      ],
      "execution_count": 50,
      "outputs": [
        {
          "output_type": "execute_result",
          "data": {
            "text/plain": [
              "['AB', 'CD', 'EF', 'GH', 'IJ', 'KL', 'py00']"
            ]
          },
          "metadata": {
            "tags": []
          },
          "execution_count": 50
        }
      ]
    },
    {
      "metadata": {
        "id": "wBz6FxslsGQJ",
        "colab_type": "code",
        "colab": {
          "base_uri": "https://localhost:8080/",
          "height": 35
        },
        "outputId": "29046ef3-435e-48a0-b517-b2297a4125e0"
      },
      "cell_type": "code",
      "source": [
        "# 요소의 제거\n",
        "del mcz[0]\n",
        "mcz            # 변경 후 리스트 확인"
      ],
      "execution_count": 0,
      "outputs": [
        {
          "output_type": "execute_result",
          "data": {
            "text/plain": [
              "['CD', 'EF', 'GH', 'IJ', 'ZY']"
            ]
          },
          "metadata": {
            "tags": []
          },
          "execution_count": 22
        }
      ]
    },
    {
      "metadata": {
        "id": "2Fc-l__AsGQK",
        "colab_type": "text"
      },
      "cell_type": "markdown",
      "source": [
        "### 슬라이스를 이용하여 여러 요소를 추출"
      ]
    },
    {
      "metadata": {
        "id": "8dWRsJzhsGQL",
        "colab_type": "code",
        "colab": {
          "base_uri": "https://localhost:8080/",
          "height": 35
        },
        "outputId": "13190327-2028-4015-aac4-b2157cff924f"
      },
      "cell_type": "code",
      "source": [
        "# 인덱스 1부터 2까지의 요소를 슬라이스로 검색\n",
        "# 슬라이스의 사용 예\n",
        "lst1 = mcz[1:3]\n",
        "lst1"
      ],
      "execution_count": 52,
      "outputs": [
        {
          "output_type": "execute_result",
          "data": {
            "text/plain": [
              "['CD', 'EF']"
            ]
          },
          "metadata": {
            "tags": []
          },
          "execution_count": 52
        }
      ]
    },
    {
      "metadata": {
        "id": "9PfIf3IssGQM",
        "colab_type": "code",
        "colab": {
          "base_uri": "https://localhost:8080/",
          "height": 35
        },
        "outputId": "f70e3f55-6b61-44d9-b607-b25ecafad1c3"
      },
      "cell_type": "code",
      "source": [
        "# 슬라이스 왼쪽 인덱스를 생략하면 처음부터 추출\n",
        "# 슬라이스의 사용 예\n",
        "mcz[:2]"
      ],
      "execution_count": 53,
      "outputs": [
        {
          "output_type": "execute_result",
          "data": {
            "text/plain": [
              "['AB', 'CD']"
            ]
          },
          "metadata": {
            "tags": []
          },
          "execution_count": 53
        }
      ]
    },
    {
      "metadata": {
        "id": "OtdHYs3hsGQQ",
        "colab_type": "code",
        "colab": {
          "base_uri": "https://localhost:8080/",
          "height": 35
        },
        "outputId": "dfb089f1-ccf6-4e16-ec90-2e829da9dc25"
      },
      "cell_type": "code",
      "source": [
        "# 오른쪽 인덱스를 생략하면 마지막까지 추출\n",
        "# 슬라이스의 사용 예\n",
        "mcz[1:]"
      ],
      "execution_count": 54,
      "outputs": [
        {
          "output_type": "execute_result",
          "data": {
            "text/plain": [
              "['CD', 'EF', 'GH', 'IJ', 'KL', 'py00']"
            ]
          },
          "metadata": {
            "tags": []
          },
          "execution_count": 54
        }
      ]
    },
    {
      "metadata": {
        "id": "7hDylFJZsGQT",
        "colab_type": "code",
        "colab": {
          "base_uri": "https://localhost:8080/",
          "height": 35
        },
        "outputId": "27c953cc-1576-4ab4-f46a-d542be259fa4"
      },
      "cell_type": "code",
      "source": [
        "mcz[-1]"
      ],
      "execution_count": 55,
      "outputs": [
        {
          "output_type": "execute_result",
          "data": {
            "text/plain": [
              "'py00'"
            ]
          },
          "metadata": {
            "tags": []
          },
          "execution_count": 55
        }
      ]
    },
    {
      "metadata": {
        "id": "K2MJK75xsGQW",
        "colab_type": "code",
        "colab": {
          "base_uri": "https://localhost:8080/",
          "height": 35
        },
        "outputId": "d08c9fa3-7aae-44c3-a30e-a292ad4f2cce"
      },
      "cell_type": "code",
      "source": [
        "mcz[:-1]"
      ],
      "execution_count": 56,
      "outputs": [
        {
          "output_type": "execute_result",
          "data": {
            "text/plain": [
              "['AB', 'CD', 'EF', 'GH', 'IJ', 'KL']"
            ]
          },
          "metadata": {
            "tags": []
          },
          "execution_count": 56
        }
      ]
    },
    {
      "metadata": {
        "id": "XPlXfCOCsGQY",
        "colab_type": "text"
      },
      "cell_type": "markdown",
      "source": [
        "### 리스트의 리스트 － 2 차원 배열"
      ]
    },
    {
      "metadata": {
        "id": "9qYC7CYCsGQY",
        "colab_type": "text"
      },
      "cell_type": "markdown",
      "source": [
        "\n",
        "|도시 이름/년|1930|1940|1950|1960|1970|1980|1990|2000|\n",
        "|-----|----|----|----|----|----|----|----|----|\n",
        "|도쿄도|14.8|14.8|15.1|15.4|15.2|15.4|17.0|16.9|\n",
        "|아키타시|10.0|10.4|11.5|11.2|10.9|10.6|11.8|12.2|\n",
        "|구마모토시|16.0|15.5|15.9|16.4|15.9|15.6|17.5|17.1|\n"
      ]
    },
    {
      "metadata": {
        "id": "PG04xyQLsGQY",
        "colab_type": "code",
        "colab": {}
      },
      "cell_type": "code",
      "source": [
        "# 각 도시의 평균 기온 리스트\n",
        "city_temps = [\n",
        "#도쿄의 평균 기온\n",
        "[14.8, 14.8, 15.1, 15.4, 15.2, 15.4, 17.0, 16.9],\n",
        "#아키타시의 평균 기온\n",
        "[10.0, 10.4, 11.5, 11.2, 10.9, 10.6, 11.8, 12.2],\n",
        "#구마모토시의 평균 기온\n",
        "[16.0, 15.5, 15.9, 16.4, 15.9, 15.6, 17.5, 17.1]\n",
        "]"
      ],
      "execution_count": 0,
      "outputs": []
    },
    {
      "metadata": {
        "id": "jOQNxCVvsGQb",
        "colab_type": "code",
        "colab": {
          "base_uri": "https://localhost:8080/",
          "height": 35
        },
        "outputId": "bd2774ae-d38c-4295-ea78-2f7953f8868a"
      },
      "cell_type": "code",
      "source": [
        "# 아키타시의 평균 기온 리스트 보기\n",
        "city_temps[2]"
      ],
      "execution_count": 58,
      "outputs": [
        {
          "output_type": "execute_result",
          "data": {
            "text/plain": [
              "[16.0, 15.5, 15.9, 16.4, 15.9, 15.6, 17.5, 17.1]"
            ]
          },
          "metadata": {
            "tags": []
          },
          "execution_count": 58
        }
      ]
    },
    {
      "metadata": {
        "id": "_umqznRcsGQc",
        "colab_type": "code",
        "colab": {
          "base_uri": "https://localhost:8080/",
          "height": 35
        },
        "outputId": "ae1ab69b-716a-4efb-da27-bcb08a8dec74"
      },
      "cell_type": "code",
      "source": [
        "# 평균 기온 비교\n",
        "round(city_temps[2][7]- city_temps[2][0],1) "
      ],
      "execution_count": 64,
      "outputs": [
        {
          "output_type": "execute_result",
          "data": {
            "text/plain": [
              "1.1"
            ]
          },
          "metadata": {
            "tags": []
          },
          "execution_count": 64
        }
      ]
    },
    {
      "metadata": {
        "id": "dO4jSN9LsGQe",
        "colab_type": "code",
        "colab": {
          "base_uri": "https://localhost:8080/",
          "height": 283
        },
        "outputId": "91d99353-21c6-416d-d5d4-f0e550543c8c"
      },
      "cell_type": "code",
      "source": [
        "# 3개 도시의 평균 기온 그래프 그리기\n",
        "plt.plot(city_temps[0],'g*-', ms=12)       # 도쿄도의 그래프 그리기\n",
        "plt.plot(city_temps[1],'b^-', ms=12)       # 아키타시의 그래프 그리기\n",
        "plt.plot(city_temps[2],'y^-', ms=12)       # 구마모토시의 그래프 그리기\n",
        "# 그래프의 선색과 마커를 변경하시오."
      ],
      "execution_count": 70,
      "outputs": [
        {
          "output_type": "execute_result",
          "data": {
            "text/plain": [
              "[<matplotlib.lines.Line2D at 0x7ffa3807cc88>]"
            ]
          },
          "metadata": {
            "tags": []
          },
          "execution_count": 70
        },
        {
          "output_type": "display_data",
          "data": {
            "image/png": "[encoded data removed]",
            "text/plain": [
              "<matplotlib.figure.Figure at 0x7ffa380b89e8>"
            ]
          },
          "metadata": {
            "tags": []
          }
        }
      ]
    },
    {
      "metadata": {
        "id": "caG_CXXYsGQg",
        "colab_type": "text"
      },
      "cell_type": "markdown",
      "source": [
        "### 리스트의 합계 최대값, 최소값"
      ]
    },
    {
      "metadata": {
        "id": "vOpbZ7TNsGQg",
        "colab_type": "code",
        "colab": {
          "base_uri": "https://localhost:8080/",
          "height": 35
        },
        "outputId": "19b27469-e7d9-4d20-ed8b-948923525146"
      },
      "cell_type": "code",
      "source": [
        "monk_s = [158, 157, 163, 157, 145]\n",
        "sum(monk_s)   # 리스트의 합계를 계산"
      ],
      "execution_count": 71,
      "outputs": [
        {
          "output_type": "execute_result",
          "data": {
            "text/plain": [
              "780"
            ]
          },
          "metadata": {
            "tags": []
          },
          "execution_count": 71
        }
      ]
    },
    {
      "metadata": {
        "id": "wtWCbU9xsGQj",
        "colab_type": "code",
        "colab": {
          "base_uri": "https://localhost:8080/",
          "height": 35
        },
        "outputId": "ee1961fd-ba24-4df4-9fa3-0cc36b79f481"
      },
      "cell_type": "code",
      "source": [
        "max(monk_s)   # 최대 값 계산"
      ],
      "execution_count": 72,
      "outputs": [
        {
          "output_type": "execute_result",
          "data": {
            "text/plain": [
              "163"
            ]
          },
          "metadata": {
            "tags": []
          },
          "execution_count": 72
        }
      ]
    },
    {
      "metadata": {
        "id": "ZegEWP6GsGQl",
        "colab_type": "code",
        "colab": {
          "base_uri": "https://localhost:8080/",
          "height": 35
        },
        "outputId": "f7c446db-1b94-47dc-e64f-98a05b9443fe"
      },
      "cell_type": "code",
      "source": [
        "min(monk_s)   # 최소 값 계산"
      ],
      "execution_count": 74,
      "outputs": [
        {
          "output_type": "execute_result",
          "data": {
            "text/plain": [
              "145"
            ]
          },
          "metadata": {
            "tags": []
          },
          "execution_count": 74
        }
      ]
    },
    {
      "metadata": {
        "id": "XdoX5amssGQo",
        "colab_type": "text"
      },
      "cell_type": "markdown",
      "source": [
        "> 최소, 최대값의 인수를 구하시오."
      ]
    },
    {
      "metadata": {
        "id": "Nu30KUei0BXo",
        "colab_type": "code",
        "colab": {
          "base_uri": "https://localhost:8080/",
          "height": 35
        },
        "outputId": "5df44058-f554-4e36-b4a5-3d93856c43b1"
      },
      "cell_type": "code",
      "source": [
        "np.argmin(monk_s),np.argmax(monk_s)"
      ],
      "execution_count": 77,
      "outputs": [
        {
          "output_type": "execute_result",
          "data": {
            "text/plain": [
              "(4, 2)"
            ]
          },
          "metadata": {
            "tags": []
          },
          "execution_count": 77
        }
      ]
    },
    {
      "metadata": {
        "id": "WFGJQB7ZsGQp",
        "colab_type": "text"
      },
      "cell_type": "markdown",
      "source": [
        "### 리스트의 항목 수를 측정"
      ]
    },
    {
      "metadata": {
        "id": "PLNW-ngzsGQp",
        "colab_type": "code",
        "colab": {
          "base_uri": "https://localhost:8080/",
          "height": 35
        },
        "outputId": "a0054850-1954-4f88-b2c3-e0e621f3af41"
      },
      "cell_type": "code",
      "source": [
        "len(monk_s)   # 리스트의 길이(항목 수)를 조사"
      ],
      "execution_count": 78,
      "outputs": [
        {
          "output_type": "execute_result",
          "data": {
            "text/plain": [
              "5"
            ]
          },
          "metadata": {
            "tags": []
          },
          "execution_count": 78
        }
      ]
    },
    {
      "metadata": {
        "id": "YAX2aa56sGQr",
        "colab_type": "code",
        "colab": {
          "base_uri": "https://localhost:8080/",
          "height": 35
        },
        "outputId": "9a1d7718-0df9-45f5-cb5a-b001095603e8"
      },
      "cell_type": "code",
      "source": [
        "# 합계, 리스트 길이의 응용 - 평균을 계산\n",
        "monk_sum = sum(monk_s)    # 합계를 계산\n",
        "monk_len = len(monk_s)    # 길이를 측정\n",
        "monk_mean = monk_sum/monk_len     # 평균을 계산\n",
        "monk_mean"
      ],
      "execution_count": 80,
      "outputs": [
        {
          "output_type": "execute_result",
          "data": {
            "text/plain": [
              "156.0"
            ]
          },
          "metadata": {
            "tags": []
          },
          "execution_count": 80
        }
      ]
    },
    {
      "metadata": {
        "id": "B-9FUipJsGQu",
        "colab_type": "code",
        "colab": {
          "base_uri": "https://localhost:8080/",
          "height": 283
        },
        "outputId": "9aeb6d98-c0bd-43bd-c427-b89809190031"
      },
      "cell_type": "code",
      "source": [
        "# 신장 그래프를 그리기\n",
        "\n",
        "plt.bar([0, 1, 2, 3, 4], monk_s)\n",
        "plt.plot([0, len(monk_s)], [monk_mean, monk_mean], color='red')"
      ],
      "execution_count": 82,
      "outputs": [
        {
          "output_type": "execute_result",
          "data": {
            "text/plain": [
              "[<matplotlib.lines.Line2D at 0x7ffa38035748>]"
            ]
          },
          "metadata": {
            "tags": []
          },
          "execution_count": 82
        },
        {
          "output_type": "display_data",
          "data": {
            "image/png": "[encoded data removed]",
            "text/plain": [
              "<matplotlib.figure.Figure at 0x7ffa38035668>"
            ]
          },
          "metadata": {
            "tags": []
          }
        }
      ]
    },
    {
      "metadata": {
        "id": "J29gZuBPsGQv",
        "colab_type": "text"
      },
      "cell_type": "markdown",
      "source": [
        "## for문에서 루프를 사용 (Ch.2-5)"
      ]
    },
    {
      "metadata": {
        "id": "eHzhhjO_sGQw",
        "colab_type": "code",
        "colab": {
          "base_uri": "https://localhost:8080/",
          "height": 106
        },
        "outputId": "12880a74-477c-4406-be2e-2041986b6e31"
      },
      "cell_type": "code",
      "source": [
        "# for문 루프를 사용하여 리스트의 요소를 하나씩 보기\n",
        "mcz = ['AB', 'CD', 'EF', 'GH', 'IJ']\n",
        "for member in mcz:\n",
        "    print(member)"
      ],
      "execution_count": 0,
      "outputs": [
        {
          "output_type": "stream",
          "text": [
            "AB\n",
            "CD\n",
            "EF\n",
            "GH\n",
            "IJ\n"
          ],
          "name": "stdout"
        }
      ]
    },
    {
      "metadata": {
        "id": "e72oFmGbsGQy",
        "colab_type": "code",
        "colab": {
          "base_uri": "https://localhost:8080/",
          "height": 34
        },
        "outputId": "b468c146-24f9-4a02-aefa-71ef526ba8c2"
      },
      "cell_type": "code",
      "source": [
        "# 루프가 끝난 후에도 리스트의 내용이 바뀌지 않았는지 확인\n",
        "mcz"
      ],
      "execution_count": 0,
      "outputs": [
        {
          "output_type": "execute_result",
          "data": {
            "text/plain": [
              "['AB', 'CD', 'EF', 'GH', 'IJ']"
            ]
          },
          "metadata": {
            "tags": []
          },
          "execution_count": 46
        }
      ]
    },
    {
      "metadata": {
        "id": "daGMSgYZsGQ0",
        "colab_type": "code",
        "colab": {
          "base_uri": "https://localhost:8080/",
          "height": 34
        },
        "outputId": "9f030271-6750-4a04-b5d4-1a9680c79ae5"
      },
      "cell_type": "code",
      "source": [
        "# for문을 사용하여 분산을 계산\n",
        "# 몽크 피시 팀\n",
        "monk_fish_team = [158, 157, 163, 157, 145]\n",
        "\n",
        "total = sum(monk_fish_team)    # 리스트의 합계\n",
        "length = len(monk_fish_team)   # 리스트의 요소 수(길이)\n",
        "mean = total/length            # 평균을 구함\n",
        "variance = 0                   # 분산을 계산하기 위한 변수\n",
        "\n",
        "for height in monk_fish_team:\n",
        "    variance = variance+(height-mean)**2 # 키에서 평균을 빼고 제곱한 수를 더함\n",
        "\n",
        "variance = variance/length     # 더한 수치를 요소 수로 나누어 분산을 구함 length -> length-1\n",
        "variance"
      ],
      "execution_count": 0,
      "outputs": [
        {
          "output_type": "execute_result",
          "data": {
            "text/plain": [
              "35.2"
            ]
          },
          "metadata": {
            "tags": []
          },
          "execution_count": 47
        }
      ]
    },
    {
      "metadata": {
        "id": "gEBWVLfxsGQ1",
        "colab_type": "code",
        "colab": {
          "base_uri": "https://localhost:8080/",
          "height": 34
        },
        "outputId": "b27233aa-8f05-4c5f-a86c-d59ba2e7d188"
      },
      "cell_type": "code",
      "source": [
        "# 분산의 루트를 계산하고 표준 편차를 계산\n",
        "variance**0.5, round(variance**0.5,1)"
      ],
      "execution_count": 0,
      "outputs": [
        {
          "output_type": "execute_result",
          "data": {
            "text/plain": [
              "(5.932958789676531, 5.9)"
            ]
          },
          "metadata": {
            "tags": []
          },
          "execution_count": 48
        }
      ]
    },
    {
      "metadata": {
        "id": "4rT2QADGsGQ3",
        "colab_type": "code",
        "colab": {
          "base_uri": "https://localhost:8080/",
          "height": 34
        },
        "outputId": "f6f13b2d-a05f-4171-a49d-abdc78d423e2"
      },
      "cell_type": "code",
      "source": [
        "# 다른 리스트에서 표준 편차를 계산\n",
        "# 발리볼 팀\n",
        "volleyball_team = [143, 167, 170, 165]\n",
        "\n",
        "total2 = sum(volleyball_team)    # 리스트의 합계\n",
        "length2 = len(volleyball_team)   # 리스트의 요소 수(길이)\n",
        "mean2 = total2/length2           # 평균을 구함\n",
        "variance2 = 0                    # 분산을 계산하기 위한 변수\n",
        "\n",
        "for height in volleyball_team:\n",
        "    variance2 = variance2+(height-mean2)**2 # 신장에서 평균을 빼고 제곱한 수를 더함\n",
        "\n",
        "variance2 = variance2/length2  # 더한 수치를 요소 수로 나누어 분산을 구함\n",
        "variance2,variance2**0.5"
      ],
      "execution_count": 0,
      "outputs": [
        {
          "output_type": "execute_result",
          "data": {
            "text/plain": [
              "(114.1875, 10.685855136581255)"
            ]
          },
          "metadata": {
            "tags": []
          },
          "execution_count": 49
        }
      ]
    },
    {
      "metadata": {
        "id": "oV5ldFZAsGQ4",
        "colab_type": "text"
      },
      "cell_type": "markdown",
      "source": [
        "### range() 함수"
      ]
    },
    {
      "metadata": {
        "id": "Ymz_A9VysGQ4",
        "colab_type": "code",
        "colab": {
          "base_uri": "https://localhost:8080/",
          "height": 34
        },
        "outputId": "79efc3ad-0555-43f9-de14-08c255789adb"
      },
      "cell_type": "code",
      "source": [
        "a10 = range(10)\n",
        "type(a10)"
      ],
      "execution_count": 0,
      "outputs": [
        {
          "output_type": "execute_result",
          "data": {
            "text/plain": [
              "range"
            ]
          },
          "metadata": {
            "tags": []
          },
          "execution_count": 50
        }
      ]
    },
    {
      "metadata": {
        "id": "ikfL_F8isGQ6",
        "colab_type": "code",
        "colab": {
          "base_uri": "https://localhost:8080/",
          "height": 34
        },
        "outputId": "1ed8558b-97f3-4bb0-d97a-8f11cafe2b6a"
      },
      "cell_type": "code",
      "source": [
        "a10[0],a10[1],a10[9]"
      ],
      "execution_count": 0,
      "outputs": [
        {
          "output_type": "execute_result",
          "data": {
            "text/plain": [
              "(0, 1, 9)"
            ]
          },
          "metadata": {
            "tags": []
          },
          "execution_count": 51
        }
      ]
    },
    {
      "metadata": {
        "id": "uk7_fyBB46JV",
        "colab_type": "code",
        "colab": {
          "base_uri": "https://localhost:8080/",
          "height": 34
        },
        "outputId": "e5d5eb86-daa1-439a-f96e-2c5e1c0f5f33"
      },
      "cell_type": "code",
      "source": [
        "a10"
      ],
      "execution_count": 0,
      "outputs": [
        {
          "output_type": "execute_result",
          "data": {
            "text/plain": [
              "range(0, 10)"
            ]
          },
          "metadata": {
            "tags": []
          },
          "execution_count": 52
        }
      ]
    },
    {
      "metadata": {
        "id": "RNkY61BusGQ7",
        "colab_type": "code",
        "colab": {
          "base_uri": "https://localhost:8080/",
          "height": 34
        },
        "outputId": "61dbc90f-d566-4095-d996-819e9213e73f"
      },
      "cell_type": "code",
      "source": [
        "# range를 리스트로 변환\n",
        "list(a10)"
      ],
      "execution_count": 0,
      "outputs": [
        {
          "output_type": "execute_result",
          "data": {
            "text/plain": [
              "[0, 1, 2, 3, 4, 5, 6, 7, 8, 9]"
            ]
          },
          "metadata": {
            "tags": []
          },
          "execution_count": 53
        }
      ]
    },
    {
      "metadata": {
        "id": "Zvi2B-YusGQ9",
        "colab_type": "code",
        "colab": {
          "base_uri": "https://localhost:8080/",
          "height": 195
        },
        "outputId": "d74a684e-7041-4031-e94a-ba4b1cae4ae7"
      },
      "cell_type": "code",
      "source": [
        "# range()를 사용하여 0에서 9까지 표시\n",
        "for cnt in range(10):\n",
        "    print(cnt)"
      ],
      "execution_count": 0,
      "outputs": [
        {
          "output_type": "stream",
          "text": [
            "0\n",
            "1\n",
            "2\n",
            "3\n",
            "4\n",
            "5\n",
            "6\n",
            "7\n",
            "8\n",
            "9\n"
          ],
          "name": "stdout"
        }
      ]
    },
    {
      "metadata": {
        "id": "PZm6HaZRsGQ-",
        "colab_type": "code",
        "colab": {
          "base_uri": "https://localhost:8080/",
          "height": 34
        },
        "outputId": "d64413ce-9d77-48e2-bd36-e04a79a66165"
      },
      "cell_type": "code",
      "source": [
        "# range()를 사용하여 복리 계산을 함\n",
        "# 연리 5%의 금융 상품에 100만원 예금하면 15년 후에 얼마인지를 계산\n",
        "savings = 100               # 원금\n",
        "for i in range(15):         # 15년 반복 루프\n",
        "    savings = savings+savings*0.05   \n",
        "\n",
        "savings"
      ],
      "execution_count": 0,
      "outputs": [
        {
          "output_type": "execute_result",
          "data": {
            "text/plain": [
              "207.89281794113666"
            ]
          },
          "metadata": {
            "tags": []
          },
          "execution_count": 55
        }
      ]
    },
    {
      "metadata": {
        "id": "CTAMvCBGsGRD",
        "colab_type": "text"
      },
      "cell_type": "markdown",
      "source": [
        "### 도전코딩-3.\n",
        "\n",
        "> 그런데 금리 15%로 돈을 빌릴 때 몇 년후에 2배가 될까? 위 코드의 수치를 다시 작성하여 실제로 시험해 본다. (신용 카드 리볼빙 지불에서 상품을 구매하거나 소비자 금융에서 돈을 빌릴 때 금리가 15% 정도 붙는다.)"
      ]
    },
    {
      "metadata": {
        "id": "9ran1hCJsGRD",
        "colab_type": "code",
        "colab": {
          "base_uri": "https://localhost:8080/",
          "height": 302
        },
        "outputId": "c121fbf7-5f63-4bbf-d0c6-2fef2b561f26"
      },
      "cell_type": "code",
      "source": [
        "# 도전코딩-3\n",
        "savings = 100               # 원금\n",
        "for i in range(15):         # 15년 반복 루프\n",
        "    savings = savings+savings*0.15  \n",
        "    print(i+1, savings)\n",
        "\n",
        "savings\n",
        "\n"
      ],
      "execution_count": 0,
      "outputs": [
        {
          "output_type": "stream",
          "text": [
            "1 115.0\n",
            "2 132.25\n",
            "3 152.0875\n",
            "4 174.900625\n",
            "5 201.13571875\n",
            "6 231.30607656249998\n",
            "7 266.001988046875\n",
            "8 305.90228625390625\n",
            "9 351.7876291919922\n",
            "10 404.555773570791\n",
            "11 465.23913960640965\n",
            "12 535.025010547371\n",
            "13 615.2787621294767\n",
            "14 707.5705764488982\n",
            "15 813.706162916233\n"
          ],
          "name": "stdout"
        },
        {
          "output_type": "execute_result",
          "data": {
            "text/plain": [
              "813.706162916233"
            ]
          },
          "metadata": {
            "tags": []
          },
          "execution_count": 58
        }
      ]
    },
    {
      "metadata": {
        "id": "ApwgH1LxsGRF",
        "colab_type": "text"
      },
      "cell_type": "markdown",
      "source": [
        "## if문에서 조건 분기 (Ch.2-6)"
      ]
    },
    {
      "metadata": {
        "id": "XkbUGS0wsGRG",
        "colab_type": "code",
        "colab": {
          "base_uri": "https://localhost:8080/",
          "height": 52
        },
        "outputId": "2b956948-01ab-456b-da8c-447aeff81a5d"
      },
      "cell_type": "code",
      "source": [
        "# if문의 예(4개의 2로 10을 만들자)\n",
        "# 10이 될지 어떨지를 조사\n",
        "# 조건식이 성립 때만 블록의 print() 함수가 실행된다.\n",
        "\n",
        "if 2*2*2+2 == 10:\n",
        "    print(\"[1] 2*2*2+2는 10\")\n",
        "if 2+2*2+2 == 10:\n",
        "    print(\"[2] 2+2*2+2는 10\")\n",
        "if (2+2)*2+2 == 10:\n",
        "    print(\"[3] (2+2)*2+2는 10\")"
      ],
      "execution_count": 0,
      "outputs": [
        {
          "output_type": "stream",
          "text": [
            "[1] 2*2*2+2는 10\n",
            "[3] (2+2)*2+2는 10\n"
          ],
          "name": "stdout"
        }
      ]
    },
    {
      "metadata": {
        "id": "4DmVVBDMsGRH",
        "colab_type": "text"
      },
      "cell_type": "markdown",
      "source": [
        "### 수치를 비교"
      ]
    },
    {
      "metadata": {
        "id": "nyheXSBNsGRI",
        "colab_type": "code",
        "colab": {
          "base_uri": "https://localhost:8080/",
          "height": 70
        },
        "outputId": "00b99b86-37c5-40c8-c8cb-1ce836f08fea"
      },
      "cell_type": "code",
      "source": [
        "# 조건식이 성립 때만 블록의 print() 함수가 실행된다\n",
        "if 1 == 1:\n",
        "    print(\"첫째는 True\")\n",
        "if 5^(4-4)+9 == 10:  # 10, 12, 14\n",
        "    print(\"2번째는 True\")\n",
        "if 2 < len([0, 1, 2]):\n",
        "    print(\"3번째는 True\")\n",
        "if sum([1, 2, 3, 4]) <= 10:\n",
        "    print(\"4번째는 True\")"
      ],
      "execution_count": 0,
      "outputs": [
        {
          "output_type": "stream",
          "text": [
            "첫째는 True\n",
            "3번째는 True\n",
            "4번째는 True\n"
          ],
          "name": "stdout"
        }
      ]
    },
    {
      "metadata": {
        "id": "YP27zJVXsGRK",
        "colab_type": "code",
        "colab": {
          "base_uri": "https://localhost:8080/",
          "height": 34
        },
        "outputId": "f808533a-8e79-4057-d5da-1e325a266bda"
      },
      "cell_type": "code",
      "source": [
        "5^(4-4) + 9"
      ],
      "execution_count": 0,
      "outputs": [
        {
          "output_type": "execute_result",
          "data": {
            "text/plain": [
              "12"
            ]
          },
          "metadata": {
            "tags": []
          },
          "execution_count": 61
        }
      ]
    },
    {
      "metadata": {
        "id": "MmAzSpgZsGRN",
        "colab_type": "code",
        "colab": {
          "base_uri": "https://localhost:8080/",
          "height": 34
        },
        "outputId": "111d8aea-a7ee-4d81-fed4-a66992ce0ee6"
      },
      "cell_type": "code",
      "source": [
        "(5^(4-4)) + 9"
      ],
      "execution_count": 0,
      "outputs": [
        {
          "output_type": "execute_result",
          "data": {
            "text/plain": [
              "14"
            ]
          },
          "metadata": {
            "tags": []
          },
          "execution_count": 62
        }
      ]
    },
    {
      "metadata": {
        "id": "7BMcq9kQsGRQ",
        "colab_type": "code",
        "colab": {}
      },
      "cell_type": "code",
      "source": [
        "5**(4-4) + 9"
      ],
      "execution_count": 0,
      "outputs": []
    },
    {
      "metadata": {
        "id": "4O0GBdK3sGRS",
        "colab_type": "text"
      },
      "cell_type": "markdown",
      "source": [
        "> 위의 다른 결과를 설명하시오"
      ]
    },
    {
      "metadata": {
        "id": "GNx-MXqisGRT",
        "colab_type": "code",
        "colab": {
          "base_uri": "https://localhost:8080/",
          "height": 34
        },
        "outputId": "777dc705-73f4-472b-c9ee-61f3e67b6ce9"
      },
      "cell_type": "code",
      "source": [
        "len([0, 1, 2]),sum([1, 2, 3, 4])"
      ],
      "execution_count": 0,
      "outputs": [
        {
          "output_type": "execute_result",
          "data": {
            "text/plain": [
              "(3, 10)"
            ]
          },
          "metadata": {
            "tags": []
          },
          "execution_count": 63
        }
      ]
    },
    {
      "metadata": {
        "id": "KBdpVV6QsGRU",
        "colab_type": "text"
      },
      "cell_type": "markdown",
      "source": [
        "### 문자열을 비교"
      ]
    },
    {
      "metadata": {
        "id": "sdcJJNr9sGRV",
        "colab_type": "code",
        "colab": {
          "base_uri": "https://localhost:8080/",
          "height": 52
        },
        "outputId": "59560dbc-08d4-4e58-b8c1-ce4a07214969"
      },
      "cell_type": "code",
      "source": [
        "# 문장을 비교하는 조건식의 예\n",
        "if \"AUG\" == \"AUG\":\n",
        "    print(\"첫째는 True\")\n",
        "if \"AUG\" == \"aug\":\n",
        "    print(\"2번째는 True\")\n",
        "if \"가나다\" == \"가나다\":\n",
        "    print(\"3번째는 True\")"
      ],
      "execution_count": 0,
      "outputs": [
        {
          "output_type": "stream",
          "text": [
            "첫째는 True\n",
            "3번째는 True\n"
          ],
          "name": "stdout"
        }
      ]
    },
    {
      "metadata": {
        "id": "GQcNaq5-sGRX",
        "colab_type": "text"
      },
      "cell_type": "markdown",
      "source": [
        "### 문자열을 검색"
      ]
    },
    {
      "metadata": {
        "id": "cDDpgiizsGRX",
        "colab_type": "code",
        "colab": {
          "base_uri": "https://localhost:8080/",
          "height": 52
        },
        "outputId": "6dc1c2c1-d691-44fa-c472-3f80dabc930a"
      },
      "cell_type": "code",
      "source": [
        "# in 연산자를 사용한 문자열 검색\n",
        "if \"GAG\" in \"AUGACGGAGCUU\":\n",
        "    print(\"첫째는 True\")\n",
        "if \"사랑과 전쟁은 모든 것이 정당화되어\" in \"정당화\":\n",
        "    print(\"2번째는 True\")\n",
        "if \"stumble\" in \"A horse may stumble though he has four legs\":\n",
        "    print(\"3번째는 True\")"
      ],
      "execution_count": 0,
      "outputs": [
        {
          "output_type": "stream",
          "text": [
            "첫째는 True\n",
            "3번째는 True\n"
          ],
          "name": "stdout"
        }
      ]
    },
    {
      "metadata": {
        "id": "Ok4vX977sGRY",
        "colab_type": "text"
      },
      "cell_type": "markdown",
      "source": [
        "### 리스트를 비교"
      ]
    },
    {
      "metadata": {
        "id": "OCPXQ8kFsGRZ",
        "colab_type": "code",
        "colab": {
          "base_uri": "https://localhost:8080/",
          "height": 34
        },
        "outputId": "bddc4179-0d76-48a1-93a3-8637ee200d11"
      },
      "cell_type": "code",
      "source": [
        "# 리스트를 비교하는 조건식의 예\n",
        "if [1, 2, 3, 4] == [1, 2, 3, 4]:\n",
        "    print(\"첫째는 True\")\n",
        "if [1, 2, 3] == [2, 3]:\n",
        "    print(\"2번째는 True\")\n",
        "if [1, 2, 3] == ['1', '2', '3']:\n",
        "    print(\"3번째는 True\")"
      ],
      "execution_count": 0,
      "outputs": [
        {
          "output_type": "stream",
          "text": [
            "첫째는 True\n"
          ],
          "name": "stdout"
        }
      ]
    },
    {
      "metadata": {
        "id": "t29ifernsGRa",
        "colab_type": "text"
      },
      "cell_type": "markdown",
      "source": [
        "### 리스트의 요소를 검색"
      ]
    },
    {
      "metadata": {
        "id": "KptBcwdHsGRc",
        "colab_type": "code",
        "colab": {
          "base_uri": "https://localhost:8080/",
          "height": 52
        },
        "outputId": "8abb423b-1a76-4b70-a8ae-cef1328438d2"
      },
      "cell_type": "code",
      "source": [
        "# 리스트 내의 요소를 알아보는 조건식 사례 1\n",
        "if 2 in [2, 3, 5, 7, 11]:\n",
        "    print(\"첫째는 True\")\n",
        "if 21 in [13, 17, 19, 23, 29]:\n",
        "    print(\"2번째는 True\")\n",
        "if '대구' in ['서울', '대구', '부산']:\n",
        "    print(\"3번째는 True\")"
      ],
      "execution_count": 0,
      "outputs": [
        {
          "output_type": "stream",
          "text": [
            "첫째는 True\n",
            "3번째는 True\n"
          ],
          "name": "stdout"
        }
      ]
    },
    {
      "metadata": {
        "id": "Qvcjn-QDsGRe",
        "colab_type": "code",
        "colab": {
          "base_uri": "https://localhost:8080/",
          "height": 52
        },
        "outputId": "6bc61c73-6cce-43c8-9295-f5b525714022"
      },
      "cell_type": "code",
      "source": [
        "# 리스트 내의 요소를 알아보는 조건식 사례 2\n",
        "# 목록의 비교에서는 in 왼쪽에 리스트가 오는 경우에 주의\n",
        "if 1 in [0, 1, 2, 3, 4]:\n",
        "    print(\"첫째는 True\")\n",
        "if [1, 2] in [0, 1, 2, 3, 4]:\n",
        "    print(\"2번째는 True\")\n",
        "if [1, 2] in [0, 1, [1, 2], 3, 4]:\n",
        "    print(\"3번째는 True\")"
      ],
      "execution_count": 0,
      "outputs": [
        {
          "output_type": "stream",
          "text": [
            "첫째는 True\n",
            "3번째는 True\n"
          ],
          "name": "stdout"
        }
      ]
    },
    {
      "metadata": {
        "id": "ooZ90pD1sGRf",
        "colab_type": "text"
      },
      "cell_type": "markdown",
      "source": [
        "### else문을 사용"
      ]
    },
    {
      "metadata": {
        "id": "Iu3VJWfnsGRg",
        "colab_type": "code",
        "colab": {
          "base_uri": "https://localhost:8080/",
          "height": 34
        },
        "outputId": "03791791-f9a0-49f4-ee0d-066d3619bdce"
      },
      "cell_type": "code",
      "source": [
        "# else문 사용 사례\n",
        "# 식 1\n",
        "if 2^3-2+4 == 10:                \n",
        "    print(\"식 2^3-2+4는 10\")            #식 1의 결과에 따라서 둘 중의 하나가 실행\n",
        "else:\n",
        "    print(\"식  2^3-2+4는 10이 아닙니다\")    #식 1의 결과에 따라서 둘 중의 하나가 실행  "
      ],
      "execution_count": 0,
      "outputs": [
        {
          "output_type": "stream",
          "text": [
            "식  2^3-2+4는 10이 아닙니다\n"
          ],
          "name": "stdout"
        }
      ]
    },
    {
      "metadata": {
        "id": "AbZNu32z9U86",
        "colab_type": "code",
        "colab": {
          "base_uri": "https://localhost:8080/",
          "height": 34
        },
        "outputId": "91a01802-2189-4bd2-a594-e086412d4f2a"
      },
      "cell_type": "code",
      "source": [
        "2^3-2+4"
      ],
      "execution_count": 0,
      "outputs": [
        {
          "output_type": "execute_result",
          "data": {
            "text/plain": [
              "7"
            ]
          },
          "metadata": {
            "tags": []
          },
          "execution_count": 70
        }
      ]
    },
    {
      "metadata": {
        "id": "ptS_DWznsGRh",
        "colab_type": "code",
        "colab": {
          "base_uri": "https://localhost:8080/",
          "height": 34
        },
        "outputId": "b7f04eb4-a734-4622-8575-cd35f908d4b5"
      },
      "cell_type": "code",
      "source": [
        "# 식 2\n",
        "if 2**3-2+4 == 10:               \n",
        "    print(\"식 2**3-2+4는 10\")            #식 2의 결과에 따라서 둘 중의 하나가 실행\n",
        "else:\n",
        "    print(\"식 2**3-2+4는 10이 아닙니다\")    #식 2의 결과에 따라서 둘 중의 하나가 실행"
      ],
      "execution_count": 0,
      "outputs": [
        {
          "output_type": "stream",
          "text": [
            "식 2**3-2+4는 10\n"
          ],
          "name": "stdout"
        }
      ]
    },
    {
      "metadata": {
        "id": "2zivsJWbsGRj",
        "colab_type": "text"
      },
      "cell_type": "markdown",
      "source": [
        "### elif문의 사용"
      ]
    },
    {
      "metadata": {
        "id": "70LB8-VGsGRk",
        "colab_type": "code",
        "colab": {
          "base_uri": "https://localhost:8080/",
          "height": 34
        },
        "outputId": "ba4d3317-e8b3-4b18-dd7b-664730fb83ea"
      },
      "cell_type": "code",
      "source": [
        "# 2중 if문을 사용한 사례\n",
        "# if를 다단 중첩하면 들여 쓰기가 깊어지고 코드가 어렵게 보인다.\n",
        "a_year = 2080\n",
        "if a_year >= 1993:                  # 식 1\n",
        "    # 출생 연도 또는 그 이후의 경우\n",
        "    if a_year == 1993:              # 식 2\n",
        "        print(a_year, \"년에 태어남\")   # 식 1, 식 2 모두 참일 때 실행\n",
        "    else:\n",
        "        print(a_year, \"년은 \", a_year-1993, \"세\")    # 식 1은 참이지만 식 2가 거짓일 때 실행"
      ],
      "execution_count": 0,
      "outputs": [
        {
          "output_type": "stream",
          "text": [
            "2080 년은  87 세\n"
          ],
          "name": "stdout"
        }
      ]
    },
    {
      "metadata": {
        "id": "hbCdcIWRsGRm",
        "colab_type": "code",
        "colab": {
          "base_uri": "https://localhost:8080/",
          "height": 34
        },
        "outputId": "bd21c813-c011-49f6-e11a-4991d8620466"
      },
      "cell_type": "code",
      "source": [
        "# elif문 사용 사례\n",
        "# elif를 사용하면 동일한 작업을 깔끔하게 할 수 있다.\n",
        "a_year = 2080\n",
        "if a_year == 1993:\n",
        "    print(a_year, \"년에 태어남\")\n",
        "elif a_year > 1993:\n",
        "    print(a_year, \"년은 \", a_year-1993, \"세\")"
      ],
      "execution_count": 0,
      "outputs": [
        {
          "output_type": "stream",
          "text": [
            "2080 년은  87 세\n"
          ],
          "name": "stdout"
        }
      ]
    },
    {
      "metadata": {
        "id": "4tAVHoxbsGRo",
        "colab_type": "code",
        "colab": {
          "base_uri": "https://localhost:8080/",
          "height": 34
        },
        "outputId": "e7fc1b16-0434-4bb3-8c64-7b54a3be8ce5"
      },
      "cell_type": "code",
      "source": [
        "# for문으로 if문을 조합한 사례\n",
        "# a_num가 소수의 경우에는 아무것도 표시되지 않는다.\n",
        "# 소수가 아닌 때에는 소수가 아니란 것을 표시한다.\n",
        "\n",
        "# a_num에 대입하는 수치를 바꾸어 셀을 실행하면 다양한 숫자에 대한\n",
        "# 소수 여부를 확인할 수 있다.\n",
        "\n",
        "a_num = 57            # 소수인지 알아보는 수\n",
        "for num in range(2, a_num):  # 2부터 a_num-1까지 반복\n",
        "    if a_num % num == 0:     # a_num을 num으로 나누어지는지 확인\n",
        "        print(num, a_num, \"은(는) 소수가 아닙니다.\")\n",
        "        break"
      ],
      "execution_count": 0,
      "outputs": [
        {
          "output_type": "stream",
          "text": [
            "3 57 은(는) 소수가 아닙니다.\n"
          ],
          "name": "stdout"
        }
      ]
    },
    {
      "metadata": {
        "id": "McAvlPsssGRq",
        "colab_type": "text"
      },
      "cell_type": "markdown",
      "source": [
        "## 함수를 사용 (Ch.2-7)"
      ]
    },
    {
      "metadata": {
        "id": "SVZ-xg4asGRq",
        "colab_type": "text"
      },
      "cell_type": "markdown",
      "source": [
        "### 함수란"
      ]
    },
    {
      "metadata": {
        "id": "n2TId83vsGRs",
        "colab_type": "code",
        "colab": {
          "base_uri": "https://localhost:8080/",
          "height": 34
        },
        "outputId": "0afd3791-8536-4bac-e75c-98aedbeafd30"
      },
      "cell_type": "code",
      "source": [
        "# 리스트의 값을 합하는 프로그램\n",
        "the_list = [101, 123, 152, 123]\n",
        "summary = 0                 # 합계를 위한 변수를 만듦\n",
        "for item in the_list:       # 리스트로 루프를 적용\n",
        "    summary = summary+item  # 리스트의 요소를 합계\n",
        "\n",
        "summary                     # 합계를 표시"
      ],
      "execution_count": 0,
      "outputs": [
        {
          "output_type": "execute_result",
          "data": {
            "text/plain": [
              "499"
            ]
          },
          "metadata": {
            "tags": []
          },
          "execution_count": 76
        }
      ]
    },
    {
      "metadata": {
        "id": "85zxSWgrsGRu",
        "colab_type": "code",
        "colab": {
          "base_uri": "https://localhost:8080/",
          "height": 34
        },
        "outputId": "b7b0cec8-caa4-4cbf-fbe3-fdc936d03583"
      },
      "cell_type": "code",
      "source": [
        "sum(the_list)  # 함수 sum()을 사용하는 것이 간단하고 쉽다."
      ],
      "execution_count": 0,
      "outputs": [
        {
          "output_type": "execute_result",
          "data": {
            "text/plain": [
              "499"
            ]
          },
          "metadata": {
            "tags": []
          },
          "execution_count": 77
        }
      ]
    },
    {
      "metadata": {
        "id": "3poMHJA9sGRv",
        "colab_type": "text"
      },
      "cell_type": "markdown",
      "source": [
        "### 도전코딩 4.\n",
        "\n",
        "> range() 함수를 이용해서 1에서 100까지의 합을 구하시오.\n"
      ]
    },
    {
      "metadata": {
        "id": "HhZRV13SsGRv",
        "colab_type": "code",
        "colab": {
          "base_uri": "https://localhost:8080/",
          "height": 34
        },
        "outputId": "83259a39-f215-4b3c-eb0e-d8024f61766d"
      },
      "cell_type": "code",
      "source": [
        "# range() 함수를 이용: 1에서 100까지의 합\n",
        "sum(range(1,101)),sum(list(range(1,101)))\n"
      ],
      "execution_count": 0,
      "outputs": [
        {
          "output_type": "execute_result",
          "data": {
            "text/plain": [
              "(5050, 5050)"
            ]
          },
          "metadata": {
            "tags": []
          },
          "execution_count": 80
        }
      ]
    },
    {
      "metadata": {
        "id": "out4ALeKsGRy",
        "colab_type": "text"
      },
      "cell_type": "markdown",
      "source": [
        "### 함수를 호출"
      ]
    },
    {
      "metadata": {
        "id": "wzdJWSnfsGRy",
        "colab_type": "code",
        "colab": {
          "base_uri": "https://localhost:8080/",
          "height": 34
        },
        "outputId": "0b45690c-e6e2-4c69-9d8c-9dd93275e62d"
      },
      "cell_type": "code",
      "source": [
        "# abs() 함수의 실행 사례\n",
        "abs(-10)    # 절대값을 반환하는 함수를 호출"
      ],
      "execution_count": 0,
      "outputs": [
        {
          "output_type": "execute_result",
          "data": {
            "text/plain": [
              "10"
            ]
          },
          "metadata": {
            "tags": []
          },
          "execution_count": 81
        }
      ]
    },
    {
      "metadata": {
        "id": "2DLA53l6sGRz",
        "colab_type": "code",
        "colab": {
          "base_uri": "https://localhost:8080/",
          "height": 34
        },
        "outputId": "98679149-5ab4-441d-dba1-967cfc1eca5d"
      },
      "cell_type": "code",
      "source": [
        "# abs() 함수의 실행 사례\n",
        "abs(-200.37)"
      ],
      "execution_count": 0,
      "outputs": [
        {
          "output_type": "execute_result",
          "data": {
            "text/plain": [
              "200.37"
            ]
          },
          "metadata": {
            "tags": []
          },
          "execution_count": 82
        }
      ]
    },
    {
      "metadata": {
        "id": "pJzh4pmmsGR0",
        "colab_type": "text"
      },
      "cell_type": "markdown",
      "source": [
        "### 함수의 인수"
      ]
    },
    {
      "metadata": {
        "id": "Uk-t9rwksGR0",
        "colab_type": "code",
        "colab": {
          "base_uri": "https://localhost:8080/",
          "height": 34
        },
        "outputId": "7e942df6-7ac1-4f6c-eaeb-8d8668191fb6"
      },
      "cell_type": "code",
      "source": [
        "# int() 함수의 실행 사례\n",
        "int(\"100\")              # 문자열을 10진수의 수치로 변환"
      ],
      "execution_count": 0,
      "outputs": [
        {
          "output_type": "execute_result",
          "data": {
            "text/plain": [
              "100"
            ]
          },
          "metadata": {
            "tags": []
          },
          "execution_count": 83
        }
      ]
    },
    {
      "metadata": {
        "id": "LLGnRc4gsGR1",
        "colab_type": "code",
        "colab": {
          "base_uri": "https://localhost:8080/",
          "height": 34
        },
        "outputId": "b1d8e8d5-ff63-44e0-d99a-78e119aff45f"
      },
      "cell_type": "code",
      "source": [
        "# int() 함수의 실행 사례\n",
        "# 인수가 같은 함수에서도 동작이 바뀐다.\n",
        "int(\"100\", 2)           # 문자열을 2진수의 수치에 만들어 변환"
      ],
      "execution_count": 0,
      "outputs": [
        {
          "output_type": "execute_result",
          "data": {
            "text/plain": [
              "4"
            ]
          },
          "metadata": {
            "tags": []
          },
          "execution_count": 84
        }
      ]
    },
    {
      "metadata": {
        "id": "wptPIHuPsGR3",
        "colab_type": "code",
        "colab": {
          "base_uri": "https://localhost:8080/",
          "height": 34
        },
        "outputId": "8ca6b863-5568-44cf-de07-94ace2a7e246"
      },
      "cell_type": "code",
      "source": [
        "# int() 함수의 실행 사례\n",
        "int(\"100\", 16)          # 문자열을 16진수의 수치에 만들어 변환"
      ],
      "execution_count": 0,
      "outputs": [
        {
          "output_type": "execute_result",
          "data": {
            "text/plain": [
              "256"
            ]
          },
          "metadata": {
            "tags": []
          },
          "execution_count": 85
        }
      ]
    },
    {
      "metadata": {
        "id": "c4zevMkMsGR3",
        "colab_type": "text"
      },
      "cell_type": "markdown",
      "source": [
        "### 함수의 정의"
      ]
    },
    {
      "metadata": {
        "id": "pbw9NAvosGR4",
        "colab_type": "code",
        "colab": {}
      },
      "cell_type": "code",
      "source": [
        "# destiny_tank() 함수의 정의\n",
        "def destiny_tank():\n",
        "    tanks = [\"IV호 전차 D형\", \"III호 전차 J형\", \"처칠 Mk.VII\",\n",
        "             \"M4 셔먼\", \"P40 중전차\", \"T-34/76\"]  # 전차의 리스트\n",
        "    num = input(\"좋아하는 숫자를 입력하세요:\")         #숫자를 입력\n",
        "    idx = int(num) % len(tanks)        # 입력값을 리스트의 인수로 변환\n",
        "    print(\"당신의 운명의 전차는 \")\n",
        "    print(tanks[idx])                  # 결과를 표시"
      ],
      "execution_count": 0,
      "outputs": []
    },
    {
      "metadata": {
        "id": "gUTRel1BsGR4",
        "colab_type": "code",
        "colab": {
          "base_uri": "https://localhost:8080/",
          "height": 70
        },
        "outputId": "d0c7ed48-e311-4b5c-b429-7187b5420f01"
      },
      "cell_type": "code",
      "source": [
        "# 함수를 호출하면 양식이 나타난다.\n",
        "# 폼에 숫자를 입력하고 리턴을 누르면\n",
        "# 운명의 전차가 나타난다.\n",
        "destiny_tank()      "
      ],
      "execution_count": 0,
      "outputs": [
        {
          "output_type": "stream",
          "text": [
            "좋아하는 숫자를 입력하세요:99\n",
            "당신의 운명의 전차는 \n",
            "M4 셔먼\n"
          ],
          "name": "stdout"
        }
      ]
    },
    {
      "metadata": {
        "id": "N78u01_1sGR6",
        "colab_type": "text"
      },
      "cell_type": "markdown",
      "source": [
        "### 인수 (매개변수)를 정의"
      ]
    },
    {
      "metadata": {
        "id": "0LqKFjlHsGR6",
        "colab_type": "code",
        "colab": {}
      },
      "cell_type": "code",
      "source": [
        "# 인수를 갖는 함수의 정의\n",
        "def destiny_tank2(num):\n",
        "    tanks = [\"IV호 전차 D형\", \"III호 전차 J형\", \"처칠 Mk.VII\",\n",
        "             \"M4 셔먼\", \"P40 중전차\", \"T-34/76\"]  # 전차의 리스트\n",
        "    idx = num % len(tanks)             # 입력값을 리스트의 인수로 변환\n",
        "    print(\"당신의 운명의 전차는 \")\n",
        "    print(tanks[idx])                  # 결과를 표시"
      ],
      "execution_count": 0,
      "outputs": []
    },
    {
      "metadata": {
        "id": "6cHAAmYdsGR8",
        "colab_type": "code",
        "colab": {
          "base_uri": "https://localhost:8080/",
          "height": 70
        },
        "outputId": "2e181ae5-0057-4635-894e-f55726370032"
      },
      "cell_type": "code",
      "source": [
        "# destiny_tank2() 함수의 실행 사례\n",
        "# 인수를 주고 함수를 호출\n",
        "num_str = input(\"좋아하는 숫자를 입력하세요:\")    # 입력 윈도우를 표시\n",
        "num = int(num_str)                         # 문자열을 수치로 변환\n",
        "destiny_tank2(num)                         # 수치를 함수에 전달"
      ],
      "execution_count": 0,
      "outputs": [
        {
          "output_type": "stream",
          "text": [
            "좋아하는 숫자를 입력하세요:3\n",
            "당신의 운명의 전차는 \n",
            "M4 셔먼\n"
          ],
          "name": "stdout"
        }
      ]
    },
    {
      "metadata": {
        "id": "52rwcWRLsGR9",
        "colab_type": "code",
        "colab": {
          "base_uri": "https://localhost:8080/",
          "height": 52
        },
        "outputId": "84e567a7-8f1a-4c4f-a81d-fe5816031f54"
      },
      "cell_type": "code",
      "source": [
        "# 랜덤한 결과를 되돌려 줌\n",
        "# 난수를 사용하여 운명의 전차 추천 받기\n",
        "from random import randint\n",
        "num = randint(0, 10)        # 난수를 생성\n",
        "destiny_tank2(num)          # 생성한 난수를 함수에 전달"
      ],
      "execution_count": 0,
      "outputs": [
        {
          "output_type": "stream",
          "text": [
            "당신의 운명의 전차는 \n",
            "M4 셔먼\n"
          ],
          "name": "stdout"
        }
      ]
    },
    {
      "metadata": {
        "id": "BYAxZuXHsGR_",
        "colab_type": "text"
      },
      "cell_type": "markdown",
      "source": [
        "### 함수의 반환값"
      ]
    },
    {
      "metadata": {
        "id": "X4lt43wDsGR_",
        "colab_type": "code",
        "colab": {}
      },
      "cell_type": "code",
      "source": [
        "# 반환값을 갖는 함수의 정의\n",
        "# 행운의 전차 반환값으로 결과를 반환\n",
        "def destiny_tank3(num):\n",
        "    tanks = [\"IV호 전차 D형\", \"III호 전차 J형\", \"처칠 Mk.VII\",\n",
        "             \"M4 셔먼\", \"P40 중전차\", \"T-34/76\"]  # 전차의 리스트\n",
        "    idx = num % len(tanks)             # 입력값을 리스트의 인수로 변환\n",
        "    return tanks[idx]                  # 결과를 반환값으로 되돌려 줌"
      ],
      "execution_count": 0,
      "outputs": []
    },
    {
      "metadata": {
        "id": "Gg9XGl46sGSB",
        "colab_type": "code",
        "colab": {
          "base_uri": "https://localhost:8080/",
          "height": 34
        },
        "outputId": "35bd568f-1958-45a4-a88c-fdeca5488a26"
      },
      "cell_type": "code",
      "source": [
        "# destiny_tank3() 함수의 실행 사례\n",
        "# 반환값으로 된 전차 이름을 표시하려면\n",
        "from random import randint\n",
        "num = randint(0, 10)\n",
        "tank = destiny_tank3(num)\n",
        "print(\"오늘 당신이 타야 할 행운의 전차는 \", tank, \"입니다.\")\n",
        "# print(\"오늘 당신이 타야 할 행운의 전차는 {}\".format(tank), \"입니다.\")"
      ],
      "execution_count": 0,
      "outputs": [
        {
          "output_type": "stream",
          "text": [
            "오늘 당신이 타야 할 행운의 전차는  P40 중전차 입니다.\n"
          ],
          "name": "stdout"
        }
      ]
    },
    {
      "metadata": {
        "id": "t3WNsIHjsGSC",
        "colab_type": "text"
      },
      "cell_type": "markdown",
      "source": [
        "### 지역 변수"
      ]
    },
    {
      "metadata": {
        "id": "35q2SdA-sGSC",
        "colab_type": "code",
        "colab": {
          "base_uri": "https://localhost:8080/",
          "height": 224
        },
        "outputId": "c1d2b638-d10c-4472-991b-d64a48faa867"
      },
      "cell_type": "code",
      "source": [
        "# 지역 변수를 함수의 밖에서 쓰는 경우\n",
        "def test_func(arg1):\n",
        "    # 수치의 인수에 100을 더하고 표시하는 함수\n",
        "    inner_var = 100\n",
        "    print(arg1+inner_var)\n",
        "\n",
        "test_func(10)       # 함수를 호출 –110으로 표시된다\n",
        "print(inner_var)    # 함수 내에서 정의한 변수를 표시(오류가 됨)"
      ],
      "execution_count": 0,
      "outputs": [
        {
          "output_type": "stream",
          "text": [
            "110\n"
          ],
          "name": "stdout"
        },
        {
          "output_type": "error",
          "ename": "NameError",
          "evalue": "ignored",
          "traceback": [
            "\u001b[0;31m---------------------------------------------------------------------------\u001b[0m",
            "\u001b[0;31mNameError\u001b[0m                                 Traceback (most recent call last)",
            "\u001b[0;32m<ipython-input-102-7a424b1d067f>\u001b[0m in \u001b[0;36m<module>\u001b[0;34m()\u001b[0m\n\u001b[1;32m      5\u001b[0m \u001b[0;34m\u001b[0m\u001b[0m\n\u001b[1;32m      6\u001b[0m \u001b[0mtest_func\u001b[0m\u001b[0;34m(\u001b[0m\u001b[0;36m10\u001b[0m\u001b[0;34m)\u001b[0m       \u001b[0;31m# 함수를 호출 –110으로 표시된다\u001b[0m\u001b[0;34m\u001b[0m\u001b[0m\n\u001b[0;32m----> 7\u001b[0;31m \u001b[0mprint\u001b[0m\u001b[0;34m(\u001b[0m\u001b[0minner_var\u001b[0m\u001b[0;34m)\u001b[0m    \u001b[0;31m# 함수 내에서 정의한 변수를 표시(오류가 됨)\u001b[0m\u001b[0;34m\u001b[0m\u001b[0m\n\u001b[0m",
            "\u001b[0;31mNameError\u001b[0m: name 'inner_var' is not defined"
          ]
        }
      ]
    },
    {
      "metadata": {
        "id": "SR_PE-kosGSD",
        "colab_type": "text"
      },
      "cell_type": "markdown",
      "source": [
        "### 반복 사용하는 코드를 함수로 정리"
      ]
    },
    {
      "metadata": {
        "id": "1UyTw4yvsGSE",
        "colab_type": "code",
        "colab": {
          "base_uri": "https://localhost:8080/",
          "height": 34
        },
        "outputId": "4614a2a4-60cb-420e-e07b-6be5f068ae91"
      },
      "cell_type": "code",
      "source": [
        "# 지역 변수를 함수의 밖에서 쓰는 경우\n",
        "# 신장 목록에서 분산을 계산했을 때의 코드(길고 같은 처리가 중복 ...)\n",
        "monk_fish_team = [158, 157, 163, 157, 145]\n",
        "\n",
        "total = sum(monk_fish_team)    # 리스트의 합계\n",
        "length = len(monk_fish_team)   # 리스트의 요소 수(길이)\n",
        "mean = total/length            # 평균을 계산\n",
        "variance = 0                   # 분산을 계산하기 위한 변수\n",
        "\n",
        "for height in monk_fish_team:\n",
        "    variance = variance+(height-mean)**2 # 신장에서 평균을 빼고 제곱을 더함\n",
        "\n",
        "variance = variance/length     # 더한 수치를 요소 수로 나누어 분산을 구함\n",
        "\n",
        "volleyball_team = [143, 167, 170, 165]\n",
        "\n",
        "total2 = sum(volleyball_team)    # 리스트의 합계\n",
        "length2 = len(volleyball_team)   # 리스트의 요소 수(길이)\n",
        "mean2 = total2/length2           # 평균을 구함\n",
        "variance2 = 0                    # 분산을 계산하기 위한 변수\n",
        "\n",
        "for height in volleyball_team:\n",
        "    variance2 = variance2+(height-mean2)**2 # 신장에서 평균을 빼고 제곱을 더함\n",
        "\n",
        "variance2 = variance2/length2  # 더한 수치를 요소 수로 나누어 분산을 구함\n",
        "print(variance, variance2)     # 결과 보기"
      ],
      "execution_count": 0,
      "outputs": [
        {
          "output_type": "stream",
          "text": [
            "35.2 114.1875\n"
          ],
          "name": "stdout"
        }
      ]
    },
    {
      "metadata": {
        "id": "9PvGDMXdsGSE",
        "colab_type": "code",
        "colab": {}
      },
      "cell_type": "code",
      "source": [
        "# calc_variance() 함수의 정의\n",
        "# 공통 부분을 정리한 함수\n",
        "def calc_variance(a_list):\n",
        "    # 분산을 요구하는 함수\n",
        "    total = sum(a_list)    # 리스트의 합계\n",
        "    length = len(a_list)   # 리스트의 요소 수(길이)\n",
        "    mean = total/length    # 평균을 구함\n",
        "    variance = 0           # 분산을 계산하기 위한 변수\n",
        "\n",
        "    for item in a_list:\n",
        "        variance = variance+(item-mean)**2 # 각 항목에서 평균을 빼고 제곱을 더함\n",
        "    variance = variance/length  # 더한 수치를 요소 수로 나누어 분산을 구함\n",
        "\n",
        "    return variance     # 요구 분산을 반환값으로 돌려줌"
      ],
      "execution_count": 0,
      "outputs": []
    },
    {
      "metadata": {
        "id": "eLkE0FHBsGSG",
        "colab_type": "code",
        "colab": {
          "base_uri": "https://localhost:8080/",
          "height": 71
        },
        "outputId": "ca979f58-f2d2-470f-ed48-93c728822848"
      },
      "cell_type": "code",
      "source": [
        "# calc_variance() 함수의 실행 사례\n",
        "# 함수를 사용하여 분산과 표준 편차를 계산하는\n",
        "# 리스트를 정의한다\n",
        "monk_fish_team = [158, 157, 163, 157, 145]\n",
        "volleyball_team = [143, 167, 170, 165]\n",
        "pravda_team = [127, 172, 140, 160, 174]\n",
        "\n",
        "# 분산을 계산하다\n",
        "monk_team_variance = calc_variance(monk_fish_team)\n",
        "volley_team_variance = calc_variance(volleyball_team)\n",
        "pravda_team_variance = calc_variance(pravda_team)\n",
        "\n",
        "# 표준 편차를 계산하다\n",
        "print(monk_team_variance**0.5)\n",
        "print(volley_team_variance**0.5)\n",
        "print(pravda_team_variance**0.5)"
      ],
      "execution_count": 0,
      "outputs": [
        {
          "output_type": "stream",
          "text": [
            "5.932958789676531\n",
            "10.685855136581255\n",
            "18.347751905887545\n"
          ],
          "name": "stdout"
        }
      ]
    },
    {
      "metadata": {
        "id": "lYcx9o6xsGSH",
        "colab_type": "code",
        "colab": {
          "base_uri": "https://localhost:8080/",
          "height": 35
        },
        "outputId": "d849e742-c3bf-409c-b6ff-104907eb7bc8"
      },
      "cell_type": "code",
      "source": [
        "monk_team_variance,volley_team_variance"
      ],
      "execution_count": 0,
      "outputs": [
        {
          "output_type": "execute_result",
          "data": {
            "text/plain": [
              "(35.2, 114.1875)"
            ]
          },
          "metadata": {
            "tags": []
          },
          "execution_count": 109
        }
      ]
    },
    {
      "metadata": {
        "id": "0Yqai7gcsGSI",
        "colab_type": "text"
      },
      "cell_type": "markdown",
      "source": [
        "## 모듈 사용 (Ch.2-8)"
      ]
    },
    {
      "metadata": {
        "id": "6ozunBWPsGSI",
        "colab_type": "text"
      },
      "cell_type": "markdown",
      "source": [
        "### 모듈 import (가져 오기)"
      ]
    },
    {
      "metadata": {
        "id": "1WoZlk8RsGSI",
        "colab_type": "code",
        "colab": {}
      },
      "cell_type": "code",
      "source": [
        "# random 모듈의 Import\n",
        "import random                 # 랜덤 모듈을 읽기\n",
        "\n",
        "print(random.random())        # 0 < x < 1의 난수를 얻음\n",
        "print(random.randint(0, 6))   # 0 <= x <= 6의 난수를 얻음\n",
        "a_list = [0, 1, 2, 3, 4, 5]\n",
        "random.shuffle(a_list)        # 리스트를 임의로 교체\n",
        "print(a_list)\n",
        "print(random.choice(a_list))  # 리스트의 요소를 1개 랜덤으로 선택"
      ],
      "execution_count": 0,
      "outputs": []
    },
    {
      "metadata": {
        "id": "IIAINpl6sGSJ",
        "colab_type": "text"
      },
      "cell_type": "markdown",
      "source": [
        "### import ~ as ~"
      ]
    },
    {
      "metadata": {
        "id": "fH06Xt1EsGSJ",
        "colab_type": "code",
        "colab": {}
      },
      "cell_type": "code",
      "source": [
        "# plt라는 이름으로 matplotlib.pyplot import하기\n",
        "import matplotlib.pyplot as plt  \n",
        "\n",
        "# 그래프를 표시하기 위한 선언문\n",
        "%matplotlib inline\n",
        "\n",
        "pravda_team = [127, 172, 140, 160, 174]\n",
        "plt.bar([1, 2, 3, 4, 5], pravda_team)  # plt를 사용하여 그래프를 그림"
      ],
      "execution_count": 0,
      "outputs": []
    },
    {
      "metadata": {
        "id": "oN4Emg6esGSL",
        "colab_type": "text"
      },
      "cell_type": "markdown",
      "source": [
        "### from을 사용한 import"
      ]
    },
    {
      "metadata": {
        "id": "UZKew8hpsGSL",
        "colab_type": "code",
        "colab": {}
      },
      "cell_type": "code",
      "source": [
        "# median() 함수의 import\n",
        "# statistics 모듈의 median 함수를 사용하여 평균을 계산\n",
        "from statistics import median\n",
        "\n",
        "monk_fish_team = [158, 157, 163, 157, 145]\n",
        "volleyball_team = [143, 167, 170, 165]\n",
        "print(median(monk_fish_team))    # 함수 이름만 불러낼 수 있음\n",
        "print(median(volleyball_team))   # 함수 이름만 불러낼 수 있음"
      ],
      "execution_count": 0,
      "outputs": []
    },
    {
      "metadata": {
        "id": "nZ6sytB4sGSM",
        "colab_type": "text"
      },
      "cell_type": "markdown",
      "source": [
        "### 도전코딩 5. 모듈사용\n",
        "\n",
        "> var()함수를 import하여 monk_fish_tea과 volleyball_team의 variance를 구하시오."
      ]
    },
    {
      "metadata": {
        "id": "55M1xWsXsGSM",
        "colab_type": "code",
        "colab": {}
      },
      "cell_type": "code",
      "source": [
        "import numpy as np\n",
        "np.var(monk_fish_team),np.var(volleyball_team)"
      ],
      "execution_count": 0,
      "outputs": []
    },
    {
      "metadata": {
        "id": "VaWz_rn3sGSN",
        "colab_type": "code",
        "colab": {}
      },
      "cell_type": "code",
      "source": [
        ""
      ],
      "execution_count": 0,
      "outputs": []
    }
  ]
}