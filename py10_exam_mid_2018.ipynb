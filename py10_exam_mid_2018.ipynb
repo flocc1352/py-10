{
  "nbformat": 4,
  "nbformat_minor": 0,
  "metadata": {
    "colab": {
      "name": "py10_exam_mid_2018.ipynb",
      "version": "0.3.2",
      "provenance": [],
      "collapsed_sections": [],
      "include_colab_link": true
    },
    "kernelspec": {
      "display_name": "Python 3",
      "language": "python",
      "name": "python3"
    }
  },
  "cells": [
    {
      "cell_type": "markdown",
      "metadata": {
        "id": "view-in-github",
        "colab_type": "text"
      },
      "source": [
        "[View in Colaboratory](https://colab.research.google.com/github/flocc1352/py-10/blob/master/py10_exam_mid_2018.ipynb)"
      ]
    },
    {
      "metadata": {
        "id": "12twNAlLMAyk",
        "colab_type": "text"
      },
      "cell_type": "markdown",
      "source": [
        "# 중간필기시험: 파이썬 프로그래밍 (2018.10.15)"
      ]
    },
    {
      "metadata": {
        "id": "aefyz-CMMExW",
        "colab_type": "text"
      },
      "cell_type": "markdown",
      "source": [
        "## 정답을 설명하는 노트를 완성해서 각자의 github에 올리시오."
      ]
    },
    {
      "metadata": {
        "id": "Rc8uW2C1MAyp",
        "colab_type": "text"
      },
      "cell_type": "markdown",
      "source": [
        "***"
      ]
    },
    {
      "metadata": {
        "id": "hzMo_ABhMAyr",
        "colab_type": "code",
        "outputId": "4254c2bf-8d4f-4670-eca7-03bda06f63e5",
        "colab": {
          "base_uri": "https://localhost:8080/",
          "height": 35
        }
      },
      "cell_type": "code",
      "source": [
        "# [1]\n",
        "# 다음 식의 연산 결과는?\n",
        "\n",
        "2^4\n",
        "\n"
      ],
      "execution_count": 1,
      "outputs": [
        {
          "output_type": "execute_result",
          "data": {
            "text/plain": [
              "6"
            ]
          },
          "metadata": {
            "tags": []
          },
          "execution_count": 1
        }
      ]
    },
    {
      "metadata": {
        "id": "I9V4aC5dMAyx",
        "colab_type": "code",
        "outputId": "fc4f277b-65c8-4532-a8a0-bf9b5d7ef428",
        "colab": {
          "base_uri": "https://localhost:8080/",
          "height": 35
        }
      },
      "cell_type": "code",
      "source": [
        "# [2]\n",
        "# 다음 식의 연산 결과는?\n",
        "\n",
        "2**4\n",
        "\n"
      ],
      "execution_count": 0,
      "outputs": [
        {
          "output_type": "execute_result",
          "data": {
            "text/plain": [
              "16"
            ]
          },
          "metadata": {
            "tags": []
          },
          "execution_count": 2
        }
      ]
    },
    {
      "metadata": {
        "id": "6Swvwf_kMAy2",
        "colab_type": "code",
        "outputId": "1d7b24a5-44b5-4464-a504-910e98322617",
        "colab": {
          "base_uri": "https://localhost:8080/",
          "height": 71
        }
      },
      "cell_type": "code",
      "source": [
        "# [3]\n",
        "# BMI는 키와 체중을 이용하여 계산한 지수로 체중(kg)÷(키(m)**2) 입니다. \n",
        "# 즉, 체중(weight)을 키(height)의 제곱으로 나눈 값이 BMI(체질량지수)입니다.\n",
        "#\n",
        "\n",
        "height = float(input(\"Your height in meters:\"))\n",
        "weight = int(input(\"Your weight in kilograms:\"))\n",
        "\n",
        "# bmi를 소숫점 첫째자리까지 구하는 식은?\n",
        "# hint: use round()\n",
        "\n",
        "bmi = round(weight/(height**2),1)\n",
        "\n",
        "bmi\n",
        "\n"
      ],
      "execution_count": 0,
      "outputs": [
        {
          "output_type": "stream",
          "text": [
            "Your height in meters:1.5\n",
            "Your weight in kilograms:30\n"
          ],
          "name": "stdout"
        },
        {
          "output_type": "execute_result",
          "data": {
            "text/plain": [
              "13.3"
            ]
          },
          "metadata": {
            "tags": []
          },
          "execution_count": 6
        }
      ]
    },
    {
      "metadata": {
        "id": "H0ccxWPvMAy-",
        "colab_type": "code",
        "outputId": "f7bc2b26-f14c-49bd-818a-e48bac8a2615",
        "colab": {
          "base_uri": "https://localhost:8080/",
          "height": 35
        }
      },
      "cell_type": "code",
      "source": [
        "# [4,5]\n",
        "# 다음 리스트는 도쿄의 낮 평균 기온 (1950년부터 2000년까지)이댜.\n",
        "\n",
        "tokyo_temps = [15.1, 15.4, 15.2, 15.4, 17.0, 16.9]\n",
        "\n",
        "import numpy as np  # 파이썬 모듈을 연결하는 키워드는? \n",
        "\n",
        "max(tokyo_temps)\n",
        "\n",
        "np.argmax(tokyo_temps) #[5] 결과는?\n",
        "\n",
        "  "
      ],
      "execution_count": 0,
      "outputs": [
        {
          "output_type": "execute_result",
          "data": {
            "text/plain": [
              "4"
            ]
          },
          "metadata": {
            "tags": []
          },
          "execution_count": 7
        }
      ]
    },
    {
      "metadata": {
        "id": "ysjKQ8xZMAzH",
        "colab_type": "code",
        "outputId": "c115bbe0-22b4-4b36-bfc2-d415014ed311",
        "colab": {
          "base_uri": "https://localhost:8080/",
          "height": 35
        }
      },
      "cell_type": "code",
      "source": [
        "# [6,7]\n",
        "# 영어 단어의 출현 수를 딕셔너리를 이용해서 계산하는 코드이다.\n",
        "# 문단 line을 구성하는 단어들을 분리하는 정확한 함수식은?\n",
        "\n",
        "line = \"\"\"If you can dream it, you can do it. \n",
        "- Walt Disney\"\"\"\n",
        "\n",
        "wordcnt = { }     #[6] 딕셔너리를 초기화\n",
        "\n",
        "for word in line.split():  #[7] 단어들을 분리하는 정확한 함수식은?]\n",
        "    if word in wordcnt:\n",
        "        wordcnt[word] = wordcnt[word]+1\n",
        "    else:\n",
        "        wordcnt[word] = 1\n",
        "        \n",
        "print(wordcnt)            # 결과 표시\n",
        "\n",
        "#[7. 보기] split(',') , split() , split(':') , split('.')\n",
        "\n"
      ],
      "execution_count": 0,
      "outputs": [
        {
          "output_type": "stream",
          "text": [
            "{'If': 1, 'you': 2, 'can': 2, 'dream': 1, 'it,': 1, 'do': 1, 'it.': 1, '-': 1, 'Walt': 1, 'Disney': 1}\n"
          ],
          "name": "stdout"
        }
      ]
    },
    {
      "metadata": {
        "id": "65KfErIhMAzL",
        "colab_type": "code",
        "outputId": "08f68d57-7a9f-4b44-9557-a693331be9fc",
        "colab": {
          "base_uri": "https://localhost:8080/",
          "height": 35
        }
      },
      "cell_type": "code",
      "source": [
        "# [8]\n",
        "# 리스트를 set로 변환하기\n",
        "# \n",
        "codon = ['ATG', 'GGC', 'TCC', 'AAG', 'TTC', \n",
        "         'TGG', 'GGC', 'GAC', 'TCC']\n",
        "\n",
        "s_codon = set(codon)      # 리스트를 set으로 변환\n",
        "\n",
        "print(len(codon), len(s_codon))    #[8] 출력 결과는?\n",
        "\n"
      ],
      "execution_count": 0,
      "outputs": [
        {
          "output_type": "stream",
          "text": [
            "9 7\n"
          ],
          "name": "stdout"
        }
      ]
    },
    {
      "metadata": {
        "id": "7dVQabW0MAzP",
        "colab_type": "code",
        "outputId": "a78d367e-0305-4eda-b606-95fbdfc809a9",
        "colab": {
          "base_uri": "https://localhost:8080/",
          "height": 35
        }
      },
      "cell_type": "code",
      "source": [
        "# [9]\n",
        "# 튜플의 리스트를 이용한 다음 식의 연산 결과는?\n",
        "# \n",
        "tank_data = [(\"A형 전차\", 38, 80, 75), (\"B형 전차\", 42, 50, 37),\n",
        "             (\"X형 전차\", 20, 17, 57), (\"Y형 전차\", 40, 50, 75),\n",
        "             (\"Z형 전차\", 39, 51, 75)]\n",
        "\n",
        "# 전차의 제원을 더해 반환하는 함수\n",
        "def evaluate_tankdata(tup):\n",
        "    return tup[1]+tup[2]+tup[3]\n",
        "\n",
        "print(evaluate_tankdata(tank_data[3]))  #[9] 출력 결과는?\n",
        "\n"
      ],
      "execution_count": 0,
      "outputs": [
        {
          "output_type": "stream",
          "text": [
            "165\n"
          ],
          "name": "stdout"
        }
      ]
    },
    {
      "metadata": {
        "id": "ll7TUF1rMAzT",
        "colab_type": "code",
        "outputId": "30e3b093-92a4-4727-b47b-eef9cfde5c2f",
        "colab": {
          "base_uri": "https://localhost:8080/",
          "height": 35
        }
      },
      "cell_type": "code",
      "source": [
        "# [10]\n",
        "# 다음 for-loop의 출력 결과는?\n",
        "#\n",
        "\n",
        "seq = [\"야구\", \"축구\", \"농구\"]\n",
        "\n",
        "# range()를 사용한 루프 카운터\n",
        "for cnt in range(len(seq)):\n",
        "    print(cnt, seq[cnt], end=',')\n",
        "    \n"
      ],
      "execution_count": 0,
      "outputs": [
        {
          "output_type": "stream",
          "text": [
            "0 야구,1 축구,2 농구,"
          ],
          "name": "stdout"
        }
      ]
    },
    {
      "metadata": {
        "id": "BUuLuuBHMAzX",
        "colab_type": "code",
        "outputId": "1d0f29c3-e8e0-49ce-d269-79fe61f38fcb",
        "colab": {
          "base_uri": "https://localhost:8080/",
          "height": 89
        }
      },
      "cell_type": "code",
      "source": [
        "# [11]\n",
        "# 다음은 두 개의 리스트를 묶어서 아래와 같이 출력하는 코드이다.\n",
        "# 두 개의 리스트를 묶는 함수는?\n",
        "\n",
        "for n, w in zip([1, 2, 3, 4], ['a', 'b', 'c', 'd']):\n",
        "    print(n, w)\n",
        "    \n",
        "# 출력결과    "
      ],
      "execution_count": 0,
      "outputs": [
        {
          "output_type": "stream",
          "text": [
            "1 a\n",
            "2 b\n",
            "3 c\n",
            "4 d\n"
          ],
          "name": "stdout"
        }
      ]
    },
    {
      "metadata": {
        "id": "mRSUoF-5MAzf",
        "colab_type": "code",
        "colab": {}
      },
      "cell_type": "code",
      "source": [
        "# [12]\n",
        "# 다음은 구글 colab cloud로 로컬 파일들을 업로드하는 과정이다.\n",
        "# files 객체 UI를 이용해서 업로드한 파일들은 uploaded 변수에 튜플로 저장된다.\n",
        "\n",
        "from google.colab import files\n",
        "uploaded = files.upload()\n",
        "\n",
        "for fn in uploaded.keys():  #[12] 튜플의 함수는?\n",
        "  print('User uploaded file \"{name}\" with length {length} bytes'.format(\n",
        "      name=fn, length=len(uploaded[fn])))\n",
        "\n",
        "#[12.보기] items(), values(), keys(), map()\n",
        "\n"
      ],
      "execution_count": 0,
      "outputs": []
    },
    {
      "metadata": {
        "id": "EP2ydvvnMAzi",
        "colab_type": "code",
        "outputId": "11c3195e-26a4-40f5-9701-69b2a1e66081",
        "colab": {
          "base_uri": "https://localhost:8080/",
          "height": 107
        }
      },
      "cell_type": "code",
      "source": [
        "# [13-17]\n",
        "# 리스트의 인덱싱과 슬라이싱\n",
        "#\n",
        "\n",
        "a=[10,20,30,40,50,60]\n",
        "\n",
        "b=[10,20,30,\"HCit\",[True,3.14]]\n",
        "\n",
        "\n",
        "print(\"a[-5] ==\", a[-5]) #[13] 출력 결과는?\n",
        "\n",
        "\n",
        "print(\"b[-1][0] ==\", b[-1][0]) #[14] 출력 결과는?\n",
        "\n",
        "\n",
        "print(\"a[:-3]==\",a[:-3]) #[15] 출력 결과는?\n",
        "\n",
        "\n",
        "print(b[-2][1])  #[16] 출력 결과는?\n",
        "\n",
        "\n",
        "print(a[::-2])  #[17] 출력 결과는?\n",
        "\n",
        "\n"
      ],
      "execution_count": 0,
      "outputs": [
        {
          "output_type": "stream",
          "text": [
            "a[-5] == 20\n",
            "b[-1][0] == True\n",
            "a[:-3]== [10, 20, 30]\n",
            "C\n",
            "[60, 40, 20]\n"
          ],
          "name": "stdout"
        }
      ]
    },
    {
      "metadata": {
        "id": "NN5vsqL9MAzk",
        "colab_type": "text"
      },
      "cell_type": "markdown",
      "source": [
        "***"
      ]
    },
    {
      "metadata": {
        "id": "K0aGACNPMAzl",
        "colab_type": "code",
        "outputId": "7d40c0eb-e3b9-486a-8aaa-65e7e906ea66",
        "colab": {
          "base_uri": "https://localhost:8080/",
          "height": 35
        }
      },
      "cell_type": "code",
      "source": [
        "# [18-19]\n",
        "# 내포(Comprehension) 표기\n",
        "# 리스트 내포 표기\n",
        "\n",
        "monk_fish_team = [158, 157, 163, 157, 145]\n",
        "\n",
        "total = sum(monk_fish_team)    # 리스트의 합계\n",
        "length = len(monk_fish_team)   # 리스트의 요소 수(길이)\n",
        "mean = total/length            # 평균을 구함\n",
        "\n",
        "# 리스트의 분산(variance)를 구하는 for-loop 코드\n",
        "# variance = 0\n",
        "# for height in monk_fish_team:\n",
        "#     variance = variance+(height-mean)**2\n",
        "#\n",
        "# variance = variance/length\n",
        "\n",
        "# 리스트 내포 표기로 분산을 계산하는 식\n",
        "# [18] 적절한 함수?  , [19] 분산을 계산하기 위한 변수는? \n",
        "\n",
        "variance = sum([(h - mean)**2 for h in monk_fish_team])/length\n",
        "\n",
        "variance\n",
        "\n",
        "# [18.보기] abs, mean, add, sum, sqrt, var\n",
        "\n",
        "\n"
      ],
      "execution_count": 0,
      "outputs": [
        {
          "output_type": "execute_result",
          "data": {
            "text/plain": [
              "35.2"
            ]
          },
          "metadata": {
            "tags": []
          },
          "execution_count": 16
        }
      ]
    },
    {
      "metadata": {
        "id": "3GzsOsxHMAzn",
        "colab_type": "code",
        "outputId": "a0fdac90-5b22-4f21-bc96-3737077cae0b",
        "colab": {
          "base_uri": "https://localhost:8080/",
          "height": 35
        }
      },
      "cell_type": "code",
      "source": [
        "# [20]\n",
        "# lambda 식\n",
        "\n",
        "x=4\n",
        "list(map(lambda z : x % z, range(2,x)))  #[20] 계산 결과는\n",
        "\n",
        "\n"
      ],
      "execution_count": 0,
      "outputs": [
        {
          "output_type": "execute_result",
          "data": {
            "text/plain": [
              "[0, 1]"
            ]
          },
          "metadata": {
            "tags": []
          },
          "execution_count": 17
        }
      ]
    },
    {
      "metadata": {
        "id": "715JrwVgMAzq",
        "colab_type": "text"
      },
      "cell_type": "markdown",
      "source": [
        "***"
      ]
    },
    {
      "metadata": {
        "id": "bxCF9mVRMAzr",
        "colab_type": "code",
        "outputId": "dfc17a84-3b2b-4a8a-93e8-7237418ba91f",
        "colab": {
          "base_uri": "https://localhost:8080/",
          "height": 35
        }
      },
      "cell_type": "code",
      "source": [
        "#\n",
        "# [Bonus] lambda 함수 정의\n",
        "\n",
        "# function square(x)\n",
        "def square(x): \n",
        "    return x*x\n",
        "\n",
        "# square() 함수를 lambda 식으로 정의하시오. (Bonus +1)\n",
        "\n",
        "lambda x : x*x\n"
      ],
      "execution_count": 0,
      "outputs": [
        {
          "output_type": "execute_result",
          "data": {
            "text/plain": [
              "1"
            ]
          },
          "metadata": {
            "tags": []
          },
          "execution_count": 20
        }
      ]
    },
    {
      "metadata": {
        "id": "IO1oIZf8OOsp",
        "colab_type": "code",
        "colab": {}
      },
      "cell_type": "code",
      "source": [
        ""
      ],
      "execution_count": 0,
      "outputs": []
    }
  ]
}