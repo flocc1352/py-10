{
  "nbformat": 4,
  "nbformat_minor": 0,
  "metadata": {
    "colab": {
      "name": "wk03_list_loop_condition_start.ipynb의 사본",
      "version": "0.3.2",
      "provenance": [],
      "include_colab_link": true
    },
    "kernelspec": {
      "display_name": "Python 3",
      "language": "python",
      "name": "python3"
    }
  },
  "cells": [
    {
      "cell_type": "markdown",
      "metadata": {
        "id": "view-in-github",
        "colab_type": "text"
      },
      "source": [
        "[View in Colaboratory](https://colab.research.google.com/github/flocc1352/py-10/blob/master/wk03_list_loop_condition_start_ipynb%EC%9D%98_%EC%82%AC%EB%B3%B8.ipynb)"
      ]
    },
    {
      "metadata": {
        "id": "8hjYeBvauVBY",
        "colab_type": "toc"
      },
      "cell_type": "markdown",
      "source": [
        ">>[리스트 사용 (Ch.2-4)](#scrollTo=EKihYieluSqI)\n",
        "\n",
        ">>>[리스트 정의](#scrollTo=JxLIr8m3uSqK)\n",
        "\n",
        ">>>[인덱스(index)를 사용하여 리스트의 요소를 추출](#scrollTo=D-Aa6FhiuSqU)\n",
        "\n",
        ">>>[max & argmax of list](#scrollTo=uZEafcCSuSqb)\n",
        "\n",
        ">>>[리스트(List)의 연결](#scrollTo=_c0SUx77uSqe)\n",
        "\n",
        ">>>>[연도별로 온도 변화 그래프 그리기](#scrollTo=3N2ryFrbuSqh)\n",
        "\n",
        ">>>[리스트(List) 요소의 변경 삭제](#scrollTo=JDIlbq-_uSql)\n",
        "\n",
        ">>>[슬라이스를 이용하여 여러 요소를 추출](#scrollTo=GuNABnl3uSqr)\n",
        "\n",
        ">>>[리스트의 리스트 － 2 차원 배열](#scrollTo=7D7xg23huSq3)\n",
        "\n",
        ">>>[리스트의 합계 최대값, 최소값](#scrollTo=MhM98LgYuSq-)\n",
        "\n",
        ">>>[리스트의 항목 수를 측정](#scrollTo=gfkoNV6WuSrF)\n",
        "\n",
        ">>[for문에서 루프를 사용 (Ch.2-5)](#scrollTo=puhHqY1KuSrL)\n",
        "\n",
        ">>>[range() 함수](#scrollTo=fW0_rAX1uSrT)\n",
        "\n",
        ">>>[도전코딩-3.](#scrollTo=iTy9YrX1uSrc)\n",
        "\n",
        ">>[if문에서 조건 분기 (Ch.2-6)](#scrollTo=ppfezxqCuSrd)\n",
        "\n",
        ">>>[수치를 비교](#scrollTo=1DT1xTleuSrg)\n",
        "\n",
        ">>>[문자열을 비교](#scrollTo=h7wd98dAuSro)\n",
        "\n",
        ">>>[문자열을 검색](#scrollTo=FSMkcwRbuSrq)\n",
        "\n",
        ">>>[리스트를 비교](#scrollTo=_DB3rKNjuSrs)\n",
        "\n",
        ">>>[리스트의 요소를 검색](#scrollTo=qvIZhwZFuSrt)\n",
        "\n",
        ">>>[else문을 사용](#scrollTo=FgEZ_MNUuSrx)\n",
        "\n",
        ">>>[elif문의 사용](#scrollTo=Ym9_SmvZuSr0)\n",
        "\n",
        ">>[함수를 사용 (Ch.2-7)](#scrollTo=QxFYvdFIuSr4)\n",
        "\n",
        ">>>[함수란](#scrollTo=9kkeEPecuSr5)\n",
        "\n",
        ">>>[도전코딩 4.](#scrollTo=UD8A9C2ouSr9)\n",
        "\n",
        ">>>[함수를 호출](#scrollTo=OX87CCUwuSr9)\n",
        "\n",
        ">>>[함수의 인수](#scrollTo=5VNVVRAXuSsA)\n",
        "\n",
        ">>>[함수의 정의](#scrollTo=leLfeXuUuSsE)\n",
        "\n",
        ">>>[인수 (매개변수)를 정의](#scrollTo=haK4RB7wuSsG)\n",
        "\n",
        ">>>[함수의 반환값](#scrollTo=mUfL3t5KuSsN)\n",
        "\n",
        ">>>[지역 변수](#scrollTo=mMp4ENsGuSsP)\n",
        "\n",
        ">>>[반복 사용하는 코드를 함수로 정리](#scrollTo=5YGgnFzYuSsQ)\n",
        "\n",
        ">>[모듈 사용 (Ch.2-8)](#scrollTo=QHo3Cqk7uSsV)\n",
        "\n",
        ">>>[모듈 import (가져 오기)](#scrollTo=1F8Ml35suSsV)\n",
        "\n",
        ">>>[import ~ as ~](#scrollTo=Pd2IhW2MuSsX)\n",
        "\n",
        ">>>[from을 사용한 import](#scrollTo=4E76aq4cuSsZ)\n",
        "\n",
        ">>>[도전코딩 5. 모듈사용](#scrollTo=_4tR2n8kuSsb)\n",
        "\n"
      ]
    },
    {
      "metadata": {
        "id": "EKihYieluSqI",
        "colab_type": "text"
      },
      "cell_type": "markdown",
      "source": [
        "## 리스트 사용 (Ch.2-4)"
      ]
    },
    {
      "metadata": {
        "id": "JxLIr8m3uSqK",
        "colab_type": "text"
      },
      "cell_type": "markdown",
      "source": [
        "### 리스트 정의"
      ]
    },
    {
      "metadata": {
        "id": "1V1_WBDQuSqM",
        "colab_type": "code",
        "colab": {}
      },
      "cell_type": "code",
      "source": [
        "# 도쿄의 낮 평균 기온 (1950년부터 2000년까지)\n",
        "# 변수 리스트를 할당\n",
        "tokyo_temps = [15.1, 15.4, 15.2, 15.4, 17.0, 16.9]"
      ],
      "execution_count": 0,
      "outputs": []
    },
    {
      "metadata": {
        "id": "RJWAYCE-uSqP",
        "colab_type": "code",
        "colab": {}
      },
      "cell_type": "code",
      "source": [
        "# 그래프의 표시 준비\n",
        "%matplotlib inline\n",
        "import matplotlib.pyplot as plt"
      ],
      "execution_count": 0,
      "outputs": []
    },
    {
      "metadata": {
        "id": "djvDn_CCuSqS",
        "colab_type": "code",
        "colab": {}
      },
      "cell_type": "code",
      "source": [
        "# 그래프의 표시\n",
        "plt.plot(tokyo_temps, 'g*-', ms=15)"
      ],
      "execution_count": 0,
      "outputs": []
    },
    {
      "metadata": {
        "id": "D-Aa6FhiuSqU",
        "colab_type": "text"
      },
      "cell_type": "markdown",
      "source": [
        "### 인덱스(index)를 사용하여 리스트의 요소를 추출"
      ]
    },
    {
      "metadata": {
        "id": "tBjcFXIWuSqV",
        "colab_type": "code",
        "colab": {}
      },
      "cell_type": "code",
      "source": [
        "tokyo_temps[0]   # 1950년의 평균 기온"
      ],
      "execution_count": 0,
      "outputs": []
    },
    {
      "metadata": {
        "id": "eOsmomLfuSqX",
        "colab_type": "code",
        "colab": {}
      },
      "cell_type": "code",
      "source": [
        "# 2000년까지 50년 평균 기온이 몇도 올랐는지 계산\n",
        "# 리스트 요소의 뺄셈\n",
        "tokyo_temps[5]-tokyo_temps[0]"
      ],
      "execution_count": 0,
      "outputs": []
    },
    {
      "metadata": {
        "id": "pZ-TU3lpuSqY",
        "colab_type": "text"
      },
      "cell_type": "markdown",
      "source": [
        "계산 결과가 1.8이 되지 않는 것이 이상한 사람은 다음을 참고[기사](http://web.archive.org/web/20160506221107/http://pc.nikkeibp.co.jp/pc21/special/gosa/eg4.shtml)\n",
        "\n",
        "또한 (파이썬에서 클래를 사용)에도 쉽게 설명하고 있다"
      ]
    },
    {
      "metadata": {
        "id": "UqBZCa5puSqZ",
        "colab_type": "code",
        "colab": {}
      },
      "cell_type": "code",
      "source": [
        "# 인덱스에 -1을 주고 같은 온도 차이를 계산\n",
        "# 리스트의 마지막 요소를 지정\n",
        "tokyo_temps[-1]-tokyo_temps[0]"
      ],
      "execution_count": 0,
      "outputs": []
    },
    {
      "metadata": {
        "id": "uZEafcCSuSqb",
        "colab_type": "text"
      },
      "cell_type": "markdown",
      "source": [
        "### max & argmax of list"
      ]
    },
    {
      "metadata": {
        "id": "7J9D86_ruSqc",
        "colab_type": "code",
        "colab": {}
      },
      "cell_type": "code",
      "source": [
        "import numpy as np\n",
        "max(tokyo_temps),np.argmax(tokyo_temps)"
      ],
      "execution_count": 0,
      "outputs": []
    },
    {
      "metadata": {
        "id": "_c0SUx77uSqe",
        "colab_type": "text"
      },
      "cell_type": "markdown",
      "source": [
        "### 리스트(List)의 연결"
      ]
    },
    {
      "metadata": {
        "id": "Bq2m3xYjuSqe",
        "colab_type": "code",
        "colab": {
          "base_uri": "https://localhost:8080/",
          "height": 190
        },
        "outputId": "06451b9b-7b3b-4766-fa86-6f2f5a89374e"
      },
      "cell_type": "code",
      "source": [
        "# 리스트에 1900년부터 1940년의 평균 기온 추가\n",
        "# 리스트의 덧셈\n",
        "e_tokyo_temps = [13.6, 13.5, 14.2, 14.8, 14.8]\n",
        "tokyo_temps2 = e_tokyo_temps+tokyo_temps"
      ],
      "execution_count": 1,
      "outputs": [
        {
          "output_type": "error",
          "ename": "NameError",
          "evalue": "ignored",
          "traceback": [
            "\u001b[0;31m---------------------------------------------------------------------------\u001b[0m",
            "\u001b[0;31mNameError\u001b[0m                                 Traceback (most recent call last)",
            "\u001b[0;32m<ipython-input-1-eaed1f1d4783>\u001b[0m in \u001b[0;36m<module>\u001b[0;34m()\u001b[0m\n\u001b[1;32m      1\u001b[0m \u001b[0me_tokyo_temps\u001b[0m \u001b[0;34m=\u001b[0m \u001b[0;34m[\u001b[0m\u001b[0;36m13.6\u001b[0m\u001b[0;34m,\u001b[0m \u001b[0;36m13.5\u001b[0m\u001b[0;34m,\u001b[0m \u001b[0;36m14.2\u001b[0m\u001b[0;34m,\u001b[0m \u001b[0;36m14.8\u001b[0m\u001b[0;34m,\u001b[0m \u001b[0;36m14.8\u001b[0m\u001b[0;34m]\u001b[0m\u001b[0;34m\u001b[0m\u001b[0m\n\u001b[0;32m----> 2\u001b[0;31m \u001b[0mtokyo_temps2\u001b[0m \u001b[0;34m=\u001b[0m \u001b[0me_tokyo_temps\u001b[0m\u001b[0;34m+\u001b[0m\u001b[0mtokyo_temps\u001b[0m\u001b[0;34m\u001b[0m\u001b[0m\n\u001b[0m",
            "\u001b[0;31mNameError\u001b[0m: name 'tokyo_temps' is not defined"
          ]
        }
      ]
    },
    {
      "metadata": {
        "id": "bqowRoLAuSqf",
        "colab_type": "code",
        "colab": {}
      },
      "cell_type": "code",
      "source": [
        "# 그래프의 표시\n",
        "plt.plot(tokyo_temps2,'r*-',ms=12)"
      ],
      "execution_count": 0,
      "outputs": []
    },
    {
      "metadata": {
        "id": "3N2ryFrbuSqh",
        "colab_type": "text"
      },
      "cell_type": "markdown",
      "source": [
        "#### 연도별로 온도 변화 그래프 그리기"
      ]
    },
    {
      "metadata": {
        "id": "lxnjei5QuSqh",
        "colab_type": "code",
        "colab": {}
      },
      "cell_type": "code",
      "source": [
        "year = range(1900,2010,10)\n",
        "year"
      ],
      "execution_count": 0,
      "outputs": []
    },
    {
      "metadata": {
        "id": "ajLmhYevuSqj",
        "colab_type": "code",
        "colab": {}
      },
      "cell_type": "code",
      "source": [
        "plt.plot(year,tokyo_temps2,'b*-',ms=12)"
      ],
      "execution_count": 0,
      "outputs": []
    },
    {
      "metadata": {
        "id": "JDIlbq-_uSql",
        "colab_type": "text"
      },
      "cell_type": "markdown",
      "source": [
        "### 리스트(List) 요소의 변경 삭제"
      ]
    },
    {
      "metadata": {
        "id": "v15GlLb-uSql",
        "colab_type": "code",
        "colab": {}
      },
      "cell_type": "code",
      "source": [
        "# 문자열의 리스트를 정의하고 내용보기\n",
        "# 리스트 \"mcz\" 만들기\n",
        "mcz = [\"AB\", \"CD\", \"EF\", \"GH\", \"IJ\", \"KL\"]\n",
        "mcz"
      ],
      "execution_count": 0,
      "outputs": []
    },
    {
      "metadata": {
        "id": "d7nw_hE8uSqo",
        "colab_type": "code",
        "colab": {}
      },
      "cell_type": "code",
      "source": [
        "# 여섯 번째[5] 요소를 다시 작성\n",
        "mcz[5] = 'ZY'\n",
        "mcz                 # 변경 후 리스트 확인"
      ],
      "execution_count": 0,
      "outputs": []
    },
    {
      "metadata": {
        "id": "iJM0l3CEuSqp",
        "colab_type": "code",
        "colab": {}
      },
      "cell_type": "code",
      "source": [
        "# 요소의 제거\n",
        "del mcz[0]\n",
        "mcz            # 변경 후 리스트 확인"
      ],
      "execution_count": 0,
      "outputs": []
    },
    {
      "metadata": {
        "id": "GuNABnl3uSqr",
        "colab_type": "text"
      },
      "cell_type": "markdown",
      "source": [
        "### 슬라이스를 이용하여 여러 요소를 추출"
      ]
    },
    {
      "metadata": {
        "id": "VUtYnoOpuSqs",
        "colab_type": "code",
        "colab": {}
      },
      "cell_type": "code",
      "source": [
        "# 인덱스 1부터 2까지의 요소를 슬라이스로 검색\n",
        "# 슬라이스의 사용 예\n",
        "lst1 = mcz[1:3]\n",
        "lst1"
      ],
      "execution_count": 0,
      "outputs": []
    },
    {
      "metadata": {
        "id": "jp2XlW95uSqt",
        "colab_type": "code",
        "colab": {}
      },
      "cell_type": "code",
      "source": [
        "# 슬라이스 왼쪽 인덱스를 생략하면 처음부터 추출\n",
        "# 슬라이스의 사용 예\n",
        "mcz[:2]"
      ],
      "execution_count": 0,
      "outputs": []
    },
    {
      "metadata": {
        "id": "TrJIAinauSqw",
        "colab_type": "code",
        "colab": {}
      },
      "cell_type": "code",
      "source": [
        "# 오른쪽 인덱스를 생략하면 마지막까지 추출\n",
        "# 슬라이스의 사용 예\n",
        "mcz[1:]"
      ],
      "execution_count": 0,
      "outputs": []
    },
    {
      "metadata": {
        "id": "7Y7qQsIduSqy",
        "colab_type": "code",
        "colab": {}
      },
      "cell_type": "code",
      "source": [
        "mcz[-1]"
      ],
      "execution_count": 0,
      "outputs": []
    },
    {
      "metadata": {
        "id": "7UyCVm8ZuSq1",
        "colab_type": "code",
        "colab": {}
      },
      "cell_type": "code",
      "source": [
        "mcz[:-1]"
      ],
      "execution_count": 0,
      "outputs": []
    },
    {
      "metadata": {
        "id": "7D7xg23huSq3",
        "colab_type": "text"
      },
      "cell_type": "markdown",
      "source": [
        "### 리스트의 리스트 － 2 차원 배열"
      ]
    },
    {
      "metadata": {
        "id": "La2KYJ3PuSq3",
        "colab_type": "text"
      },
      "cell_type": "markdown",
      "source": [
        "\n",
        "|도시 이름/년|1930|1940|1950|1960|1970|1980|1990|2000|\n",
        "|-----|----|----|----|----|----|----|----|----|\n",
        "|도쿄도|14.8|14.8|15.1|15.4|15.2|15.4|17.0|16.9|\n",
        "|아키타시|10.0|10.4|11.5|11.2|10.9|10.6|11.8|12.2|\n",
        "|구마모토시|16.0|15.5|15.9|16.4|15.9|15.6|17.5|17.1|\n"
      ]
    },
    {
      "metadata": {
        "id": "1E4Wn705uSq4",
        "colab_type": "code",
        "colab": {}
      },
      "cell_type": "code",
      "source": [
        "# 각 도시의 평균 기온 리스트\n",
        "city_temps = [\n",
        "#도쿄의 평균 기온\n",
        "[14.8, 14.8, 15.1, 15.4, 15.2, 15.4, 17.0, 16.9],\n",
        "#아키타시의 평균 기온\n",
        "[10.0, 10.4, 11.5, 11.2, 10.9, 10.6, 11.8, 12.2],\n",
        "#구마모토시의 평균 기온\n",
        "[16.0, 15.5, 15.9, 16.4, 15.9, 15.6, 17.5, 17.1]\n",
        "]"
      ],
      "execution_count": 0,
      "outputs": []
    },
    {
      "metadata": {
        "id": "rZ9frJ4ouSq6",
        "colab_type": "code",
        "colab": {}
      },
      "cell_type": "code",
      "source": [
        "# 아키타시의 평균 기온 리스트 보기\n",
        "city_temps[1]"
      ],
      "execution_count": 0,
      "outputs": []
    },
    {
      "metadata": {
        "id": "AM6cFRa3uSq8",
        "colab_type": "code",
        "colab": {}
      },
      "cell_type": "code",
      "source": [
        "# 평균 기온 비교\n",
        "city_temps[2][7]- city_temps[2][0]"
      ],
      "execution_count": 0,
      "outputs": []
    },
    {
      "metadata": {
        "id": "Brro5PTUuSq8",
        "colab_type": "code",
        "colab": {}
      },
      "cell_type": "code",
      "source": [
        "# 3개 도시의 평균 기온 그래프 그리기\n",
        "plt.plot(city_temps[0])       # 도쿄도의 그래프 그리기\n",
        "plt.plot(city_temps[1])       # 아키타시의 그래프 그리기\n",
        "plt.plot(city_temps[2])       # 구마모토시의 그래프 그리기\n",
        "# 그래프의 선색과 마커를 변경하시오."
      ],
      "execution_count": 0,
      "outputs": []
    },
    {
      "metadata": {
        "id": "MhM98LgYuSq-",
        "colab_type": "text"
      },
      "cell_type": "markdown",
      "source": [
        "### 리스트의 합계 최대값, 최소값"
      ]
    },
    {
      "metadata": {
        "id": "RFcZWeFduSq-",
        "colab_type": "code",
        "colab": {
          "base_uri": "https://localhost:8080/",
          "height": 35
        },
        "outputId": "35ede3cf-a2bf-47a3-ece5-bc9287c94419"
      },
      "cell_type": "code",
      "source": [
        "monk_fish_team = [158, 157, 163, 157, 145]\n",
        "sum(monk_fish_team)   # 리스트의 합계를 계산"
      ],
      "execution_count": 3,
      "outputs": [
        {
          "output_type": "execute_result",
          "data": {
            "text/plain": [
              "780"
            ]
          },
          "metadata": {
            "tags": []
          },
          "execution_count": 3
        }
      ]
    },
    {
      "metadata": {
        "id": "zrfbLvn4uSrA",
        "colab_type": "code",
        "colab": {
          "base_uri": "https://localhost:8080/",
          "height": 35
        },
        "outputId": "15eda338-c35a-4db2-fb10-78d4a53e5944"
      },
      "cell_type": "code",
      "source": [
        "max(monk_fish_team)   # 최대 값 계산"
      ],
      "execution_count": 4,
      "outputs": [
        {
          "output_type": "execute_result",
          "data": {
            "text/plain": [
              "163"
            ]
          },
          "metadata": {
            "tags": []
          },
          "execution_count": 4
        }
      ]
    },
    {
      "metadata": {
        "id": "2qmNL8VkuSrC",
        "colab_type": "code",
        "colab": {
          "base_uri": "https://localhost:8080/",
          "height": 35
        },
        "outputId": "3db3d636-9f04-451f-b46c-880aa83ed43d"
      },
      "cell_type": "code",
      "source": [
        "min(monk_fish_team)   # 최소 값 계산"
      ],
      "execution_count": 5,
      "outputs": [
        {
          "output_type": "execute_result",
          "data": {
            "text/plain": [
              "145"
            ]
          },
          "metadata": {
            "tags": []
          },
          "execution_count": 5
        }
      ]
    },
    {
      "metadata": {
        "id": "V340s107uSrE",
        "colab_type": "text"
      },
      "cell_type": "markdown",
      "source": [
        "> 최소, 최대값의 인수를 구하시오."
      ]
    },
    {
      "metadata": {
        "id": "gfkoNV6WuSrF",
        "colab_type": "text"
      },
      "cell_type": "markdown",
      "source": [
        "### 리스트의 항목 수를 측정"
      ]
    },
    {
      "metadata": {
        "id": "FjKmEJxGuSrG",
        "colab_type": "code",
        "colab": {
          "base_uri": "https://localhost:8080/",
          "height": 35
        },
        "outputId": "09289b91-f9a9-4f87-c2e2-c5f2e4c0f08f"
      },
      "cell_type": "code",
      "source": [
        "len(monk_fish_team)   # 리스트의 길이(항목 수)를 조사"
      ],
      "execution_count": 6,
      "outputs": [
        {
          "output_type": "execute_result",
          "data": {
            "text/plain": [
              "5"
            ]
          },
          "metadata": {
            "tags": []
          },
          "execution_count": 6
        }
      ]
    },
    {
      "metadata": {
        "id": "Gz_p_6MpuSrI",
        "colab_type": "code",
        "colab": {
          "base_uri": "https://localhost:8080/",
          "height": 35
        },
        "outputId": "4d32070f-54e3-4cfa-bd84-63cec04ec4a2"
      },
      "cell_type": "code",
      "source": [
        "# 합계, 리스트 길이의 응용 - 평균을 계산\n",
        "monk_sum = sum(monk_fish_team)    # 합계를 계산\n",
        "monk_len = len(monk_fish_team)    # 길이를 측정\n",
        "monk_mean = monk_sum/monk_len     # 평균을 계산\n",
        "monk_mean"
      ],
      "execution_count": 7,
      "outputs": [
        {
          "output_type": "execute_result",
          "data": {
            "text/plain": [
              "156.0"
            ]
          },
          "metadata": {
            "tags": []
          },
          "execution_count": 7
        }
      ]
    },
    {
      "metadata": {
        "id": "1XVruCXOuSrK",
        "colab_type": "code",
        "colab": {
          "base_uri": "https://localhost:8080/",
          "height": 208
        },
        "outputId": "f42ecf05-f1c5-465d-81be-abf5b7c55e41"
      },
      "cell_type": "code",
      "source": [
        "# 신장 그래프를 그리기\n",
        "\n",
        "plt.bar([0, 1, 2, 3, 4], monk_fish_team)\n",
        "# plt.plot([0, len(monk_fish_team)], [monk_mean, monk_mean], color='red')"
      ],
      "execution_count": 9,
      "outputs": [
        {
          "output_type": "error",
          "ename": "NameError",
          "evalue": "ignored",
          "traceback": [
            "\u001b[0;31m---------------------------------------------------------------------------\u001b[0m",
            "\u001b[0;31mNameError\u001b[0m                                 Traceback (most recent call last)",
            "\u001b[0;32m<ipython-input-9-a79a4c043204>\u001b[0m in \u001b[0;36m<module>\u001b[0;34m()\u001b[0m\n\u001b[1;32m      1\u001b[0m \u001b[0;34m\u001b[0m\u001b[0m\n\u001b[0;32m----> 2\u001b[0;31m \u001b[0mplt\u001b[0m\u001b[0;34m.\u001b[0m\u001b[0mbar\u001b[0m\u001b[0;34m(\u001b[0m\u001b[0;34m[\u001b[0m\u001b[0;36m0\u001b[0m\u001b[0;34m,\u001b[0m \u001b[0;36m1\u001b[0m\u001b[0;34m,\u001b[0m \u001b[0;36m2\u001b[0m\u001b[0;34m,\u001b[0m \u001b[0;36m3\u001b[0m\u001b[0;34m,\u001b[0m \u001b[0;36m4\u001b[0m\u001b[0;34m]\u001b[0m\u001b[0;34m,\u001b[0m \u001b[0mmonk_fish_team\u001b[0m\u001b[0;34m)\u001b[0m\u001b[0;34m\u001b[0m\u001b[0m\n\u001b[0m\u001b[1;32m      3\u001b[0m \u001b[0;31m# plt.plot([0, len(monk_fish_team)], [monk_mean, monk_mean], color='red')\u001b[0m\u001b[0;34m\u001b[0m\u001b[0;34m\u001b[0m\u001b[0m\n",
            "\u001b[0;31mNameError\u001b[0m: name 'plt' is not defined"
          ]
        }
      ]
    },
    {
      "metadata": {
        "id": "puhHqY1KuSrL",
        "colab_type": "text"
      },
      "cell_type": "markdown",
      "source": [
        "## for문에서 루프를 사용 (Ch.2-5)"
      ]
    },
    {
      "metadata": {
        "id": "eMeJKLVkuSrL",
        "colab_type": "code",
        "colab": {
          "base_uri": "https://localhost:8080/",
          "height": 107
        },
        "outputId": "bdb21586-d60d-4ec8-d800-69425bfe9fee"
      },
      "cell_type": "code",
      "source": [
        "# for문 루프를 사용하여 리스트의 요소를 하나씩 보기\n",
        "mcz = ['AB', 'CD', 'EF', 'GH', 'IJ']\n",
        "for member in mcz:\n",
        "    print(member)"
      ],
      "execution_count": 2,
      "outputs": [
        {
          "output_type": "stream",
          "text": [
            "AB\n",
            "CD\n",
            "EF\n",
            "GH\n",
            "IJ\n"
          ],
          "name": "stdout"
        }
      ]
    },
    {
      "metadata": {
        "id": "3ilxdXlMuSrM",
        "colab_type": "code",
        "colab": {}
      },
      "cell_type": "code",
      "source": [
        "# 루프가 끝난 후에도 리스트의 내용이 바뀌지 않았는지 확인\n",
        "mcz"
      ],
      "execution_count": 0,
      "outputs": []
    },
    {
      "metadata": {
        "id": "WAJQHvPCuSrP",
        "colab_type": "code",
        "colab": {}
      },
      "cell_type": "code",
      "source": [
        "# for문을 사용하여 분산을 계산\n",
        "# 몽크 피시 팀\n",
        "monk_fish_team = [158, 157, 163, 157, 145]\n",
        "\n",
        "total = sum(monk_fish_team)    # 리스트의 합계\n",
        "length = len(monk_fish_team)   # 리스트의 요소 수(길이)\n",
        "mean = total/length            # 평균을 구함\n",
        "variance = 0                   # 분산을 계산하기 위한 변수\n",
        "\n",
        "for height in monk_fish_team:\n",
        "    variance = variance+(height-mean)**2 # 키에서 평균을 빼고 제곱한 수를 더함\n",
        "\n",
        "variance = variance/length     # 더한 수치를 요소 수로 나누어 분산을 구함 length -> length-1\n",
        "variance"
      ],
      "execution_count": 0,
      "outputs": []
    },
    {
      "metadata": {
        "id": "cMBOpDgsuSrQ",
        "colab_type": "code",
        "colab": {}
      },
      "cell_type": "code",
      "source": [
        "# 분산의 루트를 계산하고 표준 편차를 계산\n",
        "variance**0.5, round(variance**0.5,1)"
      ],
      "execution_count": 0,
      "outputs": []
    },
    {
      "metadata": {
        "id": "zMOY9EXpuSrR",
        "colab_type": "code",
        "colab": {}
      },
      "cell_type": "code",
      "source": [
        "# 다른 리스트에서 표준 편차를 계산\n",
        "# 발리볼 팀\n",
        "volleyball_team = [143, 167, 170, 165]\n",
        "\n",
        "total2 = sum(volleyball_team)    # 리스트의 합계\n",
        "length2 = len(volleyball_team)   # 리스트의 요소 수(길이)\n",
        "mean2 = total2/length2           # 평균을 구함\n",
        "variance2 = 0                    # 분산을 계산하기 위한 변수\n",
        "\n",
        "for height in volleyball_team:\n",
        "    variance2 = variance2+(height-mean2)**2 # 신장에서 평균을 빼고 제곱한 수를 더함\n",
        "\n",
        "variance2 = variance2/length2  # 더한 수치를 요소 수로 나누어 분산을 구함\n",
        "variance2,variance2**0.5"
      ],
      "execution_count": 0,
      "outputs": []
    },
    {
      "metadata": {
        "id": "fW0_rAX1uSrT",
        "colab_type": "text"
      },
      "cell_type": "markdown",
      "source": [
        "### range() 함수"
      ]
    },
    {
      "metadata": {
        "id": "CCkEg_LguSrU",
        "colab_type": "code",
        "colab": {
          "base_uri": "https://localhost:8080/",
          "height": 35
        },
        "outputId": "7a92c554-8990-4232-e29d-f88e6c1a02b5"
      },
      "cell_type": "code",
      "source": [
        "a10 = range(10)\n",
        "type(a10)"
      ],
      "execution_count": 10,
      "outputs": [
        {
          "output_type": "execute_result",
          "data": {
            "text/plain": [
              "range"
            ]
          },
          "metadata": {
            "tags": []
          },
          "execution_count": 10
        }
      ]
    },
    {
      "metadata": {
        "id": "-QBOei3XuSrV",
        "colab_type": "code",
        "colab": {
          "base_uri": "https://localhost:8080/",
          "height": 35
        },
        "outputId": "61f5053d-4cb0-4cf5-b985-c01d44b029a8"
      },
      "cell_type": "code",
      "source": [
        "a10[0],a10[1],a10[9]"
      ],
      "execution_count": 11,
      "outputs": [
        {
          "output_type": "execute_result",
          "data": {
            "text/plain": [
              "(0, 1, 9)"
            ]
          },
          "metadata": {
            "tags": []
          },
          "execution_count": 11
        }
      ]
    },
    {
      "metadata": {
        "id": "VBVu-mSIuSrX",
        "colab_type": "code",
        "colab": {}
      },
      "cell_type": "code",
      "source": [
        "# range를 리스트로 변환\n",
        "list(a10)"
      ],
      "execution_count": 0,
      "outputs": []
    },
    {
      "metadata": {
        "id": "aZuSzSZ-uSrY",
        "colab_type": "code",
        "colab": {
          "base_uri": "https://localhost:8080/",
          "height": 197
        },
        "outputId": "6586980c-982f-40a3-ded9-c8acdd74e003"
      },
      "cell_type": "code",
      "source": [
        "# range()를 사용하여 0에서 9까지 표시\n",
        "for cnt in range(10):\n",
        "    print(cnt)"
      ],
      "execution_count": 12,
      "outputs": [
        {
          "output_type": "stream",
          "text": [
            "0\n",
            "1\n",
            "2\n",
            "3\n",
            "4\n",
            "5\n",
            "6\n",
            "7\n",
            "8\n",
            "9\n"
          ],
          "name": "stdout"
        }
      ]
    },
    {
      "metadata": {
        "id": "l24WBnIquSrZ",
        "colab_type": "code",
        "colab": {
          "base_uri": "https://localhost:8080/",
          "height": 35
        },
        "outputId": "16fc3ff3-b95d-4a19-ea3d-a41799a80ec2"
      },
      "cell_type": "code",
      "source": [
        "# range()를 사용하여 복리 계산을 함\n",
        "# 연리 5%의 금융 상품에 100만원 예금하면 15년 후에 얼마인지를 계산\n",
        "savings = 100               # 원금\n",
        "for i in range(15):         # 15년 반복 루프\n",
        "    savings = savings+savings*0.05   \n",
        "\n",
        "savings"
      ],
      "execution_count": 13,
      "outputs": [
        {
          "output_type": "execute_result",
          "data": {
            "text/plain": [
              "207.89281794113666"
            ]
          },
          "metadata": {
            "tags": []
          },
          "execution_count": 13
        }
      ]
    },
    {
      "metadata": {
        "id": "iTy9YrX1uSrc",
        "colab_type": "text"
      },
      "cell_type": "markdown",
      "source": [
        "### 도전코딩-3.\n",
        "\n",
        "> 그런데 금리 15%로 돈을 빌릴 때 몇 년후에 2배가 될까? 위 코드의 수치를 다시 작성하여 실제로 시험해 본다. (신용 카드 리볼빙 지불에서 상품을 구매하거나 소비자 금융에서 돈을 빌릴 때 금리가 15% 정도 붙는다.)"
      ]
    },
    {
      "metadata": {
        "id": "M1Z9YRT9uSrc",
        "colab_type": "code",
        "colab": {}
      },
      "cell_type": "code",
      "source": [
        "# 도전코딩-3\n",
        "\n",
        "\n"
      ],
      "execution_count": 0,
      "outputs": []
    },
    {
      "metadata": {
        "id": "ppfezxqCuSrd",
        "colab_type": "text"
      },
      "cell_type": "markdown",
      "source": [
        "## if문에서 조건 분기 (Ch.2-6)"
      ]
    },
    {
      "metadata": {
        "id": "tiSFqLWiuSre",
        "colab_type": "code",
        "colab": {
          "base_uri": "https://localhost:8080/",
          "height": 53
        },
        "outputId": "dfbca863-0afa-45ff-aa3e-d359082a8a2a"
      },
      "cell_type": "code",
      "source": [
        "# if문의 예(4개의 2로 10을 만들자)\n",
        "# 10이 될지 어떨지를 조사\n",
        "# 조건식이 성립 때만 블록의 print() 함수가 실행된다.\n",
        "\n",
        "if 2*2*2+2 == 10:\n",
        "    print(\"[1]2*2*2+2는 10\")\n",
        "if 2+2*2+2 == 10:\n",
        "    print(\"[2]2+2*2+2는 10\")\n",
        "if (2+2)*2+2 == 10:\n",
        "    print(\"[3](2+2)*2+2는 10\")"
      ],
      "execution_count": 15,
      "outputs": [
        {
          "output_type": "stream",
          "text": [
            "[1]2*2*2+2는 10\n",
            "[3](2+2)*2+2는 10\n"
          ],
          "name": "stdout"
        }
      ]
    },
    {
      "metadata": {
        "id": "1DT1xTleuSrg",
        "colab_type": "text"
      },
      "cell_type": "markdown",
      "source": [
        "### 수치를 비교"
      ]
    },
    {
      "metadata": {
        "id": "WeMdPLGBuSrg",
        "colab_type": "code",
        "colab": {
          "base_uri": "https://localhost:8080/",
          "height": 71
        },
        "outputId": "33dfe772-2071-4cf9-a3cc-02d4f78dc087"
      },
      "cell_type": "code",
      "source": [
        "# 조건식이 성립 때만 블록의 print() 함수가 실행된다\n",
        "if 1 == 1:\n",
        "    print(\"첫째는 True\")\n",
        "if 5^(4-4)+9 == 10:  # 10, 12, 14\n",
        "    print(\"2번째는 True\")\n",
        "if 2 < len([0, 1, 2]):\n",
        "    print(\"3번째는 True\")\n",
        "if sum([1, 2, 3, 4]) <= 10:\n",
        "    print(\"4번째는 True\")"
      ],
      "execution_count": 16,
      "outputs": [
        {
          "output_type": "stream",
          "text": [
            "첫째는 True\n",
            "3번째는 True\n",
            "4번째는 True\n"
          ],
          "name": "stdout"
        }
      ]
    },
    {
      "metadata": {
        "id": "nYqNdkoOuSrh",
        "colab_type": "code",
        "colab": {
          "base_uri": "https://localhost:8080/",
          "height": 35
        },
        "outputId": "ebd09e51-d17d-430d-a846-b4ed9e0a0899"
      },
      "cell_type": "code",
      "source": [
        "5^(4-4) + 9"
      ],
      "execution_count": 17,
      "outputs": [
        {
          "output_type": "execute_result",
          "data": {
            "text/plain": [
              "12"
            ]
          },
          "metadata": {
            "tags": []
          },
          "execution_count": 17
        }
      ]
    },
    {
      "metadata": {
        "id": "35tSBWD8uSrk",
        "colab_type": "code",
        "colab": {
          "base_uri": "https://localhost:8080/",
          "height": 35
        },
        "outputId": "5380bfe0-21c2-4d49-8c9e-686cb8946a1f"
      },
      "cell_type": "code",
      "source": [
        "(5^(4-4)) + 9"
      ],
      "execution_count": 18,
      "outputs": [
        {
          "output_type": "execute_result",
          "data": {
            "text/plain": [
              "14"
            ]
          },
          "metadata": {
            "tags": []
          },
          "execution_count": 18
        }
      ]
    },
    {
      "metadata": {
        "id": "p7XYv9tfuSrl",
        "colab_type": "code",
        "colab": {
          "base_uri": "https://localhost:8080/",
          "height": 35
        },
        "outputId": "e3c4cc7b-83de-48be-ac00-7b3df1659d96"
      },
      "cell_type": "code",
      "source": [
        "5**(4-4) + 9"
      ],
      "execution_count": 19,
      "outputs": [
        {
          "output_type": "execute_result",
          "data": {
            "text/plain": [
              "10"
            ]
          },
          "metadata": {
            "tags": []
          },
          "execution_count": 19
        }
      ]
    },
    {
      "metadata": {
        "id": "BsXaoWREuSrm",
        "colab_type": "text"
      },
      "cell_type": "markdown",
      "source": [
        "> 위의 다른 결과를 설명하시오"
      ]
    },
    {
      "metadata": {
        "id": "xzZo90fmuSrn",
        "colab_type": "code",
        "colab": {
          "base_uri": "https://localhost:8080/",
          "height": 35
        },
        "outputId": "09a25992-fe6c-4219-9742-5c45a2df8e88"
      },
      "cell_type": "code",
      "source": [
        "len([0, 1, 2]),sum([1, 2, 3, 4])"
      ],
      "execution_count": 20,
      "outputs": [
        {
          "output_type": "execute_result",
          "data": {
            "text/plain": [
              "(3, 10)"
            ]
          },
          "metadata": {
            "tags": []
          },
          "execution_count": 20
        }
      ]
    },
    {
      "metadata": {
        "id": "h7wd98dAuSro",
        "colab_type": "text"
      },
      "cell_type": "markdown",
      "source": [
        "### 문자열을 비교"
      ]
    },
    {
      "metadata": {
        "id": "k5sW2JO5uSro",
        "colab_type": "code",
        "colab": {
          "base_uri": "https://localhost:8080/",
          "height": 53
        },
        "outputId": "3b66ca1f-cc5b-4a2e-a96e-fd135c215ec5"
      },
      "cell_type": "code",
      "source": [
        "# 문장을 비교하는 조건식의 예\n",
        "if \"AUG\" == \"AUG\":\n",
        "    print(\"첫째는 True\")\n",
        "if \"AUG\" == \"aug\":\n",
        "    print(\"2번째는 True\")\n",
        "if \"가나다\" == \"가나다\":\n",
        "    print(\"3번째는 True\")"
      ],
      "execution_count": 22,
      "outputs": [
        {
          "output_type": "stream",
          "text": [
            "첫째는 True\n",
            "3번째는 True\n"
          ],
          "name": "stdout"
        }
      ]
    },
    {
      "metadata": {
        "id": "FSMkcwRbuSrq",
        "colab_type": "text"
      },
      "cell_type": "markdown",
      "source": [
        "### 문자열을 검색"
      ]
    },
    {
      "metadata": {
        "id": "XXDyUiNKuSrr",
        "colab_type": "code",
        "colab": {
          "base_uri": "https://localhost:8080/",
          "height": 53
        },
        "outputId": "5d653f73-6c4a-4aac-e590-09b14859235c"
      },
      "cell_type": "code",
      "source": [
        "# in 연산자를 사용한 문자열 검색\n",
        "if \"GAG\" in \"AUGACGGAGCUU\":\n",
        "    print(\"첫째는 True\")\n",
        "if \"사랑과 전쟁은 모든 것이 정당화되어\" in \"정당화\":\n",
        "    print(\"2번째는 True\")\n",
        "if \"stumble\" in \"A horse may stumble though he has four legs\":\n",
        "    print(\"3번째는 True\")"
      ],
      "execution_count": 23,
      "outputs": [
        {
          "output_type": "stream",
          "text": [
            "첫째는 True\n",
            "3번째는 True\n"
          ],
          "name": "stdout"
        }
      ]
    },
    {
      "metadata": {
        "id": "_DB3rKNjuSrs",
        "colab_type": "text"
      },
      "cell_type": "markdown",
      "source": [
        "### 리스트를 비교"
      ]
    },
    {
      "metadata": {
        "id": "P9_NR0XmuSrs",
        "colab_type": "code",
        "colab": {}
      },
      "cell_type": "code",
      "source": [
        "# 리스트를 비교하는 조건식의 예\n",
        "if [1, 2, 3, 4] == [1, 2, 3, 4]:\n",
        "    print(\"첫째는 True\")\n",
        "if [1, 2, 3] == [2, 3]:\n",
        "    print(\"2번째는 True\")\n",
        "if [1, 2, 3] == ['1', '2', '3']:\n",
        "    print(\"3번째는 True\")"
      ],
      "execution_count": 0,
      "outputs": []
    },
    {
      "metadata": {
        "id": "qvIZhwZFuSrt",
        "colab_type": "text"
      },
      "cell_type": "markdown",
      "source": [
        "### 리스트의 요소를 검색"
      ]
    },
    {
      "metadata": {
        "id": "gMl9sUgPuSrv",
        "colab_type": "code",
        "colab": {
          "base_uri": "https://localhost:8080/",
          "height": 53
        },
        "outputId": "3583aaf6-f6d4-4a37-e18f-2d6e2dc4472d"
      },
      "cell_type": "code",
      "source": [
        "# 리스트 내의 요소를 알아보는 조건식 사례 1\n",
        "if 2 in [2, 3, 5, 7, 11]:\n",
        "    print(\"첫째는 True\")\n",
        "if 21 in [13, 17, 19, 23, 29]:\n",
        "    print(\"2번째는 True\")\n",
        "if '대구' in ['서울', '대구', '부산']:\n",
        "    print(\"3번째는 True\")"
      ],
      "execution_count": 24,
      "outputs": [
        {
          "output_type": "stream",
          "text": [
            "첫째는 True\n",
            "3번째는 True\n"
          ],
          "name": "stdout"
        }
      ]
    },
    {
      "metadata": {
        "id": "z9LgfY5ruSrw",
        "colab_type": "code",
        "colab": {
          "base_uri": "https://localhost:8080/",
          "height": 53
        },
        "outputId": "7a1fa898-05d7-4325-8c91-35a670c4544b"
      },
      "cell_type": "code",
      "source": [
        "# 리스트 내의 요소를 알아보는 조건식 사례 2\n",
        "# 목록의 비교에서는 in 왼쪽에 리스트가 오는 경우에 주의\n",
        "if 1 in [0, 1, 2, 3, 4]:\n",
        "    print(\"첫째는 True\")\n",
        "if [1, 2] in [0, 1, 2, 3, 4]:\n",
        "    print(\"2번째는 True\")\n",
        "if [1, 2] in [0, 1, [1, 2], 3, 4]:\n",
        "    print(\"3번째는 True\")"
      ],
      "execution_count": 25,
      "outputs": [
        {
          "output_type": "stream",
          "text": [
            "첫째는 True\n",
            "3번째는 True\n"
          ],
          "name": "stdout"
        }
      ]
    },
    {
      "metadata": {
        "id": "FgEZ_MNUuSrx",
        "colab_type": "text"
      },
      "cell_type": "markdown",
      "source": [
        "### else문을 사용"
      ]
    },
    {
      "metadata": {
        "id": "E73-rfDFuSry",
        "colab_type": "code",
        "colab": {
          "base_uri": "https://localhost:8080/",
          "height": 35
        },
        "outputId": "2b4add67-6b7f-4065-ddae-545a25bf04d0"
      },
      "cell_type": "code",
      "source": [
        "# else문 사용 사례\n",
        "# 식 1\n",
        "if 2^3-2+4 == 10:                \n",
        "    print(\"식 2^3-2+4는 10\")            #식 1의 결과에 따라서 둘 중의 하나가 실행\n",
        "else:\n",
        "    print(\"식  2^3-2+4는 10이 아닙니다\")    #식 1의 결과에 따라서 둘 중의 하나가 실행  "
      ],
      "execution_count": 26,
      "outputs": [
        {
          "output_type": "stream",
          "text": [
            "식  2^3-2+4는 10이 아닙니다\n"
          ],
          "name": "stdout"
        }
      ]
    },
    {
      "metadata": {
        "id": "NhXwgr0U9Ym2",
        "colab_type": "code",
        "colab": {
          "base_uri": "https://localhost:8080/",
          "height": 35
        },
        "outputId": "a809b55c-58b2-4822-e830-225f50541132"
      },
      "cell_type": "code",
      "source": [
        "2^3-2+4"
      ],
      "execution_count": 27,
      "outputs": [
        {
          "output_type": "execute_result",
          "data": {
            "text/plain": [
              "7"
            ]
          },
          "metadata": {
            "tags": []
          },
          "execution_count": 27
        }
      ]
    },
    {
      "metadata": {
        "id": "9YzzmBhSuSrz",
        "colab_type": "code",
        "colab": {
          "base_uri": "https://localhost:8080/",
          "height": 35
        },
        "outputId": "5fa59efe-8cda-4e19-8f38-f6a0fd7ed898"
      },
      "cell_type": "code",
      "source": [
        "# 식 2\n",
        "if 2**3-2+4 == 10:               \n",
        "    print(\"식 2**3-2+4는 10\")            #식 2의 결과에 따라서 둘 중의 하나가 실행\n",
        "else:\n",
        "    print(\"식 2**3-2+4는 10이 아닙니다\")    #식 2의 결과에 따라서 둘 중의 하나가 실행"
      ],
      "execution_count": 28,
      "outputs": [
        {
          "output_type": "stream",
          "text": [
            "식 2**3-2+4는 10\n"
          ],
          "name": "stdout"
        }
      ]
    },
    {
      "metadata": {
        "id": "Ym9_SmvZuSr0",
        "colab_type": "text"
      },
      "cell_type": "markdown",
      "source": [
        "### elif문의 사용"
      ]
    },
    {
      "metadata": {
        "id": "omqaxo-4uSr0",
        "colab_type": "code",
        "colab": {
          "base_uri": "https://localhost:8080/",
          "height": 35
        },
        "outputId": "0a26d3b4-c7d7-4c9a-fff3-3666f318b751"
      },
      "cell_type": "code",
      "source": [
        "# 2중 if문을 사용한 사례\n",
        "# if를 다단 중첩하면 들여 쓰기가 깊어지고 코드가 어렵게 보인다.\n",
        "a_year = 2080\n",
        "if a_year >= 1998:                  # 식 1\n",
        "    # 출생 연도 또는 그 이후의 경우\n",
        "    if a_year == 1998:              # 식 2\n",
        "        print(a_year, \"년에 태어남\")   # 식 1, 식 2 모두 참일 때 실행\n",
        "    else:\n",
        "        print(a_year, \"년은 \", a_year-1998, \"세\")    # 식 1은 참이지만 식 2가 거짓일 때 실행"
      ],
      "execution_count": 31,
      "outputs": [
        {
          "output_type": "stream",
          "text": [
            "2080 년은  82 세\n"
          ],
          "name": "stdout"
        }
      ]
    },
    {
      "metadata": {
        "id": "DXeVyfAGuSr2",
        "colab_type": "code",
        "colab": {}
      },
      "cell_type": "code",
      "source": [
        "# elif문 사용 사례\n",
        "# elif를 사용하면 동일한 작업을 깔끔하게 할 수 있다.\n",
        "a_year = 2080\n",
        "if a_year == 1993:\n",
        "    print(a_year, \"년에 태어남\")\n",
        "elif a_year > 1993:\n",
        "    print(a_year, \"년은 \", a_year-1993, \"세\")"
      ],
      "execution_count": 0,
      "outputs": []
    },
    {
      "metadata": {
        "id": "Bcq_LLULuSr3",
        "colab_type": "code",
        "colab": {}
      },
      "cell_type": "code",
      "source": [
        "# for문으로 if문을 조합한 사례\n",
        "# a_num가 소수의 경우에는 아무것도 표시되지 않는다.\n",
        "# 소수가 아닌 때에는 소수가 아니란 것을 표시한다.\n",
        "\n",
        "# a_num에 대입하는 수치를 바꾸어 셀을 실행하면 다양한 숫자에 대한\n",
        "# 소수 여부를 확인할 수 있다.\n",
        "\n",
        "a_num = 57            # 소수인지 알아보는 수\n",
        "for num in range(2, a_num):  # 2부터 a_num-1까지 반복\n",
        "    if a_num % num == 0:     # a_num을 num으로 나누어지는지 확인\n",
        "        print(a_num, \"은(는) 소수가 아닙니다.\")\n",
        "        break"
      ],
      "execution_count": 0,
      "outputs": []
    },
    {
      "metadata": {
        "id": "QxFYvdFIuSr4",
        "colab_type": "text"
      },
      "cell_type": "markdown",
      "source": [
        "## 함수를 사용 (Ch.2-7)"
      ]
    },
    {
      "metadata": {
        "id": "9kkeEPecuSr5",
        "colab_type": "text"
      },
      "cell_type": "markdown",
      "source": [
        "### 함수란"
      ]
    },
    {
      "metadata": {
        "id": "NMKNOHtauSr6",
        "colab_type": "code",
        "colab": {
          "base_uri": "https://localhost:8080/",
          "height": 35
        },
        "outputId": "331aea54-8744-4849-d1a1-daa874cdcaa5"
      },
      "cell_type": "code",
      "source": [
        "# 리스트의 값을 합하는 프로그램\n",
        "the_list = [101, 123, 152, 123]\n",
        "summary = 0                 # 합계를 위한 변수를 만듦\n",
        "for item in the_list:       # 리스트로 루프를 적용\n",
        "    summary = summary+item  # 리스트의 요소를 합계\n",
        "\n",
        "summary                     # 합계를 표시"
      ],
      "execution_count": 32,
      "outputs": [
        {
          "output_type": "execute_result",
          "data": {
            "text/plain": [
              "499"
            ]
          },
          "metadata": {
            "tags": []
          },
          "execution_count": 32
        }
      ]
    },
    {
      "metadata": {
        "id": "0dexaXzCuSr7",
        "colab_type": "code",
        "colab": {
          "base_uri": "https://localhost:8080/",
          "height": 35
        },
        "outputId": "25fc5cb2-72a2-49ff-840b-6c6506f48155"
      },
      "cell_type": "code",
      "source": [
        "sum(the_list)  # 함수 sum()을 사용하는 것이 간단하고 쉽다."
      ],
      "execution_count": 33,
      "outputs": [
        {
          "output_type": "execute_result",
          "data": {
            "text/plain": [
              "499"
            ]
          },
          "metadata": {
            "tags": []
          },
          "execution_count": 33
        }
      ]
    },
    {
      "metadata": {
        "id": "UD8A9C2ouSr9",
        "colab_type": "text"
      },
      "cell_type": "markdown",
      "source": [
        "### 도전코딩 4.\n",
        "\n",
        "> range() 함수를 이용해서 1에서 100까지의 합을 구하시오.\n"
      ]
    },
    {
      "metadata": {
        "id": "VmXEE-3MuSr9",
        "colab_type": "code",
        "colab": {}
      },
      "cell_type": "code",
      "source": [
        "# range() 함수를 이용: 1에서 100까지의 합\n",
        "\n"
      ],
      "execution_count": 0,
      "outputs": []
    },
    {
      "metadata": {
        "id": "OX87CCUwuSr9",
        "colab_type": "text"
      },
      "cell_type": "markdown",
      "source": [
        "### 함수를 호출"
      ]
    },
    {
      "metadata": {
        "id": "EsivegtAuSr-",
        "colab_type": "code",
        "colab": {}
      },
      "cell_type": "code",
      "source": [
        "# abs() 함수의 실행 사례\n",
        "abs(-10)    # 절대값을 반환하는 함수를 호출"
      ],
      "execution_count": 0,
      "outputs": []
    },
    {
      "metadata": {
        "id": "_s0oR9ZZuSr-",
        "colab_type": "code",
        "colab": {
          "base_uri": "https://localhost:8080/",
          "height": 35
        },
        "outputId": "69f8d2e5-cebf-4a4e-d9d1-ef6f72349fd6"
      },
      "cell_type": "code",
      "source": [
        "# abs() 함수의 실행 사례\n",
        "abs(-200.37)"
      ],
      "execution_count": 35,
      "outputs": [
        {
          "output_type": "execute_result",
          "data": {
            "text/plain": [
              "200.37"
            ]
          },
          "metadata": {
            "tags": []
          },
          "execution_count": 35
        }
      ]
    },
    {
      "metadata": {
        "id": "5VNVVRAXuSsA",
        "colab_type": "text"
      },
      "cell_type": "markdown",
      "source": [
        "### 함수의 인수"
      ]
    },
    {
      "metadata": {
        "id": "EI2-TGVUuSsA",
        "colab_type": "code",
        "colab": {
          "base_uri": "https://localhost:8080/",
          "height": 35
        },
        "outputId": "bb97cebc-d880-4081-ac30-7315b9b52aa0"
      },
      "cell_type": "code",
      "source": [
        "# int() 함수의 실행 사례\n",
        "int(\"100\")              # 문자열을 10진수의 수치로 변환"
      ],
      "execution_count": 36,
      "outputs": [
        {
          "output_type": "execute_result",
          "data": {
            "text/plain": [
              "100"
            ]
          },
          "metadata": {
            "tags": []
          },
          "execution_count": 36
        }
      ]
    },
    {
      "metadata": {
        "id": "fzcL_k-NuSsB",
        "colab_type": "code",
        "colab": {
          "base_uri": "https://localhost:8080/",
          "height": 35
        },
        "outputId": "a5a45fa1-da58-48c0-faed-da24dd171972"
      },
      "cell_type": "code",
      "source": [
        "# int() 함수의 실행 사례\n",
        "# 인수가 같은 함수에서도 동작이 바뀐다.\n",
        "int(\"100\", 2)           # 문자열을 2진수의 수치에 만들어 변환"
      ],
      "execution_count": 37,
      "outputs": [
        {
          "output_type": "execute_result",
          "data": {
            "text/plain": [
              "4"
            ]
          },
          "metadata": {
            "tags": []
          },
          "execution_count": 37
        }
      ]
    },
    {
      "metadata": {
        "id": "53mUCeTeuSsC",
        "colab_type": "code",
        "colab": {
          "base_uri": "https://localhost:8080/",
          "height": 35
        },
        "outputId": "e5ad1db4-d4cf-4f1a-b347-656049dc5ce9"
      },
      "cell_type": "code",
      "source": [
        "# int() 함수의 실행 사례\n",
        "int(\"100\", 16)          # 문자열을 16진수의 수치에 만들어 변환"
      ],
      "execution_count": 38,
      "outputs": [
        {
          "output_type": "execute_result",
          "data": {
            "text/plain": [
              "256"
            ]
          },
          "metadata": {
            "tags": []
          },
          "execution_count": 38
        }
      ]
    },
    {
      "metadata": {
        "id": "leLfeXuUuSsE",
        "colab_type": "text"
      },
      "cell_type": "markdown",
      "source": [
        "### 함수의 정의"
      ]
    },
    {
      "metadata": {
        "id": "NXqadc7ouSsE",
        "colab_type": "code",
        "colab": {}
      },
      "cell_type": "code",
      "source": [
        "# destiny_tank() 함수의 정의\n",
        "def destiny_tank():\n",
        "    tanks = [\"IV호 전차 D형\", \"III호 전차 J형\", \"처칠 Mk.VII\",\n",
        "             \"M4 셔먼\", \"P40 중전차\", \"T-34/76\"]  # 전차의 리스트\n",
        "    num = input(\"좋아하는 숫자를 입력하세요:\")         #숫자를 입력\n",
        "    idx = int(num) % len(tanks)        # 입력값을 리스트의 인수로 변환\n",
        "    print(\"당신의 운명의 전차는 \")\n",
        "    print(tanks[idx])                  # 결과를 표시"
      ],
      "execution_count": 0,
      "outputs": []
    },
    {
      "metadata": {
        "id": "5OKf1KcxuSsF",
        "colab_type": "code",
        "colab": {
          "base_uri": "https://localhost:8080/",
          "height": 71
        },
        "outputId": "185ce7de-f23e-4667-a6b5-d0de40b9225a"
      },
      "cell_type": "code",
      "source": [
        "# 함수를 호출하면 양식이 나타난다.\n",
        "# 폼에 숫자를 입력하고 리턴을 누르면\n",
        "# 운명의 전차가 나타난다.\n",
        "destiny_tank()      "
      ],
      "execution_count": 41,
      "outputs": [
        {
          "output_type": "stream",
          "text": [
            "좋아하는 숫자를 입력하세요:11\n",
            "당신의 운명의 전차는 \n",
            "T-34/76\n"
          ],
          "name": "stdout"
        }
      ]
    },
    {
      "metadata": {
        "id": "haK4RB7wuSsG",
        "colab_type": "text"
      },
      "cell_type": "markdown",
      "source": [
        "### 인수 (매개변수)를 정의"
      ]
    },
    {
      "metadata": {
        "id": "-8UIbar3uSsH",
        "colab_type": "code",
        "colab": {}
      },
      "cell_type": "code",
      "source": [
        "# 인수를 갖는 함수의 정의\n",
        "def destiny_tank2(num):\n",
        "    tanks = [\"IV호 전차 D형\", \"III호 전차 J형\", \"처칠 Mk.VII\",\n",
        "             \"M4 셔먼\", \"P40 중전차\", \"T-34/76\"]  # 전차의 리스트\n",
        "    idx = num % len(tanks)             # 입력값을 리스트의 인수로 변환\n",
        "    print(\"당신의 운명의 전차는 \")\n",
        "    print(tanks[idx])                  # 결과를 표시"
      ],
      "execution_count": 0,
      "outputs": []
    },
    {
      "metadata": {
        "id": "C3ArsjhouSsJ",
        "colab_type": "code",
        "colab": {
          "base_uri": "https://localhost:8080/",
          "height": 71
        },
        "outputId": "c57164fc-f690-4052-c98b-4fdce265df24"
      },
      "cell_type": "code",
      "source": [
        "# destiny_tank2() 함수의 실행 사례\n",
        "# 인수를 주고 함수를 호출\n",
        "num_str = input(\"좋아하는 숫자를 입력하세요:\")    # 입력 윈도우를 표시\n",
        "num = int(num_str)                         # 문자열을 수치로 변환\n",
        "destiny_tank2(num)                         # 수치를 함수에 전달"
      ],
      "execution_count": 43,
      "outputs": [
        {
          "output_type": "stream",
          "text": [
            "좋아하는 숫자를 입력하세요:11\n",
            "당신의 운명의 전차는 \n",
            "T-34/76\n"
          ],
          "name": "stdout"
        }
      ]
    },
    {
      "metadata": {
        "id": "Vx1AK61auSsK",
        "colab_type": "code",
        "colab": {
          "base_uri": "https://localhost:8080/",
          "height": 53
        },
        "outputId": "ba7a80ff-05a9-4924-86f0-c1a3a6a57e54"
      },
      "cell_type": "code",
      "source": [
        "# 랜덤한 결과를 되돌려 줌\n",
        "# 난수를 사용하여 운명의 전차 추천 받기\n",
        "from random import randint\n",
        "num = randint(0, 10)        # 난수를 생성\n",
        "destiny_tank2(num)          # 생성한 난수를 함수에 전달"
      ],
      "execution_count": 44,
      "outputs": [
        {
          "output_type": "stream",
          "text": [
            "당신의 운명의 전차는 \n",
            "III호 전차 J형\n"
          ],
          "name": "stdout"
        }
      ]
    },
    {
      "metadata": {
        "id": "mUfL3t5KuSsN",
        "colab_type": "text"
      },
      "cell_type": "markdown",
      "source": [
        "### 함수의 반환값"
      ]
    },
    {
      "metadata": {
        "id": "ulWaL2XWuSsN",
        "colab_type": "code",
        "colab": {}
      },
      "cell_type": "code",
      "source": [
        "# 반환값을 갖는 함수의 정의\n",
        "# 행운의 전차 반환값으로 결과를 반환\n",
        "def destiny_tank3(num):\n",
        "    tanks = [\"IV호 전차 D형\", \"III호 전차 J형\", \"처칠 Mk.VII\",\n",
        "             \"M4 셔먼\", \"P40 중전차\", \"T-34/76\"]  # 전차의 리스트\n",
        "    idx = num % len(tanks)             # 입력값을 리스트의 인수로 변환\n",
        "    return tanks[idx]                  # 결과를 반환값으로 되돌려 줌"
      ],
      "execution_count": 0,
      "outputs": []
    },
    {
      "metadata": {
        "id": "ofjJYmqNuSsO",
        "colab_type": "code",
        "colab": {
          "base_uri": "https://localhost:8080/",
          "height": 35
        },
        "outputId": "f6cdd81c-dcd1-4ac0-96c4-7b0712f7e70f"
      },
      "cell_type": "code",
      "source": [
        "# destiny_tank3() 함수의 실행 사례\n",
        "# 반환값으로 된 전차 이름을 표시하려면\n",
        "from random import randint\n",
        "num = randint(0, 10)\n",
        "tank = destiny_tank3(num)\n",
        "print(\"오늘 당신이 타야 할 행운의 전차는 \", tank, \"입니다.\")\n",
        "# print(\"오늘 당신이 타야 할 행운의 전차는 {}\".format(tank), \"입니다.\")"
      ],
      "execution_count": 46,
      "outputs": [
        {
          "output_type": "stream",
          "text": [
            "오늘 당신이 타야 할 행운의 전차는  IV호 전차 D형 입니다.\n"
          ],
          "name": "stdout"
        }
      ]
    },
    {
      "metadata": {
        "id": "mMp4ENsGuSsP",
        "colab_type": "text"
      },
      "cell_type": "markdown",
      "source": [
        "### 지역 변수"
      ]
    },
    {
      "metadata": {
        "id": "3cEppc3nuSsP",
        "colab_type": "code",
        "colab": {}
      },
      "cell_type": "code",
      "source": [
        "# 지역 변수를 함수의 밖에서 쓰는 경우\n",
        "def test_func(arg1):\n",
        "    # 수치의 인수에 100을 더하고 표시하는 함수\n",
        "    inner_var = 100\n",
        "    print(arg1+inner_var)\n",
        "\n",
        "test_func(10)       # 함수를 호출 –110으로 표시된다\n",
        "print(inner_var)    # 함수 내에서 정의한 변수를 표시(오류가 됨)"
      ],
      "execution_count": 0,
      "outputs": []
    },
    {
      "metadata": {
        "id": "5YGgnFzYuSsQ",
        "colab_type": "text"
      },
      "cell_type": "markdown",
      "source": [
        "### 반복 사용하는 코드를 함수로 정리"
      ]
    },
    {
      "metadata": {
        "id": "P-y1oo4vuSsQ",
        "colab_type": "code",
        "colab": {}
      },
      "cell_type": "code",
      "source": [
        "# 지역 변수를 함수의 밖에서 쓰는 경우\n",
        "# 신장 목록에서 분산을 계산했을 때의 코드(길고 같은 처리가 중복 ...)\n",
        "monk_fish_team = [158, 157, 163, 157, 145]\n",
        "\n",
        "total = sum(monk_fish_team)    # 리스트의 합계\n",
        "length = len(monk_fish_team)   # 리스트의 요소 수(길이)\n",
        "mean = total/length            # 평균을 계산\n",
        "variance = 0                   # 분산을 계산하기 위한 변수\n",
        "\n",
        "for height in monk_fish_team:\n",
        "    variance = variance+(height-mean)**2 # 신장에서 평균을 빼고 제곱을 더함\n",
        "\n",
        "variance = variance/length     # 더한 수치를 요소 수로 나누어 분산을 구함\n",
        "\n",
        "volleyball_team = [143, 167, 170, 165]\n",
        "\n",
        "total2 = sum(volleyball_team)    # 리스트의 합계\n",
        "length2 = len(volleyball_team)   # 리스트의 요소 수(길이)\n",
        "mean2 = total2/length2           # 평균을 구함\n",
        "variance2 = 0                    # 분산을 계산하기 위한 변수\n",
        "\n",
        "for height in volleyball_team:\n",
        "    variance2 = variance2+(height-mean)**2 # 신장에서 평균을 빼고 제곱을 더함\n",
        "\n",
        "variance2 = variance2/length2  # 더한 수치를 요소 수로 나누어 분산을 구함\n",
        "print(variance, variance2)     # 결과 보기"
      ],
      "execution_count": 0,
      "outputs": []
    },
    {
      "metadata": {
        "id": "2LlfwUDluSsR",
        "colab_type": "code",
        "colab": {}
      },
      "cell_type": "code",
      "source": [
        "# calc_variance() 함수의 정의\n",
        "# 공통 부분을 정리한 함수\n",
        "def calc_variance(a_list):\n",
        "    # 분산을 요구하는 함수\n",
        "    total = sum(a_list)    # 리스트의 합계\n",
        "    length = len(a_list)   # 리스트의 요소 수(길이)\n",
        "    mean = total/length    # 평균을 구함\n",
        "    variance = 0           # 분산을 계산하기 위한 변수\n",
        "\n",
        "    for item in a_list:\n",
        "        variance = variance+(item-mean)**2 # 각 항목에서 평균을 빼고 제곱을 더함\n",
        "    variance = variance/length  # 더한 수치를 요소 수로 나누어 분산을 구함\n",
        "\n",
        "    return variance     # 요구 분산을 반환값으로 돌려줌"
      ],
      "execution_count": 0,
      "outputs": []
    },
    {
      "metadata": {
        "id": "pnf3buViuSsR",
        "colab_type": "code",
        "colab": {}
      },
      "cell_type": "code",
      "source": [
        "# calc_variance() 함수의 실행 사례\n",
        "# 함수를 사용하여 분산과 표준 편차를 계산하는\n",
        "# 리스트를 정의한다\n",
        "monk_fish_team = [158, 157, 163, 157, 145]\n",
        "volleyball_team = [143, 167, 170, 165]\n",
        "pravda_team = [127, 172, 140, 160, 174]\n",
        "\n",
        "# 분산을 계산하다\n",
        "monk_team_variance = calc_variance(monk_fish_team)\n",
        "volley_team_variance = calc_variance(volleyball_team)\n",
        "pravda_team_variance = calc_variance(pravda_team)\n",
        "\n",
        "# 표준 편차를 계산하다\n",
        "print(monk_team_variance**0.5)\n",
        "print(volley_team_variance**0.5)\n",
        "print(pravda_team_variance**0.5)"
      ],
      "execution_count": 0,
      "outputs": []
    },
    {
      "metadata": {
        "id": "RhZ6txihuSsT",
        "colab_type": "code",
        "colab": {}
      },
      "cell_type": "code",
      "source": [
        "monk_team_variance,volley_team_variance"
      ],
      "execution_count": 0,
      "outputs": []
    },
    {
      "metadata": {
        "id": "QHo3Cqk7uSsV",
        "colab_type": "text"
      },
      "cell_type": "markdown",
      "source": [
        "## 모듈 사용 (Ch.2-8)"
      ]
    },
    {
      "metadata": {
        "id": "1F8Ml35suSsV",
        "colab_type": "text"
      },
      "cell_type": "markdown",
      "source": [
        "### 모듈 import (가져 오기)"
      ]
    },
    {
      "metadata": {
        "id": "jOuTBfKSuSsW",
        "colab_type": "code",
        "colab": {}
      },
      "cell_type": "code",
      "source": [
        "# random 모듈의 Import\n",
        "import random                 # 랜덤 모듈을 읽기\n",
        "\n",
        "print(random.random())        # 0 < x < 1의 난수를 얻음\n",
        "print(random.randint(0, 6))   # 0 <= x <= 6의 난수를 얻음\n",
        "a_list = [0, 1, 2, 3, 4, 5]\n",
        "random.shuffle(a_list)        # 리스트를 임의로 교체\n",
        "print(a_list)\n",
        "print(random.choice(a_list))  # 리스트의 요소를 1개 랜덤으로 선택"
      ],
      "execution_count": 0,
      "outputs": []
    },
    {
      "metadata": {
        "id": "Pd2IhW2MuSsX",
        "colab_type": "text"
      },
      "cell_type": "markdown",
      "source": [
        "### import ~ as ~"
      ]
    },
    {
      "metadata": {
        "id": "6grKgbIjuSsY",
        "colab_type": "code",
        "colab": {}
      },
      "cell_type": "code",
      "source": [
        "# plt라는 이름으로 matplotlib.pyplot import하기\n",
        "import matplotlib.pyplot as plt  \n",
        "\n",
        "# 그래프를 표시하기 위한 선언문\n",
        "%matplotlib inline\n",
        "\n",
        "pravda_team = [127, 172, 140, 160, 174]\n",
        "plt.bar([1, 2, 3, 4, 5], pravda_team)  # plt를 사용하여 그래프를 그림"
      ],
      "execution_count": 0,
      "outputs": []
    },
    {
      "metadata": {
        "id": "4E76aq4cuSsZ",
        "colab_type": "text"
      },
      "cell_type": "markdown",
      "source": [
        "### from을 사용한 import"
      ]
    },
    {
      "metadata": {
        "id": "zkAyNSL4uSsZ",
        "colab_type": "code",
        "colab": {}
      },
      "cell_type": "code",
      "source": [
        "# median() 함수의 import\n",
        "# statistics 모듈의 median 함수를 사용하여 평균을 계산\n",
        "from statistics import median\n",
        "\n",
        "monk_fish_team = [158, 157, 163, 157, 145]\n",
        "volleyball_team = [143, 167, 170, 165]\n",
        "print(median(monk_fish_team))    # 함수 이름만 불러낼 수 있음\n",
        "print(median(volleyball_team))   # 함수 이름만 불러낼 수 있음"
      ],
      "execution_count": 0,
      "outputs": []
    },
    {
      "metadata": {
        "id": "_4tR2n8kuSsb",
        "colab_type": "text"
      },
      "cell_type": "markdown",
      "source": [
        "### 도전코딩 5. 모듈사용\n",
        "\n",
        "> var()함수를 import하여 monk_fish_tea과 volleyball_team의 variance를 구하시오."
      ]
    },
    {
      "metadata": {
        "id": "Gt2C_Fm7uSsb",
        "colab_type": "code",
        "colab": {}
      },
      "cell_type": "code",
      "source": [
        "import numpy as np\n",
        "np.var(monk_fish_team),np.var(volleyball_team)"
      ],
      "execution_count": 0,
      "outputs": []
    },
    {
      "metadata": {
        "id": "_XWhVpHVuSsd",
        "colab_type": "code",
        "colab": {}
      },
      "cell_type": "code",
      "source": [
        ""
      ],
      "execution_count": 0,
      "outputs": []
    }
  ]
}