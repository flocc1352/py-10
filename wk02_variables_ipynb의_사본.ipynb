{
  "nbformat": 4,
  "nbformat_minor": 0,
  "metadata": {
    "colab": {
      "name": "wk02_variables.ipynb의 사본",
      "version": "0.3.2",
      "provenance": [],
      "collapsed_sections": [],
      "include_colab_link": true
    },
    "kernelspec": {
      "name": "python3",
      "display_name": "Python 3"
    }
  },
  "cells": [
    {
      "cell_type": "markdown",
      "metadata": {
        "id": "view-in-github",
        "colab_type": "text"
      },
      "source": [
        "[View in Colaboratory](https://colab.research.google.com/github/flocc1352/py-10/blob/master/wk02_variables_ipynb%EC%9D%98_%EC%82%AC%EB%B3%B8.ipynb)"
      ]
    },
    {
      "metadata": {
        "id": "V5gmfVN2_usI",
        "colab_type": "text"
      },
      "cell_type": "markdown",
      "source": [
        ""
      ]
    },
    {
      "metadata": {
        "id": "F7EbYz2GARMo",
        "colab_type": "text"
      },
      "cell_type": "markdown",
      "source": [
        "###기본연산"
      ]
    },
    {
      "metadata": {
        "id": "U-XKE7tf_xJh",
        "colab_type": "toc"
      },
      "cell_type": "markdown",
      "source": [
        ">>>[변수(variables)](#scrollTo=iR0iJPT7qlc7)\n",
        "\n",
        ">>>[숫자처리](#scrollTo=FYh4j4Tz0i0w)\n",
        "\n",
        ">[숫자와 문자열 처리](#scrollTo=anS5r2TGwFl6)\n",
        "\n",
        ">[문자열을 숫자로 변환:int(),float()](#scrollTo=0I6c3EoNwmwA)\n",
        "\n",
        ">[예약어(keywords)](#scrollTo=D9HX67G1xZSH)\n",
        "\n",
        ">>>[예약어는 변수 이름으로 사용할 수 없다(오류가 발생함)](#scrollTo=UoHUJWhH1Wf3)\n",
        "\n",
        ">[user input](#scrollTo=mhH3oCCz1ixo)\n",
        "\n",
        ">[code block & indentation](#scrollTo=N7fWEehz14X6)\n",
        "\n",
        ">>[Indentation error](#scrollTo=YM4j87ff2rRQ)\n",
        "\n",
        ">>>[도전코딩 1.BMI = M/h**2 (M(kg),h(m))](#scrollTo=pMs7NDdk3iI4)\n",
        "\n",
        ">>>[도전코딩2.Fat burning](#scrollTo=Rm6Jic9F6CZQ)\n",
        "\n"
      ]
    },
    {
      "metadata": {
        "id": "iR0iJPT7qlc7",
        "colab_type": "text"
      },
      "cell_type": "markdown",
      "source": [
        "###변수(variables)"
      ]
    },
    {
      "metadata": {
        "id": "DjKHiY96qqyS",
        "colab_type": "code",
        "colab": {
          "base_uri": "https://localhost:8080/",
          "height": 35
        },
        "outputId": "7b8ec6b9-69aa-4bab-d5f7-2d852fbdae45"
      },
      "cell_type": "code",
      "source": [
        "5-5+1+9\n"
      ],
      "execution_count": 0,
      "outputs": [
        {
          "output_type": "execute_result",
          "data": {
            "text/plain": [
              "10"
            ]
          },
          "metadata": {
            "tags": []
          },
          "execution_count": 1
        }
      ]
    },
    {
      "metadata": {
        "id": "T6Jkv56Lqcgf",
        "colab_type": "code",
        "colab": {
          "base_uri": "https://localhost:8080/",
          "height": 35
        },
        "outputId": "7f62e11c-5535-4bec-ae6f-6e4ee9a5e759"
      },
      "cell_type": "code",
      "source": [
        "5/5/3+9"
      ],
      "execution_count": 0,
      "outputs": [
        {
          "output_type": "execute_result",
          "data": {
            "text/plain": [
              "9.333333333333334"
            ]
          },
          "metadata": {
            "tags": []
          },
          "execution_count": 2
        }
      ]
    },
    {
      "metadata": {
        "id": "OBsU5qurq4xI",
        "colab_type": "code",
        "colab": {
          "base_uri": "https://localhost:8080/",
          "height": 35
        },
        "outputId": "f10325df-459c-40ee-b2f3-76df9bcea72e"
      },
      "cell_type": "code",
      "source": [
        "5/(5/3)+9\n"
      ],
      "execution_count": 0,
      "outputs": [
        {
          "output_type": "execute_result",
          "data": {
            "text/plain": [
              "12.0"
            ]
          },
          "metadata": {
            "tags": []
          },
          "execution_count": 4
        }
      ]
    },
    {
      "metadata": {
        "id": "RxgYHpxWrPJI",
        "colab_type": "code",
        "colab": {
          "base_uri": "https://localhost:8080/",
          "height": 35
        },
        "outputId": "663a44e5-ac5d-4f5a-c59e-ec3ee4678747"
      },
      "cell_type": "code",
      "source": [
        "5/5*1+9\n"
      ],
      "execution_count": 0,
      "outputs": [
        {
          "output_type": "execute_result",
          "data": {
            "text/plain": [
              "10.0"
            ]
          },
          "metadata": {
            "tags": []
          },
          "execution_count": 12
        }
      ]
    },
    {
      "metadata": {
        "id": "ewPm1dyKrmz7",
        "colab_type": "code",
        "colab": {
          "base_uri": "https://localhost:8080/",
          "height": 35
        },
        "outputId": "3bf51828-8ac3-46e4-9fe9-9566c615e705"
      },
      "cell_type": "code",
      "source": [
        "5/5%(1+9)"
      ],
      "execution_count": 0,
      "outputs": [
        {
          "output_type": "execute_result",
          "data": {
            "text/plain": [
              "1.0"
            ]
          },
          "metadata": {
            "tags": []
          },
          "execution_count": 6
        }
      ]
    },
    {
      "metadata": {
        "id": "X3hCwC3IAb1I",
        "colab_type": "text"
      },
      "cell_type": "markdown",
      "source": [
        "### 문자열"
      ]
    },
    {
      "metadata": {
        "id": "YtRwg4xMrsft",
        "colab_type": "code",
        "colab": {}
      },
      "cell_type": "code",
      "source": [
        "some_var=100"
      ],
      "execution_count": 0,
      "outputs": []
    },
    {
      "metadata": {
        "id": "1iKKO3vksaCz",
        "colab_type": "code",
        "colab": {}
      },
      "cell_type": "code",
      "source": [
        "some_var=\"강남스타일\""
      ],
      "execution_count": 0,
      "outputs": []
    },
    {
      "metadata": {
        "id": "RsxyuUQpsf0L",
        "colab_type": "code",
        "colab": {
          "base_uri": "https://localhost:8080/",
          "height": 35
        },
        "outputId": "50beabdd-79da-4fe8-f525-b26027848208"
      },
      "cell_type": "code",
      "source": [
        "some_var"
      ],
      "execution_count": 0,
      "outputs": [
        {
          "output_type": "execute_result",
          "data": {
            "text/plain": [
              "'강남스타일'"
            ]
          },
          "metadata": {
            "tags": []
          },
          "execution_count": 11
        }
      ]
    },
    {
      "metadata": {
        "id": "w1ZAY5V7sj9C",
        "colab_type": "code",
        "colab": {}
      },
      "cell_type": "code",
      "source": [
        "psy=\"오빤 강남a스타일\""
      ],
      "execution_count": 0,
      "outputs": []
    },
    {
      "metadata": {
        "id": "6xVdXtiKs05b",
        "colab_type": "code",
        "colab": {}
      },
      "cell_type": "code",
      "source": [
        "psy=\"오. 강남스타일\""
      ],
      "execution_count": 0,
      "outputs": []
    },
    {
      "metadata": {
        "id": "hrZC5T4Us4Vf",
        "colab_type": "code",
        "colab": {
          "base_uri": "https://localhost:8080/",
          "height": 35
        },
        "outputId": "e91c8883-b8fb-4b50-d71a-037f1eee9461"
      },
      "cell_type": "code",
      "source": [
        "psy"
      ],
      "execution_count": 0,
      "outputs": [
        {
          "output_type": "execute_result",
          "data": {
            "text/plain": [
              "'오. 강남스타일'"
            ]
          },
          "metadata": {
            "tags": []
          },
          "execution_count": 18
        }
      ]
    },
    {
      "metadata": {
        "id": "FeZN-TS1s8jv",
        "colab_type": "code",
        "colab": {}
      },
      "cell_type": "code",
      "source": [
        "psy2=\" 아름다워 사랑스러워 \""
      ],
      "execution_count": 0,
      "outputs": []
    },
    {
      "metadata": {
        "id": "p9ViXD0EtEme",
        "colab_type": "code",
        "colab": {}
      },
      "cell_type": "code",
      "source": [
        "psy2+= \" 그래 너. 그래 바로 너 \""
      ],
      "execution_count": 0,
      "outputs": []
    },
    {
      "metadata": {
        "id": "HVYsMWG3tKJL",
        "colab_type": "code",
        "colab": {
          "base_uri": "https://localhost:8080/",
          "height": 35
        },
        "outputId": "5a677200-a819-4b86-c62d-0b470c315759"
      },
      "cell_type": "code",
      "source": [
        "psy2"
      ],
      "execution_count": 0,
      "outputs": [
        {
          "output_type": "execute_result",
          "data": {
            "text/plain": [
              "' 아름다워 사랑스러워  그래 너. 그래 바로 너 '"
            ]
          },
          "metadata": {
            "tags": []
          },
          "execution_count": 26
        }
      ]
    },
    {
      "metadata": {
        "id": "nth3f3pUAvMI",
        "colab_type": "text"
      },
      "cell_type": "markdown",
      "source": [
        "### 여러행 문자열\"\"\""
      ]
    },
    {
      "metadata": {
        "id": "KmiTZ_F6BDro",
        "colab_type": "text"
      },
      "cell_type": "markdown",
      "source": [
        "###여러 행 수식"
      ]
    },
    {
      "metadata": {
        "id": "2p841m1etMh8",
        "colab_type": "code",
        "colab": {}
      },
      "cell_type": "code",
      "source": [
        "psy =\"\"\" 낮에는 따사로운 인간적인 여자\n",
        "커피 한잔의 여유를 아는 품격있는 여자\n",
        "밤이 오면 심장이 뜨거워지는 여자 그런 반전 있는 여자 \"\"\""
      ],
      "execution_count": 0,
      "outputs": []
    },
    {
      "metadata": {
        "id": "NL-xb82HtruE",
        "colab_type": "code",
        "colab": {
          "base_uri": "https://localhost:8080/",
          "height": 35
        },
        "outputId": "e1e95593-584b-4374-f923-baa224c93161"
      },
      "cell_type": "code",
      "source": [
        "psy"
      ],
      "execution_count": 0,
      "outputs": [
        {
          "output_type": "execute_result",
          "data": {
            "text/plain": [
              "' 낮에는 따사로운 인간적인 여자\\n커피 한잔의 여유를 아는 품격있는 여자\\n밤이 오면 심장이 뜨거워지는 여자 그런 반전 있는 여자 '"
            ]
          },
          "metadata": {
            "tags": []
          },
          "execution_count": 31
        }
      ]
    },
    {
      "metadata": {
        "id": "9HIWwS2HttvP",
        "colab_type": "code",
        "colab": {
          "base_uri": "https://localhost:8080/",
          "height": 71
        },
        "outputId": "716a3cd8-3680-4339-eb51-4e77e1cae069"
      },
      "cell_type": "code",
      "source": [
        "print(psy)"
      ],
      "execution_count": 0,
      "outputs": [
        {
          "output_type": "stream",
          "text": [
            " 낮에는 따사로운 인간적인 여자\n",
            "커피 한잔의 여유를 아는 품격있는 여자\n",
            "밤이 오면 심장이 뜨거워지는 여자 그런 반전 있는 여자 \n"
          ],
          "name": "stdout"
        }
      ]
    },
    {
      "metadata": {
        "id": "FYh4j4Tz0i0w",
        "colab_type": "text"
      },
      "cell_type": "markdown",
      "source": [
        "###숫자처리"
      ]
    },
    {
      "metadata": {
        "id": "lKZGBzwstz5r",
        "colab_type": "code",
        "colab": {
          "base_uri": "https://localhost:8080/",
          "height": 35
        },
        "outputId": "14161020-3e32-4429-fc7c-4b3da12b1846"
      },
      "cell_type": "code",
      "source": [
        "sum = 10 + 20 + \\\n",
        "30 + 40\n",
        "sum"
      ],
      "execution_count": 0,
      "outputs": [
        {
          "output_type": "execute_result",
          "data": {
            "text/plain": [
              "100"
            ]
          },
          "metadata": {
            "tags": []
          },
          "execution_count": 33
        }
      ]
    },
    {
      "metadata": {
        "id": "anS5r2TGwFl6",
        "colab_type": "text"
      },
      "cell_type": "markdown",
      "source": [
        "### 숫자와 문자열 처리\n"
      ]
    },
    {
      "metadata": {
        "id": "i5rWHnrJuPJ7",
        "colab_type": "code",
        "colab": {
          "base_uri": "https://localhost:8080/",
          "height": 34
        },
        "outputId": "2b1da6f2-1bc9-460c-9a68-acfeb872db1a"
      },
      "cell_type": "code",
      "source": [
        "day = 3\n",
        "date = str(day) + \"일\"\n",
        "print(date)"
      ],
      "execution_count": 6,
      "outputs": [
        {
          "output_type": "stream",
          "text": [
            "3일\n"
          ],
          "name": "stdout"
        }
      ]
    },
    {
      "metadata": {
        "id": "WZr5dISxu3Os",
        "colab_type": "code",
        "colab": {
          "base_uri": "https://localhost:8080/",
          "height": 34
        },
        "outputId": "f429e35e-43fe-446f-cb2b-459c713db250"
      },
      "cell_type": "code",
      "source": [
        "day=3\n",
        "str_day = str (day)\n",
        "date = str_day +\"일\"\n",
        "print(date)"
      ],
      "execution_count": 8,
      "outputs": [
        {
          "output_type": "stream",
          "text": [
            "3일\n"
          ],
          "name": "stdout"
        }
      ]
    },
    {
      "metadata": {
        "id": "kAf1ipbECOEg",
        "colab_type": "text"
      },
      "cell_type": "markdown",
      "source": [
        "### 변수 type"
      ]
    },
    {
      "metadata": {
        "id": "SoZt3lWpvUeU",
        "colab_type": "code",
        "colab": {
          "base_uri": "https://localhost:8080/",
          "height": 35
        },
        "outputId": "98d6cd11-6e8e-408f-953e-deeaae511d39"
      },
      "cell_type": "code",
      "source": [
        "#변수 type\n",
        "type(day)"
      ],
      "execution_count": 0,
      "outputs": [
        {
          "output_type": "execute_result",
          "data": {
            "text/plain": [
              "int"
            ]
          },
          "metadata": {
            "tags": []
          },
          "execution_count": 38
        }
      ]
    },
    {
      "metadata": {
        "id": "tZsIz0kgvcDx",
        "colab_type": "code",
        "colab": {
          "base_uri": "https://localhost:8080/",
          "height": 35
        },
        "outputId": "0f07fc57-6413-4f9c-df0a-3e42da62106b"
      },
      "cell_type": "code",
      "source": [
        "type(day),type(str_day),type(date)"
      ],
      "execution_count": 0,
      "outputs": [
        {
          "output_type": "execute_result",
          "data": {
            "text/plain": [
              "(int, str, str)"
            ]
          },
          "metadata": {
            "tags": []
          },
          "execution_count": 52
        }
      ]
    },
    {
      "metadata": {
        "id": "AsGgTAWTyM5I",
        "colab_type": "code",
        "colab": {
          "base_uri": "https://localhost:8080/",
          "height": 2033
        },
        "outputId": "2e54860b-35fc-4121-f819-1736e65aa7af"
      },
      "cell_type": "code",
      "source": [
        "dir()"
      ],
      "execution_count": 0,
      "outputs": [
        {
          "output_type": "execute_result",
          "data": {
            "text/plain": [
              "['In',\n",
              " 'Out',\n",
              " '_',\n",
              " '_1',\n",
              " '_11',\n",
              " '_12',\n",
              " '_18',\n",
              " '_2',\n",
              " '_22',\n",
              " '_26',\n",
              " '_28',\n",
              " '_3',\n",
              " '_31',\n",
              " '_33',\n",
              " '_38',\n",
              " '_4',\n",
              " '_45',\n",
              " '_5',\n",
              " '_52',\n",
              " '_6',\n",
              " '_9',\n",
              " '_TensorFlowImportHook',\n",
              " '__',\n",
              " '___',\n",
              " '__builtin__',\n",
              " '__builtins__',\n",
              " '__doc__',\n",
              " '__loader__',\n",
              " '__name__',\n",
              " '__package__',\n",
              " '__spec__',\n",
              " '_dh',\n",
              " '_i',\n",
              " '_i1',\n",
              " '_i10',\n",
              " '_i11',\n",
              " '_i12',\n",
              " '_i13',\n",
              " '_i14',\n",
              " '_i15',\n",
              " '_i16',\n",
              " '_i17',\n",
              " '_i18',\n",
              " '_i19',\n",
              " '_i2',\n",
              " '_i20',\n",
              " '_i21',\n",
              " '_i22',\n",
              " '_i23',\n",
              " '_i24',\n",
              " '_i25',\n",
              " '_i26',\n",
              " '_i27',\n",
              " '_i28',\n",
              " '_i29',\n",
              " '_i3',\n",
              " '_i30',\n",
              " '_i31',\n",
              " '_i32',\n",
              " '_i33',\n",
              " '_i34',\n",
              " '_i35',\n",
              " '_i36',\n",
              " '_i37',\n",
              " '_i38',\n",
              " '_i39',\n",
              " '_i4',\n",
              " '_i40',\n",
              " '_i41',\n",
              " '_i42',\n",
              " '_i43',\n",
              " '_i44',\n",
              " '_i45',\n",
              " '_i46',\n",
              " '_i47',\n",
              " '_i48',\n",
              " '_i49',\n",
              " '_i5',\n",
              " '_i50',\n",
              " '_i51',\n",
              " '_i52',\n",
              " '_i53',\n",
              " '_i6',\n",
              " '_i7',\n",
              " '_i8',\n",
              " '_i9',\n",
              " '_ih',\n",
              " '_ii',\n",
              " '_iii',\n",
              " '_oh',\n",
              " '_sh',\n",
              " 'come_var',\n",
              " 'date',\n",
              " 'datetime',\n",
              " 'day',\n",
              " 'exit',\n",
              " 'get_ipython',\n",
              " 'imp',\n",
              " 'logging',\n",
              " 'num',\n",
              " 'os',\n",
              " 'pay',\n",
              " 'pi',\n",
              " 'psy',\n",
              " 'psy2',\n",
              " 'quit',\n",
              " 'register_hook',\n",
              " 'some_var',\n",
              " 'str_date',\n",
              " 'str_day',\n",
              " 'sum',\n",
              " 'sys']"
            ]
          },
          "metadata": {
            "tags": []
          },
          "execution_count": 53
        }
      ]
    },
    {
      "metadata": {
        "id": "0I6c3EoNwmwA",
        "colab_type": "text"
      },
      "cell_type": "markdown",
      "source": [
        "# 문자열을 숫자로 변환:int(),float()"
      ]
    },
    {
      "metadata": {
        "id": "xtMeivJSvkUg",
        "colab_type": "code",
        "colab": {}
      },
      "cell_type": "code",
      "source": [
        "num = int(\"31\")\n",
        "pi = float(\"3.141592\")"
      ],
      "execution_count": 0,
      "outputs": []
    },
    {
      "metadata": {
        "id": "eNMvbcTXwzUM",
        "colab_type": "code",
        "colab": {
          "base_uri": "https://localhost:8080/",
          "height": 35
        },
        "outputId": "540e2d01-0a85-4b71-bdba-6069c5b88009"
      },
      "cell_type": "code",
      "source": [
        "#num_pi\n",
        "num"
      ],
      "execution_count": 0,
      "outputs": [
        {
          "output_type": "execute_result",
          "data": {
            "text/plain": [
              "31"
            ]
          },
          "metadata": {
            "tags": []
          },
          "execution_count": 55
        }
      ]
    },
    {
      "metadata": {
        "id": "Y2NC_xkZxBKZ",
        "colab_type": "code",
        "colab": {
          "base_uri": "https://localhost:8080/",
          "height": 35
        },
        "outputId": "a6172668-374a-480a-a664-6827f4c39198"
      },
      "cell_type": "code",
      "source": [
        "pi,type(pi)"
      ],
      "execution_count": 0,
      "outputs": [
        {
          "output_type": "execute_result",
          "data": {
            "text/plain": [
              "(3.141592, float)"
            ]
          },
          "metadata": {
            "tags": []
          },
          "execution_count": 56
        }
      ]
    },
    {
      "metadata": {
        "id": "e2Q5hQMvxGH5",
        "colab_type": "code",
        "colab": {
          "base_uri": "https://localhost:8080/",
          "height": 35
        },
        "outputId": "7339e0f0-5eaf-433c-c587-a5a86182bcfd"
      },
      "cell_type": "code",
      "source": [
        "print(\"num = {}, pi = {}\".format(num,pi))"
      ],
      "execution_count": 0,
      "outputs": [
        {
          "output_type": "stream",
          "text": [
            "num = 31, pi = 3.141592\n"
          ],
          "name": "stdout"
        }
      ]
    },
    {
      "metadata": {
        "id": "D9HX67G1xZSH",
        "colab_type": "text"
      },
      "cell_type": "markdown",
      "source": [
        "# 예약어(keywords)"
      ]
    },
    {
      "metadata": {
        "id": "jUbZFGQ7xTa_",
        "colab_type": "code",
        "colab": {
          "base_uri": "https://localhost:8080/",
          "height": 35
        },
        "outputId": "7f28b799-02f8-48dc-e248-b554c24fa963"
      },
      "cell_type": "code",
      "source": [
        "import keyword\n",
        "\n",
        "#파이썬의 예약어의 수\n",
        "\n",
        "len(keyword.kwlist)\n"
      ],
      "execution_count": 0,
      "outputs": [
        {
          "output_type": "execute_result",
          "data": {
            "text/plain": [
              "33"
            ]
          },
          "metadata": {
            "tags": []
          },
          "execution_count": 58
        }
      ]
    },
    {
      "metadata": {
        "id": "qUqA9fVN04yB",
        "colab_type": "code",
        "colab": {
          "base_uri": "https://localhost:8080/",
          "height": 611
        },
        "outputId": "95b3d6ee-a7e2-45d7-d945-8ce33624c589"
      },
      "cell_type": "code",
      "source": [
        "#예약어의 목록\n",
        "keyword.kwlist"
      ],
      "execution_count": 0,
      "outputs": [
        {
          "output_type": "execute_result",
          "data": {
            "text/plain": [
              "['False',\n",
              " 'None',\n",
              " 'True',\n",
              " 'and',\n",
              " 'as',\n",
              " 'assert',\n",
              " 'break',\n",
              " 'class',\n",
              " 'continue',\n",
              " 'def',\n",
              " 'del',\n",
              " 'elif',\n",
              " 'else',\n",
              " 'except',\n",
              " 'finally',\n",
              " 'for',\n",
              " 'from',\n",
              " 'global',\n",
              " 'if',\n",
              " 'import',\n",
              " 'in',\n",
              " 'is',\n",
              " 'lambda',\n",
              " 'nonlocal',\n",
              " 'not',\n",
              " 'or',\n",
              " 'pass',\n",
              " 'raise',\n",
              " 'return',\n",
              " 'try',\n",
              " 'while',\n",
              " 'with',\n",
              " 'yield']"
            ]
          },
          "metadata": {
            "tags": []
          },
          "execution_count": 59
        }
      ]
    },
    {
      "metadata": {
        "id": "vrC5rG9m1C7Y",
        "colab_type": "code",
        "colab": {
          "base_uri": "https://localhost:8080/",
          "height": 133
        },
        "outputId": "bccbedbf-896b-456a-a80a-8eb10d058281"
      },
      "cell_type": "code",
      "source": [
        "as = \"inje\""
      ],
      "execution_count": 0,
      "outputs": [
        {
          "output_type": "error",
          "ename": "SyntaxError",
          "evalue": "ignored",
          "traceback": [
            "\u001b[0;36m  File \u001b[0;32m\"<ipython-input-60-e77f5820d78a>\"\u001b[0;36m, line \u001b[0;32m1\u001b[0m\n\u001b[0;31m    as = \"inje\"\u001b[0m\n\u001b[0m     ^\u001b[0m\n\u001b[0;31mSyntaxError\u001b[0m\u001b[0;31m:\u001b[0m invalid syntax\n"
          ]
        }
      ]
    },
    {
      "metadata": {
        "id": "Ydc0j8pC1GLw",
        "colab_type": "code",
        "colab": {
          "base_uri": "https://localhost:8080/",
          "height": 34
        },
        "outputId": "4c8ed763-4310-46e9-c31a-ed194e268c9a"
      },
      "cell_type": "code",
      "source": [
        "_as = \"inje\"\n",
        "_as"
      ],
      "execution_count": 0,
      "outputs": [
        {
          "output_type": "execute_result",
          "data": {
            "text/plain": [
              "'inje'"
            ]
          },
          "metadata": {
            "tags": []
          },
          "execution_count": 61
        }
      ]
    },
    {
      "metadata": {
        "id": "UoHUJWhH1Wf3",
        "colab_type": "text"
      },
      "cell_type": "markdown",
      "source": [
        "### 예약어는 변수 이름으로 사용할 수 없다(오류가 발생함)"
      ]
    },
    {
      "metadata": {
        "id": "lCBHzNa11T1u",
        "colab_type": "code",
        "colab": {}
      },
      "cell_type": "code",
      "source": [
        ""
      ],
      "execution_count": 0,
      "outputs": []
    },
    {
      "metadata": {
        "id": "mhH3oCCz1ixo",
        "colab_type": "text"
      },
      "cell_type": "markdown",
      "source": [
        "# user input"
      ]
    },
    {
      "metadata": {
        "id": "t96dj7Ru1lVV",
        "colab_type": "code",
        "colab": {
          "base_uri": "https://localhost:8080/",
          "height": 34
        },
        "outputId": "55e1030c-991c-4049-859a-ed97a1547234"
      },
      "cell_type": "code",
      "source": [
        "name = input(\"please write down your name here!\")\n"
      ],
      "execution_count": 10,
      "outputs": [
        {
          "output_type": "stream",
          "text": [
            "please write down your name here!윤진아\n"
          ],
          "name": "stdout"
        }
      ]
    },
    {
      "metadata": {
        "id": "onQ8QCDm1xrJ",
        "colab_type": "code",
        "colab": {
          "base_uri": "https://localhost:8080/",
          "height": 34
        },
        "outputId": "1596c978-b77f-4b87-f387-4f11accf651b"
      },
      "cell_type": "code",
      "source": [
        "name"
      ],
      "execution_count": 11,
      "outputs": [
        {
          "output_type": "execute_result",
          "data": {
            "text/plain": [
              "'윤진아'"
            ]
          },
          "metadata": {
            "tags": []
          },
          "execution_count": 11
        }
      ]
    },
    {
      "metadata": {
        "id": "N7fWEehz14X6",
        "colab_type": "text"
      },
      "cell_type": "markdown",
      "source": [
        "# code block & indentation"
      ]
    },
    {
      "metadata": {
        "id": "7iAV4DT813I-",
        "colab_type": "code",
        "colab": {
          "base_uri": "https://localhost:8080/",
          "height": 70
        },
        "outputId": "fb05a88d-f235-44ee-9911-70b4ddb50a6a"
      },
      "cell_type": "code",
      "source": [
        "if(10>3):\n",
        "  print('inside if block')\n",
        "  print('sill inside if block')\n",
        "  \n",
        "  print('outside if block!')"
      ],
      "execution_count": 12,
      "outputs": [
        {
          "output_type": "stream",
          "text": [
            "inside if block\n",
            "sill inside if block\n",
            "outside if block!\n"
          ],
          "name": "stdout"
        }
      ]
    },
    {
      "metadata": {
        "id": "YM4j87ff2rRQ",
        "colab_type": "text"
      },
      "cell_type": "markdown",
      "source": [
        "## Indentation error"
      ]
    },
    {
      "metadata": {
        "id": "EFsvciLk2rGZ",
        "colab_type": "code",
        "colab": {
          "base_uri": "https://localhost:8080/",
          "height": 70
        },
        "outputId": "54482656-42db-483c-d5c9-33df580e4cbd"
      },
      "cell_type": "code",
      "source": [
        "if(10>3):\n",
        "  print('inside if block')\n",
        "  print('sill inside if block')\n",
        "  \n",
        "  print('outside if block!')"
      ],
      "execution_count": 13,
      "outputs": [
        {
          "output_type": "stream",
          "text": [
            "inside if block\n",
            "sill inside if block\n",
            "outside if block!\n"
          ],
          "name": "stdout"
        }
      ]
    },
    {
      "metadata": {
        "id": "pMs7NDdk3iI4",
        "colab_type": "text"
      },
      "cell_type": "markdown",
      "source": [
        "\n",
        "\n",
        "\n",
        "\n",
        "###도전코딩 1.BMI = M/h**2 (M(kg),h(m))\n",
        "\n"
      ]
    },
    {
      "metadata": {
        "id": "XjZD-S9S2aHp",
        "colab_type": "code",
        "colab": {
          "base_uri": "https://localhost:8080/",
          "height": 70
        },
        "outputId": "af2c91e2-9c8b-4759-8d5d-ead38b0a7986"
      },
      "cell_type": "code",
      "source": [
        "height= float(input(\"your height in meters:\"))\n",
        "weight = int(input(\"Your weight in kilograms:\"))\n",
        "bmi = round(weight/(height * height), 1)\n",
        "bmi"
      ],
      "execution_count": 17,
      "outputs": [
        {
          "output_type": "stream",
          "text": [
            "your height in meters:1.8\n",
            "Your weight in kilograms:73\n"
          ],
          "name": "stdout"
        },
        {
          "output_type": "execute_result",
          "data": {
            "text/plain": [
              "22.5"
            ]
          },
          "metadata": {
            "tags": []
          },
          "execution_count": 17
        }
      ]
    },
    {
      "metadata": {
        "id": "Rm6Jic9F6CZQ",
        "colab_type": "text"
      },
      "cell_type": "markdown",
      "source": [
        "###도전코딩2.Fat burning\n"
      ]
    },
    {
      "metadata": {
        "id": "rAstZsmC4gfu",
        "colab_type": "code",
        "colab": {}
      },
      "cell_type": "code",
      "source": [
        "#조깅에서 1kg 지방을 태우는데 몇 시간 걸리는지를 계산\n",
        "cal_per_1kg_fat = 7200\n",
        "cal_per_1min_jog = 7.76"
      ],
      "execution_count": 0,
      "outputs": []
    },
    {
      "metadata": {
        "id": "Sylg_xdp6eQ3",
        "colab_type": "code",
        "colab": {
          "base_uri": "https://localhost:8080/",
          "height": 52
        },
        "outputId": "7a813e9d-1cb2-4d33-b4a2-26e7c3e39538"
      },
      "cell_type": "code",
      "source": [
        "min_to_lose1kg=cal_per_1kg_fat/cal_per_1min_jog\n",
        "hours_to_lose1kg = min_to_lose1kg/60\n",
        "print(round(hours_to_lose1kg,1))\n",
        "print(str(round(hours_to_lose1kg,1))+\"시간\")"
      ],
      "execution_count": 0,
      "outputs": [
        {
          "output_type": "stream",
          "text": [
            "15.5\n",
            "15.5시간\n"
          ],
          "name": "stdout"
        }
      ]
    },
    {
      "metadata": {
        "id": "K5ahZc_d7gYY",
        "colab_type": "code",
        "colab": {}
      },
      "cell_type": "code",
      "source": [
        ""
      ],
      "execution_count": 0,
      "outputs": []
    }
  ]
}