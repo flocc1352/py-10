{
  "nbformat": 4,
  "nbformat_minor": 0,
  "metadata": {
    "colab": {
      "name": "wk06_function.ipynb",
      "version": "0.3.2",
      "provenance": [],
      "collapsed_sections": [
        "xhRX41s0PMad",
        "ZnHLqHIWzo1_",
        "gTIF5d1Hzo2C",
        "ZrlvfQrPPMal"
      ],
      "include_colab_link": true
    },
    "kernelspec": {
      "display_name": "Python 3",
      "language": "python",
      "name": "python3"
    }
  },
  "cells": [
    {
      "cell_type": "markdown",
      "metadata": {
        "id": "view-in-github",
        "colab_type": "text"
      },
      "source": [
        "[View in Colaboratory](https://colab.research.google.com/github/flocc1352/py-10/blob/master/wk06_function.ipynb)"
      ]
    },
    {
      "metadata": {
        "id": "hIHlLTQmPMXl",
        "colab_type": "text"
      },
      "cell_type": "markdown",
      "source": [
        "## 파이썬과 함수형 프로그래밍 (Ch.5-1)"
      ]
    },
    {
      "metadata": {
        "id": "AsEsLQPuPMXp",
        "colab_type": "text"
      },
      "cell_type": "markdown",
      "source": [
        "## 함수형 프로그래밍이란 무엇인가"
      ]
    },
    {
      "metadata": {
        "id": "FdtPTyabPMXq",
        "colab_type": "code",
        "colab": {}
      },
      "cell_type": "code",
      "source": [
        "# 리스트의 메쏘드를 사용한 처리\n",
        "# reverse() 메쏘드를 사용한 회문 판정\n",
        "orig_str = \"아좋다좋아\"\n",
        "str_list = list(orig_str)     # 문자열을 리스트로 변환\n",
        "str_list.reverse()            # 리스트를 뒤집음(반전)\n",
        "# 공백 문자열에 뒤집은 문자열을 추가\n",
        "# ''.join\n",
        "''.join(str_list) == orig_str # 리스트를 문자열로 바꾸어 회문 판정  ## 리스트로 사용"
      ],
      "execution_count": 0,
      "outputs": []
    },
    {
      "metadata": {
        "id": "nweWWLWHPMXw",
        "colab_type": "code",
        "colab": {}
      },
      "cell_type": "code",
      "source": [
        "# 함수를 사용한 처리 (list() 사용 안함!)\n",
        "# reversed()를 사용한 회문 판정\n",
        "# 함수/메쏘드 호출 연산자와 비교 연산자를 포함하는 식 등\n",
        "orig_str = \"아좋다좋아\"\n",
        "\"\".join(reversed(orig_str)) == orig_str ## 리스트로 바꾸지 않고 사용"
      ],
      "execution_count": 0,
      "outputs": []
    },
    {
      "metadata": {
        "id": "64KwndrjPMX1",
        "colab_type": "text"
      },
      "cell_type": "markdown",
      "source": [
        "[reversed() function (w3schools.com)](https://www.w3schools.com/python/ref_func_reversed.asp)"
      ]
    },
    {
      "metadata": {
        "id": "vTKRFHezPMX3",
        "colab_type": "code",
        "colab": {}
      },
      "cell_type": "code",
      "source": [
        "# 참고로 문자열을 반전만 한다면 슬라이스의 단계 수를 사용하는 것이\n",
        "# 가장 쉽다\n",
        "\n",
        "orig_str = \"아좋다좋아\"  # 문자열은 자동 리스트!\n",
        "orig_str == orig_str[::-1]\n",
        "\n",
        "# 슬라이스도 함수형적인 작업이라고 말할 수 있을지도..."
      ],
      "execution_count": 0,
      "outputs": []
    },
    {
      "metadata": {
        "id": "emKQFl7qPMX9",
        "colab_type": "code",
        "colab": {}
      },
      "cell_type": "code",
      "source": [
        "orig_str = \"아좋다좋아크\"\n",
        "orig_str[::-1] "
      ],
      "execution_count": 0,
      "outputs": []
    },
    {
      "metadata": {
        "id": "7npoteg4B8bk",
        "colab_type": "code",
        "colab": {}
      },
      "cell_type": "code",
      "source": [
        "orig_str[-1:0:-1] # 0 포함 안함"
      ],
      "execution_count": 0,
      "outputs": []
    },
    {
      "metadata": {
        "id": "z1WDmflJBo4W",
        "colab_type": "code",
        "colab": {}
      },
      "cell_type": "code",
      "source": [
        "orig_str[0:-1:1]"
      ],
      "execution_count": 0,
      "outputs": []
    },
    {
      "metadata": {
        "id": "YHpZiDC2PMYD",
        "colab_type": "text"
      },
      "cell_type": "markdown",
      "source": [
        "[Reverse string by slicing (w3schools.com)](https://www.w3schools.com/python/python_howto_reverse_string.asp)"
      ]
    },
    {
      "metadata": {
        "id": "qaEsTlMOPMYF",
        "colab_type": "text"
      },
      "cell_type": "markdown",
      "source": [
        "> 함수형 프로그래밍이란 -> 함수를 이용한 처리"
      ]
    },
    {
      "metadata": {
        "id": "J5X_NOoGPMYH",
        "colab_type": "code",
        "colab": {}
      },
      "cell_type": "code",
      "source": [
        "# Python의 식\n",
        "print(\"\".join(reversed(\"아좋다좋아크\")))"
      ],
      "execution_count": 0,
      "outputs": []
    },
    {
      "metadata": {
        "id": "6Zaf49C-PMYK",
        "colab_type": "text"
      },
      "cell_type": "markdown",
      "source": [
        "### 파이썬의 문장과 식"
      ]
    },
    {
      "metadata": {
        "id": "NW9oglXzPMYK",
        "colab_type": "code",
        "colab": {}
      },
      "cell_type": "code",
      "source": [
        "# 파이썬의 문장\n",
        "\n",
        "# if문, for문, def문과 같이 '~ 문장'이라는 기능\n",
        "# '문장'은 줄 바꿈을 필요하다\n",
        "if \"\":\n",
        "    print(\"이 블록은 실행되지 않습니다\")\n",
        "else:\n",
        "    print(\"파이썬에서는 빈 문자열은 거짓이라고 판정됩니다\")\n",
        "       "
      ],
      "execution_count": 0,
      "outputs": []
    },
    {
      "metadata": {
        "id": "zucoAPl3PMYN",
        "colab_type": "text"
      },
      "cell_type": "markdown",
      "source": [
        "# lambda식 : 익명 함수 또는 무명 함수"
      ]
    },
    {
      "metadata": {
        "id": "ACiQ4jIrPMYO",
        "colab_type": "code",
        "colab": {}
      },
      "cell_type": "code",
      "source": [
        "# function square(x)\n",
        "def square(x): \n",
        "    return x*x"
      ],
      "execution_count": 0,
      "outputs": []
    },
    {
      "metadata": {
        "id": "0O4kH1-IPMYQ",
        "colab_type": "code",
        "colab": {}
      },
      "cell_type": "code",
      "source": [
        "# Call square(5) \n",
        "print(square(5))"
      ],
      "execution_count": 0,
      "outputs": []
    },
    {
      "metadata": {
        "id": "Lk5sGeZBPMYU",
        "colab_type": "code",
        "colab": {}
      },
      "cell_type": "code",
      "source": [
        "square1 = lambda x: x*x "
      ],
      "execution_count": 0,
      "outputs": []
    },
    {
      "metadata": {
        "id": "7VcMQCQxPMYW",
        "colab_type": "code",
        "colab": {}
      },
      "cell_type": "code",
      "source": [
        "# Call square1(5) \n",
        "print(square1(5))"
      ],
      "execution_count": 0,
      "outputs": []
    },
    {
      "metadata": {
        "id": "BND-dEp1PMYZ",
        "colab_type": "text"
      },
      "cell_type": "markdown",
      "source": [
        "### lambda식 정리 (Youtube video)"
      ]
    },
    {
      "metadata": {
        "id": "7fKkqnyKPMYa",
        "colab_type": "code",
        "colab": {}
      },
      "cell_type": "code",
      "source": [
        "from IPython.lib.display import YouTubeVideo\n",
        "YouTubeVideo('oL6LIuw_p94')"
      ],
      "execution_count": 0,
      "outputs": []
    },
    {
      "metadata": {
        "id": "zfb-Cx9wPMYd",
        "colab_type": "text"
      },
      "cell_type": "markdown",
      "source": [
        "## function"
      ]
    },
    {
      "metadata": {
        "id": "F8dVZVjePMYe",
        "colab_type": "code",
        "colab": {}
      },
      "cell_type": "code",
      "source": [
        "# 기본 함수\n",
        "def print_name(name, count=2): # count는 따로 지정하지 않으면 2를 쓰겠다 default parameter value\n",
        "    for i in range(count):\n",
        "        print(\"name = \", name)"
      ],
      "execution_count": 0,
      "outputs": []
    },
    {
      "metadata": {
        "id": "hssQfUZHPMYg",
        "colab_type": "code",
        "colab": {}
      },
      "cell_type": "code",
      "source": [
        "print_name(\"HCit\")"
      ],
      "execution_count": 0,
      "outputs": []
    },
    {
      "metadata": {
        "id": "Xq9o7ZYEF2JF",
        "colab_type": "code",
        "colab": {}
      },
      "cell_type": "code",
      "source": [
        "print_name(\"HCit\",5)"
      ],
      "execution_count": 0,
      "outputs": []
    },
    {
      "metadata": {
        "id": "emTbIFBcPMYj",
        "colab_type": "text"
      },
      "cell_type": "markdown",
      "source": [
        "### mutable(변화가능) vs. immutable(불변) parameter in function"
      ]
    },
    {
      "metadata": {
        "id": "3N2P_ClKGHFG",
        "colab_type": "text"
      },
      "cell_type": "markdown",
      "source": [
        "#### list는 mutable"
      ]
    },
    {
      "metadata": {
        "id": "UIrG74jAPMYk",
        "colab_type": "code",
        "colab": {}
      },
      "cell_type": "code",
      "source": [
        "def mutable_immutable_func(int_x, input_list):\n",
        "    int_x += 1\n",
        "    input_list.append(100) # 리스트의 요소 추가"
      ],
      "execution_count": 0,
      "outputs": []
    },
    {
      "metadata": {
        "id": "42c7LcgAPMYm",
        "colab_type": "code",
        "colab": {}
      },
      "cell_type": "code",
      "source": [
        "x = 1\n",
        "test_list = [1,2,3]"
      ],
      "execution_count": 0,
      "outputs": []
    },
    {
      "metadata": {
        "id": "7yOrxwOGPMYq",
        "colab_type": "code",
        "colab": {}
      },
      "cell_type": "code",
      "source": [
        "mutable_immutable_func(x, test_list)\n",
        "print(\"x = \", x, \", test_list = \", test_list) # x는 전역변수 값 출력"
      ],
      "execution_count": 0,
      "outputs": []
    },
    {
      "metadata": {
        "id": "jRugU9ONPMYt",
        "colab_type": "text"
      },
      "cell_type": "markdown",
      "source": [
        "### lambda function"
      ]
    },
    {
      "metadata": {
        "id": "xw1ZrCOnPMYt",
        "colab_type": "code",
        "colab": {}
      },
      "cell_type": "code",
      "source": [
        "f = lambda x: x + 100 # 중간고사 이코드 1"
      ],
      "execution_count": 0,
      "outputs": []
    },
    {
      "metadata": {
        "id": "aDzyBfo2PMYw",
        "colab_type": "code",
        "colab": {}
      },
      "cell_type": "code",
      "source": [
        "for i in range(3):\n",
        "    print(f(i)) # 중간고사 이코드 2 출력결과를 쓰시오"
      ],
      "execution_count": 0,
      "outputs": []
    },
    {
      "metadata": {
        "id": "89l7SzQtPMYz",
        "colab_type": "text"
      },
      "cell_type": "markdown",
      "source": [
        "> lambda 함수는 입력값(매개변수)를 반드시 사용할 필요 없음."
      ]
    },
    {
      "metadata": {
        "id": "X0k6dgyLPMY0",
        "colab_type": "code",
        "colab": {}
      },
      "cell_type": "code",
      "source": [
        "def print_hello():\n",
        "    print(\"Hello python!\")\n",
        "    \n",
        "def test_lambda(s, t):\n",
        "    print(\"input1 = \", s, \", input2 = \", t)\n",
        "    "
      ],
      "execution_count": 0,
      "outputs": []
    },
    {
      "metadata": {
        "id": "8a4LLcaaPMY2",
        "colab_type": "code",
        "colab": {}
      },
      "cell_type": "code",
      "source": [
        "s = 100\n",
        "t = 200\n",
        "fx = lambda x,y: test_lambda(s, t)  # fx(x,y) = test_lambda(s,t) # 아하! lambda는 이름이 없는 함수구나!\n",
        "fy = lambda x,y: print_hello()      # fy(x,y) = print_hello()  # 따로 정의 된 함수를 lambda에서 불러와서 쓸수 있음"
      ],
      "execution_count": 0,
      "outputs": []
    },
    {
      "metadata": {
        "id": "lcWN7Za-PMY5",
        "colab_type": "code",
        "colab": {}
      },
      "cell_type": "code",
      "source": [
        "fx(500, 1000)  # lambda 함수는 입력값(매개변수)를 반드시 사용할 필요 없음.\n",
        "fy(300, 600)"
      ],
      "execution_count": 0,
      "outputs": []
    },
    {
      "metadata": {
        "id": "psFylblCPMY7",
        "colab_type": "text"
      },
      "cell_type": "markdown",
      "source": [
        "***"
      ]
    },
    {
      "metadata": {
        "id": "-mN-4dy9PMY8",
        "colab_type": "text"
      },
      "cell_type": "markdown",
      "source": [
        "### lambda 함수의 응용"
      ]
    },
    {
      "metadata": {
        "id": "jLrMgtMYPMY-",
        "colab_type": "code",
        "colab": {}
      },
      "cell_type": "code",
      "source": [
        "# 정렬 순서 지정에 lambda식을 사용한다.\n",
        "tank_data = [(\"IV호 전차\", 38, 80, 75), (\"LT-38\", 42, 50, 37),\n",
        "             (\"89식 중전차\", 20, 17, 57), (\"III호 돌격포\", 40, 50, 75),\n",
        "             (\"M3 중전차\", 39, 51, 75)]\n",
        "# def evaluate_tankdata(tup):\n",
        "#     # 전차의 제원을 더해 반환하는 함수\n",
        "#     return tup[1]+tup[2]+tup[3]\n",
        "\n",
        "tank_data.sort(key=lambda tup: sum(tup[1:4]), reverse=True) # 내림차순(큰->작), tup : 매개변수 이름, key를 lambda 함수 자체로 바로 정의\n",
        "tank_data"
      ],
      "execution_count": 0,
      "outputs": []
    },
    {
      "metadata": {
        "id": "tlm9FTfYPMZA",
        "colab_type": "code",
        "colab": {}
      },
      "cell_type": "code",
      "source": [
        "# sorted() 함수에 의한 바꾸기\n",
        "r = sorted(tank_data, key=lambda tup: sum(tup[1:4]), reverse=True)\n",
        "r"
      ],
      "execution_count": 0,
      "outputs": []
    },
    {
      "metadata": {
        "id": "rw2zHyxbPMZF",
        "colab_type": "code",
        "colab": {}
      },
      "cell_type": "code",
      "source": [
        "# 소수 찾기 함수를 하나의 행으로 정의\n",
        "primelist = lambda n : [x for x in range(2, n) if not 0 in map(lambda z : x % z, range(2,x))] # [] 리스트로 만들에서 primelist로 전달\n",
        "primelist(50)  # 5까지의 소수를 찾기"
      ],
      "execution_count": 0,
      "outputs": []
    },
    {
      "metadata": {
        "id": "tYyZn97FPMZI",
        "colab_type": "code",
        "colab": {}
      },
      "cell_type": "code",
      "source": [
        "x=9  # check when x = 4, 5, 6 \n",
        "map(lambda z : x % z, range(2,x))  # use list() # 내용 안나와 -> 밑 코드 리스트를 씌우면 보여"
      ],
      "execution_count": 0,
      "outputs": []
    },
    {
      "metadata": {
        "id": "HUrrQr6tPMZK",
        "colab_type": "code",
        "colab": {}
      },
      "cell_type": "code",
      "source": [
        "list(map(lambda z : x % z, range(2,x))) # 0 이 나온다는건 소수가 아니라는 것. 3을 넣으면 0이 안나오고 4를 넣으면 0이 나옴"
      ],
      "execution_count": 0,
      "outputs": []
    },
    {
      "metadata": {
        "id": "TNZ2GQuMPMZO",
        "colab_type": "text"
      },
      "cell_type": "markdown",
      "source": [
        "> lambda식 \n",
        "\n",
        "- '식'은 줄 바꿈 없이 얼마든지 계속할 수 있다\n",
        "- 하지만 하나의 행이 너무 길면 읽기 어려워지므로 주의"
      ]
    },
    {
      "metadata": {
        "id": "DY6XufI_PMZP",
        "colab_type": "text"
      },
      "cell_type": "markdown",
      "source": [
        "## 내포 표기(Comprehension) (Ch.5-2)"
      ]
    },
    {
      "metadata": {
        "id": "GcbGJCS9PMZQ",
        "colab_type": "text"
      },
      "cell_type": "markdown",
      "source": [
        "### 리스트 내포 표기란?"
      ]
    },
    {
      "metadata": {
        "id": "UbVRuYaXPMZR",
        "colab_type": "code",
        "colab": {}
      },
      "cell_type": "code",
      "source": [
        "# 리스트 내포 표기의 예\n",
        "monk_fish_team = [158, 157, 163, 157, 145]\n",
        "\n",
        "total = sum(monk_fish_team)    # 리스트의 합계\n",
        "length = len(monk_fish_team)   # 리스트의 요소 수(길이)\n",
        "mean = total/length            # 평균을 구함\n",
        "\n",
        "# variance = 0\n",
        "# for height in monk_fish_team:\n",
        "#     variance = variance+(height-mean)**2\n",
        "#\n",
        "# variance = variance/length\n",
        "\n",
        "# 리스트 내포 표기\n",
        "variance = sum([(h-mean)**2 for h in monk_fish_team])/length # [] : 내포\n",
        "\n",
        "variance"
      ],
      "execution_count": 0,
      "outputs": []
    },
    {
      "metadata": {
        "id": "6Xqd3_bwPMZT",
        "colab_type": "code",
        "colab": {}
      },
      "cell_type": "code",
      "source": [
        "variance = 0\n",
        "for height in monk_fish_team:\n",
        "    variance = variance+(height-mean)**2\n",
        "\n",
        "variance = variance/length\n",
        "variance"
      ],
      "execution_count": 0,
      "outputs": []
    },
    {
      "metadata": {
        "id": "NMJ6w__wPMZW",
        "colab_type": "text"
      },
      "cell_type": "markdown",
      "source": [
        "### 리스트 내포 표기의 상세 (details)"
      ]
    },
    {
      "metadata": {
        "id": "1_Mx2g7ePMZX",
        "colab_type": "code",
        "colab": {}
      },
      "cell_type": "code",
      "source": [
        "# 리스트 내포표기가 돌려주는 리스트\n",
        "[(h-mean)**2 for h in monk_fish_team] # 리스트 내포"
      ],
      "execution_count": 0,
      "outputs": []
    },
    {
      "metadata": {
        "id": "gGBglVrDPMZZ",
        "colab_type": "code",
        "colab": {}
      },
      "cell_type": "code",
      "source": [
        "# 리스트 내포 표기로 바꾼 코드\n",
        "str_speeds = \"38 42 20 40 39\" # 문자열\n",
        "speeds = [int(s) for s in str_speeds.split()]\n",
        "speeds"
      ],
      "execution_count": 0,
      "outputs": []
    },
    {
      "metadata": {
        "id": "7BlKk_21PMZa",
        "colab_type": "text"
      },
      "cell_type": "markdown",
      "source": [
        "### 리스트 내포 표기에서 이용하는 ‘if’"
      ]
    },
    {
      "metadata": {
        "id": "shMN9Rx4PMZb",
        "colab_type": "code",
        "colab": {}
      },
      "cell_type": "code",
      "source": [
        "# 숫자가 아닌 것을 걸러내서(배제해서) 리스트를 만드는 예\n",
        "str_speeds = \"38 42 20 40 a1 39 abc 49\"\n",
        "speeds = [int(s) for s in str_speeds.split()\n",
        "                              if s.isdigit()]\n",
        "speeds"
      ],
      "execution_count": 0,
      "outputs": []
    },
    {
      "metadata": {
        "id": "MU_W28zkPMZd",
        "colab_type": "text"
      },
      "cell_type": "markdown",
      "source": [
        "### 딕셔너리 내포 표기"
      ]
    },
    {
      "metadata": {
        "id": "d6sfT035PMZd",
        "colab_type": "code",
        "colab": {}
      },
      "cell_type": "code",
      "source": [
        "# 구문 딕셔너리 내포 표기를 사용한다\n",
        "# 딕셔너리 내포 표기법을 사용하여 키와 값을 반전한 딕셔너리를 만듦\n",
        "# 시간대의 딕셔너리를 만듦\n",
        "tz = {\"GMT\":\"+000\", \"BST\":\"+100\",\n",
        "      \"EET\":\"+200\", \"KST\":\"+900\"}\n",
        "# 시간대와 시차를 반대로 한 딕셔너리를 만듦\n",
        "revtz = {off:zone for zone, off in tz.items()}  # 딕셔너리 zone : GMT, off: +000\n",
        "revtz"
      ],
      "execution_count": 0,
      "outputs": []
    },
    {
      "metadata": {
        "id": "jaZ4DHp4PMZf",
        "colab_type": "text"
      },
      "cell_type": "markdown",
      "source": [
        "### set 내포 표기"
      ]
    },
    {
      "metadata": {
        "id": "ihglINPpPMZg",
        "colab_type": "code",
        "colab": {}
      },
      "cell_type": "code",
      "source": [
        "# set 내포 표기를 사용한다\n",
        "names = [\"BOB\", \"burton\", \"dave\", \"bob\"]  # 이름 리스트를 정의\n",
        "unames = {x.lower() for x in names}       # 이름을 소문자로 바꿔서 중복된 것 제거 lower->소문자 이거 set\n",
        "unames"
      ],
      "execution_count": 0,
      "outputs": []
    },
    {
      "metadata": {
        "id": "Imx0HJorPMZh",
        "colab_type": "text"
      },
      "cell_type": "markdown",
      "source": [
        "## 이터레이터를 사용한다. (Ch.5-3)"
      ]
    },
    {
      "metadata": {
        "id": "RBVafmR7PMZh",
        "colab_type": "text"
      },
      "cell_type": "markdown",
      "source": [
        "### 이터레이터와 지연평가"
      ]
    },
    {
      "metadata": {
        "id": "spo7E3VNNYgO",
        "colab_type": "code",
        "colab": {}
      },
      "cell_type": "code",
      "source": [
        "from google.colab import files\n",
        "\n",
        "uploaded = files.upload() # 파일선택 UI\n",
        "\n",
        "for fn in uploaded.keys():\n",
        "  print('User uploaded file \"{name}\" with length {length} bytes'.format(\n",
        "      name=fn, length=len(uploaded[fn])))"
      ],
      "execution_count": 0,
      "outputs": []
    },
    {
      "metadata": {
        "id": "pmPJpFbTPMZi",
        "colab_type": "code",
        "colab": {}
      },
      "cell_type": "code",
      "source": [
        "# read() 메쏘드로 파일 전체를 읽어 들인다\n",
        "# 파일에서 모두 읽어 들인 후 선두의 5행을 표시\n",
        "f = open('some.txt')           # 파일 객체를 만듦\n",
        "body = f.read()                # 파일 전체를 읽어 들임\n",
        "lines = body.split('\\n')       # 파일을 줄 바꾸기(개행)로 분할\n",
        "print('\\n'.join(lines[:5]))    # 선두 5행을 표시"
      ],
      "execution_count": 0,
      "outputs": []
    },
    {
      "metadata": {
        "id": "8DH8NvUnPMZk",
        "colab_type": "code",
        "colab": {}
      },
      "cell_type": "code",
      "source": [
        "body"
      ],
      "execution_count": 0,
      "outputs": []
    },
    {
      "metadata": {
        "id": "Db3LoaenNraW",
        "colab_type": "code",
        "colab": {}
      },
      "cell_type": "code",
      "source": [
        "print(body)"
      ],
      "execution_count": 0,
      "outputs": []
    },
    {
      "metadata": {
        "id": "Pe-bRdcVPMZl",
        "colab_type": "code",
        "colab": {}
      },
      "cell_type": "code",
      "source": [
        "# readline() 메쏘드로 1행씩 읽어 들인다\n",
        "# 루프 카운터를 사용하여 선두의 5행만 읽음\n",
        "f = open('some.txt')       # 파일 객체를 만듦\n",
        "lines = ''                 # 표시할 문자열을 초기화\n",
        "for i in range(5):         # 선두에서 5행 읽어 들임\n",
        "    lines += f.readline()\n",
        "print(lines)               # 선두 5행을 표시함"
      ],
      "execution_count": 0,
      "outputs": []
    },
    {
      "metadata": {
        "id": "H0pU3nnBPMZs",
        "colab_type": "code",
        "colab": {}
      },
      "cell_type": "code",
      "source": [
        "# 이터레이터를 사용한다\n",
        "# 파일 객체를 for문을 사용하여 5행만 읽음\n",
        "# 파일에서 한 줄씩 읽음\n",
        "for idx, line in enumerate(open('some.txt')): # emumerate : 순서 인덱스를 붙여줌\n",
        "    print(line, end='')  # 행을 표시\n",
        "    if idx == 4:        # 5행을 표시하고서 루프를 빠져나감\n",
        "        break"
      ],
      "execution_count": 0,
      "outputs": []
    },
    {
      "metadata": {
        "id": "Z6whlvE7PMZu",
        "colab_type": "code",
        "colab": {}
      },
      "cell_type": "code",
      "source": [
        "enumerate(open('some.txt'))"
      ],
      "execution_count": 0,
      "outputs": []
    },
    {
      "metadata": {
        "id": "ksA1qZUiPMZx",
        "colab_type": "code",
        "colab": {}
      },
      "cell_type": "code",
      "source": [
        "list(enumerate(open('some.txt')))"
      ],
      "execution_count": 0,
      "outputs": []
    },
    {
      "metadata": {
        "id": "-wAafbNDPMZy",
        "colab_type": "text"
      },
      "cell_type": "markdown",
      "source": [
        "### Column : 파이썬 이터레이터 객체"
      ]
    },
    {
      "metadata": {
        "id": "JEwVNYJjPMZ0",
        "colab_type": "code",
        "colab": {}
      },
      "cell_type": "code",
      "source": [
        "# iter()와 next() 함수의 예\n",
        "i = iter([1, 2])   # 리스트를 이터레이터 객체로 변환함\n",
        "next(i)   # 첫 요소를 추출"
      ],
      "execution_count": 0,
      "outputs": []
    },
    {
      "metadata": {
        "id": "L_xnG_3xPMZ1",
        "colab_type": "code",
        "colab": {}
      },
      "cell_type": "code",
      "source": [
        "# 꺼낸 요소가 사라진 경우\n",
        "next(i)   # 다음의 요소를 추출"
      ],
      "execution_count": 0,
      "outputs": []
    },
    {
      "metadata": {
        "id": "bNFD4b2IPMZ4",
        "colab_type": "code",
        "colab": {}
      },
      "cell_type": "code",
      "source": [
        "next(i)   # 요소가 없어져서 StopIteration 오류가 발생"
      ],
      "execution_count": 0,
      "outputs": []
    },
    {
      "metadata": {
        "id": "OmLNe5X9PMZ5",
        "colab_type": "code",
        "colab": {}
      },
      "cell_type": "code",
      "source": [
        "# tuple 이터레이터\n",
        "mytuple = (\"apple\", \"banana\", \"cherry\")\n",
        "myit = iter(mytuple)\n",
        "\n",
        "print(next(myit))\n",
        "print(next(myit))\n",
        "print(next(myit))"
      ],
      "execution_count": 0,
      "outputs": []
    },
    {
      "metadata": {
        "id": "NMLk5l1xPMZ7",
        "colab_type": "code",
        "colab": {}
      },
      "cell_type": "code",
      "source": [
        "# string 이터레이터\n",
        "mystr = \"banana\"\n",
        "myit = iter(mystr)\n",
        "\n",
        "print(next(myit))\n",
        "print(next(myit))\n",
        "print(next(myit))\n",
        "print(next(myit))\n",
        "print(next(myit))\n",
        "print(next(myit))"
      ],
      "execution_count": 0,
      "outputs": []
    },
    {
      "metadata": {
        "id": "KKbfPPpMPMZ9",
        "colab_type": "code",
        "colab": {}
      },
      "cell_type": "code",
      "source": [
        "# loop through iterater \n",
        "mytuple = (\"apple\", \"banana\", \"cherry\")\n",
        "\n",
        "for x in mytuple:\n",
        "  print(x)"
      ],
      "execution_count": 0,
      "outputs": []
    },
    {
      "metadata": {
        "id": "K2nb9o4zPMZ-",
        "colab_type": "code",
        "colab": {}
      },
      "cell_type": "code",
      "source": [
        "mystr = \"banana\"\n",
        "\n",
        "for x in mystr:\n",
        "  print(x)"
      ],
      "execution_count": 0,
      "outputs": []
    },
    {
      "metadata": {
        "id": "ZXzCr-0cPePz",
        "colab_type": "text"
      },
      "cell_type": "markdown",
      "source": [
        "# 여기까지가 중간고사"
      ]
    },
    {
      "metadata": {
        "id": "dbzoIEC8PMaA",
        "colab_type": "text"
      },
      "cell_type": "markdown",
      "source": [
        "## 생성자를 사용한다. (Ch.5-4)"
      ]
    },
    {
      "metadata": {
        "id": "FPhPtLsqPMaB",
        "colab_type": "text"
      },
      "cell_type": "markdown",
      "source": [
        "### 생성자 함수를 정의한다"
      ]
    },
    {
      "metadata": {
        "id": "jBlkEkk0PMaC",
        "colab_type": "code",
        "colab": {}
      },
      "cell_type": "code",
      "source": [
        "# 소수를 돌려주는 생성자 함수의 정의\n",
        "def get_primes(x=2):\n",
        "    while True:\n",
        "        for i in range(2, x):\n",
        "            if x%i == 0: # 나누어지는 수를 찾음\n",
        "                break\n",
        "        else:\n",
        "            yield x      # 소수가 찾아지면 yield로 돌려줌\n",
        "        x += 1           # 수치를 증가"
      ],
      "execution_count": 0,
      "outputs": []
    },
    {
      "metadata": {
        "id": "2NjKL6ylPMaF",
        "colab_type": "code",
        "colab": {}
      },
      "cell_type": "code",
      "source": [
        "# 생성자 함수의 실행\n",
        "i = get_primes()       # 생성자 함수로부터 이터레이터를 취득\n",
        "for c in range(10):    # 소수를 10개 표시\n",
        "    print(next(i))"
      ],
      "execution_count": 0,
      "outputs": []
    },
    {
      "metadata": {
        "id": "y-W7_8K3PMaH",
        "colab_type": "code",
        "colab": {}
      },
      "cell_type": "code",
      "source": [
        "i"
      ],
      "execution_count": 0,
      "outputs": []
    },
    {
      "metadata": {
        "id": "JpqIfYtqPMaK",
        "colab_type": "code",
        "colab": {}
      },
      "cell_type": "code",
      "source": [
        "range(2,3)  # What are in this?"
      ],
      "execution_count": 0,
      "outputs": []
    },
    {
      "metadata": {
        "id": "3xFENArxPMaN",
        "colab_type": "code",
        "colab": {}
      },
      "cell_type": "code",
      "source": [
        "list(range(2,3))"
      ],
      "execution_count": 0,
      "outputs": []
    },
    {
      "metadata": {
        "id": "rdJrYFkTPMaN",
        "colab_type": "text"
      },
      "cell_type": "markdown",
      "source": [
        "### 생성자 표현식(generator expression)"
      ]
    },
    {
      "metadata": {
        "id": "vUSy3Iv2PMaP",
        "colab_type": "code",
        "colab": {}
      },
      "cell_type": "code",
      "source": [
        "# 리스트 내포 표기의 예\n",
        "# 리스트 내포 표기는 요소가 완벽하게 갖추어 진 리스트를 반환\n",
        "[x**2 for x in range(1, 10)]   # 1에서 9까지의 제곱 리스트"
      ],
      "execution_count": 0,
      "outputs": []
    },
    {
      "metadata": {
        "id": "roMS1mcVPMaR",
        "colab_type": "code",
        "colab": {}
      },
      "cell_type": "code",
      "source": [
        "# 생성자식의 예\n",
        "# 생성자식은 이터레이터를 반환\n",
        "i = (x**2 for x in range(1, 10))\n",
        "print(next(i))\n",
        "print(next(i))\n",
        "print(next(i))"
      ],
      "execution_count": 0,
      "outputs": []
    },
    {
      "metadata": {
        "id": "Z2U7BMEcPMaU",
        "colab_type": "code",
        "colab": {}
      },
      "cell_type": "code",
      "source": [
        "i = (x**2 for x in range(1, 10))\n",
        "i"
      ],
      "execution_count": 0,
      "outputs": []
    },
    {
      "metadata": {
        "id": "sHGUkBI0PMaW",
        "colab_type": "code",
        "colab": {}
      },
      "cell_type": "code",
      "source": [
        "list(i)"
      ],
      "execution_count": 0,
      "outputs": []
    },
    {
      "metadata": {
        "id": "K-Q_dreFPMaa",
        "colab_type": "text"
      },
      "cell_type": "markdown",
      "source": [
        "***"
      ]
    },
    {
      "metadata": {
        "id": "YCz2wr0fPMaa",
        "colab_type": "text"
      },
      "cell_type": "markdown",
      "source": [
        "> 여기까지 중간고사 필기 범위.  미래를 위해 시간과 노력을 투자하세요!"
      ]
    },
    {
      "metadata": {
        "id": "bVgDBP31PMab",
        "colab_type": "text"
      },
      "cell_type": "markdown",
      "source": [
        "***"
      ]
    },
    {
      "metadata": {
        "id": "SDyrwxv9PMab",
        "colab_type": "text"
      },
      "cell_type": "markdown",
      "source": [
        "## 고차 함수와 데코레이터. (Ch.5-5)"
      ]
    },
    {
      "metadata": {
        "id": "xhRX41s0PMad",
        "colab_type": "text"
      },
      "cell_type": "markdown",
      "source": [
        "### 고차 함수(higher-order functions)란?"
      ]
    },
    {
      "metadata": {
        "id": "GpT34w9tPMad",
        "colab_type": "code",
        "colab": {}
      },
      "cell_type": "code",
      "source": [
        "# 함수를 받아서 실행하는 함수를 정의한다\n",
        "def execute(func, arg):\n",
        "    return func(arg)        # 인수로 받은 함수를 실행함\n",
        "\n",
        "print(execute(int, \"100\"))  # 함수를 인수로 전달하여 실행"
      ],
      "execution_count": 0,
      "outputs": []
    },
    {
      "metadata": {
        "id": "ZnHLqHIWzo1_",
        "colab_type": "text"
      },
      "cell_type": "markdown",
      "source": [
        "### 함수로 인수 리스트를 받기"
      ]
    },
    {
      "metadata": {
        "id": "QOBrXdIkzo1_",
        "colab_type": "code",
        "colab": {}
      },
      "cell_type": "code",
      "source": [
        "# 함수로 인수 리스트를 받기\n",
        "def foo(a, b, *vals):   # *인수를 갖는 함수를 정의\n",
        "    print(a, b, vals)\n",
        "foo(1, 2, 3, 4, 5)      # 5개의 값을 인수로 지정하여 호출"
      ],
      "execution_count": 0,
      "outputs": []
    },
    {
      "metadata": {
        "id": "gTIF5d1Hzo2C",
        "colab_type": "text"
      },
      "cell_type": "markdown",
      "source": [
        "### 함수로 키워드 인수 받기"
      ]
    },
    {
      "metadata": {
        "id": "LyPvlT28zo2C",
        "colab_type": "code",
        "colab": {}
      },
      "cell_type": "code",
      "source": [
        "# 정의되지 않은 키워드 인수\n",
        "def bar(a, b, **args):    # **인수를 갖는 함수를 정의\n",
        "    print(a, b, args)\n",
        "\n",
        "bar(1, 2, c=3, d=4)       # 정의하지 않은 키워드 인수를 정의"
      ],
      "execution_count": 0,
      "outputs": []
    },
    {
      "metadata": {
        "id": "oD0p7rasPMai",
        "colab_type": "code",
        "colab": {}
      },
      "cell_type": "code",
      "source": [
        "# 함수를 받아 실행하는 함수를 정의한다\n",
        "def logger(func):\n",
        "    def inner(*args):\n",
        "        print(\"인수:\", args)  # 인수 리스트를 표시\n",
        "        return func(*args)   # 함수를 호출함\n",
        "    return inner"
      ],
      "execution_count": 0,
      "outputs": []
    },
    {
      "metadata": {
        "id": "8mfQ0ztlPMai",
        "colab_type": "code",
        "colab": {}
      },
      "cell_type": "code",
      "source": [
        "# 2개의 값을 더하는 함수를 정의한다\n",
        "def accumulate(a, b):\n",
        "    return a+b\n",
        "\n",
        "print(accumulate(1, 2))   # 함수를 호출함"
      ],
      "execution_count": 0,
      "outputs": []
    },
    {
      "metadata": {
        "id": "FUKC6UoYPMaj",
        "colab_type": "code",
        "colab": {}
      },
      "cell_type": "code",
      "source": [
        "# logger를 사용해서 accumulate를 변환\n",
        "newfunc = logger(accumulate)\n",
        "print(newfunc(1, 2))      # 고차 함수로 만든 함수를 호출"
      ],
      "execution_count": 0,
      "outputs": []
    },
    {
      "metadata": {
        "id": "ZrlvfQrPPMal",
        "colab_type": "text"
      },
      "cell_type": "markdown",
      "source": [
        "### 데코레이터(decorator)"
      ]
    },
    {
      "metadata": {
        "id": "ESW6yK_QPMal",
        "colab_type": "code",
        "colab": {}
      },
      "cell_type": "code",
      "source": [
        "# 데코레이터에 따른 지정 예\n",
        "# 고차 함수와 데코레이터를 결합\n",
        "@logger\n",
        "def accumulate(a, b):\n",
        "    return a+b"
      ],
      "execution_count": 0,
      "outputs": []
    },
    {
      "metadata": {
        "id": "Quy6ArNOPMam",
        "colab_type": "code",
        "colab": {}
      },
      "cell_type": "code",
      "source": [
        "# accumulate() 함수의 실행\n",
        "print(accumulate(1, 2))"
      ],
      "execution_count": 0,
      "outputs": []
    },
    {
      "metadata": {
        "id": "PHvx7apqPMap",
        "colab_type": "code",
        "colab": {}
      },
      "cell_type": "code",
      "source": [
        "# %%time    # 실행 시간을 측정\n",
        "# lru_cache함수를 데코레이터로 사용한다\n",
        "# functools의 lru_cache를 사용\n",
        "\n",
        "# lru_cache을 사용하여 피보나치 수를 계산하는 함수\n",
        "from functools import lru_cache\n",
        "@lru_cache(maxsize=None)\n",
        "def fib(n):\n",
        "    if n < 2:\n",
        "        return n\n",
        "    return fib(n-1) + fib(n-2)"
      ],
      "execution_count": 0,
      "outputs": []
    },
    {
      "metadata": {
        "id": "MOqnIN4sPMaq",
        "colab_type": "code",
        "colab": {}
      },
      "cell_type": "code",
      "source": [
        "# 피보나치 수의 표시\n",
        "# 실행 시간을 측정\n",
        "%time [fib(n) for n in range(16)]"
      ],
      "execution_count": 0,
      "outputs": []
    },
    {
      "metadata": {
        "id": "QdCd9WY8PMar",
        "colab_type": "code",
        "colab": {}
      },
      "cell_type": "code",
      "source": [
        "# %%time    # 실행 시간을 측정\n",
        "#  lru_cache를 사용하지 않고 피보나치 수를 계산하는 함수\n",
        "def fib_nc(n):\n",
        "    if n < 2:\n",
        "        return n\n",
        "    return fib_nc(n-1) + fib_nc(n-2)"
      ],
      "execution_count": 0,
      "outputs": []
    },
    {
      "metadata": {
        "id": "Lw8ez2KfPMat",
        "colab_type": "code",
        "colab": {}
      },
      "cell_type": "code",
      "source": [
        "# 피보나치 수의 표시\n",
        "# 실행 시간을 측정\n",
        "%time [fib_nc(n) for n in range(16)]"
      ],
      "execution_count": 0,
      "outputs": []
    },
    {
      "metadata": {
        "id": "s22774r1PMav",
        "colab_type": "code",
        "colab": {}
      },
      "cell_type": "code",
      "source": [
        ""
      ],
      "execution_count": 0,
      "outputs": []
    }
  ]
}