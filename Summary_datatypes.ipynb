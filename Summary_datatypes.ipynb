{
  "nbformat": 4,
  "nbformat_minor": 0,
  "metadata": {
    "colab": {
      "name": "Summary_datatypes.ipynb",
      "version": "0.3.2",
      "provenance": [],
      "collapsed_sections": [],
      "include_colab_link": true
    },
    "kernelspec": {
      "name": "python3",
      "display_name": "Python 3"
    }
  },
  "cells": [
    {
      "cell_type": "markdown",
      "metadata": {
        "id": "view-in-github",
        "colab_type": "text"
      },
      "source": [
        "[View in Colaboratory](https://colab.research.google.com/github/flocc1352/py-10/blob/master/Summary_datatypes.ipynb)"
      ]
    },
    {
      "metadata": {
        "id": "TqKelpdG56yL",
        "colab_type": "code",
        "colab": {}
      },
      "cell_type": "code",
      "source": [
        ""
      ],
      "execution_count": 0,
      "outputs": []
    },
    {
      "metadata": {
        "id": "49OpDC0s6C3Q",
        "colab_type": "text"
      },
      "cell_type": "markdown",
      "source": [
        "## Summary of datatypes in Python\n",
        "\n",
        "- list\n",
        "- dictionary\n",
        "- tuple\n",
        "- set\n",
        "- string"
      ]
    },
    {
      "metadata": {
        "id": "F0wv0Zr26Pi8",
        "colab_type": "code",
        "colab": {}
      },
      "cell_type": "code",
      "source": [
        ""
      ],
      "execution_count": 0,
      "outputs": []
    },
    {
      "metadata": {
        "id": "hUOkMrqG6dcH",
        "colab_type": "text"
      },
      "cell_type": "markdown",
      "source": [
        "### 리스트 생성  및 항목 추가"
      ]
    },
    {
      "metadata": {
        "id": "jjYD66Jw6iS2",
        "colab_type": "code",
        "colab": {}
      },
      "cell_type": "code",
      "source": [
        "a = [10, 20, 30, 40, 50]"
      ],
      "execution_count": 0,
      "outputs": []
    },
    {
      "metadata": {
        "id": "OmGuXens7Vqt",
        "colab_type": "code",
        "colab": {
          "base_uri": "https://localhost:8080/",
          "height": 35
        },
        "outputId": "35d1dbc6-8b4e-4e4b-c97d-15ade6b323aa"
      },
      "cell_type": "code",
      "source": [
        "print(\"a[0:2] = \", a[0:2], \" ,a[1:] = \", a[1:])"
      ],
      "execution_count": 6,
      "outputs": [
        {
          "output_type": "stream",
          "text": [
            "a[0:2] =  [10, 20]  ,a[1:] =  [20, 30, 40, 50]\n"
          ],
          "name": "stdout"
        }
      ]
    },
    {
      "metadata": {
        "id": "6l628pfT7tN1",
        "colab_type": "code",
        "colab": {}
      },
      "cell_type": "code",
      "source": [
        "b = [10, 20, \"Hello\", [True, 3.14]]"
      ],
      "execution_count": 0,
      "outputs": []
    },
    {
      "metadata": {
        "id": "gJRMtwM37_Gi",
        "colab_type": "code",
        "colab": {
          "base_uri": "https://localhost:8080/",
          "height": 35
        },
        "outputId": "0518b558-b2f0-49fa-d425-b01463d904b9"
      },
      "cell_type": "code",
      "source": [
        "print(\"b[0] ==\", b[0], \",b[2] ==\", b[2] \",b[3] ==\", b[3])"
      ],
      "execution_count": 7,
      "outputs": [
        {
          "output_type": "stream",
          "text": [
            "b[0] == 10 ,b[2] == ,b[3] == [True, 3.14]\n"
          ],
          "name": "stdout"
        }
      ]
    },
    {
      "metadata": {
        "id": "NGdmDbl_82qj",
        "colab_type": "code",
        "colab": {
          "base_uri": "https://localhost:8080/",
          "height": 35
        },
        "outputId": "15c7ad93-7db2-4e92-a4be-15f6f925bcb0"
      },
      "cell_type": "code",
      "source": [
        "print(\"b[-1] ==\", b[-1], \",b[-2] ==\", b[-2], \",b[-4] ==\", b[-4])"
      ],
      "execution_count": 9,
      "outputs": [
        {
          "output_type": "stream",
          "text": [
            "b[-1] == [True, 3.14] ,b[-2] == Hello ,b[-4] == 10\n"
          ],
          "name": "stdout"
        }
      ]
    },
    {
      "metadata": {
        "id": "p_9G8Npv9RIR",
        "colab_type": "code",
        "colab": {
          "base_uri": "https://localhost:8080/",
          "height": 35
        },
        "outputId": "73bf3376-7e5d-4422-b220-6bb9543f2e1f"
      },
      "cell_type": "code",
      "source": [
        "print(\"b[3][0] ==\", b[3][0], \",b[3][1] ==\", b[3][1], \",b[-2][-2] ==\", b[-2][-2])"
      ],
      "execution_count": 10,
      "outputs": [
        {
          "output_type": "stream",
          "text": [
            "b[3][0] == True ,b[3][1] == 3.14 ,b[-2][-2] == l\n"
          ],
          "name": "stdout"
        }
      ]
    },
    {
      "metadata": {
        "id": "5k2-71He9-Ry",
        "colab_type": "code",
        "colab": {
          "base_uri": "https://localhost:8080/",
          "height": 35
        },
        "outputId": "5fa1aeeb-c32c-4cdb-87a2-bc9b72af6eea"
      },
      "cell_type": "code",
      "source": [
        "print(\"b[-1][-1] ==\", b[-1][-1], \",b[-1][-2] ==\", b[-1][-2], \",b[-2][-2] ==\", b[-2][-2])"
      ],
      "execution_count": 11,
      "outputs": [
        {
          "output_type": "stream",
          "text": [
            "b[-1][-1] == 3.14 ,b[-1][-2] == True ,b[-2][-2] == l\n"
          ],
          "name": "stdout"
        }
      ]
    },
    {
      "metadata": {
        "id": "ZSr5wXWd-ISX",
        "colab_type": "code",
        "colab": {}
      },
      "cell_type": "code",
      "source": [
        "a = [10, 20, 30, 40, 50]"
      ],
      "execution_count": 0,
      "outputs": []
    },
    {
      "metadata": {
        "id": "fcBD4T-Z_Qcu",
        "colab_type": "code",
        "colab": {
          "base_uri": "https://localhost:8080/",
          "height": 71
        },
        "outputId": "cd4dea07-b0bd-44c5-acae-9cd48890e36a"
      },
      "cell_type": "code",
      "source": [
        "print(\"a[0:2] ==\", a[0:2], \", a[1:] ==\", a[1:])\n",
        "print(\"a[:3] ==\", a[:3], \", a[:-2] ==\", a[:-2])\n",
        "print(\"a[:] ==\", a[:])\n"
      ],
      "execution_count": 13,
      "outputs": [
        {
          "output_type": "stream",
          "text": [
            "a[0:2] == [10, 20] , a[1:] == [20, 30, 40, 50]\n",
            "a[:3] == [10, 20, 30] , a[:-2] == [10, 20, 30]\n",
            "a[:] == [10, 20, 30, 40, 50]\n"
          ],
          "name": "stdout"
        }
      ]
    },
    {
      "metadata": {
        "id": "ogQp0npOGpAY",
        "colab_type": "code",
        "colab": {}
      },
      "cell_type": "code",
      "source": [
        ""
      ],
      "execution_count": 0,
      "outputs": []
    }
  ]
}